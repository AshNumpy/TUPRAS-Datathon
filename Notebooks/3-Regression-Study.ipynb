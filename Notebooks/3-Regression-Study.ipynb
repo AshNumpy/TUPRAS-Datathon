{
 "cells": [
  {
   "attachments": {},
   "cell_type": "markdown",
   "metadata": {},
   "source": [
    "#### Verilerin yüklenmesi"
   ]
  },
  {
   "cell_type": "code",
   "execution_count": 1,
   "metadata": {},
   "outputs": [
    {
     "data": {
      "text/html": [
       "<div>\n",
       "<style scoped>\n",
       "    .dataframe tbody tr th:only-of-type {\n",
       "        vertical-align: middle;\n",
       "    }\n",
       "\n",
       "    .dataframe tbody tr th {\n",
       "        vertical-align: top;\n",
       "    }\n",
       "\n",
       "    .dataframe thead th {\n",
       "        text-align: right;\n",
       "    }\n",
       "</style>\n",
       "<table border=\"1\" class=\"dataframe\">\n",
       "  <thead>\n",
       "    <tr style=\"text-align: right;\">\n",
       "      <th></th>\n",
       "      <th>period</th>\n",
       "      <th>target</th>\n",
       "      <th>gunluk_vaka</th>\n",
       "      <th>toplam_vaka</th>\n",
       "      <th>gunluk_olum</th>\n",
       "      <th>toplam_olum</th>\n",
       "      <th>gasoline_imports</th>\n",
       "      <th>gasoline_exports</th>\n",
       "      <th>crude_imports</th>\n",
       "      <th>crude_exports</th>\n",
       "      <th>...</th>\n",
       "      <th>jet_output</th>\n",
       "      <th>propane_output</th>\n",
       "      <th>residual_fuel_output</th>\n",
       "      <th>conventional_gasoline_spot_price</th>\n",
       "      <th>crude_brent_spot_price</th>\n",
       "      <th>gasoline_future_price1</th>\n",
       "      <th>gasoline_future_price2</th>\n",
       "      <th>gasoline_future_price3</th>\n",
       "      <th>gasoline_future_price4</th>\n",
       "      <th>gasoline_demand</th>\n",
       "    </tr>\n",
       "  </thead>\n",
       "  <tbody>\n",
       "    <tr>\n",
       "      <th>0</th>\n",
       "      <td>2010-10-15</td>\n",
       "      <td>10639</td>\n",
       "      <td>0.0</td>\n",
       "      <td>0.0</td>\n",
       "      <td>0.0</td>\n",
       "      <td>0.0</td>\n",
       "      <td>779</td>\n",
       "      <td>200</td>\n",
       "      <td>8600</td>\n",
       "      <td>33</td>\n",
       "      <td>...</td>\n",
       "      <td>1296</td>\n",
       "      <td>1044</td>\n",
       "      <td>414</td>\n",
       "      <td>2.202</td>\n",
       "      <td>83.11</td>\n",
       "      <td>2.139</td>\n",
       "      <td>2.119</td>\n",
       "      <td>2.128</td>\n",
       "      <td>2.146</td>\n",
       "      <td>9460</td>\n",
       "    </tr>\n",
       "    <tr>\n",
       "      <th>1</th>\n",
       "      <td>2010-10-22</td>\n",
       "      <td>10036</td>\n",
       "      <td>0.0</td>\n",
       "      <td>0.0</td>\n",
       "      <td>0.0</td>\n",
       "      <td>0.0</td>\n",
       "      <td>999</td>\n",
       "      <td>200</td>\n",
       "      <td>9463</td>\n",
       "      <td>33</td>\n",
       "      <td>...</td>\n",
       "      <td>1345</td>\n",
       "      <td>1021</td>\n",
       "      <td>473</td>\n",
       "      <td>2.146</td>\n",
       "      <td>81.43</td>\n",
       "      <td>2.077</td>\n",
       "      <td>2.063</td>\n",
       "      <td>2.076</td>\n",
       "      <td>2.097</td>\n",
       "      <td>10639</td>\n",
       "    </tr>\n",
       "    <tr>\n",
       "      <th>2</th>\n",
       "      <td>2010-10-29</td>\n",
       "      <td>9886</td>\n",
       "      <td>0.0</td>\n",
       "      <td>0.0</td>\n",
       "      <td>0.0</td>\n",
       "      <td>0.0</td>\n",
       "      <td>871</td>\n",
       "      <td>200</td>\n",
       "      <td>8578</td>\n",
       "      <td>33</td>\n",
       "      <td>...</td>\n",
       "      <td>1309</td>\n",
       "      <td>1032</td>\n",
       "      <td>401</td>\n",
       "      <td>2.122</td>\n",
       "      <td>82.25</td>\n",
       "      <td>2.098</td>\n",
       "      <td>2.072</td>\n",
       "      <td>2.085</td>\n",
       "      <td>2.106</td>\n",
       "      <td>10036</td>\n",
       "    </tr>\n",
       "  </tbody>\n",
       "</table>\n",
       "<p>3 rows × 28 columns</p>\n",
       "</div>"
      ],
      "text/plain": [
       "      period  target  gunluk_vaka  toplam_vaka  gunluk_olum  toplam_olum  \\\n",
       "0 2010-10-15   10639          0.0          0.0          0.0          0.0   \n",
       "1 2010-10-22   10036          0.0          0.0          0.0          0.0   \n",
       "2 2010-10-29    9886          0.0          0.0          0.0          0.0   \n",
       "\n",
       "   gasoline_imports  gasoline_exports  crude_imports  crude_exports  ...  \\\n",
       "0               779               200           8600             33  ...   \n",
       "1               999               200           9463             33  ...   \n",
       "2               871               200           8578             33  ...   \n",
       "\n",
       "   jet_output  propane_output  residual_fuel_output  \\\n",
       "0        1296            1044                   414   \n",
       "1        1345            1021                   473   \n",
       "2        1309            1032                   401   \n",
       "\n",
       "   conventional_gasoline_spot_price  crude_brent_spot_price  \\\n",
       "0                             2.202                   83.11   \n",
       "1                             2.146                   81.43   \n",
       "2                             2.122                   82.25   \n",
       "\n",
       "   gasoline_future_price1  gasoline_future_price2  gasoline_future_price3  \\\n",
       "0                   2.139                   2.119                   2.128   \n",
       "1                   2.077                   2.063                   2.076   \n",
       "2                   2.098                   2.072                   2.085   \n",
       "\n",
       "   gasoline_future_price4  gasoline_demand  \n",
       "0                   2.146             9460  \n",
       "1                   2.097            10639  \n",
       "2                   2.106            10036  \n",
       "\n",
       "[3 rows x 28 columns]"
      ]
     },
     "execution_count": 1,
     "metadata": {},
     "output_type": "execute_result"
    }
   ],
   "source": [
    "import pandas as pd\n",
    "import numpy as np\n",
    "\n",
    "train = pd.read_csv('../Datasets/Manipulated Data/train.csv')\n",
    "test = pd.read_csv('../Datasets/Manipulated Data/test.csv')\n",
    "\n",
    "train['period'] = pd.to_datetime(train['period'])\n",
    "test['period'] = pd.to_datetime(test['period'])\n",
    "\n",
    "train.head(3)"
   ]
  },
  {
   "attachments": {},
   "cell_type": "markdown",
   "metadata": {},
   "source": [
    "Özellik çıkarım fonksiyonunun oluşturulması\n"
   ]
  },
  {
   "cell_type": "code",
   "execution_count": 2,
   "metadata": {},
   "outputs": [],
   "source": [
    "def date_extractor(df, date_col, detailed=0):\n",
    "    import holidays\n",
    "    import datetime as dt\n",
    "    \n",
    "    # set temporary dataframe\n",
    "    temp = df.copy()\n",
    "    temp[date_col] = pd.to_datetime(temp[date_col])\n",
    "    \n",
    "    # extract date features\n",
    "    if detailed == True:\n",
    "        temp['day_of_year'] = temp[date_col].dt.day\n",
    "        temp['week'] = temp[date_col].dt.isocalendar().week\n",
    "        temp['month'] = temp[date_col].dt.month\n",
    "        temp['year'] = temp[date_col].dt.year\n",
    "        temp['day_of_week'] = temp[date_col].dt.dayofweek\n",
    "        temp['day_of_month'] = temp[date_col].dt.day\n",
    "        temp['quarter'] = temp[date_col].dt.quarter\n",
    "        temp['is_month_start'] = temp[date_col].dt.is_month_start.astype(int)\n",
    "        temp['is_month_end'] = temp[date_col].dt.is_month_end.astype(int)\n",
    "        temp['is_quarter_start'] = temp[date_col].dt.is_quarter_start.astype(int)\n",
    "        temp['is_quarter_end'] = temp[date_col].dt.is_quarter_end.astype(int)\n",
    "        temp['is_year_start'] = temp[date_col].dt.is_year_start.astype(int)\n",
    "        temp['is_year_end'] = temp[date_col].dt.is_year_end.astype(int)\n",
    "        temp['is_leap_year'] = temp[date_col].dt.is_leap_year.astype(int)\n",
    "        \n",
    "        # holidays\n",
    "        temp['is_holiday'] = temp[date_col].isin(holidays.Turkey()).astype(int)\n",
    "        temp['is_weekend'] = np.where(temp[date_col].dt.dayofweek < 5, 0, 1).astype(int)\n",
    "        \n",
    "        # seasonality\n",
    "        temp['is_spring'] = np.where(temp[date_col].dt.month.isin([3,4,5]), 1, 0).astype(int)\n",
    "        temp['is_summer'] = np.where(temp[date_col].dt.month.isin([6,7,8]), 1, 0).astype(int)\n",
    "        temp['is_autumn'] = np.where(temp[date_col].dt.month.isin([9,10,11]), 1, 0).astype(int)\n",
    "        temp['is_winter'] = np.where(temp[date_col].dt.month.isin([12,1,2]), 1, 0).astype(int)\n",
    "        \n",
    "    else:\n",
    "        temp['day'] = temp[date_col].dt.day\n",
    "        temp['week'] = temp[date_col].dt.isocalendar().week\n",
    "        temp['month'] = temp[date_col].dt.month\n",
    "        temp['year'] = temp[date_col].dt.year\n",
    "        \n",
    "        temp['is_holiday'] = temp[date_col].isin(holidays.Turkey()).astype(int)\n",
    "        \n",
    "    return temp"
   ]
  },
  {
   "attachments": {},
   "cell_type": "markdown",
   "metadata": {},
   "source": [
    "#### Az özellik ile model denemesi"
   ]
  },
  {
   "cell_type": "code",
   "execution_count": 3,
   "metadata": {},
   "outputs": [
    {
     "data": {
      "text/html": [
       "<div>\n",
       "<style scoped>\n",
       "    .dataframe tbody tr th:only-of-type {\n",
       "        vertical-align: middle;\n",
       "    }\n",
       "\n",
       "    .dataframe tbody tr th {\n",
       "        vertical-align: top;\n",
       "    }\n",
       "\n",
       "    .dataframe thead th {\n",
       "        text-align: right;\n",
       "    }\n",
       "</style>\n",
       "<table border=\"1\" class=\"dataframe\">\n",
       "  <thead>\n",
       "    <tr style=\"text-align: right;\">\n",
       "      <th></th>\n",
       "      <th>target</th>\n",
       "      <th>gunluk_vaka</th>\n",
       "      <th>toplam_vaka</th>\n",
       "      <th>gunluk_olum</th>\n",
       "      <th>toplam_olum</th>\n",
       "      <th>gasoline_imports</th>\n",
       "      <th>gasoline_exports</th>\n",
       "      <th>crude_imports</th>\n",
       "      <th>crude_exports</th>\n",
       "      <th>gasoline_stocks</th>\n",
       "      <th>...</th>\n",
       "      <th>gasoline_future_price1</th>\n",
       "      <th>gasoline_future_price2</th>\n",
       "      <th>gasoline_future_price3</th>\n",
       "      <th>gasoline_future_price4</th>\n",
       "      <th>gasoline_demand</th>\n",
       "      <th>day</th>\n",
       "      <th>week</th>\n",
       "      <th>month</th>\n",
       "      <th>year</th>\n",
       "      <th>is_holiday</th>\n",
       "    </tr>\n",
       "  </thead>\n",
       "  <tbody>\n",
       "    <tr>\n",
       "      <th>0</th>\n",
       "      <td>10639</td>\n",
       "      <td>0.0</td>\n",
       "      <td>0.0</td>\n",
       "      <td>0.0</td>\n",
       "      <td>0.0</td>\n",
       "      <td>779</td>\n",
       "      <td>200</td>\n",
       "      <td>8600</td>\n",
       "      <td>33</td>\n",
       "      <td>219329</td>\n",
       "      <td>...</td>\n",
       "      <td>2.139</td>\n",
       "      <td>2.119</td>\n",
       "      <td>2.128</td>\n",
       "      <td>2.146</td>\n",
       "      <td>9460</td>\n",
       "      <td>15</td>\n",
       "      <td>41</td>\n",
       "      <td>10</td>\n",
       "      <td>2010</td>\n",
       "      <td>0</td>\n",
       "    </tr>\n",
       "    <tr>\n",
       "      <th>1</th>\n",
       "      <td>10036</td>\n",
       "      <td>0.0</td>\n",
       "      <td>0.0</td>\n",
       "      <td>0.0</td>\n",
       "      <td>0.0</td>\n",
       "      <td>999</td>\n",
       "      <td>200</td>\n",
       "      <td>9463</td>\n",
       "      <td>33</td>\n",
       "      <td>214942</td>\n",
       "      <td>...</td>\n",
       "      <td>2.077</td>\n",
       "      <td>2.063</td>\n",
       "      <td>2.076</td>\n",
       "      <td>2.097</td>\n",
       "      <td>10639</td>\n",
       "      <td>22</td>\n",
       "      <td>42</td>\n",
       "      <td>10</td>\n",
       "      <td>2010</td>\n",
       "      <td>0</td>\n",
       "    </tr>\n",
       "    <tr>\n",
       "      <th>2</th>\n",
       "      <td>9886</td>\n",
       "      <td>0.0</td>\n",
       "      <td>0.0</td>\n",
       "      <td>0.0</td>\n",
       "      <td>0.0</td>\n",
       "      <td>871</td>\n",
       "      <td>200</td>\n",
       "      <td>8578</td>\n",
       "      <td>33</td>\n",
       "      <td>212253</td>\n",
       "      <td>...</td>\n",
       "      <td>2.098</td>\n",
       "      <td>2.072</td>\n",
       "      <td>2.085</td>\n",
       "      <td>2.106</td>\n",
       "      <td>10036</td>\n",
       "      <td>29</td>\n",
       "      <td>43</td>\n",
       "      <td>10</td>\n",
       "      <td>2010</td>\n",
       "      <td>0</td>\n",
       "    </tr>\n",
       "  </tbody>\n",
       "</table>\n",
       "<p>3 rows × 32 columns</p>\n",
       "</div>"
      ],
      "text/plain": [
       "   target  gunluk_vaka  toplam_vaka  gunluk_olum  toplam_olum  \\\n",
       "0   10639          0.0          0.0          0.0          0.0   \n",
       "1   10036          0.0          0.0          0.0          0.0   \n",
       "2    9886          0.0          0.0          0.0          0.0   \n",
       "\n",
       "   gasoline_imports  gasoline_exports  crude_imports  crude_exports  \\\n",
       "0               779               200           8600             33   \n",
       "1               999               200           9463             33   \n",
       "2               871               200           8578             33   \n",
       "\n",
       "   gasoline_stocks  ...  gasoline_future_price1  gasoline_future_price2  \\\n",
       "0           219329  ...                   2.139                   2.119   \n",
       "1           214942  ...                   2.077                   2.063   \n",
       "2           212253  ...                   2.098                   2.072   \n",
       "\n",
       "   gasoline_future_price3  gasoline_future_price4  gasoline_demand  day  week  \\\n",
       "0                   2.128                   2.146             9460   15    41   \n",
       "1                   2.076                   2.097            10639   22    42   \n",
       "2                   2.085                   2.106            10036   29    43   \n",
       "\n",
       "   month  year  is_holiday  \n",
       "0     10  2010           0  \n",
       "1     10  2010           0  \n",
       "2     10  2010           0  \n",
       "\n",
       "[3 rows x 32 columns]"
      ]
     },
     "execution_count": 3,
     "metadata": {},
     "output_type": "execute_result"
    }
   ],
   "source": [
    "train = date_extractor(train, 'period', detailed=0)\n",
    "test = date_extractor(test, 'period', detailed=0)\n",
    "\n",
    "train.drop('period', axis=1, inplace=True)\n",
    "test.drop('period', axis=1, inplace=True)\n",
    "\n",
    "train.head(3)"
   ]
  },
  {
   "attachments": {},
   "cell_type": "markdown",
   "metadata": {},
   "source": [
    "#### Regresyon Modelleri  \n",
    "\n",
    "Regresyon modellerinin uygulanabilir olması için belirli varsayımlar vardır:  \n",
    "1. Normal Dağılım Varsayımı\n",
    "1. Homoscedasticity (Varyansların homojenliği) varsayımı\n",
    "1. Bağımsızlık varsayımı\n",
    "1. Hata terimlerinin normal dağılımı varsayımı  \n",
    "\n",
    "Yukarıdaki tüm bu varsayımlar sağlanırsa ancak regresyon modeli uygulanabilirdir.  \n",
    "\n",
    "1. Normal Dağılım Varsayımı Testi:  \n",
    "Bu varsayım, bağımlı değişkenin normal dağılıma sahip olduğunu varsayar. Normal dağılım testleri, Shapiro-Wilk testi, Anderson-Darling testi, Kolmogorov-Smirnov testi ve grafik yöntemleri (QQ plot gibi) gibi yöntemlerle yapılabilir.  \n",
    "$H0:$ Verilerin dağılımı ile normal dağılım arasında fark yoktur."
   ]
  },
  {
   "cell_type": "code",
   "execution_count": 13,
   "metadata": {},
   "outputs": [
    {
     "name": "stdout",
     "output_type": "stream",
     "text": [
      "Statistic=0.982, p=0.000\n",
      "Veriler normal dağılım göstermiyor (H0 reddedilir)\n"
     ]
    }
   ],
   "source": [
    "# Shapiro-Wilk normal dağılım testi\n",
    "from scipy.stats import shapiro\n",
    "data = train['target'].values\n",
    "stat, p = shapiro(data)\n",
    "\n",
    "print('Statistic=%.3f, p=%.3f' % (stat, p))\n",
    "\n",
    "alpha = 0.05\n",
    "\n",
    "if p > alpha:\n",
    "    print('Veriler normal dağılım gösteriyor (H0 reddedilemez)')\n",
    "else:\n",
    "    print('Veriler normal dağılım göstermiyor (H0 reddedilir)')"
   ]
  },
  {
   "attachments": {},
   "cell_type": "markdown",
   "metadata": {},
   "source": [
    "⚠️ **Bağımlı değişken normallik varsayımını sağlamıyor ama yine de son adıma kadar gidip modeli yorumlayacağım.**"
   ]
  },
  {
   "attachments": {},
   "cell_type": "markdown",
   "metadata": {},
   "source": [
    "2. Homoscedasticity (Varyansların Homojenliği) Varsayımı Testi:  \n",
    "Bu varsayım, hata terimlerinin varyanslarının sabit olduğunu varsayar. Homoscedasticity testleri, Levene testi, Bartlett testi ve grafik yöntemleri (Residual plot) gibi yöntemlerle yapılabilir.\n",
    "> Regresyon modelinin residual'ları, tahmin edilen değerlerin gerçek değerlerden çıkarılması ile elde edilir. Yani residual'lar, gerçek değerlerden tahmin edilen değerlerin çıkarılmasıyla elde edilen hataların listesidir."
   ]
  },
  {
   "cell_type": "code",
   "execution_count": 18,
   "metadata": {},
   "outputs": [],
   "source": [
    "X = train.drop('target', axis=1)\n",
    "y = train['target']\n",
    "\n",
    "from sklearn.model_selection import train_test_split\n",
    "X_train, X_test, y_train, y_test = train_test_split(X, y, test_size=0.2, random_state=42)"
   ]
  },
  {
   "cell_type": "code",
   "execution_count": 19,
   "metadata": {},
   "outputs": [],
   "source": [
    "from sklearn.preprocessing import StandardScaler\n",
    "sc = StandardScaler()\n",
    "X_train = sc.fit_transform(X_train)\n",
    "X_test = sc.transform(X_test)"
   ]
  },
  {
   "cell_type": "code",
   "execution_count": 20,
   "metadata": {},
   "outputs": [],
   "source": [
    "target_scaler = StandardScaler()\n",
    "y_train = target_scaler.fit_transform(y_train.values.reshape(-1,1))"
   ]
  },
  {
   "cell_type": "code",
   "execution_count": 21,
   "metadata": {},
   "outputs": [
    {
     "data": {
      "text/html": [
       "<style>#sk-container-id-1 {color: black;background-color: white;}#sk-container-id-1 pre{padding: 0;}#sk-container-id-1 div.sk-toggleable {background-color: white;}#sk-container-id-1 label.sk-toggleable__label {cursor: pointer;display: block;width: 100%;margin-bottom: 0;padding: 0.3em;box-sizing: border-box;text-align: center;}#sk-container-id-1 label.sk-toggleable__label-arrow:before {content: \"▸\";float: left;margin-right: 0.25em;color: #696969;}#sk-container-id-1 label.sk-toggleable__label-arrow:hover:before {color: black;}#sk-container-id-1 div.sk-estimator:hover label.sk-toggleable__label-arrow:before {color: black;}#sk-container-id-1 div.sk-toggleable__content {max-height: 0;max-width: 0;overflow: hidden;text-align: left;background-color: #f0f8ff;}#sk-container-id-1 div.sk-toggleable__content pre {margin: 0.2em;color: black;border-radius: 0.25em;background-color: #f0f8ff;}#sk-container-id-1 input.sk-toggleable__control:checked~div.sk-toggleable__content {max-height: 200px;max-width: 100%;overflow: auto;}#sk-container-id-1 input.sk-toggleable__control:checked~label.sk-toggleable__label-arrow:before {content: \"▾\";}#sk-container-id-1 div.sk-estimator input.sk-toggleable__control:checked~label.sk-toggleable__label {background-color: #d4ebff;}#sk-container-id-1 div.sk-label input.sk-toggleable__control:checked~label.sk-toggleable__label {background-color: #d4ebff;}#sk-container-id-1 input.sk-hidden--visually {border: 0;clip: rect(1px 1px 1px 1px);clip: rect(1px, 1px, 1px, 1px);height: 1px;margin: -1px;overflow: hidden;padding: 0;position: absolute;width: 1px;}#sk-container-id-1 div.sk-estimator {font-family: monospace;background-color: #f0f8ff;border: 1px dotted black;border-radius: 0.25em;box-sizing: border-box;margin-bottom: 0.5em;}#sk-container-id-1 div.sk-estimator:hover {background-color: #d4ebff;}#sk-container-id-1 div.sk-parallel-item::after {content: \"\";width: 100%;border-bottom: 1px solid gray;flex-grow: 1;}#sk-container-id-1 div.sk-label:hover label.sk-toggleable__label {background-color: #d4ebff;}#sk-container-id-1 div.sk-serial::before {content: \"\";position: absolute;border-left: 1px solid gray;box-sizing: border-box;top: 0;bottom: 0;left: 50%;z-index: 0;}#sk-container-id-1 div.sk-serial {display: flex;flex-direction: column;align-items: center;background-color: white;padding-right: 0.2em;padding-left: 0.2em;position: relative;}#sk-container-id-1 div.sk-item {position: relative;z-index: 1;}#sk-container-id-1 div.sk-parallel {display: flex;align-items: stretch;justify-content: center;background-color: white;position: relative;}#sk-container-id-1 div.sk-item::before, #sk-container-id-1 div.sk-parallel-item::before {content: \"\";position: absolute;border-left: 1px solid gray;box-sizing: border-box;top: 0;bottom: 0;left: 50%;z-index: -1;}#sk-container-id-1 div.sk-parallel-item {display: flex;flex-direction: column;z-index: 1;position: relative;background-color: white;}#sk-container-id-1 div.sk-parallel-item:first-child::after {align-self: flex-end;width: 50%;}#sk-container-id-1 div.sk-parallel-item:last-child::after {align-self: flex-start;width: 50%;}#sk-container-id-1 div.sk-parallel-item:only-child::after {width: 0;}#sk-container-id-1 div.sk-dashed-wrapped {border: 1px dashed gray;margin: 0 0.4em 0.5em 0.4em;box-sizing: border-box;padding-bottom: 0.4em;background-color: white;}#sk-container-id-1 div.sk-label label {font-family: monospace;font-weight: bold;display: inline-block;line-height: 1.2em;}#sk-container-id-1 div.sk-label-container {text-align: center;}#sk-container-id-1 div.sk-container {/* jupyter's `normalize.less` sets `[hidden] { display: none; }` but bootstrap.min.css set `[hidden] { display: none !important; }` so we also need the `!important` here to be able to override the default hidden behavior on the sphinx rendered scikit-learn.org. See: https://github.com/scikit-learn/scikit-learn/issues/21755 */display: inline-block !important;position: relative;}#sk-container-id-1 div.sk-text-repr-fallback {display: none;}</style><div id=\"sk-container-id-1\" class=\"sk-top-container\"><div class=\"sk-text-repr-fallback\"><pre>LinearRegression()</pre><b>In a Jupyter environment, please rerun this cell to show the HTML representation or trust the notebook. <br />On GitHub, the HTML representation is unable to render, please try loading this page with nbviewer.org.</b></div><div class=\"sk-container\" hidden><div class=\"sk-item\"><div class=\"sk-estimator sk-toggleable\"><input class=\"sk-toggleable__control sk-hidden--visually\" id=\"sk-estimator-id-1\" type=\"checkbox\" checked><label for=\"sk-estimator-id-1\" class=\"sk-toggleable__label sk-toggleable__label-arrow\">LinearRegression</label><div class=\"sk-toggleable__content\"><pre>LinearRegression()</pre></div></div></div></div></div>"
      ],
      "text/plain": [
       "LinearRegression()"
      ]
     },
     "execution_count": 21,
     "metadata": {},
     "output_type": "execute_result"
    }
   ],
   "source": [
    "from sklearn.linear_model import LinearRegression\n",
    "lr = LinearRegression()\n",
    "lr.fit(X_train, y_train)"
   ]
  },
  {
   "cell_type": "code",
   "execution_count": 27,
   "metadata": {},
   "outputs": [],
   "source": [
    "lr_preds = lr.predict(X_test)\n",
    "lr_preds = target_scaler.inverse_transform(lr_preds).reshape(-1,)"
   ]
  },
  {
   "cell_type": "code",
   "execution_count": 39,
   "metadata": {},
   "outputs": [],
   "source": [
    "residuals = y_test - lr_preds"
   ]
  },
  {
   "cell_type": "code",
   "execution_count": 47,
   "metadata": {},
   "outputs": [
    {
     "name": "stdout",
     "output_type": "stream",
     "text": [
      "Statistik=0.146, p=0.703\n",
      "Varyanslar homojen (H0 reddedilemez)\n"
     ]
    },
    {
     "data": {
      "application/vnd.plotly.v1+json": {
       "config": {
        "plotlyServerURL": "https://plot.ly"
       },
       "data": [
        {
         "hovertemplate": "x=%{x}<br>y=%{y}<extra></extra>",
         "legendgroup": "",
         "marker": {
          "color": "#636efa",
          "symbol": "circle"
         },
         "mode": "markers",
         "name": "",
         "orientation": "v",
         "showlegend": false,
         "type": "scatter",
         "x": [
          10796,
          9187,
          10232,
          9020,
          10281,
          9342,
          9913,
          9226,
          9250,
          10218,
          8985,
          9322,
          10410,
          9749,
          9289,
          10592,
          9918,
          9964,
          9194,
          8880,
          8059,
          9762,
          9744,
          8938,
          8144,
          9621,
          9871,
          8643,
          9454,
          8722,
          10099,
          9848,
          9773,
          9886,
          8592,
          9435,
          9489,
          8849,
          10068,
          9372,
          9124,
          9058,
          10242,
          9803,
          10639,
          8702,
          7176,
          8555,
          9003,
          9248,
          9600,
          8650,
          10051,
          9102,
          10323,
          9877,
          10578,
          10076,
          10691,
          7588,
          8946,
          9451,
          9878,
          9759,
          10616,
          8615,
          10497,
          9061,
          8998,
          10804,
          9606,
          9098,
          9384,
          9296,
          9457,
          10180,
          10500,
          9316,
          9580,
          10259,
          9658,
          9712,
          9188,
          10198,
          9076,
          9601,
          9728,
          9372,
          9046,
          9549,
          10267,
          9497,
          9686,
          10139,
          9247,
          10667,
          9514,
          10348,
          10475
         ],
         "xaxis": "x",
         "y": [
          10185.358234688612,
          9436.282977427743,
          10156.669223257748,
          8891.934425310577,
          9219.313648889187,
          9388.05941724642,
          9594.199700189582,
          9612.509461559705,
          9266.263766945092,
          9464.205683594555,
          9045.8853880467,
          9990.017756597364,
          9812.335145098148,
          9903.002728019026,
          8888.250122183033,
          10142.605572460601,
          10593.06004756205,
          9904.446688014214,
          9051.634469055756,
          9204.207737214865,
          8841.808482513426,
          10208.145450138476,
          10172.731555733299,
          9227.044680522491,
          8845.51388851247,
          9666.616882221879,
          10237.35599108962,
          9100.846798926561,
          9890.664804125181,
          8911.102472715836,
          9677.136867467096,
          9538.345247853244,
          9567.191288303547,
          9769.686719183885,
          9711.184456101779,
          9410.920479148363,
          9630.798625951904,
          9515.49891318986,
          10906.782790234534,
          10195.982668803099,
          9907.665272086948,
          9706.698179560744,
          10078.92085789647,
          9953.703805510699,
          9854.849496186896,
          8865.342828952891,
          8866.484452893741,
          9329.8815030465,
          9284.044598945122,
          9354.248208648374,
          9733.455646439203,
          8234.839639698299,
          10561.804531844073,
          8412.072032106713,
          9725.850743282743,
          10543.189082391245,
          10224.331622404814,
          9877.323525260472,
          9704.543527163507,
          -10354.471327504301,
          9429.967047032207,
          9897.504834986927,
          10264.988526757437,
          8806.225915398612,
          10050.30219593476,
          9181.127272367094,
          10410.888582620099,
          8963.96496435125,
          9134.401857108725,
          10146.20053487997,
          9483.138121552904,
          9453.270158450627,
          9920.011544934176,
          9014.53025872597,
          10936.833905354604,
          9720.676327756106,
          9861.694283533801,
          9433.459783694905,
          9542.519617830125,
          9750.452058724124,
          9429.812183976328,
          9624.632014933926,
          9483.990362796847,
          10315.434600315877,
          9300.269155623626,
          9144.733163097248,
          8804.770154012922,
          9026.024072570817,
          9124.311880480302,
          9093.765305050683,
          10472.739947437076,
          9769.4178192053,
          9496.46623464891,
          9715.741923582147,
          9283.299665797751,
          9977.103490252855,
          9489.693485226224,
          9546.998903855467,
          10625.872265214477
         ],
         "yaxis": "y"
        },
        {
         "hovertemplate": "<b>OLS trendline</b><br>y = 1.30741 * x + -3087.72<br>R<sup>2</sup>=0.188097<br><br>x=%{x}<br>y=%{y} <b>(trend)</b><extra></extra>",
         "legendgroup": "",
         "marker": {
          "color": "#636efa",
          "symbol": "circle"
         },
         "mode": "lines",
         "name": "",
         "showlegend": false,
         "type": "scatter",
         "x": [
          7176,
          7588,
          8059,
          8144,
          8555,
          8592,
          8615,
          8643,
          8650,
          8702,
          8722,
          8849,
          8880,
          8938,
          8946,
          8985,
          8998,
          9003,
          9020,
          9046,
          9058,
          9061,
          9076,
          9098,
          9102,
          9124,
          9187,
          9188,
          9194,
          9226,
          9247,
          9248,
          9250,
          9289,
          9296,
          9316,
          9322,
          9342,
          9372,
          9372,
          9384,
          9435,
          9451,
          9454,
          9457,
          9489,
          9497,
          9514,
          9549,
          9580,
          9600,
          9601,
          9606,
          9621,
          9658,
          9686,
          9712,
          9728,
          9744,
          9749,
          9759,
          9762,
          9773,
          9803,
          9848,
          9871,
          9877,
          9878,
          9886,
          9913,
          9918,
          9964,
          10051,
          10068,
          10076,
          10099,
          10139,
          10180,
          10198,
          10218,
          10232,
          10242,
          10259,
          10267,
          10281,
          10323,
          10348,
          10410,
          10475,
          10497,
          10500,
          10578,
          10592,
          10616,
          10639,
          10667,
          10691,
          10796,
          10804
         ],
         "xaxis": "x",
         "y": [
          6294.2439406524845,
          6832.896511423181,
          7448.686222182885,
          7559.816000133151,
          8097.161161751492,
          8145.535300388667,
          8175.605710892854,
          8212.213167158825,
          8221.365031225318,
          8289.350307147832,
          8315.498490194954,
          8481.539452544173,
          8522.069136267211,
          8597.898867103862,
          8608.35814032271,
          8659.347097264597,
          8676.343416245227,
          8682.880462007008,
          8705.10641759706,
          8739.099055558318,
          8754.787965386591,
          8758.710192843659,
          8778.321330129,
          8807.084331480833,
          8812.313968090257,
          8841.07696944209,
          8923.443746040522,
          8924.751155192878,
          8932.595610107015,
          8974.432702982409,
          9001.888295181885,
          9003.195704334243,
          9005.810522638954,
          9056.79947958084,
          9065.951343647333,
          9092.099526694454,
          9099.94398160859,
          9126.09216465571,
          9165.314439226393,
          9165.314439226393,
          9181.003349054667,
          9247.681215824825,
          9268.599762262522,
          9272.521989719591,
          9276.444217176659,
          9318.281310052053,
          9328.740583270901,
          9350.966538860954,
          9396.725859193417,
          9437.255542916455,
          9463.403725963575,
          9464.711135115931,
          9471.248180877712,
          9490.859318163053,
          9539.233456800226,
          9575.840913066197,
          9609.833551027454,
          9630.75209746515,
          9651.670643902848,
          9658.207689664629,
          9671.281781188189,
          9675.204008645258,
          9689.585509321174,
          9728.807783891856,
          9787.641195747878,
          9817.711606252067,
          9825.556061166204,
          9826.86347031856,
          9837.322743537408,
          9872.622790651023,
          9879.159836412802,
          9939.300657421181,
          10053.045253676159,
          10075.271209266211,
          10085.73048248506,
          10115.80089298925,
          10168.097259083492,
          10221.70103433009,
          10245.2343990725,
          10271.38258211962,
          10289.686310252606,
          10302.760401776166,
          10324.986357366219,
          10335.445630585067,
          10353.749358718052,
          10408.660543117006,
          10441.34577192591,
          10522.405139371984,
          10607.38673427513,
          10636.149735626963,
          10640.07196308403,
          10742.049876967803,
          10760.353605100789,
          10791.731424757334,
          10821.801835261522,
          10858.409291527492,
          10889.787111184038,
          11027.065072181424,
          11037.524345400272
         ],
         "yaxis": "y"
        }
       ],
       "layout": {
        "legend": {
         "tracegroupgap": 0
        },
        "margin": {
         "t": 60
        },
        "template": {
         "data": {
          "bar": [
           {
            "error_x": {
             "color": "#2a3f5f"
            },
            "error_y": {
             "color": "#2a3f5f"
            },
            "marker": {
             "line": {
              "color": "#E5ECF6",
              "width": 0.5
             },
             "pattern": {
              "fillmode": "overlay",
              "size": 10,
              "solidity": 0.2
             }
            },
            "type": "bar"
           }
          ],
          "barpolar": [
           {
            "marker": {
             "line": {
              "color": "#E5ECF6",
              "width": 0.5
             },
             "pattern": {
              "fillmode": "overlay",
              "size": 10,
              "solidity": 0.2
             }
            },
            "type": "barpolar"
           }
          ],
          "carpet": [
           {
            "aaxis": {
             "endlinecolor": "#2a3f5f",
             "gridcolor": "white",
             "linecolor": "white",
             "minorgridcolor": "white",
             "startlinecolor": "#2a3f5f"
            },
            "baxis": {
             "endlinecolor": "#2a3f5f",
             "gridcolor": "white",
             "linecolor": "white",
             "minorgridcolor": "white",
             "startlinecolor": "#2a3f5f"
            },
            "type": "carpet"
           }
          ],
          "choropleth": [
           {
            "colorbar": {
             "outlinewidth": 0,
             "ticks": ""
            },
            "type": "choropleth"
           }
          ],
          "contour": [
           {
            "colorbar": {
             "outlinewidth": 0,
             "ticks": ""
            },
            "colorscale": [
             [
              0,
              "#0d0887"
             ],
             [
              0.1111111111111111,
              "#46039f"
             ],
             [
              0.2222222222222222,
              "#7201a8"
             ],
             [
              0.3333333333333333,
              "#9c179e"
             ],
             [
              0.4444444444444444,
              "#bd3786"
             ],
             [
              0.5555555555555556,
              "#d8576b"
             ],
             [
              0.6666666666666666,
              "#ed7953"
             ],
             [
              0.7777777777777778,
              "#fb9f3a"
             ],
             [
              0.8888888888888888,
              "#fdca26"
             ],
             [
              1,
              "#f0f921"
             ]
            ],
            "type": "contour"
           }
          ],
          "contourcarpet": [
           {
            "colorbar": {
             "outlinewidth": 0,
             "ticks": ""
            },
            "type": "contourcarpet"
           }
          ],
          "heatmap": [
           {
            "colorbar": {
             "outlinewidth": 0,
             "ticks": ""
            },
            "colorscale": [
             [
              0,
              "#0d0887"
             ],
             [
              0.1111111111111111,
              "#46039f"
             ],
             [
              0.2222222222222222,
              "#7201a8"
             ],
             [
              0.3333333333333333,
              "#9c179e"
             ],
             [
              0.4444444444444444,
              "#bd3786"
             ],
             [
              0.5555555555555556,
              "#d8576b"
             ],
             [
              0.6666666666666666,
              "#ed7953"
             ],
             [
              0.7777777777777778,
              "#fb9f3a"
             ],
             [
              0.8888888888888888,
              "#fdca26"
             ],
             [
              1,
              "#f0f921"
             ]
            ],
            "type": "heatmap"
           }
          ],
          "heatmapgl": [
           {
            "colorbar": {
             "outlinewidth": 0,
             "ticks": ""
            },
            "colorscale": [
             [
              0,
              "#0d0887"
             ],
             [
              0.1111111111111111,
              "#46039f"
             ],
             [
              0.2222222222222222,
              "#7201a8"
             ],
             [
              0.3333333333333333,
              "#9c179e"
             ],
             [
              0.4444444444444444,
              "#bd3786"
             ],
             [
              0.5555555555555556,
              "#d8576b"
             ],
             [
              0.6666666666666666,
              "#ed7953"
             ],
             [
              0.7777777777777778,
              "#fb9f3a"
             ],
             [
              0.8888888888888888,
              "#fdca26"
             ],
             [
              1,
              "#f0f921"
             ]
            ],
            "type": "heatmapgl"
           }
          ],
          "histogram": [
           {
            "marker": {
             "pattern": {
              "fillmode": "overlay",
              "size": 10,
              "solidity": 0.2
             }
            },
            "type": "histogram"
           }
          ],
          "histogram2d": [
           {
            "colorbar": {
             "outlinewidth": 0,
             "ticks": ""
            },
            "colorscale": [
             [
              0,
              "#0d0887"
             ],
             [
              0.1111111111111111,
              "#46039f"
             ],
             [
              0.2222222222222222,
              "#7201a8"
             ],
             [
              0.3333333333333333,
              "#9c179e"
             ],
             [
              0.4444444444444444,
              "#bd3786"
             ],
             [
              0.5555555555555556,
              "#d8576b"
             ],
             [
              0.6666666666666666,
              "#ed7953"
             ],
             [
              0.7777777777777778,
              "#fb9f3a"
             ],
             [
              0.8888888888888888,
              "#fdca26"
             ],
             [
              1,
              "#f0f921"
             ]
            ],
            "type": "histogram2d"
           }
          ],
          "histogram2dcontour": [
           {
            "colorbar": {
             "outlinewidth": 0,
             "ticks": ""
            },
            "colorscale": [
             [
              0,
              "#0d0887"
             ],
             [
              0.1111111111111111,
              "#46039f"
             ],
             [
              0.2222222222222222,
              "#7201a8"
             ],
             [
              0.3333333333333333,
              "#9c179e"
             ],
             [
              0.4444444444444444,
              "#bd3786"
             ],
             [
              0.5555555555555556,
              "#d8576b"
             ],
             [
              0.6666666666666666,
              "#ed7953"
             ],
             [
              0.7777777777777778,
              "#fb9f3a"
             ],
             [
              0.8888888888888888,
              "#fdca26"
             ],
             [
              1,
              "#f0f921"
             ]
            ],
            "type": "histogram2dcontour"
           }
          ],
          "mesh3d": [
           {
            "colorbar": {
             "outlinewidth": 0,
             "ticks": ""
            },
            "type": "mesh3d"
           }
          ],
          "parcoords": [
           {
            "line": {
             "colorbar": {
              "outlinewidth": 0,
              "ticks": ""
             }
            },
            "type": "parcoords"
           }
          ],
          "pie": [
           {
            "automargin": true,
            "type": "pie"
           }
          ],
          "scatter": [
           {
            "fillpattern": {
             "fillmode": "overlay",
             "size": 10,
             "solidity": 0.2
            },
            "type": "scatter"
           }
          ],
          "scatter3d": [
           {
            "line": {
             "colorbar": {
              "outlinewidth": 0,
              "ticks": ""
             }
            },
            "marker": {
             "colorbar": {
              "outlinewidth": 0,
              "ticks": ""
             }
            },
            "type": "scatter3d"
           }
          ],
          "scattercarpet": [
           {
            "marker": {
             "colorbar": {
              "outlinewidth": 0,
              "ticks": ""
             }
            },
            "type": "scattercarpet"
           }
          ],
          "scattergeo": [
           {
            "marker": {
             "colorbar": {
              "outlinewidth": 0,
              "ticks": ""
             }
            },
            "type": "scattergeo"
           }
          ],
          "scattergl": [
           {
            "marker": {
             "colorbar": {
              "outlinewidth": 0,
              "ticks": ""
             }
            },
            "type": "scattergl"
           }
          ],
          "scattermapbox": [
           {
            "marker": {
             "colorbar": {
              "outlinewidth": 0,
              "ticks": ""
             }
            },
            "type": "scattermapbox"
           }
          ],
          "scatterpolar": [
           {
            "marker": {
             "colorbar": {
              "outlinewidth": 0,
              "ticks": ""
             }
            },
            "type": "scatterpolar"
           }
          ],
          "scatterpolargl": [
           {
            "marker": {
             "colorbar": {
              "outlinewidth": 0,
              "ticks": ""
             }
            },
            "type": "scatterpolargl"
           }
          ],
          "scatterternary": [
           {
            "marker": {
             "colorbar": {
              "outlinewidth": 0,
              "ticks": ""
             }
            },
            "type": "scatterternary"
           }
          ],
          "surface": [
           {
            "colorbar": {
             "outlinewidth": 0,
             "ticks": ""
            },
            "colorscale": [
             [
              0,
              "#0d0887"
             ],
             [
              0.1111111111111111,
              "#46039f"
             ],
             [
              0.2222222222222222,
              "#7201a8"
             ],
             [
              0.3333333333333333,
              "#9c179e"
             ],
             [
              0.4444444444444444,
              "#bd3786"
             ],
             [
              0.5555555555555556,
              "#d8576b"
             ],
             [
              0.6666666666666666,
              "#ed7953"
             ],
             [
              0.7777777777777778,
              "#fb9f3a"
             ],
             [
              0.8888888888888888,
              "#fdca26"
             ],
             [
              1,
              "#f0f921"
             ]
            ],
            "type": "surface"
           }
          ],
          "table": [
           {
            "cells": {
             "fill": {
              "color": "#EBF0F8"
             },
             "line": {
              "color": "white"
             }
            },
            "header": {
             "fill": {
              "color": "#C8D4E3"
             },
             "line": {
              "color": "white"
             }
            },
            "type": "table"
           }
          ]
         },
         "layout": {
          "annotationdefaults": {
           "arrowcolor": "#2a3f5f",
           "arrowhead": 0,
           "arrowwidth": 1
          },
          "autotypenumbers": "strict",
          "coloraxis": {
           "colorbar": {
            "outlinewidth": 0,
            "ticks": ""
           }
          },
          "colorscale": {
           "diverging": [
            [
             0,
             "#8e0152"
            ],
            [
             0.1,
             "#c51b7d"
            ],
            [
             0.2,
             "#de77ae"
            ],
            [
             0.3,
             "#f1b6da"
            ],
            [
             0.4,
             "#fde0ef"
            ],
            [
             0.5,
             "#f7f7f7"
            ],
            [
             0.6,
             "#e6f5d0"
            ],
            [
             0.7,
             "#b8e186"
            ],
            [
             0.8,
             "#7fbc41"
            ],
            [
             0.9,
             "#4d9221"
            ],
            [
             1,
             "#276419"
            ]
           ],
           "sequential": [
            [
             0,
             "#0d0887"
            ],
            [
             0.1111111111111111,
             "#46039f"
            ],
            [
             0.2222222222222222,
             "#7201a8"
            ],
            [
             0.3333333333333333,
             "#9c179e"
            ],
            [
             0.4444444444444444,
             "#bd3786"
            ],
            [
             0.5555555555555556,
             "#d8576b"
            ],
            [
             0.6666666666666666,
             "#ed7953"
            ],
            [
             0.7777777777777778,
             "#fb9f3a"
            ],
            [
             0.8888888888888888,
             "#fdca26"
            ],
            [
             1,
             "#f0f921"
            ]
           ],
           "sequentialminus": [
            [
             0,
             "#0d0887"
            ],
            [
             0.1111111111111111,
             "#46039f"
            ],
            [
             0.2222222222222222,
             "#7201a8"
            ],
            [
             0.3333333333333333,
             "#9c179e"
            ],
            [
             0.4444444444444444,
             "#bd3786"
            ],
            [
             0.5555555555555556,
             "#d8576b"
            ],
            [
             0.6666666666666666,
             "#ed7953"
            ],
            [
             0.7777777777777778,
             "#fb9f3a"
            ],
            [
             0.8888888888888888,
             "#fdca26"
            ],
            [
             1,
             "#f0f921"
            ]
           ]
          },
          "colorway": [
           "#636efa",
           "#EF553B",
           "#00cc96",
           "#ab63fa",
           "#FFA15A",
           "#19d3f3",
           "#FF6692",
           "#B6E880",
           "#FF97FF",
           "#FECB52"
          ],
          "font": {
           "color": "#2a3f5f"
          },
          "geo": {
           "bgcolor": "white",
           "lakecolor": "white",
           "landcolor": "#E5ECF6",
           "showlakes": true,
           "showland": true,
           "subunitcolor": "white"
          },
          "hoverlabel": {
           "align": "left"
          },
          "hovermode": "closest",
          "mapbox": {
           "style": "light"
          },
          "paper_bgcolor": "white",
          "plot_bgcolor": "#E5ECF6",
          "polar": {
           "angularaxis": {
            "gridcolor": "white",
            "linecolor": "white",
            "ticks": ""
           },
           "bgcolor": "#E5ECF6",
           "radialaxis": {
            "gridcolor": "white",
            "linecolor": "white",
            "ticks": ""
           }
          },
          "scene": {
           "xaxis": {
            "backgroundcolor": "#E5ECF6",
            "gridcolor": "white",
            "gridwidth": 2,
            "linecolor": "white",
            "showbackground": true,
            "ticks": "",
            "zerolinecolor": "white"
           },
           "yaxis": {
            "backgroundcolor": "#E5ECF6",
            "gridcolor": "white",
            "gridwidth": 2,
            "linecolor": "white",
            "showbackground": true,
            "ticks": "",
            "zerolinecolor": "white"
           },
           "zaxis": {
            "backgroundcolor": "#E5ECF6",
            "gridcolor": "white",
            "gridwidth": 2,
            "linecolor": "white",
            "showbackground": true,
            "ticks": "",
            "zerolinecolor": "white"
           }
          },
          "shapedefaults": {
           "line": {
            "color": "#2a3f5f"
           }
          },
          "ternary": {
           "aaxis": {
            "gridcolor": "white",
            "linecolor": "white",
            "ticks": ""
           },
           "baxis": {
            "gridcolor": "white",
            "linecolor": "white",
            "ticks": ""
           },
           "bgcolor": "#E5ECF6",
           "caxis": {
            "gridcolor": "white",
            "linecolor": "white",
            "ticks": ""
           }
          },
          "title": {
           "x": 0.05
          },
          "xaxis": {
           "automargin": true,
           "gridcolor": "white",
           "linecolor": "white",
           "ticks": "",
           "title": {
            "standoff": 15
           },
           "zerolinecolor": "white",
           "zerolinewidth": 2
          },
          "yaxis": {
           "automargin": true,
           "gridcolor": "white",
           "linecolor": "white",
           "ticks": "",
           "title": {
            "standoff": 15
           },
           "zerolinecolor": "white",
           "zerolinewidth": 2
          }
         }
        },
        "xaxis": {
         "anchor": "y",
         "domain": [
          0,
          1
         ],
         "title": {
          "text": "x"
         }
        },
        "yaxis": {
         "anchor": "x",
         "domain": [
          0,
          1
         ],
         "title": {
          "text": "y"
         }
        }
       }
      }
     },
     "metadata": {},
     "output_type": "display_data"
    }
   ],
   "source": [
    "# Levene's Test\n",
    "from scipy.stats import levene\n",
    "\n",
    "stat, p = levene(y_test, lr_preds)\n",
    "\n",
    "print('Statistik=%.3f, p=%.3f' % (stat, p))\n",
    "\n",
    "alpha = 0.05\n",
    "\n",
    "if p > alpha:\n",
    "    print('Varyanslar homojen (H0 reddedilemez)')\n",
    "else:\n",
    "    print('Varyanslar heterojen (H0 reddedilir)')\n",
    "\n",
    "import plotly.express as px\n",
    "fig = px.scatter(x=y_test, y=lr_preds, trendline='ols')\n",
    "fig.show()"
   ]
  },
  {
   "attachments": {},
   "cell_type": "markdown",
   "metadata": {},
   "source": [
    "3. Bağımsızlık Varsayımı Testi:  \n",
    "Bu varsayım, gözlemlerin birbirinden bağımsız olduğunu varsayar. Bu varsayım, özellikle zaman serileri verilerinde önemlidir. Bağımsızlık testleri, Durbin-Watson testi ve grafik yöntemleri (Time series plot) gibi yöntemlerle yapılabilir."
   ]
  },
  {
   "cell_type": "code",
   "execution_count": 53,
   "metadata": {},
   "outputs": [
    {
     "name": "stdout",
     "output_type": "stream",
     "text": [
      "Statistic=1.925\n",
      "Bağımsızlık varsayımı sağlanmaz (H0 reddedilir)\n"
     ]
    }
   ],
   "source": [
    "# Durbin-Watson test\n",
    "from statsmodels.stats.stattools import durbin_watson\n",
    "stat = durbin_watson(residuals)\n",
    "print('Statistic=%.3f' % (stat))\n",
    "if stat == 2.0:\n",
    "    print('Bağımsızlık varsayımı sağlanır (H0 reddedilemez)')\n",
    "else:\n",
    "    print('Bağımsızlık varsayımı sağlanmaz (H0 reddedilir)')"
   ]
  },
  {
   "attachments": {},
   "cell_type": "markdown",
   "metadata": {},
   "source": [
    "⚠️ **Ancak bu kısımda test istatistiği &asymp; 2.0 için H0 reddedilemez şeklinde yorum da yapılabilir.**"
   ]
  },
  {
   "cell_type": "code",
   "execution_count": 52,
   "metadata": {},
   "outputs": [
    {
     "data": {
      "image/png": "[encoded data removed]",
      "text/plain": [
       "<Figure size 1200x400 with 1 Axes>"
      ]
     },
     "metadata": {},
     "output_type": "display_data"
    }
   ],
   "source": [
    "import matplotlib.pyplot as plt\n",
    "\n",
    "fig, ax = plt.subplots(figsize=(12, 4))\n",
    "ax.scatter(range(len(residuals)), residuals)\n",
    "ax.plot(range(len(residuals)), [0]*len(residuals), 'r--', lw=1)\n",
    "ax.set_xlabel('Index')\n",
    "ax.set_ylabel('Residuals')\n",
    "ax.set_title(f'Durbin-Watson Test (DW={stat:.3f})')\n",
    "plt.show()"
   ]
  },
  {
   "attachments": {},
   "cell_type": "markdown",
   "metadata": {},
   "source": [
    "4. Hata terimlerinin normal dağılımı varsayımı:"
   ]
  },
  {
   "cell_type": "code",
   "execution_count": 55,
   "metadata": {},
   "outputs": [
    {
     "name": "stdout",
     "output_type": "stream",
     "text": [
      "Statistic=0.283, p=0.000\n",
      "Veriler normal dağılım göstermiyor (H0 reddedilir)\n"
     ]
    },
    {
     "data": {
      "image/png": "[encoded data removed]",
      "text/plain": [
       "<Figure size 640x480 with 1 Axes>"
      ]
     },
     "metadata": {},
     "output_type": "display_data"
    }
   ],
   "source": [
    "# Normal probability plot of residuals\n",
    "import scipy.stats as stats\n",
    "import pylab\n",
    "\n",
    "stat, p = shapiro(residuals)\n",
    "\n",
    "print('Statistic=%.3f, p=%.3f' % (stat, p))\n",
    "\n",
    "alpha = 0.05\n",
    "\n",
    "if p > alpha:\n",
    "    print('Veriler normal dağılım gösteriyor (H0 reddedilemez)')\n",
    "else:\n",
    "    print('Veriler normal dağılım göstermiyor (H0 reddedilir)')\n",
    "    \n",
    "stats.probplot(residuals, dist=\"norm\", plot=pylab)\n",
    "pylab.show()"
   ]
  },
  {
   "attachments": {},
   "cell_type": "markdown",
   "metadata": {},
   "source": [
    "Geçerli regresyon modelinin kullanılabilmesi için tüm bu istatistiksel varsayımların sağlanması gerekiyor ki sağlanamadığı için kurulan regresyon modeli çok iyi olsa da kullanılmamalı.\n",
    "\n",
    "<hr>"
   ]
  }
 ],
 "metadata": {
  "kernelspec": {
   "display_name": "Python 3",
   "language": "python",
   "name": "python3"
  },
  "language_info": {
   "codemirror_mode": {
    "name": "ipython",
    "version": 3
   },
   "file_extension": ".py",
   "mimetype": "text/x-python",
   "name": "python",
   "nbconvert_exporter": "python",
   "pygments_lexer": "ipython3",
   "version": "3.11.2"
  },
  "orig_nbformat": 4
 },
 "nbformat": 4,
 "nbformat_minor": 2
}
