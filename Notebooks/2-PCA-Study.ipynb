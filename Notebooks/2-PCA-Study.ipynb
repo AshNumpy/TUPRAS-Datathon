{
 "cells": [
  {
   "cell_type": "code",
   "execution_count": 7,
   "metadata": {},
   "outputs": [],
   "source": [
    "import pandas as pd \n",
    "import numpy as np "
   ]
  },
  {
   "cell_type": "code",
   "execution_count": 8,
   "metadata": {},
   "outputs": [
    {
     "data": {
      "text/html": [
       "<div>\n",
       "<style scoped>\n",
       "    .dataframe tbody tr th:only-of-type {\n",
       "        vertical-align: middle;\n",
       "    }\n",
       "\n",
       "    .dataframe tbody tr th {\n",
       "        vertical-align: top;\n",
       "    }\n",
       "\n",
       "    .dataframe thead th {\n",
       "        text-align: right;\n",
       "    }\n",
       "</style>\n",
       "<table border=\"1\" class=\"dataframe\">\n",
       "  <thead>\n",
       "    <tr style=\"text-align: right;\">\n",
       "      <th></th>\n",
       "      <th>period</th>\n",
       "      <th>gasoline_imports</th>\n",
       "      <th>gasoline_exports</th>\n",
       "      <th>crude_imports</th>\n",
       "      <th>crude_exports</th>\n",
       "      <th>gasoline_stocks</th>\n",
       "      <th>crude_stocks</th>\n",
       "      <th>distillate_fuel_stocks</th>\n",
       "      <th>jet_stocks</th>\n",
       "      <th>propane_stocks</th>\n",
       "      <th>...</th>\n",
       "      <th>propane_output</th>\n",
       "      <th>residual_fuel_output</th>\n",
       "      <th>conventional_gasoline_spot_price</th>\n",
       "      <th>crude_brent_spot_price</th>\n",
       "      <th>gasoline_future_price1</th>\n",
       "      <th>gasoline_future_price2</th>\n",
       "      <th>gasoline_future_price3</th>\n",
       "      <th>gasoline_future_price4</th>\n",
       "      <th>gasoline_demand</th>\n",
       "      <th>target</th>\n",
       "    </tr>\n",
       "  </thead>\n",
       "  <tbody>\n",
       "    <tr>\n",
       "      <th>0</th>\n",
       "      <td>2010-10-15</td>\n",
       "      <td>779</td>\n",
       "      <td>200</td>\n",
       "      <td>8600</td>\n",
       "      <td>33</td>\n",
       "      <td>219329</td>\n",
       "      <td>1066948</td>\n",
       "      <td>170055</td>\n",
       "      <td>47088</td>\n",
       "      <td>63549</td>\n",
       "      <td>...</td>\n",
       "      <td>1044</td>\n",
       "      <td>414</td>\n",
       "      <td>2.202</td>\n",
       "      <td>83.11</td>\n",
       "      <td>2.139</td>\n",
       "      <td>2.119</td>\n",
       "      <td>2.128</td>\n",
       "      <td>2.146</td>\n",
       "      <td>9460</td>\n",
       "      <td>10639</td>\n",
       "    </tr>\n",
       "    <tr>\n",
       "      <th>1</th>\n",
       "      <td>2010-10-22</td>\n",
       "      <td>999</td>\n",
       "      <td>200</td>\n",
       "      <td>9463</td>\n",
       "      <td>33</td>\n",
       "      <td>214942</td>\n",
       "      <td>1071996</td>\n",
       "      <td>168442</td>\n",
       "      <td>46829</td>\n",
       "      <td>64284</td>\n",
       "      <td>...</td>\n",
       "      <td>1021</td>\n",
       "      <td>473</td>\n",
       "      <td>2.146</td>\n",
       "      <td>81.43</td>\n",
       "      <td>2.077</td>\n",
       "      <td>2.063</td>\n",
       "      <td>2.076</td>\n",
       "      <td>2.097</td>\n",
       "      <td>10639</td>\n",
       "      <td>10036</td>\n",
       "    </tr>\n",
       "    <tr>\n",
       "      <th>2</th>\n",
       "      <td>2010-10-29</td>\n",
       "      <td>871</td>\n",
       "      <td>200</td>\n",
       "      <td>8578</td>\n",
       "      <td>33</td>\n",
       "      <td>212253</td>\n",
       "      <td>1073946</td>\n",
       "      <td>164874</td>\n",
       "      <td>45830</td>\n",
       "      <td>64469</td>\n",
       "      <td>...</td>\n",
       "      <td>1032</td>\n",
       "      <td>401</td>\n",
       "      <td>2.122</td>\n",
       "      <td>82.25</td>\n",
       "      <td>2.098</td>\n",
       "      <td>2.072</td>\n",
       "      <td>2.085</td>\n",
       "      <td>2.106</td>\n",
       "      <td>10036</td>\n",
       "      <td>9886</td>\n",
       "    </tr>\n",
       "    <tr>\n",
       "      <th>3</th>\n",
       "      <td>2010-11-05</td>\n",
       "      <td>802</td>\n",
       "      <td>200</td>\n",
       "      <td>8089</td>\n",
       "      <td>33</td>\n",
       "      <td>210336</td>\n",
       "      <td>1070399</td>\n",
       "      <td>159902</td>\n",
       "      <td>45940</td>\n",
       "      <td>63833</td>\n",
       "      <td>...</td>\n",
       "      <td>1004</td>\n",
       "      <td>464</td>\n",
       "      <td>2.174</td>\n",
       "      <td>85.60</td>\n",
       "      <td>2.140</td>\n",
       "      <td>2.149</td>\n",
       "      <td>2.170</td>\n",
       "      <td>2.193</td>\n",
       "      <td>9886</td>\n",
       "      <td>9706</td>\n",
       "    </tr>\n",
       "    <tr>\n",
       "      <th>4</th>\n",
       "      <td>2010-11-12</td>\n",
       "      <td>562</td>\n",
       "      <td>167</td>\n",
       "      <td>7864</td>\n",
       "      <td>34</td>\n",
       "      <td>207679</td>\n",
       "      <td>1063113</td>\n",
       "      <td>158792</td>\n",
       "      <td>44817</td>\n",
       "      <td>64776</td>\n",
       "      <td>...</td>\n",
       "      <td>1006</td>\n",
       "      <td>417</td>\n",
       "      <td>2.242</td>\n",
       "      <td>87.43</td>\n",
       "      <td>2.209</td>\n",
       "      <td>2.194</td>\n",
       "      <td>2.207</td>\n",
       "      <td>2.226</td>\n",
       "      <td>9706</td>\n",
       "      <td>9286</td>\n",
       "    </tr>\n",
       "  </tbody>\n",
       "</table>\n",
       "<p>5 rows × 24 columns</p>\n",
       "</div>"
      ],
      "text/plain": [
       "       period  gasoline_imports  gasoline_exports  crude_imports  \\\n",
       "0  2010-10-15               779               200           8600   \n",
       "1  2010-10-22               999               200           9463   \n",
       "2  2010-10-29               871               200           8578   \n",
       "3  2010-11-05               802               200           8089   \n",
       "4  2010-11-12               562               167           7864   \n",
       "\n",
       "   crude_exports  gasoline_stocks  crude_stocks  distillate_fuel_stocks  \\\n",
       "0             33           219329       1066948                  170055   \n",
       "1             33           214942       1071996                  168442   \n",
       "2             33           212253       1073946                  164874   \n",
       "3             33           210336       1070399                  159902   \n",
       "4             34           207679       1063113                  158792   \n",
       "\n",
       "   jet_stocks  propane_stocks  ...  propane_output  residual_fuel_output  \\\n",
       "0       47088           63549  ...            1044                   414   \n",
       "1       46829           64284  ...            1021                   473   \n",
       "2       45830           64469  ...            1032                   401   \n",
       "3       45940           63833  ...            1004                   464   \n",
       "4       44817           64776  ...            1006                   417   \n",
       "\n",
       "   conventional_gasoline_spot_price  crude_brent_spot_price  \\\n",
       "0                             2.202                   83.11   \n",
       "1                             2.146                   81.43   \n",
       "2                             2.122                   82.25   \n",
       "3                             2.174                   85.60   \n",
       "4                             2.242                   87.43   \n",
       "\n",
       "   gasoline_future_price1  gasoline_future_price2  gasoline_future_price3  \\\n",
       "0                   2.139                   2.119                   2.128   \n",
       "1                   2.077                   2.063                   2.076   \n",
       "2                   2.098                   2.072                   2.085   \n",
       "3                   2.140                   2.149                   2.170   \n",
       "4                   2.209                   2.194                   2.207   \n",
       "\n",
       "   gasoline_future_price4  gasoline_demand  target  \n",
       "0                   2.146             9460   10639  \n",
       "1                   2.097            10639   10036  \n",
       "2                   2.106            10036    9886  \n",
       "3                   2.193             9886    9706  \n",
       "4                   2.226             9706    9286  \n",
       "\n",
       "[5 rows x 24 columns]"
      ]
     },
     "execution_count": 8,
     "metadata": {},
     "output_type": "execute_result"
    }
   ],
   "source": [
    "df = pd.read_csv('../Datasets/train.csv')\n",
    "df.head()"
   ]
  },
  {
   "cell_type": "code",
   "execution_count": 9,
   "metadata": {},
   "outputs": [],
   "source": [
    "highly_correlated_cols = ['conventional_gasoline_spot_price',\n",
    "       'crude_brent_spot_price', 'gasoline_future_price1',\n",
    "       'gasoline_future_price2', 'gasoline_future_price3',\n",
    "       'gasoline_future_price4']"
   ]
  },
  {
   "cell_type": "code",
   "execution_count": 10,
   "metadata": {},
   "outputs": [],
   "source": [
    "highly_df = df[highly_correlated_cols].copy()\n",
    "\n",
    "for col in highly_correlated_cols:\n",
    "    highly_df[col] = (highly_df[col] - highly_df[col].mean())/highly_df[col].std()"
   ]
  },
  {
   "cell_type": "code",
   "execution_count": 11,
   "metadata": {},
   "outputs": [
    {
     "data": {
      "application/vnd.plotly.v1+json": {
       "config": {
        "plotlyServerURL": "https://plot.ly"
       },
       "data": [
        {
         "coloraxis": "coloraxis",
         "hovertemplate": "x: %{x}<br>y: %{y}<br>color: %{z}<extra></extra>",
         "name": "0",
         "texttemplate": "%{z}",
         "type": "heatmap",
         "x": [
          "conventional_gasoline_spot_price",
          "crude_brent_spot_price",
          "gasoline_future_price1",
          "gasoline_future_price2",
          "gasoline_future_price3",
          "gasoline_future_price4"
         ],
         "xaxis": "x",
         "y": [
          "conventional_gasoline_spot_price",
          "crude_brent_spot_price",
          "gasoline_future_price1",
          "gasoline_future_price2",
          "gasoline_future_price3",
          "gasoline_future_price4"
         ],
         "yaxis": "y",
         "z": [
          [
           1,
           0.98,
           0.99,
           0.98,
           0.97,
           0.97
          ],
          [
           0.98,
           1,
           0.97,
           0.97,
           0.98,
           0.98
          ],
          [
           0.99,
           0.97,
           1,
           0.99,
           0.98,
           0.97
          ],
          [
           0.98,
           0.97,
           0.99,
           1,
           0.99,
           0.98
          ],
          [
           0.97,
           0.98,
           0.98,
           0.99,
           1,
           0.99
          ],
          [
           0.97,
           0.98,
           0.97,
           0.98,
           0.99,
           1
          ]
         ]
        }
       ],
       "layout": {
        "coloraxis": {
         "colorscale": [
          [
           0,
           "#0d0887"
          ],
          [
           0.1111111111111111,
           "#46039f"
          ],
          [
           0.2222222222222222,
           "#7201a8"
          ],
          [
           0.3333333333333333,
           "#9c179e"
          ],
          [
           0.4444444444444444,
           "#bd3786"
          ],
          [
           0.5555555555555556,
           "#d8576b"
          ],
          [
           0.6666666666666666,
           "#ed7953"
          ],
          [
           0.7777777777777778,
           "#fb9f3a"
          ],
          [
           0.8888888888888888,
           "#fdca26"
          ],
          [
           1,
           "#f0f921"
          ]
         ]
        },
        "height": 800,
        "margin": {
         "t": 60
        },
        "template": {
         "data": {
          "bar": [
           {
            "error_x": {
             "color": "#2a3f5f"
            },
            "error_y": {
             "color": "#2a3f5f"
            },
            "marker": {
             "line": {
              "color": "#E5ECF6",
              "width": 0.5
             },
             "pattern": {
              "fillmode": "overlay",
              "size": 10,
              "solidity": 0.2
             }
            },
            "type": "bar"
           }
          ],
          "barpolar": [
           {
            "marker": {
             "line": {
              "color": "#E5ECF6",
              "width": 0.5
             },
             "pattern": {
              "fillmode": "overlay",
              "size": 10,
              "solidity": 0.2
             }
            },
            "type": "barpolar"
           }
          ],
          "carpet": [
           {
            "aaxis": {
             "endlinecolor": "#2a3f5f",
             "gridcolor": "white",
             "linecolor": "white",
             "minorgridcolor": "white",
             "startlinecolor": "#2a3f5f"
            },
            "baxis": {
             "endlinecolor": "#2a3f5f",
             "gridcolor": "white",
             "linecolor": "white",
             "minorgridcolor": "white",
             "startlinecolor": "#2a3f5f"
            },
            "type": "carpet"
           }
          ],
          "choropleth": [
           {
            "colorbar": {
             "outlinewidth": 0,
             "ticks": ""
            },
            "type": "choropleth"
           }
          ],
          "contour": [
           {
            "colorbar": {
             "outlinewidth": 0,
             "ticks": ""
            },
            "colorscale": [
             [
              0,
              "#0d0887"
             ],
             [
              0.1111111111111111,
              "#46039f"
             ],
             [
              0.2222222222222222,
              "#7201a8"
             ],
             [
              0.3333333333333333,
              "#9c179e"
             ],
             [
              0.4444444444444444,
              "#bd3786"
             ],
             [
              0.5555555555555556,
              "#d8576b"
             ],
             [
              0.6666666666666666,
              "#ed7953"
             ],
             [
              0.7777777777777778,
              "#fb9f3a"
             ],
             [
              0.8888888888888888,
              "#fdca26"
             ],
             [
              1,
              "#f0f921"
             ]
            ],
            "type": "contour"
           }
          ],
          "contourcarpet": [
           {
            "colorbar": {
             "outlinewidth": 0,
             "ticks": ""
            },
            "type": "contourcarpet"
           }
          ],
          "heatmap": [
           {
            "colorbar": {
             "outlinewidth": 0,
             "ticks": ""
            },
            "colorscale": [
             [
              0,
              "#0d0887"
             ],
             [
              0.1111111111111111,
              "#46039f"
             ],
             [
              0.2222222222222222,
              "#7201a8"
             ],
             [
              0.3333333333333333,
              "#9c179e"
             ],
             [
              0.4444444444444444,
              "#bd3786"
             ],
             [
              0.5555555555555556,
              "#d8576b"
             ],
             [
              0.6666666666666666,
              "#ed7953"
             ],
             [
              0.7777777777777778,
              "#fb9f3a"
             ],
             [
              0.8888888888888888,
              "#fdca26"
             ],
             [
              1,
              "#f0f921"
             ]
            ],
            "type": "heatmap"
           }
          ],
          "heatmapgl": [
           {
            "colorbar": {
             "outlinewidth": 0,
             "ticks": ""
            },
            "colorscale": [
             [
              0,
              "#0d0887"
             ],
             [
              0.1111111111111111,
              "#46039f"
             ],
             [
              0.2222222222222222,
              "#7201a8"
             ],
             [
              0.3333333333333333,
              "#9c179e"
             ],
             [
              0.4444444444444444,
              "#bd3786"
             ],
             [
              0.5555555555555556,
              "#d8576b"
             ],
             [
              0.6666666666666666,
              "#ed7953"
             ],
             [
              0.7777777777777778,
              "#fb9f3a"
             ],
             [
              0.8888888888888888,
              "#fdca26"
             ],
             [
              1,
              "#f0f921"
             ]
            ],
            "type": "heatmapgl"
           }
          ],
          "histogram": [
           {
            "marker": {
             "pattern": {
              "fillmode": "overlay",
              "size": 10,
              "solidity": 0.2
             }
            },
            "type": "histogram"
           }
          ],
          "histogram2d": [
           {
            "colorbar": {
             "outlinewidth": 0,
             "ticks": ""
            },
            "colorscale": [
             [
              0,
              "#0d0887"
             ],
             [
              0.1111111111111111,
              "#46039f"
             ],
             [
              0.2222222222222222,
              "#7201a8"
             ],
             [
              0.3333333333333333,
              "#9c179e"
             ],
             [
              0.4444444444444444,
              "#bd3786"
             ],
             [
              0.5555555555555556,
              "#d8576b"
             ],
             [
              0.6666666666666666,
              "#ed7953"
             ],
             [
              0.7777777777777778,
              "#fb9f3a"
             ],
             [
              0.8888888888888888,
              "#fdca26"
             ],
             [
              1,
              "#f0f921"
             ]
            ],
            "type": "histogram2d"
           }
          ],
          "histogram2dcontour": [
           {
            "colorbar": {
             "outlinewidth": 0,
             "ticks": ""
            },
            "colorscale": [
             [
              0,
              "#0d0887"
             ],
             [
              0.1111111111111111,
              "#46039f"
             ],
             [
              0.2222222222222222,
              "#7201a8"
             ],
             [
              0.3333333333333333,
              "#9c179e"
             ],
             [
              0.4444444444444444,
              "#bd3786"
             ],
             [
              0.5555555555555556,
              "#d8576b"
             ],
             [
              0.6666666666666666,
              "#ed7953"
             ],
             [
              0.7777777777777778,
              "#fb9f3a"
             ],
             [
              0.8888888888888888,
              "#fdca26"
             ],
             [
              1,
              "#f0f921"
             ]
            ],
            "type": "histogram2dcontour"
           }
          ],
          "mesh3d": [
           {
            "colorbar": {
             "outlinewidth": 0,
             "ticks": ""
            },
            "type": "mesh3d"
           }
          ],
          "parcoords": [
           {
            "line": {
             "colorbar": {
              "outlinewidth": 0,
              "ticks": ""
             }
            },
            "type": "parcoords"
           }
          ],
          "pie": [
           {
            "automargin": true,
            "type": "pie"
           }
          ],
          "scatter": [
           {
            "fillpattern": {
             "fillmode": "overlay",
             "size": 10,
             "solidity": 0.2
            },
            "type": "scatter"
           }
          ],
          "scatter3d": [
           {
            "line": {
             "colorbar": {
              "outlinewidth": 0,
              "ticks": ""
             }
            },
            "marker": {
             "colorbar": {
              "outlinewidth": 0,
              "ticks": ""
             }
            },
            "type": "scatter3d"
           }
          ],
          "scattercarpet": [
           {
            "marker": {
             "colorbar": {
              "outlinewidth": 0,
              "ticks": ""
             }
            },
            "type": "scattercarpet"
           }
          ],
          "scattergeo": [
           {
            "marker": {
             "colorbar": {
              "outlinewidth": 0,
              "ticks": ""
             }
            },
            "type": "scattergeo"
           }
          ],
          "scattergl": [
           {
            "marker": {
             "colorbar": {
              "outlinewidth": 0,
              "ticks": ""
             }
            },
            "type": "scattergl"
           }
          ],
          "scattermapbox": [
           {
            "marker": {
             "colorbar": {
              "outlinewidth": 0,
              "ticks": ""
             }
            },
            "type": "scattermapbox"
           }
          ],
          "scatterpolar": [
           {
            "marker": {
             "colorbar": {
              "outlinewidth": 0,
              "ticks": ""
             }
            },
            "type": "scatterpolar"
           }
          ],
          "scatterpolargl": [
           {
            "marker": {
             "colorbar": {
              "outlinewidth": 0,
              "ticks": ""
             }
            },
            "type": "scatterpolargl"
           }
          ],
          "scatterternary": [
           {
            "marker": {
             "colorbar": {
              "outlinewidth": 0,
              "ticks": ""
             }
            },
            "type": "scatterternary"
           }
          ],
          "surface": [
           {
            "colorbar": {
             "outlinewidth": 0,
             "ticks": ""
            },
            "colorscale": [
             [
              0,
              "#0d0887"
             ],
             [
              0.1111111111111111,
              "#46039f"
             ],
             [
              0.2222222222222222,
              "#7201a8"
             ],
             [
              0.3333333333333333,
              "#9c179e"
             ],
             [
              0.4444444444444444,
              "#bd3786"
             ],
             [
              0.5555555555555556,
              "#d8576b"
             ],
             [
              0.6666666666666666,
              "#ed7953"
             ],
             [
              0.7777777777777778,
              "#fb9f3a"
             ],
             [
              0.8888888888888888,
              "#fdca26"
             ],
             [
              1,
              "#f0f921"
             ]
            ],
            "type": "surface"
           }
          ],
          "table": [
           {
            "cells": {
             "fill": {
              "color": "#EBF0F8"
             },
             "line": {
              "color": "white"
             }
            },
            "header": {
             "fill": {
              "color": "#C8D4E3"
             },
             "line": {
              "color": "white"
             }
            },
            "type": "table"
           }
          ]
         },
         "layout": {
          "annotationdefaults": {
           "arrowcolor": "#2a3f5f",
           "arrowhead": 0,
           "arrowwidth": 1
          },
          "autotypenumbers": "strict",
          "coloraxis": {
           "colorbar": {
            "outlinewidth": 0,
            "ticks": ""
           }
          },
          "colorscale": {
           "diverging": [
            [
             0,
             "#8e0152"
            ],
            [
             0.1,
             "#c51b7d"
            ],
            [
             0.2,
             "#de77ae"
            ],
            [
             0.3,
             "#f1b6da"
            ],
            [
             0.4,
             "#fde0ef"
            ],
            [
             0.5,
             "#f7f7f7"
            ],
            [
             0.6,
             "#e6f5d0"
            ],
            [
             0.7,
             "#b8e186"
            ],
            [
             0.8,
             "#7fbc41"
            ],
            [
             0.9,
             "#4d9221"
            ],
            [
             1,
             "#276419"
            ]
           ],
           "sequential": [
            [
             0,
             "#0d0887"
            ],
            [
             0.1111111111111111,
             "#46039f"
            ],
            [
             0.2222222222222222,
             "#7201a8"
            ],
            [
             0.3333333333333333,
             "#9c179e"
            ],
            [
             0.4444444444444444,
             "#bd3786"
            ],
            [
             0.5555555555555556,
             "#d8576b"
            ],
            [
             0.6666666666666666,
             "#ed7953"
            ],
            [
             0.7777777777777778,
             "#fb9f3a"
            ],
            [
             0.8888888888888888,
             "#fdca26"
            ],
            [
             1,
             "#f0f921"
            ]
           ],
           "sequentialminus": [
            [
             0,
             "#0d0887"
            ],
            [
             0.1111111111111111,
             "#46039f"
            ],
            [
             0.2222222222222222,
             "#7201a8"
            ],
            [
             0.3333333333333333,
             "#9c179e"
            ],
            [
             0.4444444444444444,
             "#bd3786"
            ],
            [
             0.5555555555555556,
             "#d8576b"
            ],
            [
             0.6666666666666666,
             "#ed7953"
            ],
            [
             0.7777777777777778,
             "#fb9f3a"
            ],
            [
             0.8888888888888888,
             "#fdca26"
            ],
            [
             1,
             "#f0f921"
            ]
           ]
          },
          "colorway": [
           "#636efa",
           "#EF553B",
           "#00cc96",
           "#ab63fa",
           "#FFA15A",
           "#19d3f3",
           "#FF6692",
           "#B6E880",
           "#FF97FF",
           "#FECB52"
          ],
          "font": {
           "color": "#2a3f5f"
          },
          "geo": {
           "bgcolor": "white",
           "lakecolor": "white",
           "landcolor": "#E5ECF6",
           "showlakes": true,
           "showland": true,
           "subunitcolor": "white"
          },
          "hoverlabel": {
           "align": "left"
          },
          "hovermode": "closest",
          "mapbox": {
           "style": "light"
          },
          "paper_bgcolor": "white",
          "plot_bgcolor": "#E5ECF6",
          "polar": {
           "angularaxis": {
            "gridcolor": "white",
            "linecolor": "white",
            "ticks": ""
           },
           "bgcolor": "#E5ECF6",
           "radialaxis": {
            "gridcolor": "white",
            "linecolor": "white",
            "ticks": ""
           }
          },
          "scene": {
           "xaxis": {
            "backgroundcolor": "#E5ECF6",
            "gridcolor": "white",
            "gridwidth": 2,
            "linecolor": "white",
            "showbackground": true,
            "ticks": "",
            "zerolinecolor": "white"
           },
           "yaxis": {
            "backgroundcolor": "#E5ECF6",
            "gridcolor": "white",
            "gridwidth": 2,
            "linecolor": "white",
            "showbackground": true,
            "ticks": "",
            "zerolinecolor": "white"
           },
           "zaxis": {
            "backgroundcolor": "#E5ECF6",
            "gridcolor": "white",
            "gridwidth": 2,
            "linecolor": "white",
            "showbackground": true,
            "ticks": "",
            "zerolinecolor": "white"
           }
          },
          "shapedefaults": {
           "line": {
            "color": "#2a3f5f"
           }
          },
          "ternary": {
           "aaxis": {
            "gridcolor": "white",
            "linecolor": "white",
            "ticks": ""
           },
           "baxis": {
            "gridcolor": "white",
            "linecolor": "white",
            "ticks": ""
           },
           "bgcolor": "#E5ECF6",
           "caxis": {
            "gridcolor": "white",
            "linecolor": "white",
            "ticks": ""
           }
          },
          "title": {
           "x": 0.05
          },
          "xaxis": {
           "automargin": true,
           "gridcolor": "white",
           "linecolor": "white",
           "ticks": "",
           "title": {
            "standoff": 15
           },
           "zerolinecolor": "white",
           "zerolinewidth": 2
          },
          "yaxis": {
           "automargin": true,
           "gridcolor": "white",
           "linecolor": "white",
           "ticks": "",
           "title": {
            "standoff": 15
           },
           "zerolinecolor": "white",
           "zerolinewidth": 2
          }
         }
        },
        "title": {
         "font": {
          "size": 30
         },
         "text": "Correlation Matrix of Highly Correlated Columns",
         "x": 0.5
        },
        "xaxis": {
         "anchor": "y",
         "domain": [
          0,
          1
         ]
        },
        "yaxis": {
         "anchor": "x",
         "autorange": "reversed",
         "domain": [
          0,
          1
         ]
        }
       }
      }
     },
     "metadata": {},
     "output_type": "display_data"
    }
   ],
   "source": [
    "import plotly.express as px \n",
    "\n",
    "fig = px.imshow(np.round(highly_df.corr(),2), text_auto=True, aspect='auto')\n",
    "fig.update_layout(title='Correlation Matrix of Highly Correlated Columns', height=800, title_font_size=30, title_x=.5)\n",
    "fig.show()"
   ]
  },
  {
   "attachments": {},
   "cell_type": "markdown",
   "metadata": {},
   "source": [
    "<h3>PCA uygulanabilir mi?</h3>  \n",
    "\n",
    "PCA Yüksek korelasyonlu değişkenleri daha az değişkenlere indirgemek için kullanılan bir tekniktir.  \n",
    "\n",
    "$$ X^{2}_{Hesap} = -[(n-1)-\\frac{1}{6}(2p+5)]ln(\\mid R \\mid)$$  \n",
    "\n",
    "$$ X^{2}_{Tablo} = X^{2}_{\\alpha;\\frac{p(p-1)}{2}} $$  \n",
    "\n",
    "<p align=\"center\">\n",
    "(p: Değişken Sayısı)  \n",
    "\n",
    "$H_0:$ Değişkenler arası ilişki istatistiksel olarak anlamsızdır.  \n",
    "$H_1:$ Değişkenler arası ilişki istatistiksel olarak anlamlıdır.  \n",
    "</p>\n",
    "\n",
    "Eğer $X^2_{Hesap}$ değeri $X^2_{Tablo}$ değerinden büyük çıkarsa yokluk hipotezi reddedilir ve PCA yapılabilir şeklinde yorumlanabilir."
   ]
  },
  {
   "cell_type": "code",
   "execution_count": 12,
   "metadata": {},
   "outputs": [
    {
     "data": {
      "text/plain": [
       "10237.206399825174"
      ]
     },
     "execution_count": 12,
     "metadata": {},
     "output_type": "execute_result"
    }
   ],
   "source": [
    "import math\n",
    "\n",
    "R = highly_df.corr().values\n",
    "R_det = np.linalg.det(np.array(R))\n",
    "\n",
    "chi_H = -(((len(df)-1) - 1/6*(2*(len(df.columns)+5)))*math.log(R_det))\n",
    "chi_H"
   ]
  },
  {
   "attachments": {},
   "cell_type": "markdown",
   "metadata": {},
   "source": [
    "$\\alpha=0.05$  \n",
    "Serbestlik derecesi: Değişken sayısı - 1 = 14(14-1)/2 = 91  \n",
    "$X^2_{Tablo}=X^2_{0.05;91} = 122.43$  \n",
    "\n",
    "$X^2_{Hesap} > X^2_{Tablo}$ için $H_0$ reddedilir. %95 Güvenle söylenebilir ki PCA yapılabilir.   "
   ]
  },
  {
   "attachments": {},
   "cell_type": "markdown",
   "metadata": {},
   "source": [
    "### Principal Component Analysis (PCA)  \n",
    "1. Component Score Matrix ($\\lambda$)"
   ]
  },
  {
   "cell_type": "code",
   "execution_count": 13,
   "metadata": {},
   "outputs": [
    {
     "data": {
      "text/html": [
       "<div>\n",
       "<style scoped>\n",
       "    .dataframe tbody tr th:only-of-type {\n",
       "        vertical-align: middle;\n",
       "    }\n",
       "\n",
       "    .dataframe tbody tr th {\n",
       "        vertical-align: top;\n",
       "    }\n",
       "\n",
       "    .dataframe thead th {\n",
       "        text-align: right;\n",
       "    }\n",
       "</style>\n",
       "<table border=\"1\" class=\"dataframe\">\n",
       "  <thead>\n",
       "    <tr style=\"text-align: right;\">\n",
       "      <th></th>\n",
       "      <th>0</th>\n",
       "      <th>1</th>\n",
       "      <th>2</th>\n",
       "      <th>3</th>\n",
       "      <th>4</th>\n",
       "      <th>5</th>\n",
       "    </tr>\n",
       "  </thead>\n",
       "  <tbody>\n",
       "    <tr>\n",
       "      <th>0</th>\n",
       "      <td>5.906544</td>\n",
       "      <td>0.045868</td>\n",
       "      <td>0.033359</td>\n",
       "      <td>0.008437</td>\n",
       "      <td>0.00356</td>\n",
       "      <td>0.002232</td>\n",
       "    </tr>\n",
       "  </tbody>\n",
       "</table>\n",
       "</div>"
      ],
      "text/plain": [
       "          0         1         2         3        4         5\n",
       "0  5.906544  0.045868  0.033359  0.008437  0.00356  0.002232"
      ]
     },
     "execution_count": 13,
     "metadata": {},
     "output_type": "execute_result"
    }
   ],
   "source": [
    "from numpy import linalg as LA\n",
    "\n",
    "lambdas, T = LA.eig(np.array(R))\n",
    "pd.DataFrame(lambdas).T"
   ]
  },
  {
   "attachments": {},
   "cell_type": "markdown",
   "metadata": {},
   "source": [
    "$\\lambda_i > 1.0$ için önemli boyut sayısı 1'dir.  \n",
    "\n",
    "2. Eigen Vectors (T)"
   ]
  },
  {
   "cell_type": "code",
   "execution_count": 14,
   "metadata": {},
   "outputs": [
    {
     "data": {
      "text/html": [
       "<div>\n",
       "<style scoped>\n",
       "    .dataframe tbody tr th:only-of-type {\n",
       "        vertical-align: middle;\n",
       "    }\n",
       "\n",
       "    .dataframe tbody tr th {\n",
       "        vertical-align: top;\n",
       "    }\n",
       "\n",
       "    .dataframe thead th {\n",
       "        text-align: right;\n",
       "    }\n",
       "</style>\n",
       "<table border=\"1\" class=\"dataframe\">\n",
       "  <thead>\n",
       "    <tr style=\"text-align: right;\">\n",
       "      <th></th>\n",
       "      <th>0</th>\n",
       "      <th>1</th>\n",
       "      <th>2</th>\n",
       "      <th>3</th>\n",
       "      <th>4</th>\n",
       "      <th>5</th>\n",
       "    </tr>\n",
       "  </thead>\n",
       "  <tbody>\n",
       "    <tr>\n",
       "      <th>0</th>\n",
       "      <td>0.407667</td>\n",
       "      <td>0.559492</td>\n",
       "      <td>0.058851</td>\n",
       "      <td>0.651757</td>\n",
       "      <td>-0.292396</td>\n",
       "      <td>0.083847</td>\n",
       "    </tr>\n",
       "    <tr>\n",
       "      <th>1</th>\n",
       "      <td>0.406718</td>\n",
       "      <td>0.156642</td>\n",
       "      <td>0.775369</td>\n",
       "      <td>-0.456811</td>\n",
       "      <td>0.000873</td>\n",
       "      <td>-0.013019</td>\n",
       "    </tr>\n",
       "    <tr>\n",
       "      <th>2</th>\n",
       "      <td>0.408663</td>\n",
       "      <td>0.356305</td>\n",
       "      <td>-0.417937</td>\n",
       "      <td>-0.211556</td>\n",
       "      <td>0.588435</td>\n",
       "      <td>-0.374643</td>\n",
       "    </tr>\n",
       "    <tr>\n",
       "      <th>3</th>\n",
       "      <td>0.409805</td>\n",
       "      <td>-0.055107</td>\n",
       "      <td>-0.407303</td>\n",
       "      <td>-0.365460</td>\n",
       "      <td>-0.232987</td>\n",
       "      <td>0.689408</td>\n",
       "    </tr>\n",
       "    <tr>\n",
       "      <th>4</th>\n",
       "      <td>0.409242</td>\n",
       "      <td>-0.418824</td>\n",
       "      <td>-0.167109</td>\n",
       "      <td>-0.047332</td>\n",
       "      <td>-0.536862</td>\n",
       "      <td>-0.581997</td>\n",
       "    </tr>\n",
       "    <tr>\n",
       "      <th>5</th>\n",
       "      <td>0.407386</td>\n",
       "      <td>-0.597518</td>\n",
       "      <td>0.163850</td>\n",
       "      <td>0.431253</td>\n",
       "      <td>0.475125</td>\n",
       "      <td>0.196058</td>\n",
       "    </tr>\n",
       "  </tbody>\n",
       "</table>\n",
       "</div>"
      ],
      "text/plain": [
       "          0         1         2         3         4         5\n",
       "0  0.407667  0.559492  0.058851  0.651757 -0.292396  0.083847\n",
       "1  0.406718  0.156642  0.775369 -0.456811  0.000873 -0.013019\n",
       "2  0.408663  0.356305 -0.417937 -0.211556  0.588435 -0.374643\n",
       "3  0.409805 -0.055107 -0.407303 -0.365460 -0.232987  0.689408\n",
       "4  0.409242 -0.418824 -0.167109 -0.047332 -0.536862 -0.581997\n",
       "5  0.407386 -0.597518  0.163850  0.431253  0.475125  0.196058"
      ]
     },
     "execution_count": 14,
     "metadata": {},
     "output_type": "execute_result"
    }
   ],
   "source": [
    "T = pd.DataFrame(T)\n",
    "T"
   ]
  },
  {
   "attachments": {},
   "cell_type": "markdown",
   "metadata": {},
   "source": [
    "3. Component Matrix (V):  \n",
    "\n",
    "$V_i = \\sqrt{\\lambda_i}\\cdot T_i$"
   ]
  },
  {
   "cell_type": "code",
   "execution_count": 15,
   "metadata": {},
   "outputs": [
    {
     "data": {
      "text/html": [
       "<div>\n",
       "<style scoped>\n",
       "    .dataframe tbody tr th:only-of-type {\n",
       "        vertical-align: middle;\n",
       "    }\n",
       "\n",
       "    .dataframe tbody tr th {\n",
       "        vertical-align: top;\n",
       "    }\n",
       "\n",
       "    .dataframe thead th {\n",
       "        text-align: right;\n",
       "    }\n",
       "</style>\n",
       "<table border=\"1\" class=\"dataframe\">\n",
       "  <thead>\n",
       "    <tr style=\"text-align: right;\">\n",
       "      <th></th>\n",
       "      <th>V1</th>\n",
       "      <th>V2</th>\n",
       "      <th>V3</th>\n",
       "      <th>V4</th>\n",
       "      <th>V5</th>\n",
       "      <th>V6</th>\n",
       "    </tr>\n",
       "  </thead>\n",
       "  <tbody>\n",
       "    <tr>\n",
       "      <th>0</th>\n",
       "      <td>0.990769</td>\n",
       "      <td>0.119825</td>\n",
       "      <td>0.010749</td>\n",
       "      <td>0.059867</td>\n",
       "      <td>-0.017447</td>\n",
       "      <td>0.003961</td>\n",
       "    </tr>\n",
       "    <tr>\n",
       "      <th>1</th>\n",
       "      <td>0.988463</td>\n",
       "      <td>0.033548</td>\n",
       "      <td>0.141617</td>\n",
       "      <td>-0.041960</td>\n",
       "      <td>0.000052</td>\n",
       "      <td>-0.000615</td>\n",
       "    </tr>\n",
       "    <tr>\n",
       "      <th>2</th>\n",
       "      <td>0.993190</td>\n",
       "      <td>0.076309</td>\n",
       "      <td>-0.076334</td>\n",
       "      <td>-0.019432</td>\n",
       "      <td>0.035111</td>\n",
       "      <td>-0.017699</td>\n",
       "    </tr>\n",
       "    <tr>\n",
       "      <th>3</th>\n",
       "      <td>0.995965</td>\n",
       "      <td>-0.011802</td>\n",
       "      <td>-0.074392</td>\n",
       "      <td>-0.033569</td>\n",
       "      <td>-0.013902</td>\n",
       "      <td>0.032568</td>\n",
       "    </tr>\n",
       "    <tr>\n",
       "      <th>4</th>\n",
       "      <td>0.994596</td>\n",
       "      <td>-0.089699</td>\n",
       "      <td>-0.030522</td>\n",
       "      <td>-0.004348</td>\n",
       "      <td>-0.032034</td>\n",
       "      <td>-0.027494</td>\n",
       "    </tr>\n",
       "    <tr>\n",
       "      <th>5</th>\n",
       "      <td>0.990086</td>\n",
       "      <td>-0.127969</td>\n",
       "      <td>0.029926</td>\n",
       "      <td>0.039612</td>\n",
       "      <td>0.028350</td>\n",
       "      <td>0.009262</td>\n",
       "    </tr>\n",
       "  </tbody>\n",
       "</table>\n",
       "</div>"
      ],
      "text/plain": [
       "         V1        V2        V3        V4        V5        V6\n",
       "0  0.990769  0.119825  0.010749  0.059867 -0.017447  0.003961\n",
       "1  0.988463  0.033548  0.141617 -0.041960  0.000052 -0.000615\n",
       "2  0.993190  0.076309 -0.076334 -0.019432  0.035111 -0.017699\n",
       "3  0.995965 -0.011802 -0.074392 -0.033569 -0.013902  0.032568\n",
       "4  0.994596 -0.089699 -0.030522 -0.004348 -0.032034 -0.027494\n",
       "5  0.990086 -0.127969  0.029926  0.039612  0.028350  0.009262"
      ]
     },
     "execution_count": 15,
     "metadata": {},
     "output_type": "execute_result"
    }
   ],
   "source": [
    "V = pd.DataFrame()\n",
    "for i in T:\n",
    "    V[f\"V{i+1}\"] = np.sqrt(lambdas[i])*T[i]\n",
    "V"
   ]
  },
  {
   "attachments": {},
   "cell_type": "markdown",
   "metadata": {},
   "source": [
    "* Temel bileşen matrisi (component matrix) mutlak değerce yorumlanmalıdır.  \n",
    "* Önemli bileşen sayısı kadar en iyi vektör seçilir. En iyi vektörden kasıt değişkenlerimizi en çok açıklayabilen vektördür."
   ]
  },
  {
   "cell_type": "code",
   "execution_count": 16,
   "metadata": {},
   "outputs": [
    {
     "data": {
      "text/html": [
       "<div>\n",
       "<style scoped>\n",
       "    .dataframe tbody tr th:only-of-type {\n",
       "        vertical-align: middle;\n",
       "    }\n",
       "\n",
       "    .dataframe tbody tr th {\n",
       "        vertical-align: top;\n",
       "    }\n",
       "\n",
       "    .dataframe thead th {\n",
       "        text-align: right;\n",
       "    }\n",
       "</style>\n",
       "<table border=\"1\" class=\"dataframe\">\n",
       "  <thead>\n",
       "    <tr style=\"text-align: right;\">\n",
       "      <th></th>\n",
       "      <th>V1</th>\n",
       "      <th>V2</th>\n",
       "      <th>V3</th>\n",
       "      <th>V4</th>\n",
       "      <th>V5</th>\n",
       "      <th>V6</th>\n",
       "    </tr>\n",
       "  </thead>\n",
       "  <tbody>\n",
       "    <tr>\n",
       "      <th>0</th>\n",
       "      <td>0.99</td>\n",
       "      <td>0.08</td>\n",
       "      <td>0.06</td>\n",
       "      <td>0.03</td>\n",
       "      <td>0.02</td>\n",
       "      <td>0.02</td>\n",
       "    </tr>\n",
       "  </tbody>\n",
       "</table>\n",
       "</div>"
      ],
      "text/plain": [
       "     V1    V2    V3    V4    V5    V6\n",
       "0  0.99  0.08  0.06  0.03  0.02  0.02"
      ]
     },
     "execution_count": 16,
     "metadata": {},
     "output_type": "execute_result"
    }
   ],
   "source": [
    "V = V.abs()\n",
    "pd.DataFrame(np.round(V.mean(),2)).T"
   ]
  },
  {
   "attachments": {},
   "cell_type": "markdown",
   "metadata": {},
   "source": [
    "V1 vektörü veri setimizi %99 oranında temsil edebiliyormuş. Bu çok iyi bir yüzde. Bu demektir ki birbiri ile yüksek koreleye sahip bu veri setini tek bir değişkene indirgeyebiliriz ve bu tek değişken orjinal veri setindeki değişimin %99'unu açıklayabiliyor."
   ]
  },
  {
   "cell_type": "code",
   "execution_count": 17,
   "metadata": {},
   "outputs": [
    {
     "data": {
      "text/html": [
       "<div>\n",
       "<style scoped>\n",
       "    .dataframe tbody tr th:only-of-type {\n",
       "        vertical-align: middle;\n",
       "    }\n",
       "\n",
       "    .dataframe tbody tr th {\n",
       "        vertical-align: top;\n",
       "    }\n",
       "\n",
       "    .dataframe thead th {\n",
       "        text-align: right;\n",
       "    }\n",
       "</style>\n",
       "<table border=\"1\" class=\"dataframe\">\n",
       "  <thead>\n",
       "    <tr style=\"text-align: right;\">\n",
       "      <th></th>\n",
       "      <th>0</th>\n",
       "      <th>1</th>\n",
       "      <th>2</th>\n",
       "      <th>3</th>\n",
       "      <th>4</th>\n",
       "      <th>5</th>\n",
       "    </tr>\n",
       "  </thead>\n",
       "  <tbody>\n",
       "    <tr>\n",
       "      <th>V1</th>\n",
       "      <td>0.990769</td>\n",
       "      <td>0.988463</td>\n",
       "      <td>0.99319</td>\n",
       "      <td>0.995965</td>\n",
       "      <td>0.994596</td>\n",
       "      <td>0.990086</td>\n",
       "    </tr>\n",
       "  </tbody>\n",
       "</table>\n",
       "</div>"
      ],
      "text/plain": [
       "           0         1        2         3         4         5\n",
       "V1  0.990769  0.988463  0.99319  0.995965  0.994596  0.990086"
      ]
     },
     "execution_count": 17,
     "metadata": {},
     "output_type": "execute_result"
    }
   ],
   "source": [
    "v1 = V.iloc[:,0]\n",
    "pd.DataFrame(v1).T"
   ]
  },
  {
   "attachments": {},
   "cell_type": "markdown",
   "metadata": {},
   "source": [
    "4. Cumulanities (W)  \n",
    "$W = V_{ij}^2$"
   ]
  },
  {
   "cell_type": "code",
   "execution_count": 18,
   "metadata": {},
   "outputs": [
    {
     "data": {
      "text/html": [
       "<div>\n",
       "<style scoped>\n",
       "    .dataframe tbody tr th:only-of-type {\n",
       "        vertical-align: middle;\n",
       "    }\n",
       "\n",
       "    .dataframe tbody tr th {\n",
       "        vertical-align: top;\n",
       "    }\n",
       "\n",
       "    .dataframe thead th {\n",
       "        text-align: right;\n",
       "    }\n",
       "</style>\n",
       "<table border=\"1\" class=\"dataframe\">\n",
       "  <thead>\n",
       "    <tr style=\"text-align: right;\">\n",
       "      <th></th>\n",
       "      <th>V1</th>\n",
       "      <th>V2</th>\n",
       "      <th>V3</th>\n",
       "      <th>V4</th>\n",
       "      <th>V5</th>\n",
       "      <th>V6</th>\n",
       "    </tr>\n",
       "  </thead>\n",
       "  <tbody>\n",
       "    <tr>\n",
       "      <th>0</th>\n",
       "      <td>0.981622</td>\n",
       "      <td>0.014358</td>\n",
       "      <td>0.000116</td>\n",
       "      <td>0.003584</td>\n",
       "      <td>3.043916e-04</td>\n",
       "      <td>1.568987e-05</td>\n",
       "    </tr>\n",
       "    <tr>\n",
       "      <th>1</th>\n",
       "      <td>0.977058</td>\n",
       "      <td>0.001125</td>\n",
       "      <td>0.020055</td>\n",
       "      <td>0.001761</td>\n",
       "      <td>2.711281e-09</td>\n",
       "      <td>3.782879e-07</td>\n",
       "    </tr>\n",
       "    <tr>\n",
       "      <th>2</th>\n",
       "      <td>0.986426</td>\n",
       "      <td>0.005823</td>\n",
       "      <td>0.005827</td>\n",
       "      <td>0.000378</td>\n",
       "      <td>1.232780e-03</td>\n",
       "      <td>3.132406e-04</td>\n",
       "    </tr>\n",
       "    <tr>\n",
       "      <th>3</th>\n",
       "      <td>0.991946</td>\n",
       "      <td>0.000139</td>\n",
       "      <td>0.005534</td>\n",
       "      <td>0.001127</td>\n",
       "      <td>1.932649e-04</td>\n",
       "      <td>1.060707e-03</td>\n",
       "    </tr>\n",
       "    <tr>\n",
       "      <th>4</th>\n",
       "      <td>0.989222</td>\n",
       "      <td>0.008046</td>\n",
       "      <td>0.000932</td>\n",
       "      <td>0.000019</td>\n",
       "      <td>1.026156e-03</td>\n",
       "      <td>7.559361e-04</td>\n",
       "    </tr>\n",
       "    <tr>\n",
       "      <th>5</th>\n",
       "      <td>0.980270</td>\n",
       "      <td>0.016376</td>\n",
       "      <td>0.000896</td>\n",
       "      <td>0.001569</td>\n",
       "      <td>8.037191e-04</td>\n",
       "      <td>8.578524e-05</td>\n",
       "    </tr>\n",
       "  </tbody>\n",
       "</table>\n",
       "</div>"
      ],
      "text/plain": [
       "         V1        V2        V3        V4            V5            V6\n",
       "0  0.981622  0.014358  0.000116  0.003584  3.043916e-04  1.568987e-05\n",
       "1  0.977058  0.001125  0.020055  0.001761  2.711281e-09  3.782879e-07\n",
       "2  0.986426  0.005823  0.005827  0.000378  1.232780e-03  3.132406e-04\n",
       "3  0.991946  0.000139  0.005534  0.001127  1.932649e-04  1.060707e-03\n",
       "4  0.989222  0.008046  0.000932  0.000019  1.026156e-03  7.559361e-04\n",
       "5  0.980270  0.016376  0.000896  0.001569  8.037191e-04  8.578524e-05"
      ]
     },
     "execution_count": 18,
     "metadata": {},
     "output_type": "execute_result"
    }
   ],
   "source": [
    "W = V**2\n",
    "W"
   ]
  },
  {
   "attachments": {},
   "cell_type": "markdown",
   "metadata": {},
   "source": [
    "Yukarıdaki formülden Component Matrix ‘in (V)her bir değişkeninin karesi alınarak bulunur.\n",
    "\n",
    "* Sütun toplamının değişken sayısına bölümü temel bileşenlerin değişkenlerdeki toplam değişimin açıklanma oranını söyler.\n",
    "* Satır toplamının değişken sayısına bölümü ise, temel bileşenlerin değişkenleri açıklama oranını verir.  \n",
    "\n",
    "Örneğin W matrisinin 1. satır toplamı, temel bileşenlerin tüm veri setinin % kaçını açıklıyor bunu gösterirken sütun toplamı ise temel bileşenlerin, değişkenlerin toplam değişiminin % kaçını açıklıyor bunu gösterir."
   ]
  },
  {
   "attachments": {},
   "cell_type": "markdown",
   "metadata": {},
   "source": [
    "Biz önceki kısımda V1 i veri setimizi en iyi temsil edebilecek temel bileşen vektörü olarak seçmiştik, o zaman V1 sütunun toplamını p ‘ye (değişken sayısı) bölümü bize temel bileşenlerimizin toplam değişiminin % kaçını açıkladığını gösterir:  "
   ]
  },
  {
   "cell_type": "code",
   "execution_count": 19,
   "metadata": {},
   "outputs": [
    {
     "data": {
      "text/plain": [
       "0.9844239487293677"
      ]
     },
     "execution_count": 19,
     "metadata": {},
     "output_type": "execute_result"
    }
   ],
   "source": [
    "W['V1'].sum()/len(W.columns)"
   ]
  },
  {
   "attachments": {},
   "cell_type": "markdown",
   "metadata": {},
   "source": [
    "Bu kısımda söyleyebiliriz ki V1 vektörünün temel bileşenleri bizim veri setimizdeki değişkenlerin toplam değişiminin %98.44 ‘sini açıklayabiliyor."
   ]
  },
  {
   "attachments": {},
   "cell_type": "markdown",
   "metadata": {},
   "source": [
    "5. Temel Bileşenlerin Veri Setine Uyarlanması (Y):  \n",
    "\n",
    "$T_1:$ Önemli temel bileşen vektörünün veri setindeki 1. değişkeni temsil eden 1. değer.  \n",
    "$Z_1:$ 1. Sütundaki verilerin standartlaştırılmış hali.  \n",
    "\n",
    "$Y = \\sum{T_i Z_i}$"
   ]
  },
  {
   "attachments": {},
   "cell_type": "markdown",
   "metadata": {},
   "source": [
    "Yukarıdaki formülde verildiği gibi her bir sütundaki standartlaştırılmış veriyi seçtiğimiz öz vektörün o sütuna denk gelen indexi ile çarpalım.  \n",
    "Yani eğer önemli temel bileşen sayımızı 1 adet seçtiysek, öz vektörümüzün 1. vektörünün 1. değerini `conventional_gasoline_spot_price` değişkeni ile çarpalım.  \n"
   ]
  },
  {
   "cell_type": "code",
   "execution_count": 20,
   "metadata": {},
   "outputs": [
    {
     "data": {
      "text/html": [
       "<div>\n",
       "<style scoped>\n",
       "    .dataframe tbody tr th:only-of-type {\n",
       "        vertical-align: middle;\n",
       "    }\n",
       "\n",
       "    .dataframe tbody tr th {\n",
       "        vertical-align: top;\n",
       "    }\n",
       "\n",
       "    .dataframe thead th {\n",
       "        text-align: right;\n",
       "    }\n",
       "</style>\n",
       "<table border=\"1\" class=\"dataframe\">\n",
       "  <thead>\n",
       "    <tr style=\"text-align: right;\">\n",
       "      <th></th>\n",
       "      <th>0</th>\n",
       "      <th>1</th>\n",
       "      <th>2</th>\n",
       "      <th>3</th>\n",
       "      <th>4</th>\n",
       "      <th>5</th>\n",
       "    </tr>\n",
       "  </thead>\n",
       "  <tbody>\n",
       "    <tr>\n",
       "      <th>0</th>\n",
       "      <td>0.407667</td>\n",
       "      <td>0.559492</td>\n",
       "      <td>0.058851</td>\n",
       "      <td>0.651757</td>\n",
       "      <td>-0.292396</td>\n",
       "      <td>0.083847</td>\n",
       "    </tr>\n",
       "    <tr>\n",
       "      <th>1</th>\n",
       "      <td>0.406718</td>\n",
       "      <td>0.156642</td>\n",
       "      <td>0.775369</td>\n",
       "      <td>-0.456811</td>\n",
       "      <td>0.000873</td>\n",
       "      <td>-0.013019</td>\n",
       "    </tr>\n",
       "    <tr>\n",
       "      <th>2</th>\n",
       "      <td>0.408663</td>\n",
       "      <td>0.356305</td>\n",
       "      <td>-0.417937</td>\n",
       "      <td>-0.211556</td>\n",
       "      <td>0.588435</td>\n",
       "      <td>-0.374643</td>\n",
       "    </tr>\n",
       "    <tr>\n",
       "      <th>3</th>\n",
       "      <td>0.409805</td>\n",
       "      <td>-0.055107</td>\n",
       "      <td>-0.407303</td>\n",
       "      <td>-0.365460</td>\n",
       "      <td>-0.232987</td>\n",
       "      <td>0.689408</td>\n",
       "    </tr>\n",
       "    <tr>\n",
       "      <th>4</th>\n",
       "      <td>0.409242</td>\n",
       "      <td>-0.418824</td>\n",
       "      <td>-0.167109</td>\n",
       "      <td>-0.047332</td>\n",
       "      <td>-0.536862</td>\n",
       "      <td>-0.581997</td>\n",
       "    </tr>\n",
       "    <tr>\n",
       "      <th>5</th>\n",
       "      <td>0.407386</td>\n",
       "      <td>-0.597518</td>\n",
       "      <td>0.163850</td>\n",
       "      <td>0.431253</td>\n",
       "      <td>0.475125</td>\n",
       "      <td>0.196058</td>\n",
       "    </tr>\n",
       "  </tbody>\n",
       "</table>\n",
       "</div>"
      ],
      "text/plain": [
       "          0         1         2         3         4         5\n",
       "0  0.407667  0.559492  0.058851  0.651757 -0.292396  0.083847\n",
       "1  0.406718  0.156642  0.775369 -0.456811  0.000873 -0.013019\n",
       "2  0.408663  0.356305 -0.417937 -0.211556  0.588435 -0.374643\n",
       "3  0.409805 -0.055107 -0.407303 -0.365460 -0.232987  0.689408\n",
       "4  0.409242 -0.418824 -0.167109 -0.047332 -0.536862 -0.581997\n",
       "5  0.407386 -0.597518  0.163850  0.431253  0.475125  0.196058"
      ]
     },
     "execution_count": 20,
     "metadata": {},
     "output_type": "execute_result"
    }
   ],
   "source": [
    "T"
   ]
  },
  {
   "cell_type": "code",
   "execution_count": 21,
   "metadata": {},
   "outputs": [
    {
     "data": {
      "text/plain": [
       "0    0.407667\n",
       "1    0.406718\n",
       "2    0.408663\n",
       "3    0.409805\n",
       "4    0.409242\n",
       "5    0.407386\n",
       "Name: 0, dtype: float64"
      ]
     },
     "execution_count": 21,
     "metadata": {},
     "output_type": "execute_result"
    }
   ],
   "source": [
    "T[0]"
   ]
  },
  {
   "cell_type": "code",
   "execution_count": 22,
   "metadata": {},
   "outputs": [
    {
     "data": {
      "text/plain": [
       "0"
      ]
     },
     "execution_count": 22,
     "metadata": {},
     "output_type": "execute_result"
    }
   ],
   "source": [
    "highly_df.columns.get_loc('conventional_gasoline_spot_price')"
   ]
  },
  {
   "cell_type": "code",
   "execution_count": 23,
   "metadata": {},
   "outputs": [
    {
     "data": {
      "text/plain": [
       "0.40766694089861916"
      ]
     },
     "execution_count": 23,
     "metadata": {},
     "output_type": "execute_result"
    }
   ],
   "source": [
    "T[0][0]"
   ]
  },
  {
   "cell_type": "code",
   "execution_count": 24,
   "metadata": {},
   "outputs": [
    {
     "data": {
      "text/html": [
       "<div>\n",
       "<style scoped>\n",
       "    .dataframe tbody tr th:only-of-type {\n",
       "        vertical-align: middle;\n",
       "    }\n",
       "\n",
       "    .dataframe tbody tr th {\n",
       "        vertical-align: top;\n",
       "    }\n",
       "\n",
       "    .dataframe thead th {\n",
       "        text-align: right;\n",
       "    }\n",
       "</style>\n",
       "<table border=\"1\" class=\"dataframe\">\n",
       "  <thead>\n",
       "    <tr style=\"text-align: right;\">\n",
       "      <th></th>\n",
       "      <th>conventional_gasoline_spot_price</th>\n",
       "    </tr>\n",
       "  </thead>\n",
       "  <tbody>\n",
       "    <tr>\n",
       "      <th>0</th>\n",
       "      <td>0.084170</td>\n",
       "    </tr>\n",
       "    <tr>\n",
       "      <th>1</th>\n",
       "      <td>-0.006790</td>\n",
       "    </tr>\n",
       "    <tr>\n",
       "      <th>2</th>\n",
       "      <td>-0.045773</td>\n",
       "    </tr>\n",
       "    <tr>\n",
       "      <th>3</th>\n",
       "      <td>0.038690</td>\n",
       "    </tr>\n",
       "    <tr>\n",
       "      <th>4</th>\n",
       "      <td>0.149142</td>\n",
       "    </tr>\n",
       "  </tbody>\n",
       "</table>\n",
       "</div>"
      ],
      "text/plain": [
       "   conventional_gasoline_spot_price\n",
       "0                          0.084170\n",
       "1                         -0.006790\n",
       "2                         -0.045773\n",
       "3                          0.038690\n",
       "4                          0.149142"
      ]
     },
     "execution_count": 24,
     "metadata": {},
     "output_type": "execute_result"
    }
   ],
   "source": [
    "highly_df[['conventional_gasoline_spot_price']].head()"
   ]
  },
  {
   "cell_type": "code",
   "execution_count": 25,
   "metadata": {},
   "outputs": [
    {
     "data": {
      "text/html": [
       "<div>\n",
       "<style scoped>\n",
       "    .dataframe tbody tr th:only-of-type {\n",
       "        vertical-align: middle;\n",
       "    }\n",
       "\n",
       "    .dataframe tbody tr th {\n",
       "        vertical-align: top;\n",
       "    }\n",
       "\n",
       "    .dataframe thead th {\n",
       "        text-align: right;\n",
       "    }\n",
       "</style>\n",
       "<table border=\"1\" class=\"dataframe\">\n",
       "  <thead>\n",
       "    <tr style=\"text-align: right;\">\n",
       "      <th></th>\n",
       "      <th>conventional_gasoline_spot_price</th>\n",
       "      <th>crude_brent_spot_price</th>\n",
       "      <th>gasoline_future_price1</th>\n",
       "      <th>gasoline_future_price2</th>\n",
       "      <th>gasoline_future_price3</th>\n",
       "      <th>gasoline_future_price4</th>\n",
       "    </tr>\n",
       "  </thead>\n",
       "  <tbody>\n",
       "    <tr>\n",
       "      <th>0</th>\n",
       "      <td>0.034313</td>\n",
       "      <td>0.059317</td>\n",
       "      <td>-0.009028</td>\n",
       "      <td>-0.015828</td>\n",
       "      <td>-0.005728</td>\n",
       "      <td>0.009942</td>\n",
       "    </tr>\n",
       "    <tr>\n",
       "      <th>1</th>\n",
       "      <td>-0.002768</td>\n",
       "      <td>0.034219</td>\n",
       "      <td>-0.049114</td>\n",
       "      <td>-0.052937</td>\n",
       "      <td>-0.040985</td>\n",
       "      <td>-0.023860</td>\n",
       "    </tr>\n",
       "    <tr>\n",
       "      <th>2</th>\n",
       "      <td>-0.018660</td>\n",
       "      <td>0.046469</td>\n",
       "      <td>-0.035537</td>\n",
       "      <td>-0.046973</td>\n",
       "      <td>-0.034883</td>\n",
       "      <td>-0.017651</td>\n",
       "    </tr>\n",
       "    <tr>\n",
       "      <th>3</th>\n",
       "      <td>0.015773</td>\n",
       "      <td>0.096515</td>\n",
       "      <td>-0.008382</td>\n",
       "      <td>0.004053</td>\n",
       "      <td>0.022749</td>\n",
       "      <td>0.042363</td>\n",
       "    </tr>\n",
       "    <tr>\n",
       "      <th>4</th>\n",
       "      <td>0.060800</td>\n",
       "      <td>0.123854</td>\n",
       "      <td>0.036230</td>\n",
       "      <td>0.033873</td>\n",
       "      <td>0.047836</td>\n",
       "      <td>0.065128</td>\n",
       "    </tr>\n",
       "  </tbody>\n",
       "</table>\n",
       "</div>"
      ],
      "text/plain": [
       "   conventional_gasoline_spot_price  crude_brent_spot_price  \\\n",
       "0                          0.034313                0.059317   \n",
       "1                         -0.002768                0.034219   \n",
       "2                         -0.018660                0.046469   \n",
       "3                          0.015773                0.096515   \n",
       "4                          0.060800                0.123854   \n",
       "\n",
       "   gasoline_future_price1  gasoline_future_price2  gasoline_future_price3  \\\n",
       "0               -0.009028               -0.015828               -0.005728   \n",
       "1               -0.049114               -0.052937               -0.040985   \n",
       "2               -0.035537               -0.046973               -0.034883   \n",
       "3               -0.008382                0.004053                0.022749   \n",
       "4                0.036230                0.033873                0.047836   \n",
       "\n",
       "   gasoline_future_price4  \n",
       "0                0.009942  \n",
       "1               -0.023860  \n",
       "2               -0.017651  \n",
       "3                0.042363  \n",
       "4                0.065128  "
      ]
     },
     "execution_count": 25,
     "metadata": {},
     "output_type": "execute_result"
    }
   ],
   "source": [
    "for col in highly_df.columns:\n",
    "    highly_df[col] = T[0][highly_df.columns.get_loc(col)]*highly_df[col]\n",
    "highly_df.head()"
   ]
  },
  {
   "attachments": {},
   "cell_type": "markdown",
   "metadata": {},
   "source": [
    "Bu çarpımlarımızın sonucunda her satırın sonucunu sütun bazlı toplayıp Y (PCA1) sütununa yazmalıyız."
   ]
  },
  {
   "cell_type": "code",
   "execution_count": 26,
   "metadata": {},
   "outputs": [
    {
     "data": {
      "text/html": [
       "<div>\n",
       "<style scoped>\n",
       "    .dataframe tbody tr th:only-of-type {\n",
       "        vertical-align: middle;\n",
       "    }\n",
       "\n",
       "    .dataframe tbody tr th {\n",
       "        vertical-align: top;\n",
       "    }\n",
       "\n",
       "    .dataframe thead th {\n",
       "        text-align: right;\n",
       "    }\n",
       "</style>\n",
       "<table border=\"1\" class=\"dataframe\">\n",
       "  <thead>\n",
       "    <tr style=\"text-align: right;\">\n",
       "      <th></th>\n",
       "      <th>conventional_gasoline_spot_price</th>\n",
       "      <th>crude_brent_spot_price</th>\n",
       "      <th>gasoline_future_price1</th>\n",
       "      <th>gasoline_future_price2</th>\n",
       "      <th>gasoline_future_price3</th>\n",
       "      <th>gasoline_future_price4</th>\n",
       "      <th>PCA1</th>\n",
       "    </tr>\n",
       "  </thead>\n",
       "  <tbody>\n",
       "    <tr>\n",
       "      <th>0</th>\n",
       "      <td>0.034313</td>\n",
       "      <td>0.059317</td>\n",
       "      <td>-0.009028</td>\n",
       "      <td>-0.015828</td>\n",
       "      <td>-0.005728</td>\n",
       "      <td>0.009942</td>\n",
       "      <td>0.072988</td>\n",
       "    </tr>\n",
       "    <tr>\n",
       "      <th>1</th>\n",
       "      <td>-0.002768</td>\n",
       "      <td>0.034219</td>\n",
       "      <td>-0.049114</td>\n",
       "      <td>-0.052937</td>\n",
       "      <td>-0.040985</td>\n",
       "      <td>-0.023860</td>\n",
       "      <td>-0.135445</td>\n",
       "    </tr>\n",
       "    <tr>\n",
       "      <th>2</th>\n",
       "      <td>-0.018660</td>\n",
       "      <td>0.046469</td>\n",
       "      <td>-0.035537</td>\n",
       "      <td>-0.046973</td>\n",
       "      <td>-0.034883</td>\n",
       "      <td>-0.017651</td>\n",
       "      <td>-0.107235</td>\n",
       "    </tr>\n",
       "    <tr>\n",
       "      <th>3</th>\n",
       "      <td>0.015773</td>\n",
       "      <td>0.096515</td>\n",
       "      <td>-0.008382</td>\n",
       "      <td>0.004053</td>\n",
       "      <td>0.022749</td>\n",
       "      <td>0.042363</td>\n",
       "      <td>0.173071</td>\n",
       "    </tr>\n",
       "    <tr>\n",
       "      <th>4</th>\n",
       "      <td>0.060800</td>\n",
       "      <td>0.123854</td>\n",
       "      <td>0.036230</td>\n",
       "      <td>0.033873</td>\n",
       "      <td>0.047836</td>\n",
       "      <td>0.065128</td>\n",
       "      <td>0.367720</td>\n",
       "    </tr>\n",
       "  </tbody>\n",
       "</table>\n",
       "</div>"
      ],
      "text/plain": [
       "   conventional_gasoline_spot_price  crude_brent_spot_price  \\\n",
       "0                          0.034313                0.059317   \n",
       "1                         -0.002768                0.034219   \n",
       "2                         -0.018660                0.046469   \n",
       "3                          0.015773                0.096515   \n",
       "4                          0.060800                0.123854   \n",
       "\n",
       "   gasoline_future_price1  gasoline_future_price2  gasoline_future_price3  \\\n",
       "0               -0.009028               -0.015828               -0.005728   \n",
       "1               -0.049114               -0.052937               -0.040985   \n",
       "2               -0.035537               -0.046973               -0.034883   \n",
       "3               -0.008382                0.004053                0.022749   \n",
       "4                0.036230                0.033873                0.047836   \n",
       "\n",
       "   gasoline_future_price4      PCA1  \n",
       "0                0.009942  0.072988  \n",
       "1               -0.023860 -0.135445  \n",
       "2               -0.017651 -0.107235  \n",
       "3                0.042363  0.173071  \n",
       "4                0.065128  0.367720  "
      ]
     },
     "execution_count": 26,
     "metadata": {},
     "output_type": "execute_result"
    }
   ],
   "source": [
    "highly_df['PCA1'] = highly_df.sum(axis=1)\n",
    "highly_df.head()"
   ]
  },
  {
   "cell_type": "code",
   "execution_count": 27,
   "metadata": {},
   "outputs": [
    {
     "data": {
      "text/html": [
       "<div>\n",
       "<style scoped>\n",
       "    .dataframe tbody tr th:only-of-type {\n",
       "        vertical-align: middle;\n",
       "    }\n",
       "\n",
       "    .dataframe tbody tr th {\n",
       "        vertical-align: top;\n",
       "    }\n",
       "\n",
       "    .dataframe thead th {\n",
       "        text-align: right;\n",
       "    }\n",
       "</style>\n",
       "<table border=\"1\" class=\"dataframe\">\n",
       "  <thead>\n",
       "    <tr style=\"text-align: right;\">\n",
       "      <th></th>\n",
       "      <th>PCA1</th>\n",
       "    </tr>\n",
       "  </thead>\n",
       "  <tbody>\n",
       "    <tr>\n",
       "      <th>0</th>\n",
       "      <td>0.072988</td>\n",
       "    </tr>\n",
       "    <tr>\n",
       "      <th>1</th>\n",
       "      <td>-0.135445</td>\n",
       "    </tr>\n",
       "    <tr>\n",
       "      <th>2</th>\n",
       "      <td>-0.107235</td>\n",
       "    </tr>\n",
       "    <tr>\n",
       "      <th>3</th>\n",
       "      <td>0.173071</td>\n",
       "    </tr>\n",
       "    <tr>\n",
       "      <th>4</th>\n",
       "      <td>0.367720</td>\n",
       "    </tr>\n",
       "  </tbody>\n",
       "</table>\n",
       "</div>"
      ],
      "text/plain": [
       "       PCA1\n",
       "0  0.072988\n",
       "1 -0.135445\n",
       "2 -0.107235\n",
       "3  0.173071\n",
       "4  0.367720"
      ]
     },
     "execution_count": 27,
     "metadata": {},
     "output_type": "execute_result"
    }
   ],
   "source": [
    "highly_df[['PCA1']].head()"
   ]
  },
  {
   "attachments": {},
   "cell_type": "markdown",
   "metadata": {},
   "source": [
    "### PCA Function"
   ]
  },
  {
   "cell_type": "code",
   "execution_count": 28,
   "metadata": {},
   "outputs": [],
   "source": [
    "highly_corr_cols = ['conventional_gasoline_spot_price',\n",
    "       'crude_brent_spot_price', 'gasoline_future_price1',\n",
    "       'gasoline_future_price2', 'gasoline_future_price3',\n",
    "       'gasoline_future_price4']"
   ]
  },
  {
   "cell_type": "code",
   "execution_count": 44,
   "metadata": {},
   "outputs": [],
   "source": [
    "def get_pca_n_components(df,highly_corr_cols, threshold):\n",
    "    # highly correlated columns\n",
    "    highly_df = df[highly_corr_cols].copy()\n",
    "    \n",
    "    for col in highly_df.columns:\n",
    "        highly_df[col] = (highly_df[col] - highly_df[col].mean())/highly_df[col].std()\n",
    "    \n",
    "    # correlation matrix\n",
    "    R = highly_df.corr().values\n",
    "    \n",
    "    # eigen vectors \n",
    "    lambdas, T = LA.eig(np.array(R))\n",
    "    T = pd.DataFrame(T)\n",
    "    \n",
    "    # component matrix\n",
    "    V = pd.DataFrame()\n",
    "    for i in T:\n",
    "        V[f\"V{i+1}\"] = np.sqrt(lambdas[i])*T[i]\n",
    "    V = V.abs()\n",
    "    \n",
    "    Thresholder = pd.DataFrame(np.round(V.mean(),2)).T\n",
    "    \n",
    "    threshold_value = 0\n",
    "    threshold_counter = 0\n",
    "    \n",
    "    for col in Thresholder:\n",
    "        if threshold_value > threshold:\n",
    "            break\n",
    "        else:\n",
    "            threshold_value += Thresholder[col].values[0]\n",
    "            threshold_counter += 1\n",
    "    \n",
    "    n_component = threshold_counter\n",
    "    \n",
    "    return V, T, threshold_counter, threshold_value"
   ]
  }
 ],
 "metadata": {
  "kernelspec": {
   "display_name": "Python 3",
   "language": "python",
   "name": "python3"
  },
  "language_info": {
   "codemirror_mode": {
    "name": "ipython",
    "version": 3
   },
   "file_extension": ".py",
   "mimetype": "text/x-python",
   "name": "python",
   "nbconvert_exporter": "python",
   "pygments_lexer": "ipython3",
   "version": "3.11.2"
  },
  "orig_nbformat": 4
 },
 "nbformat": 4,
 "nbformat_minor": 2
}
