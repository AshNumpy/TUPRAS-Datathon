{
 "cells": [
  {
   "cell_type": "code",
   "execution_count": 48,
   "metadata": {},
   "outputs": [],
   "source": [
    "import pandas as pd \n",
    "import numpy as np\n",
    "import plotly.express as px\n",
    "import datetime as dt"
   ]
  },
  {
   "cell_type": "code",
   "execution_count": 7,
   "metadata": {},
   "outputs": [
    {
     "data": {
      "text/html": [
       "<div>\n",
       "<style scoped>\n",
       "    .dataframe tbody tr th:only-of-type {\n",
       "        vertical-align: middle;\n",
       "    }\n",
       "\n",
       "    .dataframe tbody tr th {\n",
       "        vertical-align: top;\n",
       "    }\n",
       "\n",
       "    .dataframe thead th {\n",
       "        text-align: right;\n",
       "    }\n",
       "</style>\n",
       "<table border=\"1\" class=\"dataframe\">\n",
       "  <thead>\n",
       "    <tr style=\"text-align: right;\">\n",
       "      <th></th>\n",
       "      <th>period</th>\n",
       "      <th>gasoline_imports</th>\n",
       "      <th>gasoline_exports</th>\n",
       "      <th>crude_imports</th>\n",
       "      <th>crude_exports</th>\n",
       "      <th>gasoline_stocks</th>\n",
       "      <th>crude_stocks</th>\n",
       "      <th>distillate_fuel_stocks</th>\n",
       "      <th>jet_stocks</th>\n",
       "      <th>propane_stocks</th>\n",
       "      <th>...</th>\n",
       "      <th>jet_output</th>\n",
       "      <th>propane_output</th>\n",
       "      <th>residual_fuel_output</th>\n",
       "      <th>conventional_gasoline_spot_price</th>\n",
       "      <th>crude_brent_spot_price</th>\n",
       "      <th>gasoline_future_price1</th>\n",
       "      <th>gasoline_future_price2</th>\n",
       "      <th>gasoline_future_price3</th>\n",
       "      <th>gasoline_future_price4</th>\n",
       "      <th>gasoline_demand</th>\n",
       "    </tr>\n",
       "  </thead>\n",
       "  <tbody>\n",
       "    <tr>\n",
       "      <th>0</th>\n",
       "      <td>2010-10-15</td>\n",
       "      <td>779</td>\n",
       "      <td>200</td>\n",
       "      <td>8600</td>\n",
       "      <td>33</td>\n",
       "      <td>219329</td>\n",
       "      <td>1066948</td>\n",
       "      <td>170055</td>\n",
       "      <td>47088</td>\n",
       "      <td>63549</td>\n",
       "      <td>...</td>\n",
       "      <td>1296</td>\n",
       "      <td>1044</td>\n",
       "      <td>414</td>\n",
       "      <td>2.202</td>\n",
       "      <td>83.11</td>\n",
       "      <td>2.139</td>\n",
       "      <td>2.119</td>\n",
       "      <td>2.128</td>\n",
       "      <td>2.146</td>\n",
       "      <td>9460</td>\n",
       "    </tr>\n",
       "    <tr>\n",
       "      <th>1</th>\n",
       "      <td>2010-10-22</td>\n",
       "      <td>999</td>\n",
       "      <td>200</td>\n",
       "      <td>9463</td>\n",
       "      <td>33</td>\n",
       "      <td>214942</td>\n",
       "      <td>1071996</td>\n",
       "      <td>168442</td>\n",
       "      <td>46829</td>\n",
       "      <td>64284</td>\n",
       "      <td>...</td>\n",
       "      <td>1345</td>\n",
       "      <td>1021</td>\n",
       "      <td>473</td>\n",
       "      <td>2.146</td>\n",
       "      <td>81.43</td>\n",
       "      <td>2.077</td>\n",
       "      <td>2.063</td>\n",
       "      <td>2.076</td>\n",
       "      <td>2.097</td>\n",
       "      <td>10639</td>\n",
       "    </tr>\n",
       "    <tr>\n",
       "      <th>2</th>\n",
       "      <td>2010-10-29</td>\n",
       "      <td>871</td>\n",
       "      <td>200</td>\n",
       "      <td>8578</td>\n",
       "      <td>33</td>\n",
       "      <td>212253</td>\n",
       "      <td>1073946</td>\n",
       "      <td>164874</td>\n",
       "      <td>45830</td>\n",
       "      <td>64469</td>\n",
       "      <td>...</td>\n",
       "      <td>1309</td>\n",
       "      <td>1032</td>\n",
       "      <td>401</td>\n",
       "      <td>2.122</td>\n",
       "      <td>82.25</td>\n",
       "      <td>2.098</td>\n",
       "      <td>2.072</td>\n",
       "      <td>2.085</td>\n",
       "      <td>2.106</td>\n",
       "      <td>10036</td>\n",
       "    </tr>\n",
       "    <tr>\n",
       "      <th>3</th>\n",
       "      <td>2010-11-05</td>\n",
       "      <td>802</td>\n",
       "      <td>200</td>\n",
       "      <td>8089</td>\n",
       "      <td>33</td>\n",
       "      <td>210336</td>\n",
       "      <td>1070399</td>\n",
       "      <td>159902</td>\n",
       "      <td>45940</td>\n",
       "      <td>63833</td>\n",
       "      <td>...</td>\n",
       "      <td>1339</td>\n",
       "      <td>1004</td>\n",
       "      <td>464</td>\n",
       "      <td>2.174</td>\n",
       "      <td>85.60</td>\n",
       "      <td>2.140</td>\n",
       "      <td>2.149</td>\n",
       "      <td>2.170</td>\n",
       "      <td>2.193</td>\n",
       "      <td>9886</td>\n",
       "    </tr>\n",
       "    <tr>\n",
       "      <th>4</th>\n",
       "      <td>2010-11-12</td>\n",
       "      <td>562</td>\n",
       "      <td>167</td>\n",
       "      <td>7864</td>\n",
       "      <td>34</td>\n",
       "      <td>207679</td>\n",
       "      <td>1063113</td>\n",
       "      <td>158792</td>\n",
       "      <td>44817</td>\n",
       "      <td>64776</td>\n",
       "      <td>...</td>\n",
       "      <td>1374</td>\n",
       "      <td>1006</td>\n",
       "      <td>417</td>\n",
       "      <td>2.242</td>\n",
       "      <td>87.43</td>\n",
       "      <td>2.209</td>\n",
       "      <td>2.194</td>\n",
       "      <td>2.207</td>\n",
       "      <td>2.226</td>\n",
       "      <td>9706</td>\n",
       "    </tr>\n",
       "  </tbody>\n",
       "</table>\n",
       "<p>5 rows × 23 columns</p>\n",
       "</div>"
      ],
      "text/plain": [
       "      period  gasoline_imports  gasoline_exports  crude_imports  \\\n",
       "0 2010-10-15               779               200           8600   \n",
       "1 2010-10-22               999               200           9463   \n",
       "2 2010-10-29               871               200           8578   \n",
       "3 2010-11-05               802               200           8089   \n",
       "4 2010-11-12               562               167           7864   \n",
       "\n",
       "   crude_exports  gasoline_stocks  crude_stocks  distillate_fuel_stocks  \\\n",
       "0             33           219329       1066948                  170055   \n",
       "1             33           214942       1071996                  168442   \n",
       "2             33           212253       1073946                  164874   \n",
       "3             33           210336       1070399                  159902   \n",
       "4             34           207679       1063113                  158792   \n",
       "\n",
       "   jet_stocks  propane_stocks  ...  jet_output  propane_output  \\\n",
       "0       47088           63549  ...        1296            1044   \n",
       "1       46829           64284  ...        1345            1021   \n",
       "2       45830           64469  ...        1309            1032   \n",
       "3       45940           63833  ...        1339            1004   \n",
       "4       44817           64776  ...        1374            1006   \n",
       "\n",
       "   residual_fuel_output  conventional_gasoline_spot_price  \\\n",
       "0                   414                             2.202   \n",
       "1                   473                             2.146   \n",
       "2                   401                             2.122   \n",
       "3                   464                             2.174   \n",
       "4                   417                             2.242   \n",
       "\n",
       "   crude_brent_spot_price  gasoline_future_price1  gasoline_future_price2  \\\n",
       "0                   83.11                   2.139                   2.119   \n",
       "1                   81.43                   2.077                   2.063   \n",
       "2                   82.25                   2.098                   2.072   \n",
       "3                   85.60                   2.140                   2.149   \n",
       "4                   87.43                   2.209                   2.194   \n",
       "\n",
       "   gasoline_future_price3  gasoline_future_price4  gasoline_demand  \n",
       "0                   2.128                   2.146             9460  \n",
       "1                   2.076                   2.097            10639  \n",
       "2                   2.085                   2.106            10036  \n",
       "3                   2.170                   2.193             9886  \n",
       "4                   2.207                   2.226             9706  \n",
       "\n",
       "[5 rows x 23 columns]"
      ]
     },
     "execution_count": 7,
     "metadata": {},
     "output_type": "execute_result"
    }
   ],
   "source": [
    "X = pd.read_csv('../Datasets/tupras_X_train.csv')\n",
    "y = pd.read_csv('../Datasets/tupras_y_train.csv')\n",
    "\n",
    "X['period'] = pd.to_datetime(X['period'])\n",
    "y['period'] = pd.to_datetime(y['period'])\n",
    "\n",
    "X.head()"
   ]
  },
  {
   "cell_type": "code",
   "execution_count": 79,
   "metadata": {},
   "outputs": [
    {
     "data": {
      "text/html": [
       "<div>\n",
       "<style scoped>\n",
       "    .dataframe tbody tr th:only-of-type {\n",
       "        vertical-align: middle;\n",
       "    }\n",
       "\n",
       "    .dataframe tbody tr th {\n",
       "        vertical-align: top;\n",
       "    }\n",
       "\n",
       "    .dataframe thead th {\n",
       "        text-align: right;\n",
       "    }\n",
       "</style>\n",
       "<table border=\"1\" class=\"dataframe\">\n",
       "  <thead>\n",
       "    <tr style=\"text-align: right;\">\n",
       "      <th></th>\n",
       "      <th>period</th>\n",
       "      <th>gasoline_imports</th>\n",
       "      <th>gasoline_exports</th>\n",
       "      <th>crude_imports</th>\n",
       "      <th>crude_exports</th>\n",
       "      <th>gasoline_stocks</th>\n",
       "      <th>crude_stocks</th>\n",
       "      <th>distillate_fuel_stocks</th>\n",
       "      <th>jet_stocks</th>\n",
       "      <th>propane_stocks</th>\n",
       "      <th>...</th>\n",
       "      <th>propane_output</th>\n",
       "      <th>residual_fuel_output</th>\n",
       "      <th>conventional_gasoline_spot_price</th>\n",
       "      <th>crude_brent_spot_price</th>\n",
       "      <th>gasoline_future_price1</th>\n",
       "      <th>gasoline_future_price2</th>\n",
       "      <th>gasoline_future_price3</th>\n",
       "      <th>gasoline_future_price4</th>\n",
       "      <th>gasoline_demand</th>\n",
       "      <th>target</th>\n",
       "    </tr>\n",
       "  </thead>\n",
       "  <tbody>\n",
       "    <tr>\n",
       "      <th>0</th>\n",
       "      <td>2010-10-15</td>\n",
       "      <td>779</td>\n",
       "      <td>200</td>\n",
       "      <td>8600</td>\n",
       "      <td>33</td>\n",
       "      <td>219329</td>\n",
       "      <td>1066948</td>\n",
       "      <td>170055</td>\n",
       "      <td>47088</td>\n",
       "      <td>63549</td>\n",
       "      <td>...</td>\n",
       "      <td>1044</td>\n",
       "      <td>414</td>\n",
       "      <td>2.202</td>\n",
       "      <td>83.11</td>\n",
       "      <td>2.139</td>\n",
       "      <td>2.119</td>\n",
       "      <td>2.128</td>\n",
       "      <td>2.146</td>\n",
       "      <td>9460</td>\n",
       "      <td>10639</td>\n",
       "    </tr>\n",
       "    <tr>\n",
       "      <th>1</th>\n",
       "      <td>2010-10-22</td>\n",
       "      <td>999</td>\n",
       "      <td>200</td>\n",
       "      <td>9463</td>\n",
       "      <td>33</td>\n",
       "      <td>214942</td>\n",
       "      <td>1071996</td>\n",
       "      <td>168442</td>\n",
       "      <td>46829</td>\n",
       "      <td>64284</td>\n",
       "      <td>...</td>\n",
       "      <td>1021</td>\n",
       "      <td>473</td>\n",
       "      <td>2.146</td>\n",
       "      <td>81.43</td>\n",
       "      <td>2.077</td>\n",
       "      <td>2.063</td>\n",
       "      <td>2.076</td>\n",
       "      <td>2.097</td>\n",
       "      <td>10639</td>\n",
       "      <td>10036</td>\n",
       "    </tr>\n",
       "    <tr>\n",
       "      <th>2</th>\n",
       "      <td>2010-10-29</td>\n",
       "      <td>871</td>\n",
       "      <td>200</td>\n",
       "      <td>8578</td>\n",
       "      <td>33</td>\n",
       "      <td>212253</td>\n",
       "      <td>1073946</td>\n",
       "      <td>164874</td>\n",
       "      <td>45830</td>\n",
       "      <td>64469</td>\n",
       "      <td>...</td>\n",
       "      <td>1032</td>\n",
       "      <td>401</td>\n",
       "      <td>2.122</td>\n",
       "      <td>82.25</td>\n",
       "      <td>2.098</td>\n",
       "      <td>2.072</td>\n",
       "      <td>2.085</td>\n",
       "      <td>2.106</td>\n",
       "      <td>10036</td>\n",
       "      <td>9886</td>\n",
       "    </tr>\n",
       "    <tr>\n",
       "      <th>3</th>\n",
       "      <td>2010-11-05</td>\n",
       "      <td>802</td>\n",
       "      <td>200</td>\n",
       "      <td>8089</td>\n",
       "      <td>33</td>\n",
       "      <td>210336</td>\n",
       "      <td>1070399</td>\n",
       "      <td>159902</td>\n",
       "      <td>45940</td>\n",
       "      <td>63833</td>\n",
       "      <td>...</td>\n",
       "      <td>1004</td>\n",
       "      <td>464</td>\n",
       "      <td>2.174</td>\n",
       "      <td>85.60</td>\n",
       "      <td>2.140</td>\n",
       "      <td>2.149</td>\n",
       "      <td>2.170</td>\n",
       "      <td>2.193</td>\n",
       "      <td>9886</td>\n",
       "      <td>9706</td>\n",
       "    </tr>\n",
       "    <tr>\n",
       "      <th>4</th>\n",
       "      <td>2010-11-12</td>\n",
       "      <td>562</td>\n",
       "      <td>167</td>\n",
       "      <td>7864</td>\n",
       "      <td>34</td>\n",
       "      <td>207679</td>\n",
       "      <td>1063113</td>\n",
       "      <td>158792</td>\n",
       "      <td>44817</td>\n",
       "      <td>64776</td>\n",
       "      <td>...</td>\n",
       "      <td>1006</td>\n",
       "      <td>417</td>\n",
       "      <td>2.242</td>\n",
       "      <td>87.43</td>\n",
       "      <td>2.209</td>\n",
       "      <td>2.194</td>\n",
       "      <td>2.207</td>\n",
       "      <td>2.226</td>\n",
       "      <td>9706</td>\n",
       "      <td>9286</td>\n",
       "    </tr>\n",
       "  </tbody>\n",
       "</table>\n",
       "<p>5 rows × 24 columns</p>\n",
       "</div>"
      ],
      "text/plain": [
       "      period  gasoline_imports  gasoline_exports  crude_imports  \\\n",
       "0 2010-10-15               779               200           8600   \n",
       "1 2010-10-22               999               200           9463   \n",
       "2 2010-10-29               871               200           8578   \n",
       "3 2010-11-05               802               200           8089   \n",
       "4 2010-11-12               562               167           7864   \n",
       "\n",
       "   crude_exports  gasoline_stocks  crude_stocks  distillate_fuel_stocks  \\\n",
       "0             33           219329       1066948                  170055   \n",
       "1             33           214942       1071996                  168442   \n",
       "2             33           212253       1073946                  164874   \n",
       "3             33           210336       1070399                  159902   \n",
       "4             34           207679       1063113                  158792   \n",
       "\n",
       "   jet_stocks  propane_stocks  ...  propane_output  residual_fuel_output  \\\n",
       "0       47088           63549  ...            1044                   414   \n",
       "1       46829           64284  ...            1021                   473   \n",
       "2       45830           64469  ...            1032                   401   \n",
       "3       45940           63833  ...            1004                   464   \n",
       "4       44817           64776  ...            1006                   417   \n",
       "\n",
       "   conventional_gasoline_spot_price  crude_brent_spot_price  \\\n",
       "0                             2.202                   83.11   \n",
       "1                             2.146                   81.43   \n",
       "2                             2.122                   82.25   \n",
       "3                             2.174                   85.60   \n",
       "4                             2.242                   87.43   \n",
       "\n",
       "   gasoline_future_price1  gasoline_future_price2  gasoline_future_price3  \\\n",
       "0                   2.139                   2.119                   2.128   \n",
       "1                   2.077                   2.063                   2.076   \n",
       "2                   2.098                   2.072                   2.085   \n",
       "3                   2.140                   2.149                   2.170   \n",
       "4                   2.209                   2.194                   2.207   \n",
       "\n",
       "   gasoline_future_price4  gasoline_demand  target  \n",
       "0                   2.146             9460   10639  \n",
       "1                   2.097            10639   10036  \n",
       "2                   2.106            10036    9886  \n",
       "3                   2.193             9886    9706  \n",
       "4                   2.226             9706    9286  \n",
       "\n",
       "[5 rows x 24 columns]"
      ]
     },
     "execution_count": 79,
     "metadata": {},
     "output_type": "execute_result"
    }
   ],
   "source": [
    "df = pd.merge(X, y, on='period')\n",
    "df.head()"
   ]
  },
  {
   "cell_type": "code",
   "execution_count": 9,
   "metadata": {},
   "outputs": [],
   "source": [
    "corr = df.drop('period', axis=1).corr()"
   ]
  },
  {
   "cell_type": "code",
   "execution_count": 21,
   "metadata": {},
   "outputs": [
    {
     "data": {
      "application/vnd.plotly.v1+json": {
       "config": {
        "plotlyServerURL": "https://plot.ly"
       },
       "data": [
        {
         "coloraxis": "coloraxis",
         "hovertemplate": "x: %{x}<br>y: %{y}<br>color: %{z}<extra></extra>",
         "name": "0",
         "texttemplate": "%{z}",
         "type": "heatmap",
         "x": [
          "gasoline_imports",
          "gasoline_exports",
          "crude_imports",
          "crude_exports",
          "gasoline_stocks",
          "crude_stocks",
          "distillate_fuel_stocks",
          "jet_stocks",
          "propane_stocks",
          "gasoline_net_input",
          "gasoline_output",
          "distillate_fuel_output",
          "jet_output",
          "propane_output",
          "residual_fuel_output",
          "conventional_gasoline_spot_price",
          "crude_brent_spot_price",
          "gasoline_future_price1",
          "gasoline_future_price2",
          "gasoline_future_price3",
          "gasoline_future_price4",
          "gasoline_demand",
          "target"
         ],
         "xaxis": "x",
         "y": [
          "gasoline_imports",
          "gasoline_exports",
          "crude_imports",
          "crude_exports",
          "gasoline_stocks",
          "crude_stocks",
          "distillate_fuel_stocks",
          "jet_stocks",
          "propane_stocks",
          "gasoline_net_input",
          "gasoline_output",
          "distillate_fuel_output",
          "jet_output",
          "propane_output",
          "residual_fuel_output",
          "conventional_gasoline_spot_price",
          "crude_brent_spot_price",
          "gasoline_future_price1",
          "gasoline_future_price2",
          "gasoline_future_price3",
          "gasoline_future_price4",
          "gasoline_demand",
          "target"
         ],
         "yaxis": "y",
         "z": [
          [
           1,
           -0.22,
           0.18,
           0.01,
           -0.06,
           0.09,
           0.16,
           0.19,
           -0.11,
           0.28,
           0.17,
           -0.08,
           0.04,
           -0.08,
           0.15,
           0.03,
           0.01,
           0.06,
           0.04,
           0.01,
           -0.01,
           0.4,
           0.3
          ],
          [
           -0.22,
           1,
           -0.38,
           0.64,
           0.47,
           0.3,
           -0.07,
           0.08,
           0.2,
           -0.17,
           0.51,
           0.47,
           0.55,
           0.69,
           -0.39,
           -0.48,
           -0.45,
           -0.49,
           -0.48,
           -0.46,
           -0.45,
           -0.01,
           -0.05
          ],
          [
           0.18,
           -0.38,
           1,
           -0.53,
           -0.28,
           -0.14,
           0.29,
           0.25,
           -0.3,
           -0.09,
           -0.3,
           -0.36,
           -0.37,
           -0.62,
           0.56,
           0.41,
           0.4,
           0.42,
           0.41,
           0.41,
           0.41,
           -0.07,
           -0.06
          ],
          [
           0.01,
           0.64,
           -0.53,
           1,
           0.49,
           0.18,
           -0.14,
           0.12,
           0.23,
           -0.01,
           0.57,
           0.51,
           0.69,
           0.85,
           -0.61,
           -0.5,
           -0.46,
           -0.51,
           -0.52,
           -0.52,
           -0.52,
           0.23,
           0.18
          ],
          [
           -0.06,
           0.47,
           -0.28,
           0.49,
           1,
           0.48,
           0.34,
           0.18,
           -0.08,
           -0.19,
           0.32,
           0.24,
           0.45,
           0.57,
           -0.43,
           -0.63,
           -0.58,
           -0.6,
           -0.55,
           -0.51,
           -0.51,
           0.01,
           0.13
          ],
          [
           0.09,
           0.3,
           -0.14,
           0.18,
           0.48,
           1,
           0.51,
           0.23,
           0.27,
           0.08,
           0.53,
           0.27,
           0.39,
           0.44,
           -0.24,
           -0.78,
           -0.82,
           -0.74,
           -0.74,
           -0.75,
           -0.77,
           0.35,
           0.35
          ],
          [
           0.16,
           -0.07,
           0.29,
           -0.14,
           0.34,
           0.51,
           1,
           0.6,
           0.16,
           -0.08,
           0.07,
           -0.19,
           -0.03,
           -0.1,
           0.08,
           -0.41,
           -0.41,
           -0.41,
           -0.39,
           -0.38,
           -0.37,
           0.08,
           0.13
          ],
          [
           0.19,
           0.08,
           0.25,
           0.12,
           0.18,
           0.23,
           0.6,
           1,
           0.09,
           -0.05,
           0.13,
           -0.17,
           0.02,
           0.01,
           0.05,
           -0.17,
           -0.16,
           -0.19,
           -0.19,
           -0.19,
           -0.2,
           0.14,
           0.16
          ],
          [
           -0.11,
           0.2,
           -0.3,
           0.23,
           -0.08,
           0.27,
           0.16,
           0.09,
           1,
           -0.15,
           0.37,
           0.37,
           0.36,
           0.41,
           -0.38,
           -0.49,
           -0.51,
           -0.54,
           -0.59,
           -0.61,
           -0.59,
           0.08,
           0.04
          ],
          [
           0.28,
           -0.17,
           -0.09,
           -0.01,
           -0.19,
           0.08,
           -0.08,
           -0.05,
           -0.15,
           1,
           0.21,
           -0.2,
           -0.1,
           -0.07,
           0.04,
           0.07,
           0.03,
           0.11,
           0.1,
           0.05,
           0,
           0.68,
           0.48
          ],
          [
           0.17,
           0.51,
           -0.3,
           0.57,
           0.32,
           0.53,
           0.07,
           0.13,
           0.37,
           0.21,
           1,
           0.62,
           0.73,
           0.71,
           -0.43,
           -0.62,
           -0.63,
           -0.62,
           -0.64,
           -0.68,
           -0.69,
           0.71,
           0.43
          ],
          [
           -0.08,
           0.47,
           -0.36,
           0.51,
           0.24,
           0.27,
           -0.19,
           -0.17,
           0.37,
           -0.2,
           0.62,
           1,
           0.76,
           0.72,
           -0.5,
           -0.48,
           -0.46,
           -0.48,
           -0.5,
           -0.52,
           -0.51,
           0.12,
           0.08
          ],
          [
           0.04,
           0.55,
           -0.37,
           0.69,
           0.45,
           0.39,
           -0.03,
           0.02,
           0.36,
           -0.1,
           0.73,
           0.76,
           1,
           0.84,
           -0.52,
           -0.57,
           -0.58,
           -0.57,
           -0.59,
           -0.62,
           -0.62,
           0.3,
           0.27
          ],
          [
           -0.08,
           0.69,
           -0.62,
           0.85,
           0.57,
           0.44,
           -0.1,
           0.01,
           0.41,
           -0.07,
           0.71,
           0.72,
           0.84,
           1,
           -0.7,
           -0.7,
           -0.69,
           -0.71,
           -0.71,
           -0.72,
           -0.72,
           0.23,
           0.22
          ],
          [
           0.15,
           -0.39,
           0.56,
           -0.61,
           -0.43,
           -0.24,
           0.08,
           0.05,
           -0.38,
           0.04,
           -0.43,
           -0.5,
           -0.52,
           -0.7,
           1,
           0.53,
           0.51,
           0.55,
           0.55,
           0.54,
           0.53,
           -0.11,
           -0.1
          ],
          [
           0.03,
           -0.48,
           0.41,
           -0.5,
           -0.63,
           -0.78,
           -0.41,
           -0.17,
           -0.49,
           0.07,
           -0.62,
           -0.48,
           -0.57,
           -0.7,
           0.53,
           1,
           0.98,
           0.99,
           0.98,
           0.97,
           0.97,
           -0.25,
           -0.23
          ],
          [
           0.01,
           -0.45,
           0.4,
           -0.46,
           -0.58,
           -0.82,
           -0.41,
           -0.16,
           -0.51,
           0.03,
           -0.63,
           -0.46,
           -0.58,
           -0.69,
           0.51,
           0.98,
           1,
           0.97,
           0.97,
           0.98,
           0.98,
           -0.29,
           -0.27
          ],
          [
           0.06,
           -0.49,
           0.42,
           -0.51,
           -0.6,
           -0.74,
           -0.41,
           -0.19,
           -0.54,
           0.11,
           -0.62,
           -0.48,
           -0.57,
           -0.71,
           0.55,
           0.99,
           0.97,
           1,
           0.99,
           0.98,
           0.97,
           -0.22,
           -0.2
          ],
          [
           0.04,
           -0.48,
           0.41,
           -0.52,
           -0.55,
           -0.74,
           -0.39,
           -0.19,
           -0.59,
           0.1,
           -0.64,
           -0.5,
           -0.59,
           -0.71,
           0.55,
           0.98,
           0.97,
           0.99,
           1,
           0.99,
           0.98,
           -0.25,
           -0.22
          ],
          [
           0.01,
           -0.46,
           0.41,
           -0.52,
           -0.51,
           -0.75,
           -0.38,
           -0.19,
           -0.61,
           0.05,
           -0.68,
           -0.52,
           -0.62,
           -0.72,
           0.54,
           0.97,
           0.98,
           0.98,
           0.99,
           1,
           0.99,
           -0.31,
           -0.27
          ],
          [
           -0.01,
           -0.45,
           0.41,
           -0.52,
           -0.51,
           -0.77,
           -0.37,
           -0.2,
           -0.59,
           0,
           -0.69,
           -0.51,
           -0.62,
           -0.72,
           0.53,
           0.97,
           0.98,
           0.97,
           0.98,
           0.99,
           1,
           -0.35,
           -0.31
          ],
          [
           0.4,
           -0.01,
           -0.07,
           0.23,
           0.01,
           0.35,
           0.08,
           0.14,
           0.08,
           0.68,
           0.71,
           0.12,
           0.3,
           0.23,
           -0.11,
           -0.25,
           -0.29,
           -0.22,
           -0.25,
           -0.31,
           -0.35,
           1,
           0.6
          ],
          [
           0.3,
           -0.05,
           -0.06,
           0.18,
           0.13,
           0.35,
           0.13,
           0.16,
           0.04,
           0.48,
           0.43,
           0.08,
           0.27,
           0.22,
           -0.1,
           -0.23,
           -0.27,
           -0.2,
           -0.22,
           -0.27,
           -0.31,
           0.6,
           1
          ]
         ]
        }
       ],
       "layout": {
        "coloraxis": {
         "colorscale": [
          [
           0,
           "#0d0887"
          ],
          [
           0.1111111111111111,
           "#46039f"
          ],
          [
           0.2222222222222222,
           "#7201a8"
          ],
          [
           0.3333333333333333,
           "#9c179e"
          ],
          [
           0.4444444444444444,
           "#bd3786"
          ],
          [
           0.5555555555555556,
           "#d8576b"
          ],
          [
           0.6666666666666666,
           "#ed7953"
          ],
          [
           0.7777777777777778,
           "#fb9f3a"
          ],
          [
           0.8888888888888888,
           "#fdca26"
          ],
          [
           1,
           "#f0f921"
          ]
         ]
        },
        "font": {
         "size": 10
        },
        "height": 700,
        "margin": {
         "t": 60
        },
        "template": {
         "data": {
          "bar": [
           {
            "error_x": {
             "color": "#2a3f5f"
            },
            "error_y": {
             "color": "#2a3f5f"
            },
            "marker": {
             "line": {
              "color": "#E5ECF6",
              "width": 0.5
             },
             "pattern": {
              "fillmode": "overlay",
              "size": 10,
              "solidity": 0.2
             }
            },
            "type": "bar"
           }
          ],
          "barpolar": [
           {
            "marker": {
             "line": {
              "color": "#E5ECF6",
              "width": 0.5
             },
             "pattern": {
              "fillmode": "overlay",
              "size": 10,
              "solidity": 0.2
             }
            },
            "type": "barpolar"
           }
          ],
          "carpet": [
           {
            "aaxis": {
             "endlinecolor": "#2a3f5f",
             "gridcolor": "white",
             "linecolor": "white",
             "minorgridcolor": "white",
             "startlinecolor": "#2a3f5f"
            },
            "baxis": {
             "endlinecolor": "#2a3f5f",
             "gridcolor": "white",
             "linecolor": "white",
             "minorgridcolor": "white",
             "startlinecolor": "#2a3f5f"
            },
            "type": "carpet"
           }
          ],
          "choropleth": [
           {
            "colorbar": {
             "outlinewidth": 0,
             "ticks": ""
            },
            "type": "choropleth"
           }
          ],
          "contour": [
           {
            "colorbar": {
             "outlinewidth": 0,
             "ticks": ""
            },
            "colorscale": [
             [
              0,
              "#0d0887"
             ],
             [
              0.1111111111111111,
              "#46039f"
             ],
             [
              0.2222222222222222,
              "#7201a8"
             ],
             [
              0.3333333333333333,
              "#9c179e"
             ],
             [
              0.4444444444444444,
              "#bd3786"
             ],
             [
              0.5555555555555556,
              "#d8576b"
             ],
             [
              0.6666666666666666,
              "#ed7953"
             ],
             [
              0.7777777777777778,
              "#fb9f3a"
             ],
             [
              0.8888888888888888,
              "#fdca26"
             ],
             [
              1,
              "#f0f921"
             ]
            ],
            "type": "contour"
           }
          ],
          "contourcarpet": [
           {
            "colorbar": {
             "outlinewidth": 0,
             "ticks": ""
            },
            "type": "contourcarpet"
           }
          ],
          "heatmap": [
           {
            "colorbar": {
             "outlinewidth": 0,
             "ticks": ""
            },
            "colorscale": [
             [
              0,
              "#0d0887"
             ],
             [
              0.1111111111111111,
              "#46039f"
             ],
             [
              0.2222222222222222,
              "#7201a8"
             ],
             [
              0.3333333333333333,
              "#9c179e"
             ],
             [
              0.4444444444444444,
              "#bd3786"
             ],
             [
              0.5555555555555556,
              "#d8576b"
             ],
             [
              0.6666666666666666,
              "#ed7953"
             ],
             [
              0.7777777777777778,
              "#fb9f3a"
             ],
             [
              0.8888888888888888,
              "#fdca26"
             ],
             [
              1,
              "#f0f921"
             ]
            ],
            "type": "heatmap"
           }
          ],
          "heatmapgl": [
           {
            "colorbar": {
             "outlinewidth": 0,
             "ticks": ""
            },
            "colorscale": [
             [
              0,
              "#0d0887"
             ],
             [
              0.1111111111111111,
              "#46039f"
             ],
             [
              0.2222222222222222,
              "#7201a8"
             ],
             [
              0.3333333333333333,
              "#9c179e"
             ],
             [
              0.4444444444444444,
              "#bd3786"
             ],
             [
              0.5555555555555556,
              "#d8576b"
             ],
             [
              0.6666666666666666,
              "#ed7953"
             ],
             [
              0.7777777777777778,
              "#fb9f3a"
             ],
             [
              0.8888888888888888,
              "#fdca26"
             ],
             [
              1,
              "#f0f921"
             ]
            ],
            "type": "heatmapgl"
           }
          ],
          "histogram": [
           {
            "marker": {
             "pattern": {
              "fillmode": "overlay",
              "size": 10,
              "solidity": 0.2
             }
            },
            "type": "histogram"
           }
          ],
          "histogram2d": [
           {
            "colorbar": {
             "outlinewidth": 0,
             "ticks": ""
            },
            "colorscale": [
             [
              0,
              "#0d0887"
             ],
             [
              0.1111111111111111,
              "#46039f"
             ],
             [
              0.2222222222222222,
              "#7201a8"
             ],
             [
              0.3333333333333333,
              "#9c179e"
             ],
             [
              0.4444444444444444,
              "#bd3786"
             ],
             [
              0.5555555555555556,
              "#d8576b"
             ],
             [
              0.6666666666666666,
              "#ed7953"
             ],
             [
              0.7777777777777778,
              "#fb9f3a"
             ],
             [
              0.8888888888888888,
              "#fdca26"
             ],
             [
              1,
              "#f0f921"
             ]
            ],
            "type": "histogram2d"
           }
          ],
          "histogram2dcontour": [
           {
            "colorbar": {
             "outlinewidth": 0,
             "ticks": ""
            },
            "colorscale": [
             [
              0,
              "#0d0887"
             ],
             [
              0.1111111111111111,
              "#46039f"
             ],
             [
              0.2222222222222222,
              "#7201a8"
             ],
             [
              0.3333333333333333,
              "#9c179e"
             ],
             [
              0.4444444444444444,
              "#bd3786"
             ],
             [
              0.5555555555555556,
              "#d8576b"
             ],
             [
              0.6666666666666666,
              "#ed7953"
             ],
             [
              0.7777777777777778,
              "#fb9f3a"
             ],
             [
              0.8888888888888888,
              "#fdca26"
             ],
             [
              1,
              "#f0f921"
             ]
            ],
            "type": "histogram2dcontour"
           }
          ],
          "mesh3d": [
           {
            "colorbar": {
             "outlinewidth": 0,
             "ticks": ""
            },
            "type": "mesh3d"
           }
          ],
          "parcoords": [
           {
            "line": {
             "colorbar": {
              "outlinewidth": 0,
              "ticks": ""
             }
            },
            "type": "parcoords"
           }
          ],
          "pie": [
           {
            "automargin": true,
            "type": "pie"
           }
          ],
          "scatter": [
           {
            "fillpattern": {
             "fillmode": "overlay",
             "size": 10,
             "solidity": 0.2
            },
            "type": "scatter"
           }
          ],
          "scatter3d": [
           {
            "line": {
             "colorbar": {
              "outlinewidth": 0,
              "ticks": ""
             }
            },
            "marker": {
             "colorbar": {
              "outlinewidth": 0,
              "ticks": ""
             }
            },
            "type": "scatter3d"
           }
          ],
          "scattercarpet": [
           {
            "marker": {
             "colorbar": {
              "outlinewidth": 0,
              "ticks": ""
             }
            },
            "type": "scattercarpet"
           }
          ],
          "scattergeo": [
           {
            "marker": {
             "colorbar": {
              "outlinewidth": 0,
              "ticks": ""
             }
            },
            "type": "scattergeo"
           }
          ],
          "scattergl": [
           {
            "marker": {
             "colorbar": {
              "outlinewidth": 0,
              "ticks": ""
             }
            },
            "type": "scattergl"
           }
          ],
          "scattermapbox": [
           {
            "marker": {
             "colorbar": {
              "outlinewidth": 0,
              "ticks": ""
             }
            },
            "type": "scattermapbox"
           }
          ],
          "scatterpolar": [
           {
            "marker": {
             "colorbar": {
              "outlinewidth": 0,
              "ticks": ""
             }
            },
            "type": "scatterpolar"
           }
          ],
          "scatterpolargl": [
           {
            "marker": {
             "colorbar": {
              "outlinewidth": 0,
              "ticks": ""
             }
            },
            "type": "scatterpolargl"
           }
          ],
          "scatterternary": [
           {
            "marker": {
             "colorbar": {
              "outlinewidth": 0,
              "ticks": ""
             }
            },
            "type": "scatterternary"
           }
          ],
          "surface": [
           {
            "colorbar": {
             "outlinewidth": 0,
             "ticks": ""
            },
            "colorscale": [
             [
              0,
              "#0d0887"
             ],
             [
              0.1111111111111111,
              "#46039f"
             ],
             [
              0.2222222222222222,
              "#7201a8"
             ],
             [
              0.3333333333333333,
              "#9c179e"
             ],
             [
              0.4444444444444444,
              "#bd3786"
             ],
             [
              0.5555555555555556,
              "#d8576b"
             ],
             [
              0.6666666666666666,
              "#ed7953"
             ],
             [
              0.7777777777777778,
              "#fb9f3a"
             ],
             [
              0.8888888888888888,
              "#fdca26"
             ],
             [
              1,
              "#f0f921"
             ]
            ],
            "type": "surface"
           }
          ],
          "table": [
           {
            "cells": {
             "fill": {
              "color": "#EBF0F8"
             },
             "line": {
              "color": "white"
             }
            },
            "header": {
             "fill": {
              "color": "#C8D4E3"
             },
             "line": {
              "color": "white"
             }
            },
            "type": "table"
           }
          ]
         },
         "layout": {
          "annotationdefaults": {
           "arrowcolor": "#2a3f5f",
           "arrowhead": 0,
           "arrowwidth": 1
          },
          "autotypenumbers": "strict",
          "coloraxis": {
           "colorbar": {
            "outlinewidth": 0,
            "ticks": ""
           }
          },
          "colorscale": {
           "diverging": [
            [
             0,
             "#8e0152"
            ],
            [
             0.1,
             "#c51b7d"
            ],
            [
             0.2,
             "#de77ae"
            ],
            [
             0.3,
             "#f1b6da"
            ],
            [
             0.4,
             "#fde0ef"
            ],
            [
             0.5,
             "#f7f7f7"
            ],
            [
             0.6,
             "#e6f5d0"
            ],
            [
             0.7,
             "#b8e186"
            ],
            [
             0.8,
             "#7fbc41"
            ],
            [
             0.9,
             "#4d9221"
            ],
            [
             1,
             "#276419"
            ]
           ],
           "sequential": [
            [
             0,
             "#0d0887"
            ],
            [
             0.1111111111111111,
             "#46039f"
            ],
            [
             0.2222222222222222,
             "#7201a8"
            ],
            [
             0.3333333333333333,
             "#9c179e"
            ],
            [
             0.4444444444444444,
             "#bd3786"
            ],
            [
             0.5555555555555556,
             "#d8576b"
            ],
            [
             0.6666666666666666,
             "#ed7953"
            ],
            [
             0.7777777777777778,
             "#fb9f3a"
            ],
            [
             0.8888888888888888,
             "#fdca26"
            ],
            [
             1,
             "#f0f921"
            ]
           ],
           "sequentialminus": [
            [
             0,
             "#0d0887"
            ],
            [
             0.1111111111111111,
             "#46039f"
            ],
            [
             0.2222222222222222,
             "#7201a8"
            ],
            [
             0.3333333333333333,
             "#9c179e"
            ],
            [
             0.4444444444444444,
             "#bd3786"
            ],
            [
             0.5555555555555556,
             "#d8576b"
            ],
            [
             0.6666666666666666,
             "#ed7953"
            ],
            [
             0.7777777777777778,
             "#fb9f3a"
            ],
            [
             0.8888888888888888,
             "#fdca26"
            ],
            [
             1,
             "#f0f921"
            ]
           ]
          },
          "colorway": [
           "#636efa",
           "#EF553B",
           "#00cc96",
           "#ab63fa",
           "#FFA15A",
           "#19d3f3",
           "#FF6692",
           "#B6E880",
           "#FF97FF",
           "#FECB52"
          ],
          "font": {
           "color": "#2a3f5f"
          },
          "geo": {
           "bgcolor": "white",
           "lakecolor": "white",
           "landcolor": "#E5ECF6",
           "showlakes": true,
           "showland": true,
           "subunitcolor": "white"
          },
          "hoverlabel": {
           "align": "left"
          },
          "hovermode": "closest",
          "mapbox": {
           "style": "light"
          },
          "paper_bgcolor": "white",
          "plot_bgcolor": "#E5ECF6",
          "polar": {
           "angularaxis": {
            "gridcolor": "white",
            "linecolor": "white",
            "ticks": ""
           },
           "bgcolor": "#E5ECF6",
           "radialaxis": {
            "gridcolor": "white",
            "linecolor": "white",
            "ticks": ""
           }
          },
          "scene": {
           "xaxis": {
            "backgroundcolor": "#E5ECF6",
            "gridcolor": "white",
            "gridwidth": 2,
            "linecolor": "white",
            "showbackground": true,
            "ticks": "",
            "zerolinecolor": "white"
           },
           "yaxis": {
            "backgroundcolor": "#E5ECF6",
            "gridcolor": "white",
            "gridwidth": 2,
            "linecolor": "white",
            "showbackground": true,
            "ticks": "",
            "zerolinecolor": "white"
           },
           "zaxis": {
            "backgroundcolor": "#E5ECF6",
            "gridcolor": "white",
            "gridwidth": 2,
            "linecolor": "white",
            "showbackground": true,
            "ticks": "",
            "zerolinecolor": "white"
           }
          },
          "shapedefaults": {
           "line": {
            "color": "#2a3f5f"
           }
          },
          "ternary": {
           "aaxis": {
            "gridcolor": "white",
            "linecolor": "white",
            "ticks": ""
           },
           "baxis": {
            "gridcolor": "white",
            "linecolor": "white",
            "ticks": ""
           },
           "bgcolor": "#E5ECF6",
           "caxis": {
            "gridcolor": "white",
            "linecolor": "white",
            "ticks": ""
           }
          },
          "title": {
           "x": 0.05
          },
          "xaxis": {
           "automargin": true,
           "gridcolor": "white",
           "linecolor": "white",
           "ticks": "",
           "title": {
            "standoff": 15
           },
           "zerolinecolor": "white",
           "zerolinewidth": 2
          },
          "yaxis": {
           "automargin": true,
           "gridcolor": "white",
           "linecolor": "white",
           "ticks": "",
           "title": {
            "standoff": 15
           },
           "zerolinecolor": "white",
           "zerolinewidth": 2
          }
         }
        },
        "title": {
         "font": {
          "size": 30
         },
         "text": "Correlation Matrix",
         "x": 0.5
        },
        "xaxis": {
         "anchor": "y",
         "domain": [
          0,
          1
         ]
        },
        "yaxis": {
         "anchor": "x",
         "autorange": "reversed",
         "domain": [
          0,
          1
         ]
        }
       }
      }
     },
     "metadata": {},
     "output_type": "display_data"
    }
   ],
   "source": [
    "fig = px.imshow(np.round(corr,2), text_auto=True, aspect=\"auto\")\n",
    "fig.update_layout(title='Correlation Matrix', height=700,font_size=10, title_font_size=30, title_x=0.5)\n",
    "fig.show()"
   ]
  },
  {
   "cell_type": "code",
   "execution_count": 41,
   "metadata": {},
   "outputs": [
    {
     "data": {
      "text/html": [
       "<div>\n",
       "<style scoped>\n",
       "    .dataframe tbody tr th:only-of-type {\n",
       "        vertical-align: middle;\n",
       "    }\n",
       "\n",
       "    .dataframe tbody tr th {\n",
       "        vertical-align: top;\n",
       "    }\n",
       "\n",
       "    .dataframe thead th {\n",
       "        text-align: right;\n",
       "    }\n",
       "</style>\n",
       "<table border=\"1\" class=\"dataframe\">\n",
       "  <thead>\n",
       "    <tr style=\"text-align: right;\">\n",
       "      <th></th>\n",
       "      <th>crude_exports</th>\n",
       "      <th>crude_stocks</th>\n",
       "      <th>gasoline_output</th>\n",
       "      <th>distillate_fuel_output</th>\n",
       "      <th>jet_output</th>\n",
       "      <th>propane_output</th>\n",
       "      <th>residual_fuel_output</th>\n",
       "      <th>conventional_gasoline_spot_price</th>\n",
       "      <th>crude_brent_spot_price</th>\n",
       "      <th>gasoline_future_price1</th>\n",
       "      <th>gasoline_future_price2</th>\n",
       "      <th>gasoline_future_price3</th>\n",
       "      <th>gasoline_future_price4</th>\n",
       "      <th>gasoline_demand</th>\n",
       "    </tr>\n",
       "  </thead>\n",
       "  <tbody>\n",
       "    <tr>\n",
       "      <th>crude_exports</th>\n",
       "      <td>NaN</td>\n",
       "      <td>NaN</td>\n",
       "      <td>NaN</td>\n",
       "      <td>NaN</td>\n",
       "      <td>NaN</td>\n",
       "      <td>0.853829</td>\n",
       "      <td>NaN</td>\n",
       "      <td>NaN</td>\n",
       "      <td>NaN</td>\n",
       "      <td>NaN</td>\n",
       "      <td>NaN</td>\n",
       "      <td>NaN</td>\n",
       "      <td>NaN</td>\n",
       "      <td>NaN</td>\n",
       "    </tr>\n",
       "    <tr>\n",
       "      <th>crude_stocks</th>\n",
       "      <td>NaN</td>\n",
       "      <td>NaN</td>\n",
       "      <td>NaN</td>\n",
       "      <td>NaN</td>\n",
       "      <td>NaN</td>\n",
       "      <td>NaN</td>\n",
       "      <td>NaN</td>\n",
       "      <td>-0.779370</td>\n",
       "      <td>-0.822227</td>\n",
       "      <td>-0.743660</td>\n",
       "      <td>-0.740440</td>\n",
       "      <td>-0.751722</td>\n",
       "      <td>-0.768716</td>\n",
       "      <td>NaN</td>\n",
       "    </tr>\n",
       "    <tr>\n",
       "      <th>gasoline_output</th>\n",
       "      <td>NaN</td>\n",
       "      <td>NaN</td>\n",
       "      <td>NaN</td>\n",
       "      <td>NaN</td>\n",
       "      <td>0.727186</td>\n",
       "      <td>0.709152</td>\n",
       "      <td>NaN</td>\n",
       "      <td>NaN</td>\n",
       "      <td>NaN</td>\n",
       "      <td>NaN</td>\n",
       "      <td>NaN</td>\n",
       "      <td>NaN</td>\n",
       "      <td>NaN</td>\n",
       "      <td>0.708176</td>\n",
       "    </tr>\n",
       "    <tr>\n",
       "      <th>distillate_fuel_output</th>\n",
       "      <td>NaN</td>\n",
       "      <td>NaN</td>\n",
       "      <td>NaN</td>\n",
       "      <td>NaN</td>\n",
       "      <td>0.758034</td>\n",
       "      <td>0.717273</td>\n",
       "      <td>NaN</td>\n",
       "      <td>NaN</td>\n",
       "      <td>NaN</td>\n",
       "      <td>NaN</td>\n",
       "      <td>NaN</td>\n",
       "      <td>NaN</td>\n",
       "      <td>NaN</td>\n",
       "      <td>NaN</td>\n",
       "    </tr>\n",
       "    <tr>\n",
       "      <th>jet_output</th>\n",
       "      <td>NaN</td>\n",
       "      <td>NaN</td>\n",
       "      <td>0.727186</td>\n",
       "      <td>0.758034</td>\n",
       "      <td>NaN</td>\n",
       "      <td>0.840702</td>\n",
       "      <td>NaN</td>\n",
       "      <td>NaN</td>\n",
       "      <td>NaN</td>\n",
       "      <td>NaN</td>\n",
       "      <td>NaN</td>\n",
       "      <td>NaN</td>\n",
       "      <td>NaN</td>\n",
       "      <td>NaN</td>\n",
       "    </tr>\n",
       "    <tr>\n",
       "      <th>propane_output</th>\n",
       "      <td>0.853829</td>\n",
       "      <td>NaN</td>\n",
       "      <td>0.709152</td>\n",
       "      <td>0.717273</td>\n",
       "      <td>0.840702</td>\n",
       "      <td>NaN</td>\n",
       "      <td>-0.702767</td>\n",
       "      <td>-0.701298</td>\n",
       "      <td>NaN</td>\n",
       "      <td>-0.706150</td>\n",
       "      <td>-0.712975</td>\n",
       "      <td>-0.720231</td>\n",
       "      <td>-0.722949</td>\n",
       "      <td>NaN</td>\n",
       "    </tr>\n",
       "    <tr>\n",
       "      <th>residual_fuel_output</th>\n",
       "      <td>NaN</td>\n",
       "      <td>NaN</td>\n",
       "      <td>NaN</td>\n",
       "      <td>NaN</td>\n",
       "      <td>NaN</td>\n",
       "      <td>-0.702767</td>\n",
       "      <td>NaN</td>\n",
       "      <td>NaN</td>\n",
       "      <td>NaN</td>\n",
       "      <td>NaN</td>\n",
       "      <td>NaN</td>\n",
       "      <td>NaN</td>\n",
       "      <td>NaN</td>\n",
       "      <td>NaN</td>\n",
       "    </tr>\n",
       "    <tr>\n",
       "      <th>conventional_gasoline_spot_price</th>\n",
       "      <td>NaN</td>\n",
       "      <td>-0.779370</td>\n",
       "      <td>NaN</td>\n",
       "      <td>NaN</td>\n",
       "      <td>NaN</td>\n",
       "      <td>-0.701298</td>\n",
       "      <td>NaN</td>\n",
       "      <td>NaN</td>\n",
       "      <td>0.982364</td>\n",
       "      <td>0.990499</td>\n",
       "      <td>0.982919</td>\n",
       "      <td>0.974528</td>\n",
       "      <td>0.967847</td>\n",
       "      <td>NaN</td>\n",
       "    </tr>\n",
       "    <tr>\n",
       "      <th>crude_brent_spot_price</th>\n",
       "      <td>NaN</td>\n",
       "      <td>-0.822227</td>\n",
       "      <td>NaN</td>\n",
       "      <td>NaN</td>\n",
       "      <td>NaN</td>\n",
       "      <td>NaN</td>\n",
       "      <td>NaN</td>\n",
       "      <td>0.982364</td>\n",
       "      <td>NaN</td>\n",
       "      <td>0.974309</td>\n",
       "      <td>0.974930</td>\n",
       "      <td>0.975987</td>\n",
       "      <td>0.976941</td>\n",
       "      <td>NaN</td>\n",
       "    </tr>\n",
       "    <tr>\n",
       "      <th>gasoline_future_price1</th>\n",
       "      <td>NaN</td>\n",
       "      <td>-0.743660</td>\n",
       "      <td>NaN</td>\n",
       "      <td>NaN</td>\n",
       "      <td>NaN</td>\n",
       "      <td>-0.706150</td>\n",
       "      <td>NaN</td>\n",
       "      <td>0.990499</td>\n",
       "      <td>0.974309</td>\n",
       "      <td>NaN</td>\n",
       "      <td>0.993548</td>\n",
       "      <td>0.982754</td>\n",
       "      <td>0.971355</td>\n",
       "      <td>NaN</td>\n",
       "    </tr>\n",
       "    <tr>\n",
       "      <th>gasoline_future_price2</th>\n",
       "      <td>NaN</td>\n",
       "      <td>-0.740440</td>\n",
       "      <td>NaN</td>\n",
       "      <td>NaN</td>\n",
       "      <td>NaN</td>\n",
       "      <td>-0.712975</td>\n",
       "      <td>NaN</td>\n",
       "      <td>0.982919</td>\n",
       "      <td>0.974930</td>\n",
       "      <td>0.993548</td>\n",
       "      <td>NaN</td>\n",
       "      <td>0.993608</td>\n",
       "      <td>0.983952</td>\n",
       "      <td>NaN</td>\n",
       "    </tr>\n",
       "    <tr>\n",
       "      <th>gasoline_future_price3</th>\n",
       "      <td>NaN</td>\n",
       "      <td>-0.751722</td>\n",
       "      <td>NaN</td>\n",
       "      <td>NaN</td>\n",
       "      <td>NaN</td>\n",
       "      <td>-0.720231</td>\n",
       "      <td>NaN</td>\n",
       "      <td>0.974528</td>\n",
       "      <td>0.975987</td>\n",
       "      <td>0.982754</td>\n",
       "      <td>0.993608</td>\n",
       "      <td>NaN</td>\n",
       "      <td>0.993966</td>\n",
       "      <td>NaN</td>\n",
       "    </tr>\n",
       "    <tr>\n",
       "      <th>gasoline_future_price4</th>\n",
       "      <td>NaN</td>\n",
       "      <td>-0.768716</td>\n",
       "      <td>NaN</td>\n",
       "      <td>NaN</td>\n",
       "      <td>NaN</td>\n",
       "      <td>-0.722949</td>\n",
       "      <td>NaN</td>\n",
       "      <td>0.967847</td>\n",
       "      <td>0.976941</td>\n",
       "      <td>0.971355</td>\n",
       "      <td>0.983952</td>\n",
       "      <td>0.993966</td>\n",
       "      <td>NaN</td>\n",
       "      <td>NaN</td>\n",
       "    </tr>\n",
       "    <tr>\n",
       "      <th>gasoline_demand</th>\n",
       "      <td>NaN</td>\n",
       "      <td>NaN</td>\n",
       "      <td>0.708176</td>\n",
       "      <td>NaN</td>\n",
       "      <td>NaN</td>\n",
       "      <td>NaN</td>\n",
       "      <td>NaN</td>\n",
       "      <td>NaN</td>\n",
       "      <td>NaN</td>\n",
       "      <td>NaN</td>\n",
       "      <td>NaN</td>\n",
       "      <td>NaN</td>\n",
       "      <td>NaN</td>\n",
       "      <td>NaN</td>\n",
       "    </tr>\n",
       "  </tbody>\n",
       "</table>\n",
       "</div>"
      ],
      "text/plain": [
       "                                  crude_exports  crude_stocks  \\\n",
       "crude_exports                               NaN           NaN   \n",
       "crude_stocks                                NaN           NaN   \n",
       "gasoline_output                             NaN           NaN   \n",
       "distillate_fuel_output                      NaN           NaN   \n",
       "jet_output                                  NaN           NaN   \n",
       "propane_output                         0.853829           NaN   \n",
       "residual_fuel_output                        NaN           NaN   \n",
       "conventional_gasoline_spot_price            NaN     -0.779370   \n",
       "crude_brent_spot_price                      NaN     -0.822227   \n",
       "gasoline_future_price1                      NaN     -0.743660   \n",
       "gasoline_future_price2                      NaN     -0.740440   \n",
       "gasoline_future_price3                      NaN     -0.751722   \n",
       "gasoline_future_price4                      NaN     -0.768716   \n",
       "gasoline_demand                             NaN           NaN   \n",
       "\n",
       "                                  gasoline_output  distillate_fuel_output  \\\n",
       "crude_exports                                 NaN                     NaN   \n",
       "crude_stocks                                  NaN                     NaN   \n",
       "gasoline_output                               NaN                     NaN   \n",
       "distillate_fuel_output                        NaN                     NaN   \n",
       "jet_output                               0.727186                0.758034   \n",
       "propane_output                           0.709152                0.717273   \n",
       "residual_fuel_output                          NaN                     NaN   \n",
       "conventional_gasoline_spot_price              NaN                     NaN   \n",
       "crude_brent_spot_price                        NaN                     NaN   \n",
       "gasoline_future_price1                        NaN                     NaN   \n",
       "gasoline_future_price2                        NaN                     NaN   \n",
       "gasoline_future_price3                        NaN                     NaN   \n",
       "gasoline_future_price4                        NaN                     NaN   \n",
       "gasoline_demand                          0.708176                     NaN   \n",
       "\n",
       "                                  jet_output  propane_output  \\\n",
       "crude_exports                            NaN        0.853829   \n",
       "crude_stocks                             NaN             NaN   \n",
       "gasoline_output                     0.727186        0.709152   \n",
       "distillate_fuel_output              0.758034        0.717273   \n",
       "jet_output                               NaN        0.840702   \n",
       "propane_output                      0.840702             NaN   \n",
       "residual_fuel_output                     NaN       -0.702767   \n",
       "conventional_gasoline_spot_price         NaN       -0.701298   \n",
       "crude_brent_spot_price                   NaN             NaN   \n",
       "gasoline_future_price1                   NaN       -0.706150   \n",
       "gasoline_future_price2                   NaN       -0.712975   \n",
       "gasoline_future_price3                   NaN       -0.720231   \n",
       "gasoline_future_price4                   NaN       -0.722949   \n",
       "gasoline_demand                          NaN             NaN   \n",
       "\n",
       "                                  residual_fuel_output  \\\n",
       "crude_exports                                      NaN   \n",
       "crude_stocks                                       NaN   \n",
       "gasoline_output                                    NaN   \n",
       "distillate_fuel_output                             NaN   \n",
       "jet_output                                         NaN   \n",
       "propane_output                               -0.702767   \n",
       "residual_fuel_output                               NaN   \n",
       "conventional_gasoline_spot_price                   NaN   \n",
       "crude_brent_spot_price                             NaN   \n",
       "gasoline_future_price1                             NaN   \n",
       "gasoline_future_price2                             NaN   \n",
       "gasoline_future_price3                             NaN   \n",
       "gasoline_future_price4                             NaN   \n",
       "gasoline_demand                                    NaN   \n",
       "\n",
       "                                  conventional_gasoline_spot_price  \\\n",
       "crude_exports                                                  NaN   \n",
       "crude_stocks                                             -0.779370   \n",
       "gasoline_output                                                NaN   \n",
       "distillate_fuel_output                                         NaN   \n",
       "jet_output                                                     NaN   \n",
       "propane_output                                           -0.701298   \n",
       "residual_fuel_output                                           NaN   \n",
       "conventional_gasoline_spot_price                               NaN   \n",
       "crude_brent_spot_price                                    0.982364   \n",
       "gasoline_future_price1                                    0.990499   \n",
       "gasoline_future_price2                                    0.982919   \n",
       "gasoline_future_price3                                    0.974528   \n",
       "gasoline_future_price4                                    0.967847   \n",
       "gasoline_demand                                                NaN   \n",
       "\n",
       "                                  crude_brent_spot_price  \\\n",
       "crude_exports                                        NaN   \n",
       "crude_stocks                                   -0.822227   \n",
       "gasoline_output                                      NaN   \n",
       "distillate_fuel_output                               NaN   \n",
       "jet_output                                           NaN   \n",
       "propane_output                                       NaN   \n",
       "residual_fuel_output                                 NaN   \n",
       "conventional_gasoline_spot_price                0.982364   \n",
       "crude_brent_spot_price                               NaN   \n",
       "gasoline_future_price1                          0.974309   \n",
       "gasoline_future_price2                          0.974930   \n",
       "gasoline_future_price3                          0.975987   \n",
       "gasoline_future_price4                          0.976941   \n",
       "gasoline_demand                                      NaN   \n",
       "\n",
       "                                  gasoline_future_price1  \\\n",
       "crude_exports                                        NaN   \n",
       "crude_stocks                                   -0.743660   \n",
       "gasoline_output                                      NaN   \n",
       "distillate_fuel_output                               NaN   \n",
       "jet_output                                           NaN   \n",
       "propane_output                                 -0.706150   \n",
       "residual_fuel_output                                 NaN   \n",
       "conventional_gasoline_spot_price                0.990499   \n",
       "crude_brent_spot_price                          0.974309   \n",
       "gasoline_future_price1                               NaN   \n",
       "gasoline_future_price2                          0.993548   \n",
       "gasoline_future_price3                          0.982754   \n",
       "gasoline_future_price4                          0.971355   \n",
       "gasoline_demand                                      NaN   \n",
       "\n",
       "                                  gasoline_future_price2  \\\n",
       "crude_exports                                        NaN   \n",
       "crude_stocks                                   -0.740440   \n",
       "gasoline_output                                      NaN   \n",
       "distillate_fuel_output                               NaN   \n",
       "jet_output                                           NaN   \n",
       "propane_output                                 -0.712975   \n",
       "residual_fuel_output                                 NaN   \n",
       "conventional_gasoline_spot_price                0.982919   \n",
       "crude_brent_spot_price                          0.974930   \n",
       "gasoline_future_price1                          0.993548   \n",
       "gasoline_future_price2                               NaN   \n",
       "gasoline_future_price3                          0.993608   \n",
       "gasoline_future_price4                          0.983952   \n",
       "gasoline_demand                                      NaN   \n",
       "\n",
       "                                  gasoline_future_price3  \\\n",
       "crude_exports                                        NaN   \n",
       "crude_stocks                                   -0.751722   \n",
       "gasoline_output                                      NaN   \n",
       "distillate_fuel_output                               NaN   \n",
       "jet_output                                           NaN   \n",
       "propane_output                                 -0.720231   \n",
       "residual_fuel_output                                 NaN   \n",
       "conventional_gasoline_spot_price                0.974528   \n",
       "crude_brent_spot_price                          0.975987   \n",
       "gasoline_future_price1                          0.982754   \n",
       "gasoline_future_price2                          0.993608   \n",
       "gasoline_future_price3                               NaN   \n",
       "gasoline_future_price4                          0.993966   \n",
       "gasoline_demand                                      NaN   \n",
       "\n",
       "                                  gasoline_future_price4  gasoline_demand  \n",
       "crude_exports                                        NaN              NaN  \n",
       "crude_stocks                                   -0.768716              NaN  \n",
       "gasoline_output                                      NaN         0.708176  \n",
       "distillate_fuel_output                               NaN              NaN  \n",
       "jet_output                                           NaN              NaN  \n",
       "propane_output                                 -0.722949              NaN  \n",
       "residual_fuel_output                                 NaN              NaN  \n",
       "conventional_gasoline_spot_price                0.967847              NaN  \n",
       "crude_brent_spot_price                          0.976941              NaN  \n",
       "gasoline_future_price1                          0.971355              NaN  \n",
       "gasoline_future_price2                          0.983952              NaN  \n",
       "gasoline_future_price3                          0.993966              NaN  \n",
       "gasoline_future_price4                               NaN              NaN  \n",
       "gasoline_demand                                      NaN              NaN  "
      ]
     },
     "execution_count": 41,
     "metadata": {},
     "output_type": "execute_result"
    }
   ],
   "source": [
    "high_correlated = corr[np.abs(corr) > 0.7]\n",
    "high_correlated.replace(1.0, np.nan, inplace=True)\n",
    "high_correlated.dropna(how='all', axis=1, inplace=True)\n",
    "high_correlated.dropna(how='all', axis=0, inplace=True)\n",
    "high_correlated"
   ]
  },
  {
   "cell_type": "code",
   "execution_count": 42,
   "metadata": {},
   "outputs": [
    {
     "data": {
      "application/vnd.plotly.v1+json": {
       "config": {
        "plotlyServerURL": "https://plot.ly"
       },
       "data": [
        {
         "coloraxis": "coloraxis",
         "hovertemplate": "x: %{x}<br>y: %{y}<br>color: %{z}<extra></extra>",
         "name": "0",
         "texttemplate": "%{z}",
         "type": "heatmap",
         "x": [
          "crude_exports",
          "crude_stocks",
          "gasoline_output",
          "distillate_fuel_output",
          "jet_output",
          "propane_output",
          "residual_fuel_output",
          "conventional_gasoline_spot_price",
          "crude_brent_spot_price",
          "gasoline_future_price1",
          "gasoline_future_price2",
          "gasoline_future_price3",
          "gasoline_future_price4",
          "gasoline_demand"
         ],
         "xaxis": "x",
         "y": [
          "crude_exports",
          "crude_stocks",
          "gasoline_output",
          "distillate_fuel_output",
          "jet_output",
          "propane_output",
          "residual_fuel_output",
          "conventional_gasoline_spot_price",
          "crude_brent_spot_price",
          "gasoline_future_price1",
          "gasoline_future_price2",
          "gasoline_future_price3",
          "gasoline_future_price4",
          "gasoline_demand"
         ],
         "yaxis": "y",
         "z": [
          [
           null,
           null,
           null,
           null,
           null,
           0.85,
           null,
           null,
           null,
           null,
           null,
           null,
           null,
           null
          ],
          [
           null,
           null,
           null,
           null,
           null,
           null,
           null,
           -0.78,
           -0.82,
           -0.74,
           -0.74,
           -0.75,
           -0.77,
           null
          ],
          [
           null,
           null,
           null,
           null,
           0.73,
           0.71,
           null,
           null,
           null,
           null,
           null,
           null,
           null,
           0.71
          ],
          [
           null,
           null,
           null,
           null,
           0.76,
           0.72,
           null,
           null,
           null,
           null,
           null,
           null,
           null,
           null
          ],
          [
           null,
           null,
           0.73,
           0.76,
           null,
           0.84,
           null,
           null,
           null,
           null,
           null,
           null,
           null,
           null
          ],
          [
           0.85,
           null,
           0.71,
           0.72,
           0.84,
           null,
           -0.7,
           -0.7,
           null,
           -0.71,
           -0.71,
           -0.72,
           -0.72,
           null
          ],
          [
           null,
           null,
           null,
           null,
           null,
           -0.7,
           null,
           null,
           null,
           null,
           null,
           null,
           null,
           null
          ],
          [
           null,
           -0.78,
           null,
           null,
           null,
           -0.7,
           null,
           null,
           0.98,
           0.99,
           0.98,
           0.97,
           0.97,
           null
          ],
          [
           null,
           -0.82,
           null,
           null,
           null,
           null,
           null,
           0.98,
           null,
           0.97,
           0.97,
           0.98,
           0.98,
           null
          ],
          [
           null,
           -0.74,
           null,
           null,
           null,
           -0.71,
           null,
           0.99,
           0.97,
           null,
           0.99,
           0.98,
           0.97,
           null
          ],
          [
           null,
           -0.74,
           null,
           null,
           null,
           -0.71,
           null,
           0.98,
           0.97,
           0.99,
           null,
           0.99,
           0.98,
           null
          ],
          [
           null,
           -0.75,
           null,
           null,
           null,
           -0.72,
           null,
           0.97,
           0.98,
           0.98,
           0.99,
           null,
           0.99,
           null
          ],
          [
           null,
           -0.77,
           null,
           null,
           null,
           -0.72,
           null,
           0.97,
           0.98,
           0.97,
           0.98,
           0.99,
           null,
           null
          ],
          [
           null,
           null,
           0.71,
           null,
           null,
           null,
           null,
           null,
           null,
           null,
           null,
           null,
           null,
           null
          ]
         ]
        }
       ],
       "layout": {
        "coloraxis": {
         "colorscale": [
          [
           0,
           "#0d0887"
          ],
          [
           0.1111111111111111,
           "#46039f"
          ],
          [
           0.2222222222222222,
           "#7201a8"
          ],
          [
           0.3333333333333333,
           "#9c179e"
          ],
          [
           0.4444444444444444,
           "#bd3786"
          ],
          [
           0.5555555555555556,
           "#d8576b"
          ],
          [
           0.6666666666666666,
           "#ed7953"
          ],
          [
           0.7777777777777778,
           "#fb9f3a"
          ],
          [
           0.8888888888888888,
           "#fdca26"
          ],
          [
           1,
           "#f0f921"
          ]
         ]
        },
        "font": {
         "size": 10
        },
        "height": 700,
        "margin": {
         "t": 60
        },
        "template": {
         "data": {
          "bar": [
           {
            "error_x": {
             "color": "#2a3f5f"
            },
            "error_y": {
             "color": "#2a3f5f"
            },
            "marker": {
             "line": {
              "color": "#E5ECF6",
              "width": 0.5
             },
             "pattern": {
              "fillmode": "overlay",
              "size": 10,
              "solidity": 0.2
             }
            },
            "type": "bar"
           }
          ],
          "barpolar": [
           {
            "marker": {
             "line": {
              "color": "#E5ECF6",
              "width": 0.5
             },
             "pattern": {
              "fillmode": "overlay",
              "size": 10,
              "solidity": 0.2
             }
            },
            "type": "barpolar"
           }
          ],
          "carpet": [
           {
            "aaxis": {
             "endlinecolor": "#2a3f5f",
             "gridcolor": "white",
             "linecolor": "white",
             "minorgridcolor": "white",
             "startlinecolor": "#2a3f5f"
            },
            "baxis": {
             "endlinecolor": "#2a3f5f",
             "gridcolor": "white",
             "linecolor": "white",
             "minorgridcolor": "white",
             "startlinecolor": "#2a3f5f"
            },
            "type": "carpet"
           }
          ],
          "choropleth": [
           {
            "colorbar": {
             "outlinewidth": 0,
             "ticks": ""
            },
            "type": "choropleth"
           }
          ],
          "contour": [
           {
            "colorbar": {
             "outlinewidth": 0,
             "ticks": ""
            },
            "colorscale": [
             [
              0,
              "#0d0887"
             ],
             [
              0.1111111111111111,
              "#46039f"
             ],
             [
              0.2222222222222222,
              "#7201a8"
             ],
             [
              0.3333333333333333,
              "#9c179e"
             ],
             [
              0.4444444444444444,
              "#bd3786"
             ],
             [
              0.5555555555555556,
              "#d8576b"
             ],
             [
              0.6666666666666666,
              "#ed7953"
             ],
             [
              0.7777777777777778,
              "#fb9f3a"
             ],
             [
              0.8888888888888888,
              "#fdca26"
             ],
             [
              1,
              "#f0f921"
             ]
            ],
            "type": "contour"
           }
          ],
          "contourcarpet": [
           {
            "colorbar": {
             "outlinewidth": 0,
             "ticks": ""
            },
            "type": "contourcarpet"
           }
          ],
          "heatmap": [
           {
            "colorbar": {
             "outlinewidth": 0,
             "ticks": ""
            },
            "colorscale": [
             [
              0,
              "#0d0887"
             ],
             [
              0.1111111111111111,
              "#46039f"
             ],
             [
              0.2222222222222222,
              "#7201a8"
             ],
             [
              0.3333333333333333,
              "#9c179e"
             ],
             [
              0.4444444444444444,
              "#bd3786"
             ],
             [
              0.5555555555555556,
              "#d8576b"
             ],
             [
              0.6666666666666666,
              "#ed7953"
             ],
             [
              0.7777777777777778,
              "#fb9f3a"
             ],
             [
              0.8888888888888888,
              "#fdca26"
             ],
             [
              1,
              "#f0f921"
             ]
            ],
            "type": "heatmap"
           }
          ],
          "heatmapgl": [
           {
            "colorbar": {
             "outlinewidth": 0,
             "ticks": ""
            },
            "colorscale": [
             [
              0,
              "#0d0887"
             ],
             [
              0.1111111111111111,
              "#46039f"
             ],
             [
              0.2222222222222222,
              "#7201a8"
             ],
             [
              0.3333333333333333,
              "#9c179e"
             ],
             [
              0.4444444444444444,
              "#bd3786"
             ],
             [
              0.5555555555555556,
              "#d8576b"
             ],
             [
              0.6666666666666666,
              "#ed7953"
             ],
             [
              0.7777777777777778,
              "#fb9f3a"
             ],
             [
              0.8888888888888888,
              "#fdca26"
             ],
             [
              1,
              "#f0f921"
             ]
            ],
            "type": "heatmapgl"
           }
          ],
          "histogram": [
           {
            "marker": {
             "pattern": {
              "fillmode": "overlay",
              "size": 10,
              "solidity": 0.2
             }
            },
            "type": "histogram"
           }
          ],
          "histogram2d": [
           {
            "colorbar": {
             "outlinewidth": 0,
             "ticks": ""
            },
            "colorscale": [
             [
              0,
              "#0d0887"
             ],
             [
              0.1111111111111111,
              "#46039f"
             ],
             [
              0.2222222222222222,
              "#7201a8"
             ],
             [
              0.3333333333333333,
              "#9c179e"
             ],
             [
              0.4444444444444444,
              "#bd3786"
             ],
             [
              0.5555555555555556,
              "#d8576b"
             ],
             [
              0.6666666666666666,
              "#ed7953"
             ],
             [
              0.7777777777777778,
              "#fb9f3a"
             ],
             [
              0.8888888888888888,
              "#fdca26"
             ],
             [
              1,
              "#f0f921"
             ]
            ],
            "type": "histogram2d"
           }
          ],
          "histogram2dcontour": [
           {
            "colorbar": {
             "outlinewidth": 0,
             "ticks": ""
            },
            "colorscale": [
             [
              0,
              "#0d0887"
             ],
             [
              0.1111111111111111,
              "#46039f"
             ],
             [
              0.2222222222222222,
              "#7201a8"
             ],
             [
              0.3333333333333333,
              "#9c179e"
             ],
             [
              0.4444444444444444,
              "#bd3786"
             ],
             [
              0.5555555555555556,
              "#d8576b"
             ],
             [
              0.6666666666666666,
              "#ed7953"
             ],
             [
              0.7777777777777778,
              "#fb9f3a"
             ],
             [
              0.8888888888888888,
              "#fdca26"
             ],
             [
              1,
              "#f0f921"
             ]
            ],
            "type": "histogram2dcontour"
           }
          ],
          "mesh3d": [
           {
            "colorbar": {
             "outlinewidth": 0,
             "ticks": ""
            },
            "type": "mesh3d"
           }
          ],
          "parcoords": [
           {
            "line": {
             "colorbar": {
              "outlinewidth": 0,
              "ticks": ""
             }
            },
            "type": "parcoords"
           }
          ],
          "pie": [
           {
            "automargin": true,
            "type": "pie"
           }
          ],
          "scatter": [
           {
            "fillpattern": {
             "fillmode": "overlay",
             "size": 10,
             "solidity": 0.2
            },
            "type": "scatter"
           }
          ],
          "scatter3d": [
           {
            "line": {
             "colorbar": {
              "outlinewidth": 0,
              "ticks": ""
             }
            },
            "marker": {
             "colorbar": {
              "outlinewidth": 0,
              "ticks": ""
             }
            },
            "type": "scatter3d"
           }
          ],
          "scattercarpet": [
           {
            "marker": {
             "colorbar": {
              "outlinewidth": 0,
              "ticks": ""
             }
            },
            "type": "scattercarpet"
           }
          ],
          "scattergeo": [
           {
            "marker": {
             "colorbar": {
              "outlinewidth": 0,
              "ticks": ""
             }
            },
            "type": "scattergeo"
           }
          ],
          "scattergl": [
           {
            "marker": {
             "colorbar": {
              "outlinewidth": 0,
              "ticks": ""
             }
            },
            "type": "scattergl"
           }
          ],
          "scattermapbox": [
           {
            "marker": {
             "colorbar": {
              "outlinewidth": 0,
              "ticks": ""
             }
            },
            "type": "scattermapbox"
           }
          ],
          "scatterpolar": [
           {
            "marker": {
             "colorbar": {
              "outlinewidth": 0,
              "ticks": ""
             }
            },
            "type": "scatterpolar"
           }
          ],
          "scatterpolargl": [
           {
            "marker": {
             "colorbar": {
              "outlinewidth": 0,
              "ticks": ""
             }
            },
            "type": "scatterpolargl"
           }
          ],
          "scatterternary": [
           {
            "marker": {
             "colorbar": {
              "outlinewidth": 0,
              "ticks": ""
             }
            },
            "type": "scatterternary"
           }
          ],
          "surface": [
           {
            "colorbar": {
             "outlinewidth": 0,
             "ticks": ""
            },
            "colorscale": [
             [
              0,
              "#0d0887"
             ],
             [
              0.1111111111111111,
              "#46039f"
             ],
             [
              0.2222222222222222,
              "#7201a8"
             ],
             [
              0.3333333333333333,
              "#9c179e"
             ],
             [
              0.4444444444444444,
              "#bd3786"
             ],
             [
              0.5555555555555556,
              "#d8576b"
             ],
             [
              0.6666666666666666,
              "#ed7953"
             ],
             [
              0.7777777777777778,
              "#fb9f3a"
             ],
             [
              0.8888888888888888,
              "#fdca26"
             ],
             [
              1,
              "#f0f921"
             ]
            ],
            "type": "surface"
           }
          ],
          "table": [
           {
            "cells": {
             "fill": {
              "color": "#EBF0F8"
             },
             "line": {
              "color": "white"
             }
            },
            "header": {
             "fill": {
              "color": "#C8D4E3"
             },
             "line": {
              "color": "white"
             }
            },
            "type": "table"
           }
          ]
         },
         "layout": {
          "annotationdefaults": {
           "arrowcolor": "#2a3f5f",
           "arrowhead": 0,
           "arrowwidth": 1
          },
          "autotypenumbers": "strict",
          "coloraxis": {
           "colorbar": {
            "outlinewidth": 0,
            "ticks": ""
           }
          },
          "colorscale": {
           "diverging": [
            [
             0,
             "#8e0152"
            ],
            [
             0.1,
             "#c51b7d"
            ],
            [
             0.2,
             "#de77ae"
            ],
            [
             0.3,
             "#f1b6da"
            ],
            [
             0.4,
             "#fde0ef"
            ],
            [
             0.5,
             "#f7f7f7"
            ],
            [
             0.6,
             "#e6f5d0"
            ],
            [
             0.7,
             "#b8e186"
            ],
            [
             0.8,
             "#7fbc41"
            ],
            [
             0.9,
             "#4d9221"
            ],
            [
             1,
             "#276419"
            ]
           ],
           "sequential": [
            [
             0,
             "#0d0887"
            ],
            [
             0.1111111111111111,
             "#46039f"
            ],
            [
             0.2222222222222222,
             "#7201a8"
            ],
            [
             0.3333333333333333,
             "#9c179e"
            ],
            [
             0.4444444444444444,
             "#bd3786"
            ],
            [
             0.5555555555555556,
             "#d8576b"
            ],
            [
             0.6666666666666666,
             "#ed7953"
            ],
            [
             0.7777777777777778,
             "#fb9f3a"
            ],
            [
             0.8888888888888888,
             "#fdca26"
            ],
            [
             1,
             "#f0f921"
            ]
           ],
           "sequentialminus": [
            [
             0,
             "#0d0887"
            ],
            [
             0.1111111111111111,
             "#46039f"
            ],
            [
             0.2222222222222222,
             "#7201a8"
            ],
            [
             0.3333333333333333,
             "#9c179e"
            ],
            [
             0.4444444444444444,
             "#bd3786"
            ],
            [
             0.5555555555555556,
             "#d8576b"
            ],
            [
             0.6666666666666666,
             "#ed7953"
            ],
            [
             0.7777777777777778,
             "#fb9f3a"
            ],
            [
             0.8888888888888888,
             "#fdca26"
            ],
            [
             1,
             "#f0f921"
            ]
           ]
          },
          "colorway": [
           "#636efa",
           "#EF553B",
           "#00cc96",
           "#ab63fa",
           "#FFA15A",
           "#19d3f3",
           "#FF6692",
           "#B6E880",
           "#FF97FF",
           "#FECB52"
          ],
          "font": {
           "color": "#2a3f5f"
          },
          "geo": {
           "bgcolor": "white",
           "lakecolor": "white",
           "landcolor": "#E5ECF6",
           "showlakes": true,
           "showland": true,
           "subunitcolor": "white"
          },
          "hoverlabel": {
           "align": "left"
          },
          "hovermode": "closest",
          "mapbox": {
           "style": "light"
          },
          "paper_bgcolor": "white",
          "plot_bgcolor": "#E5ECF6",
          "polar": {
           "angularaxis": {
            "gridcolor": "white",
            "linecolor": "white",
            "ticks": ""
           },
           "bgcolor": "#E5ECF6",
           "radialaxis": {
            "gridcolor": "white",
            "linecolor": "white",
            "ticks": ""
           }
          },
          "scene": {
           "xaxis": {
            "backgroundcolor": "#E5ECF6",
            "gridcolor": "white",
            "gridwidth": 2,
            "linecolor": "white",
            "showbackground": true,
            "ticks": "",
            "zerolinecolor": "white"
           },
           "yaxis": {
            "backgroundcolor": "#E5ECF6",
            "gridcolor": "white",
            "gridwidth": 2,
            "linecolor": "white",
            "showbackground": true,
            "ticks": "",
            "zerolinecolor": "white"
           },
           "zaxis": {
            "backgroundcolor": "#E5ECF6",
            "gridcolor": "white",
            "gridwidth": 2,
            "linecolor": "white",
            "showbackground": true,
            "ticks": "",
            "zerolinecolor": "white"
           }
          },
          "shapedefaults": {
           "line": {
            "color": "#2a3f5f"
           }
          },
          "ternary": {
           "aaxis": {
            "gridcolor": "white",
            "linecolor": "white",
            "ticks": ""
           },
           "baxis": {
            "gridcolor": "white",
            "linecolor": "white",
            "ticks": ""
           },
           "bgcolor": "#E5ECF6",
           "caxis": {
            "gridcolor": "white",
            "linecolor": "white",
            "ticks": ""
           }
          },
          "title": {
           "x": 0.05
          },
          "xaxis": {
           "automargin": true,
           "gridcolor": "white",
           "linecolor": "white",
           "ticks": "",
           "title": {
            "standoff": 15
           },
           "zerolinecolor": "white",
           "zerolinewidth": 2
          },
          "yaxis": {
           "automargin": true,
           "gridcolor": "white",
           "linecolor": "white",
           "ticks": "",
           "title": {
            "standoff": 15
           },
           "zerolinecolor": "white",
           "zerolinewidth": 2
          }
         }
        },
        "title": {
         "font": {
          "size": 30
         },
         "text": "High Correlation Matrix",
         "x": 0.5
        },
        "xaxis": {
         "anchor": "y",
         "domain": [
          0,
          1
         ]
        },
        "yaxis": {
         "anchor": "x",
         "autorange": "reversed",
         "domain": [
          0,
          1
         ]
        }
       }
      }
     },
     "metadata": {},
     "output_type": "display_data"
    }
   ],
   "source": [
    "fig = px.imshow(np.round(high_correlated,2), text_auto=True, aspect=\"auto\")\n",
    "fig.update_layout(title='High Correlation Matrix', height=700,font_size=10, title_font_size=30, title_x=0.5)\n",
    "fig.show()"
   ]
  },
  {
   "cell_type": "code",
   "execution_count": 44,
   "metadata": {},
   "outputs": [
    {
     "data": {
      "text/plain": [
       "Index(['crude_exports', 'crude_stocks', 'gasoline_output',\n",
       "       'distillate_fuel_output', 'jet_output', 'propane_output',\n",
       "       'residual_fuel_output', 'conventional_gasoline_spot_price',\n",
       "       'crude_brent_spot_price', 'gasoline_future_price1',\n",
       "       'gasoline_future_price2', 'gasoline_future_price3',\n",
       "       'gasoline_future_price4', 'gasoline_demand'],\n",
       "      dtype='object')"
      ]
     },
     "execution_count": 44,
     "metadata": {},
     "output_type": "execute_result"
    }
   ],
   "source": [
    "high_correlated_cols = high_correlated.columns\n",
    "high_correlated_cols"
   ]
  },
  {
   "attachments": {},
   "cell_type": "markdown",
   "metadata": {},
   "source": [
    "* İstatistiksel olarak anlamlı ise PCA denenebilir."
   ]
  },
  {
   "cell_type": "code",
   "execution_count": 90,
   "metadata": {},
   "outputs": [
    {
     "data": {
      "application/vnd.plotly.v1+json": {
       "config": {
        "plotlyServerURL": "https://plot.ly"
       },
       "data": [
        {
         "hovertemplate": "gasoline_demand=%{x}<br>gasoline_output=%{y}<br>target=%{marker.color}<extra></extra>",
         "legendgroup": "",
         "marker": {
          "color": [
           10639,
           10036,
           9886,
           9706,
           9286,
           9245,
           9550,
           9927,
           9953,
           10218,
           8795,
           8702,
           8755,
           8916,
           8921,
           9247,
           9851,
           10127,
           10323,
           10348,
           9706,
           10199,
           9681,
           9656,
           10577,
           9985,
           9987,
           9819,
           9644,
           9776,
           9964,
           10107,
           10088,
           10242,
           10214,
           9724,
           10059,
           9510,
           9759,
           9451,
           9493,
           10137,
           10107,
           9648,
           10196,
           9334,
           9342,
           8963,
           9371,
           9617,
           9586,
           9709,
           9268,
           9133,
           9330,
           9226,
           9257,
           9247,
           8682,
           9250,
           9526,
           9502,
           8792,
           8144,
           8184,
           8690,
           8550,
           8482,
           8722,
           9296,
           9061,
           8605,
           8938,
           9187,
           9445,
           9686,
           9848,
           9454,
           9316,
           9435,
           9655,
           9761,
           9580,
           9657,
           9003,
           10103,
           9497,
           9378,
           9785,
           9439,
           9384,
           9350,
           9582,
           9621,
           10154,
           9906,
           9759,
           10244,
           9589,
           9403,
           9115,
           9289,
           8842,
           9006,
           8985,
           9361,
           8427,
           9425,
           9688,
           8332,
           8249,
           8440,
           8631,
           9144,
           8575,
           7311,
           8230,
           9102,
           9339,
           8721,
           9137,
           9369,
           9461,
           8709,
           9601,
           8607,
           9046,
           9074,
           8846,
           9050,
           9733,
           9188,
           9098,
           8745,
           9556,
           9629,
           9599,
           9194,
           9321,
           9229,
           9773,
           10136,
           9008,
           9475,
           9836,
           9909,
           9494,
           10037,
           9809,
           9409,
           8886,
           9665,
           9086,
           8615,
           9430,
           9913,
           9452,
           9835,
           8980,
           9619,
           9388,
           9516,
           9053,
           8330,
           9356,
           9790,
           8706,
           8109,
           7348,
           8201,
           9184,
           8757,
           8894,
           8555,
           8794,
           9020,
           9923,
           9285,
           9780,
           9271,
           10084,
           8964,
           8849,
           8651,
           8946,
           10194,
           10051,
           10122,
           9904,
           8786,
           10107,
           9084,
           9749,
           9576,
           9354,
           9124,
           9399,
           10333,
           9666,
           9322,
           9737,
           10342,
           8586,
           9372,
           9342,
           9364,
           8675,
           9805,
           9489,
           9325,
           10000,
           9166,
           9486,
           9475,
           9665,
           8214,
           9330,
           9851,
           10253,
           7938,
           8821,
           9451,
           9646,
           8928,
           8390,
           9248,
           9994,
           9476,
           9048,
           10378,
           9208,
           10500,
           9006,
           9544,
           10259,
           9345,
           9173,
           10082,
           10042,
           10985,
           9721,
           10666,
           9841,
           10366,
           10691,
           10180,
           9965,
           10804,
           9979,
           10246,
           10410,
           11059,
           9755,
           10253,
           9702,
           9144,
           9434,
           9686,
           9063,
           10199,
           9991,
           10148,
           9876,
           9907,
           9363,
           9033,
           9549,
           9788,
           9759,
           9049,
           9803,
           7385,
           7588,
           8841,
           8998,
           7957,
           9596,
           9346,
           10434,
           9600,
           10393,
           10439,
           10363,
           9907,
           9693,
           10354,
           10155,
           9762,
           10267,
           10592,
           10631,
           10094,
           10676,
           10418,
           10455,
           10701,
           10272,
           10405,
           10469,
           10421,
           10418,
           10641,
           10975,
           10825,
           10376,
           10402,
           10726,
           9916,
           10503,
           9496,
           10232,
           10164,
           9372,
           10139,
           9803,
           10292,
           9906,
           9350,
           9658,
           9083,
           9250,
           9989,
           10049,
           8006,
           8650,
           7767,
           7573,
           8134,
           9837,
           8592,
           9323,
           9100,
           10281,
           10013,
           9905,
           10476,
           9621,
           10129,
           9768,
           9519,
           9716,
           10309,
           10267,
           10491,
           10900,
           9691,
           9592,
           10497,
           10370,
           10915,
           10685,
           10749,
           10666,
           10691,
           10465,
           10041,
           10602,
           10699,
           10130,
           11120,
           10239,
           10187,
           9840,
           9836,
           9955,
           10043,
           10534,
           10413,
           9229,
           10157,
           9016,
           8383,
           9071,
           9571,
           9687,
           8390,
           8394,
           8640,
           8663,
           9743,
           9514,
           9076,
           9501,
           8946,
           9883,
           10994,
           10051,
           10387,
           10069,
           9950,
           10686,
           9871,
           9899,
           10506,
           10799,
           10490,
           10659,
           9239,
           10992,
           9877,
           10351,
           10687,
           10465,
           10667,
           10762,
           11084,
           9845,
           10067,
           10152,
           10742,
           10462,
           10578,
           10380,
           9515,
           9912,
           9239,
           9948,
           10079,
           10166,
           9346,
           9770,
           9583,
           9600,
           8611,
           9372,
           9728,
           9373,
           7990,
           8062,
           8059,
           9039,
           10139,
           9512,
           9058,
           9304,
           9483,
           10099,
           10037,
           10714,
           10063,
           10198,
           11328,
           10475,
           10444,
           9878,
           10837,
           10039,
           10286,
           9918,
           10008,
           10335,
           10871,
           10531,
           10147,
           10796,
           9580,
           10548,
           10979,
           10227,
           10756,
           10068,
           11224,
           10512,
           10616,
           9148,
           10160,
           10036,
           10085,
           10233,
           10614,
           10638,
           9924,
           9772,
           9428,
           9169,
           8983,
           8643,
           9407,
           9712,
           9161,
           7176,
           8162,
           9039,
           8880,
           9606,
           9038,
           9457,
           9744,
           10076,
           10642,
           10941,
           9176,
           6444
          ],
          "coloraxis": "coloraxis",
          "symbol": "circle"
         },
         "mode": "markers",
         "name": "",
         "scene": "scene",
         "showlegend": false,
         "type": "scatter3d",
         "x": [
          9460,
          10639,
          10036,
          9886,
          9706,
          9286,
          9245,
          9550,
          9927,
          9953,
          10218,
          8795,
          8702,
          8755,
          8916,
          8921,
          9247,
          9851,
          10127,
          10323,
          10348,
          9706,
          10199,
          9681,
          9656,
          10577,
          9985,
          9987,
          9819,
          9644,
          9776,
          9964,
          10107,
          10088,
          10242,
          10214,
          9724,
          10059,
          9510,
          9759,
          9451,
          9493,
          10137,
          10107,
          9648,
          10196,
          9334,
          9342,
          8963,
          9371,
          9617,
          9586,
          9709,
          9268,
          9133,
          9330,
          9226,
          9257,
          9247,
          8682,
          9250,
          9526,
          9502,
          8792,
          8144,
          8184,
          8690,
          8550,
          8482,
          8722,
          9296,
          9061,
          8605,
          8938,
          9187,
          9445,
          9686,
          9848,
          9454,
          9316,
          9435,
          9655,
          9761,
          9580,
          9657,
          9003,
          10103,
          9497,
          9378,
          9785,
          9439,
          9384,
          9350,
          9582,
          9621,
          10154,
          9906,
          9759,
          10244,
          9589,
          9403,
          9115,
          9289,
          8842,
          9006,
          8985,
          9361,
          8427,
          9425,
          9688,
          8332,
          8249,
          8440,
          8631,
          9144,
          8575,
          7311,
          8230,
          9102,
          9339,
          8721,
          9137,
          9369,
          9461,
          8709,
          9601,
          8607,
          9046,
          9074,
          8846,
          9050,
          9733,
          9188,
          9098,
          8745,
          9556,
          9629,
          9599,
          9194,
          9321,
          9229,
          9773,
          10136,
          9008,
          9475,
          9836,
          9909,
          9494,
          10037,
          9809,
          9409,
          8886,
          9665,
          9086,
          8615,
          9430,
          9913,
          9452,
          9835,
          8980,
          9619,
          9388,
          9516,
          9053,
          8330,
          9356,
          9790,
          8706,
          8109,
          7348,
          8201,
          9184,
          8757,
          8894,
          8555,
          8794,
          9020,
          9923,
          9285,
          9780,
          9271,
          10084,
          8964,
          8849,
          8651,
          8946,
          10194,
          10051,
          10122,
          9904,
          8786,
          10107,
          9084,
          9749,
          9576,
          9354,
          9124,
          9399,
          10333,
          9666,
          9322,
          9737,
          10342,
          8586,
          9372,
          9342,
          9364,
          8675,
          9805,
          9489,
          9325,
          10000,
          9166,
          9486,
          9475,
          9665,
          8214,
          9330,
          9851,
          10253,
          7938,
          8821,
          9451,
          9646,
          8928,
          8390,
          9248,
          9994,
          9476,
          9048,
          10378,
          9208,
          10500,
          9006,
          9544,
          10259,
          9345,
          9173,
          10082,
          10042,
          10985,
          9721,
          10666,
          9841,
          10366,
          10691,
          10180,
          9965,
          10804,
          9979,
          10246,
          10410,
          11059,
          9755,
          10253,
          9702,
          9144,
          9434,
          9686,
          9063,
          10199,
          9991,
          10148,
          9876,
          9907,
          9363,
          9033,
          9549,
          9788,
          9759,
          9049,
          9803,
          7385,
          7588,
          8841,
          8998,
          7957,
          9596,
          9346,
          10434,
          9600,
          10393,
          10439,
          10363,
          9907,
          9693,
          10354,
          10155,
          9762,
          10267,
          10592,
          10631,
          10094,
          10676,
          10418,
          10455,
          10701,
          10272,
          10405,
          10469,
          10421,
          10418,
          10641,
          10975,
          10825,
          10376,
          10402,
          10726,
          9916,
          10503,
          9496,
          10232,
          10164,
          9372,
          10139,
          9803,
          10292,
          9906,
          9350,
          9658,
          9083,
          9250,
          9989,
          10049,
          8006,
          8650,
          7767,
          7573,
          8134,
          9837,
          8592,
          9323,
          9100,
          10281,
          10013,
          9905,
          10476,
          9621,
          10129,
          9768,
          9519,
          9716,
          10309,
          10267,
          10491,
          10900,
          9691,
          9592,
          10497,
          10370,
          10915,
          10685,
          10749,
          10666,
          10691,
          10465,
          10041,
          10602,
          10699,
          10130,
          11120,
          10239,
          10187,
          9840,
          9836,
          9955,
          10043,
          10534,
          10413,
          9229,
          10157,
          9016,
          8383,
          9071,
          9571,
          9687,
          8390,
          8394,
          8640,
          8663,
          9743,
          9514,
          9076,
          9501,
          8946,
          9883,
          10994,
          10051,
          10387,
          10069,
          9950,
          10686,
          9871,
          9899,
          10506,
          10799,
          10490,
          10659,
          9239,
          10992,
          9877,
          10351,
          10687,
          10465,
          10667,
          10762,
          11084,
          9845,
          10067,
          10152,
          10742,
          10462,
          10578,
          10380,
          9515,
          9912,
          9239,
          9948,
          10079,
          10166,
          9346,
          9770,
          9583,
          9600,
          8611,
          9372,
          9728,
          9373,
          7990,
          8062,
          8059,
          9039,
          10139,
          9512,
          9058,
          9304,
          9483,
          10099,
          10037,
          10714,
          10063,
          10198,
          11328,
          10475,
          10444,
          9878,
          10837,
          10039,
          10286,
          9918,
          10008,
          10335,
          10871,
          10531,
          10147,
          10796,
          9580,
          10548,
          10979,
          10227,
          10756,
          10068,
          11224,
          10512,
          10616,
          9148,
          10160,
          10036,
          10085,
          10233,
          10614,
          10638,
          9924,
          9772,
          9428,
          9169,
          8983,
          8643,
          9407,
          9712,
          9161,
          7176,
          8162,
          9039,
          8880,
          9606,
          9038,
          9457,
          9744,
          10076,
          10642,
          10941,
          9176
         ],
         "y": [
          9046,
          9214,
          8981,
          9011,
          8932,
          8943,
          8795,
          9396,
          9335,
          9457,
          9281,
          8920,
          8725,
          8867,
          8815,
          8827,
          9076,
          9169,
          9143,
          9226,
          9026,
          8744,
          9026,
          8696,
          8810,
          8970,
          9168,
          8841,
          8826,
          8876,
          9131,
          9259,
          9433,
          9446,
          9469,
          9541,
          9097,
          9529,
          8898,
          9242,
          9190,
          9146,
          9533,
          9324,
          9343,
          9584,
          9161,
          9356,
          9078,
          9279,
          9286,
          8914,
          9313,
          8936,
          9082,
          8815,
          9135,
          9470,
          9188,
          9127,
          9544,
          9390,
          9402,
          8936,
          8739,
          8788,
          8539,
          8562,
          8626,
          8788,
          8975,
          8850,
          8589,
          8821,
          8762,
          8756,
          8973,
          8912,
          8915,
          8789,
          8786,
          9087,
          9098,
          8945,
          9153,
          9056,
          9551,
          9022,
          9280,
          9388,
          9318,
          8894,
          9264,
          8977,
          9250,
          9357,
          9321,
          9183,
          9276,
          8951,
          9118,
          8930,
          9107,
          8638,
          9046,
          8989,
          9203,
          8892,
          9103,
          9189,
          8729,
          9197,
          8908,
          8888,
          9545,
          8917,
          8385,
          8590,
          8908,
          9064,
          8761,
          8896,
          8936,
          9211,
          8606,
          8954,
          8558,
          8861,
          8946,
          8761,
          8902,
          8995,
          8786,
          8673,
          8929,
          9214,
          9009,
          9341,
          9203,
          9100,
          9133,
          9382,
          9586,
          9047,
          9213,
          9504,
          9552,
          9072,
          9436,
          9403,
          9065,
          9069,
          9288,
          9030,
          8929,
          9249,
          9335,
          9130,
          9434,
          8352,
          9434,
          9268,
          9420,
          8977,
          8982,
          9311,
          9715,
          9078,
          9120,
          8325,
          8475,
          9187,
          8796,
          8866,
          8776,
          8693,
          9037,
          9357,
          9231,
          9000,
          9043,
          9370,
          8939,
          8891,
          8623,
          8992,
          9606,
          9592,
          9526,
          9476,
          8855,
          9840,
          9054,
          9436,
          9425,
          9139,
          9357,
          9337,
          9759,
          9518,
          9152,
          9514,
          9572,
          8965,
          9174,
          9135,
          9045,
          8874,
          9254,
          9313,
          9078,
          9695,
          9345,
          9630,
          9641,
          9593,
          9169,
          9652,
          9920,
          10195,
          8701,
          9125,
          9215,
          9177,
          9087,
          8708,
          9180,
          9659,
          9522,
          9165,
          9754,
          9024,
          9729,
          9143,
          9249,
          9763,
          9374,
          9152,
          9690,
          9651,
          10164,
          9408,
          10007,
          9651,
          9934,
          10046,
          9868,
          9658,
          10109,
          9681,
          9984,
          9993,
          10248,
          9782,
          9799,
          9587,
          9247,
          9545,
          9674,
          9306,
          9619,
          9579,
          9703,
          9537,
          9693,
          9558,
          9544,
          9752,
          9869,
          9963,
          9346,
          9921,
          8766,
          8820,
          9453,
          9377,
          8642,
          9553,
          9675,
          10009,
          9335,
          9580,
          10015,
          9683,
          9430,
          9617,
          9568,
          9738,
          9507,
          9811,
          10051,
          9997,
          9866,
          9916,
          10122,
          9707,
          10289,
          9959,
          10018,
          10218,
          10050,
          10068,
          9992,
          10098,
          10280,
          10035,
          10021,
          10173,
          9900,
          10083,
          9555,
          9988,
          9935,
          9498,
          9837,
          9824,
          10456,
          10152,
          9700,
          9986,
          9913,
          9828,
          10150,
          10537,
          9467,
          9666,
          8953,
          8825,
          9101,
          9804,
          8950,
          9429,
          9456,
          9844,
          9540,
          9771,
          10028,
          9515,
          9927,
          9794,
          9710,
          9783,
          10052,
          10020,
          10243,
          10430,
          9934,
          9843,
          10163,
          10334,
          10365,
          10469,
          10096,
          10393,
          10295,
          10301,
          10048,
          10566,
          10602,
          9517,
          9888,
          9793,
          9855,
          9853,
          9741,
          10031,
          9936,
          10187,
          10167,
          9852,
          10432,
          10222,
          9758,
          10129,
          10065,
          10246,
          9682,
          9525,
          9710,
          9358,
          9567,
          10085,
          9592,
          10107,
          9391,
          9923,
          10280,
          9932,
          10305,
          10115,
          10150,
          10204,
          9886,
          10045,
          9974,
          10462,
          10052,
          10433,
          9658,
          10451,
          10099,
          10142,
          10311,
          10699,
          10292,
          10255,
          10483,
          9913,
          10234,
          10151,
          10237,
          10215,
          10384,
          10270,
          9832,
          9950,
          9711,
          10430,
          10028,
          10364,
          9714,
          10056,
          10036,
          10168,
          9666,
          10457,
          10334,
          10144,
          9533,
          9392,
          9584,
          9604,
          9904,
          9856,
          9619,
          9489,
          9553,
          9852,
          9735,
          9925,
          9657,
          9813,
          10169,
          9917,
          9781,
          9927,
          10129,
          9912,
          9883,
          9863,
          10050,
          10276,
          10423,
          10512,
          9948,
          10418,
          9855,
          10089,
          10416,
          10421,
          10203,
          9897,
          10661,
          10272,
          10359,
          9451,
          10240,
          10081,
          10066,
          9997,
          10099,
          10184,
          10036,
          10173,
          10053,
          10065,
          9941,
          9753,
          9840,
          10269,
          10172,
          8887,
          9281,
          9535,
          9158,
          9903,
          9241,
          9525,
          9797,
          9758,
          9956,
          9974,
          8958
         ],
         "z": [
          10639,
          10036,
          9886,
          9706,
          9286,
          9245,
          9550,
          9927,
          9953,
          10218,
          8795,
          8702,
          8755,
          8916,
          8921,
          9247,
          9851,
          10127,
          10323,
          10348,
          9706,
          10199,
          9681,
          9656,
          10577,
          9985,
          9987,
          9819,
          9644,
          9776,
          9964,
          10107,
          10088,
          10242,
          10214,
          9724,
          10059,
          9510,
          9759,
          9451,
          9493,
          10137,
          10107,
          9648,
          10196,
          9334,
          9342,
          8963,
          9371,
          9617,
          9586,
          9709,
          9268,
          9133,
          9330,
          9226,
          9257,
          9247,
          8682,
          9250,
          9526,
          9502,
          8792,
          8144,
          8184,
          8690,
          8550,
          8482,
          8722,
          9296,
          9061,
          8605,
          8938,
          9187,
          9445,
          9686,
          9848,
          9454,
          9316,
          9435,
          9655,
          9761,
          9580,
          9657,
          9003,
          10103,
          9497,
          9378,
          9785,
          9439,
          9384,
          9350,
          9582,
          9621,
          10154,
          9906,
          9759,
          10244,
          9589,
          9403,
          9115,
          9289,
          8842,
          9006,
          8985,
          9361,
          8427,
          9425,
          9688,
          8332,
          8249,
          8440,
          8631,
          9144,
          8575,
          7311,
          8230,
          9102,
          9339,
          8721,
          9137,
          9369,
          9461,
          8709,
          9601,
          8607,
          9046,
          9074,
          8846,
          9050,
          9733,
          9188,
          9098,
          8745,
          9556,
          9629,
          9599,
          9194,
          9321,
          9229,
          9773,
          10136,
          9008,
          9475,
          9836,
          9909,
          9494,
          10037,
          9809,
          9409,
          8886,
          9665,
          9086,
          8615,
          9430,
          9913,
          9452,
          9835,
          8980,
          9619,
          9388,
          9516,
          9053,
          8330,
          9356,
          9790,
          8706,
          8109,
          7348,
          8201,
          9184,
          8757,
          8894,
          8555,
          8794,
          9020,
          9923,
          9285,
          9780,
          9271,
          10084,
          8964,
          8849,
          8651,
          8946,
          10194,
          10051,
          10122,
          9904,
          8786,
          10107,
          9084,
          9749,
          9576,
          9354,
          9124,
          9399,
          10333,
          9666,
          9322,
          9737,
          10342,
          8586,
          9372,
          9342,
          9364,
          8675,
          9805,
          9489,
          9325,
          10000,
          9166,
          9486,
          9475,
          9665,
          8214,
          9330,
          9851,
          10253,
          7938,
          8821,
          9451,
          9646,
          8928,
          8390,
          9248,
          9994,
          9476,
          9048,
          10378,
          9208,
          10500,
          9006,
          9544,
          10259,
          9345,
          9173,
          10082,
          10042,
          10985,
          9721,
          10666,
          9841,
          10366,
          10691,
          10180,
          9965,
          10804,
          9979,
          10246,
          10410,
          11059,
          9755,
          10253,
          9702,
          9144,
          9434,
          9686,
          9063,
          10199,
          9991,
          10148,
          9876,
          9907,
          9363,
          9033,
          9549,
          9788,
          9759,
          9049,
          9803,
          7385,
          7588,
          8841,
          8998,
          7957,
          9596,
          9346,
          10434,
          9600,
          10393,
          10439,
          10363,
          9907,
          9693,
          10354,
          10155,
          9762,
          10267,
          10592,
          10631,
          10094,
          10676,
          10418,
          10455,
          10701,
          10272,
          10405,
          10469,
          10421,
          10418,
          10641,
          10975,
          10825,
          10376,
          10402,
          10726,
          9916,
          10503,
          9496,
          10232,
          10164,
          9372,
          10139,
          9803,
          10292,
          9906,
          9350,
          9658,
          9083,
          9250,
          9989,
          10049,
          8006,
          8650,
          7767,
          7573,
          8134,
          9837,
          8592,
          9323,
          9100,
          10281,
          10013,
          9905,
          10476,
          9621,
          10129,
          9768,
          9519,
          9716,
          10309,
          10267,
          10491,
          10900,
          9691,
          9592,
          10497,
          10370,
          10915,
          10685,
          10749,
          10666,
          10691,
          10465,
          10041,
          10602,
          10699,
          10130,
          11120,
          10239,
          10187,
          9840,
          9836,
          9955,
          10043,
          10534,
          10413,
          9229,
          10157,
          9016,
          8383,
          9071,
          9571,
          9687,
          8390,
          8394,
          8640,
          8663,
          9743,
          9514,
          9076,
          9501,
          8946,
          9883,
          10994,
          10051,
          10387,
          10069,
          9950,
          10686,
          9871,
          9899,
          10506,
          10799,
          10490,
          10659,
          9239,
          10992,
          9877,
          10351,
          10687,
          10465,
          10667,
          10762,
          11084,
          9845,
          10067,
          10152,
          10742,
          10462,
          10578,
          10380,
          9515,
          9912,
          9239,
          9948,
          10079,
          10166,
          9346,
          9770,
          9583,
          9600,
          8611,
          9372,
          9728,
          9373,
          7990,
          8062,
          8059,
          9039,
          10139,
          9512,
          9058,
          9304,
          9483,
          10099,
          10037,
          10714,
          10063,
          10198,
          11328,
          10475,
          10444,
          9878,
          10837,
          10039,
          10286,
          9918,
          10008,
          10335,
          10871,
          10531,
          10147,
          10796,
          9580,
          10548,
          10979,
          10227,
          10756,
          10068,
          11224,
          10512,
          10616,
          9148,
          10160,
          10036,
          10085,
          10233,
          10614,
          10638,
          9924,
          9772,
          9428,
          9169,
          8983,
          8643,
          9407,
          9712,
          9161,
          7176,
          8162,
          9039,
          8880,
          9606,
          9038,
          9457,
          9744,
          10076,
          10642,
          10941,
          9176,
          6444
         ]
        }
       ],
       "layout": {
        "coloraxis": {
         "colorbar": {
          "title": {
           "text": "target"
          }
         },
         "colorscale": [
          [
           0,
           "#0d0887"
          ],
          [
           0.1111111111111111,
           "#46039f"
          ],
          [
           0.2222222222222222,
           "#7201a8"
          ],
          [
           0.3333333333333333,
           "#9c179e"
          ],
          [
           0.4444444444444444,
           "#bd3786"
          ],
          [
           0.5555555555555556,
           "#d8576b"
          ],
          [
           0.6666666666666666,
           "#ed7953"
          ],
          [
           0.7777777777777778,
           "#fb9f3a"
          ],
          [
           0.8888888888888888,
           "#fdca26"
          ],
          [
           1,
           "#f0f921"
          ]
         ]
        },
        "legend": {
         "tracegroupgap": 0
        },
        "margin": {
         "t": 60
        },
        "scene": {
         "domain": {
          "x": [
           0,
           1
          ],
          "y": [
           0,
           1
          ]
         },
         "xaxis": {
          "title": {
           "text": "gasoline_demand"
          }
         },
         "yaxis": {
          "title": {
           "text": "gasoline_output"
          }
         },
         "zaxis": {
          "title": {
           "text": "target"
          }
         }
        },
        "template": {
         "data": {
          "bar": [
           {
            "error_x": {
             "color": "#2a3f5f"
            },
            "error_y": {
             "color": "#2a3f5f"
            },
            "marker": {
             "line": {
              "color": "#E5ECF6",
              "width": 0.5
             },
             "pattern": {
              "fillmode": "overlay",
              "size": 10,
              "solidity": 0.2
             }
            },
            "type": "bar"
           }
          ],
          "barpolar": [
           {
            "marker": {
             "line": {
              "color": "#E5ECF6",
              "width": 0.5
             },
             "pattern": {
              "fillmode": "overlay",
              "size": 10,
              "solidity": 0.2
             }
            },
            "type": "barpolar"
           }
          ],
          "carpet": [
           {
            "aaxis": {
             "endlinecolor": "#2a3f5f",
             "gridcolor": "white",
             "linecolor": "white",
             "minorgridcolor": "white",
             "startlinecolor": "#2a3f5f"
            },
            "baxis": {
             "endlinecolor": "#2a3f5f",
             "gridcolor": "white",
             "linecolor": "white",
             "minorgridcolor": "white",
             "startlinecolor": "#2a3f5f"
            },
            "type": "carpet"
           }
          ],
          "choropleth": [
           {
            "colorbar": {
             "outlinewidth": 0,
             "ticks": ""
            },
            "type": "choropleth"
           }
          ],
          "contour": [
           {
            "colorbar": {
             "outlinewidth": 0,
             "ticks": ""
            },
            "colorscale": [
             [
              0,
              "#0d0887"
             ],
             [
              0.1111111111111111,
              "#46039f"
             ],
             [
              0.2222222222222222,
              "#7201a8"
             ],
             [
              0.3333333333333333,
              "#9c179e"
             ],
             [
              0.4444444444444444,
              "#bd3786"
             ],
             [
              0.5555555555555556,
              "#d8576b"
             ],
             [
              0.6666666666666666,
              "#ed7953"
             ],
             [
              0.7777777777777778,
              "#fb9f3a"
             ],
             [
              0.8888888888888888,
              "#fdca26"
             ],
             [
              1,
              "#f0f921"
             ]
            ],
            "type": "contour"
           }
          ],
          "contourcarpet": [
           {
            "colorbar": {
             "outlinewidth": 0,
             "ticks": ""
            },
            "type": "contourcarpet"
           }
          ],
          "heatmap": [
           {
            "colorbar": {
             "outlinewidth": 0,
             "ticks": ""
            },
            "colorscale": [
             [
              0,
              "#0d0887"
             ],
             [
              0.1111111111111111,
              "#46039f"
             ],
             [
              0.2222222222222222,
              "#7201a8"
             ],
             [
              0.3333333333333333,
              "#9c179e"
             ],
             [
              0.4444444444444444,
              "#bd3786"
             ],
             [
              0.5555555555555556,
              "#d8576b"
             ],
             [
              0.6666666666666666,
              "#ed7953"
             ],
             [
              0.7777777777777778,
              "#fb9f3a"
             ],
             [
              0.8888888888888888,
              "#fdca26"
             ],
             [
              1,
              "#f0f921"
             ]
            ],
            "type": "heatmap"
           }
          ],
          "heatmapgl": [
           {
            "colorbar": {
             "outlinewidth": 0,
             "ticks": ""
            },
            "colorscale": [
             [
              0,
              "#0d0887"
             ],
             [
              0.1111111111111111,
              "#46039f"
             ],
             [
              0.2222222222222222,
              "#7201a8"
             ],
             [
              0.3333333333333333,
              "#9c179e"
             ],
             [
              0.4444444444444444,
              "#bd3786"
             ],
             [
              0.5555555555555556,
              "#d8576b"
             ],
             [
              0.6666666666666666,
              "#ed7953"
             ],
             [
              0.7777777777777778,
              "#fb9f3a"
             ],
             [
              0.8888888888888888,
              "#fdca26"
             ],
             [
              1,
              "#f0f921"
             ]
            ],
            "type": "heatmapgl"
           }
          ],
          "histogram": [
           {
            "marker": {
             "pattern": {
              "fillmode": "overlay",
              "size": 10,
              "solidity": 0.2
             }
            },
            "type": "histogram"
           }
          ],
          "histogram2d": [
           {
            "colorbar": {
             "outlinewidth": 0,
             "ticks": ""
            },
            "colorscale": [
             [
              0,
              "#0d0887"
             ],
             [
              0.1111111111111111,
              "#46039f"
             ],
             [
              0.2222222222222222,
              "#7201a8"
             ],
             [
              0.3333333333333333,
              "#9c179e"
             ],
             [
              0.4444444444444444,
              "#bd3786"
             ],
             [
              0.5555555555555556,
              "#d8576b"
             ],
             [
              0.6666666666666666,
              "#ed7953"
             ],
             [
              0.7777777777777778,
              "#fb9f3a"
             ],
             [
              0.8888888888888888,
              "#fdca26"
             ],
             [
              1,
              "#f0f921"
             ]
            ],
            "type": "histogram2d"
           }
          ],
          "histogram2dcontour": [
           {
            "colorbar": {
             "outlinewidth": 0,
             "ticks": ""
            },
            "colorscale": [
             [
              0,
              "#0d0887"
             ],
             [
              0.1111111111111111,
              "#46039f"
             ],
             [
              0.2222222222222222,
              "#7201a8"
             ],
             [
              0.3333333333333333,
              "#9c179e"
             ],
             [
              0.4444444444444444,
              "#bd3786"
             ],
             [
              0.5555555555555556,
              "#d8576b"
             ],
             [
              0.6666666666666666,
              "#ed7953"
             ],
             [
              0.7777777777777778,
              "#fb9f3a"
             ],
             [
              0.8888888888888888,
              "#fdca26"
             ],
             [
              1,
              "#f0f921"
             ]
            ],
            "type": "histogram2dcontour"
           }
          ],
          "mesh3d": [
           {
            "colorbar": {
             "outlinewidth": 0,
             "ticks": ""
            },
            "type": "mesh3d"
           }
          ],
          "parcoords": [
           {
            "line": {
             "colorbar": {
              "outlinewidth": 0,
              "ticks": ""
             }
            },
            "type": "parcoords"
           }
          ],
          "pie": [
           {
            "automargin": true,
            "type": "pie"
           }
          ],
          "scatter": [
           {
            "fillpattern": {
             "fillmode": "overlay",
             "size": 10,
             "solidity": 0.2
            },
            "type": "scatter"
           }
          ],
          "scatter3d": [
           {
            "line": {
             "colorbar": {
              "outlinewidth": 0,
              "ticks": ""
             }
            },
            "marker": {
             "colorbar": {
              "outlinewidth": 0,
              "ticks": ""
             }
            },
            "type": "scatter3d"
           }
          ],
          "scattercarpet": [
           {
            "marker": {
             "colorbar": {
              "outlinewidth": 0,
              "ticks": ""
             }
            },
            "type": "scattercarpet"
           }
          ],
          "scattergeo": [
           {
            "marker": {
             "colorbar": {
              "outlinewidth": 0,
              "ticks": ""
             }
            },
            "type": "scattergeo"
           }
          ],
          "scattergl": [
           {
            "marker": {
             "colorbar": {
              "outlinewidth": 0,
              "ticks": ""
             }
            },
            "type": "scattergl"
           }
          ],
          "scattermapbox": [
           {
            "marker": {
             "colorbar": {
              "outlinewidth": 0,
              "ticks": ""
             }
            },
            "type": "scattermapbox"
           }
          ],
          "scatterpolar": [
           {
            "marker": {
             "colorbar": {
              "outlinewidth": 0,
              "ticks": ""
             }
            },
            "type": "scatterpolar"
           }
          ],
          "scatterpolargl": [
           {
            "marker": {
             "colorbar": {
              "outlinewidth": 0,
              "ticks": ""
             }
            },
            "type": "scatterpolargl"
           }
          ],
          "scatterternary": [
           {
            "marker": {
             "colorbar": {
              "outlinewidth": 0,
              "ticks": ""
             }
            },
            "type": "scatterternary"
           }
          ],
          "surface": [
           {
            "colorbar": {
             "outlinewidth": 0,
             "ticks": ""
            },
            "colorscale": [
             [
              0,
              "#0d0887"
             ],
             [
              0.1111111111111111,
              "#46039f"
             ],
             [
              0.2222222222222222,
              "#7201a8"
             ],
             [
              0.3333333333333333,
              "#9c179e"
             ],
             [
              0.4444444444444444,
              "#bd3786"
             ],
             [
              0.5555555555555556,
              "#d8576b"
             ],
             [
              0.6666666666666666,
              "#ed7953"
             ],
             [
              0.7777777777777778,
              "#fb9f3a"
             ],
             [
              0.8888888888888888,
              "#fdca26"
             ],
             [
              1,
              "#f0f921"
             ]
            ],
            "type": "surface"
           }
          ],
          "table": [
           {
            "cells": {
             "fill": {
              "color": "#EBF0F8"
             },
             "line": {
              "color": "white"
             }
            },
            "header": {
             "fill": {
              "color": "#C8D4E3"
             },
             "line": {
              "color": "white"
             }
            },
            "type": "table"
           }
          ]
         },
         "layout": {
          "annotationdefaults": {
           "arrowcolor": "#2a3f5f",
           "arrowhead": 0,
           "arrowwidth": 1
          },
          "autotypenumbers": "strict",
          "coloraxis": {
           "colorbar": {
            "outlinewidth": 0,
            "ticks": ""
           }
          },
          "colorscale": {
           "diverging": [
            [
             0,
             "#8e0152"
            ],
            [
             0.1,
             "#c51b7d"
            ],
            [
             0.2,
             "#de77ae"
            ],
            [
             0.3,
             "#f1b6da"
            ],
            [
             0.4,
             "#fde0ef"
            ],
            [
             0.5,
             "#f7f7f7"
            ],
            [
             0.6,
             "#e6f5d0"
            ],
            [
             0.7,
             "#b8e186"
            ],
            [
             0.8,
             "#7fbc41"
            ],
            [
             0.9,
             "#4d9221"
            ],
            [
             1,
             "#276419"
            ]
           ],
           "sequential": [
            [
             0,
             "#0d0887"
            ],
            [
             0.1111111111111111,
             "#46039f"
            ],
            [
             0.2222222222222222,
             "#7201a8"
            ],
            [
             0.3333333333333333,
             "#9c179e"
            ],
            [
             0.4444444444444444,
             "#bd3786"
            ],
            [
             0.5555555555555556,
             "#d8576b"
            ],
            [
             0.6666666666666666,
             "#ed7953"
            ],
            [
             0.7777777777777778,
             "#fb9f3a"
            ],
            [
             0.8888888888888888,
             "#fdca26"
            ],
            [
             1,
             "#f0f921"
            ]
           ],
           "sequentialminus": [
            [
             0,
             "#0d0887"
            ],
            [
             0.1111111111111111,
             "#46039f"
            ],
            [
             0.2222222222222222,
             "#7201a8"
            ],
            [
             0.3333333333333333,
             "#9c179e"
            ],
            [
             0.4444444444444444,
             "#bd3786"
            ],
            [
             0.5555555555555556,
             "#d8576b"
            ],
            [
             0.6666666666666666,
             "#ed7953"
            ],
            [
             0.7777777777777778,
             "#fb9f3a"
            ],
            [
             0.8888888888888888,
             "#fdca26"
            ],
            [
             1,
             "#f0f921"
            ]
           ]
          },
          "colorway": [
           "#636efa",
           "#EF553B",
           "#00cc96",
           "#ab63fa",
           "#FFA15A",
           "#19d3f3",
           "#FF6692",
           "#B6E880",
           "#FF97FF",
           "#FECB52"
          ],
          "font": {
           "color": "#2a3f5f"
          },
          "geo": {
           "bgcolor": "white",
           "lakecolor": "white",
           "landcolor": "#E5ECF6",
           "showlakes": true,
           "showland": true,
           "subunitcolor": "white"
          },
          "hoverlabel": {
           "align": "left"
          },
          "hovermode": "closest",
          "mapbox": {
           "style": "light"
          },
          "paper_bgcolor": "white",
          "plot_bgcolor": "#E5ECF6",
          "polar": {
           "angularaxis": {
            "gridcolor": "white",
            "linecolor": "white",
            "ticks": ""
           },
           "bgcolor": "#E5ECF6",
           "radialaxis": {
            "gridcolor": "white",
            "linecolor": "white",
            "ticks": ""
           }
          },
          "scene": {
           "xaxis": {
            "backgroundcolor": "#E5ECF6",
            "gridcolor": "white",
            "gridwidth": 2,
            "linecolor": "white",
            "showbackground": true,
            "ticks": "",
            "zerolinecolor": "white"
           },
           "yaxis": {
            "backgroundcolor": "#E5ECF6",
            "gridcolor": "white",
            "gridwidth": 2,
            "linecolor": "white",
            "showbackground": true,
            "ticks": "",
            "zerolinecolor": "white"
           },
           "zaxis": {
            "backgroundcolor": "#E5ECF6",
            "gridcolor": "white",
            "gridwidth": 2,
            "linecolor": "white",
            "showbackground": true,
            "ticks": "",
            "zerolinecolor": "white"
           }
          },
          "shapedefaults": {
           "line": {
            "color": "#2a3f5f"
           }
          },
          "ternary": {
           "aaxis": {
            "gridcolor": "white",
            "linecolor": "white",
            "ticks": ""
           },
           "baxis": {
            "gridcolor": "white",
            "linecolor": "white",
            "ticks": ""
           },
           "bgcolor": "#E5ECF6",
           "caxis": {
            "gridcolor": "white",
            "linecolor": "white",
            "ticks": ""
           }
          },
          "title": {
           "x": 0.05
          },
          "xaxis": {
           "automargin": true,
           "gridcolor": "white",
           "linecolor": "white",
           "ticks": "",
           "title": {
            "standoff": 15
           },
           "zerolinecolor": "white",
           "zerolinewidth": 2
          },
          "yaxis": {
           "automargin": true,
           "gridcolor": "white",
           "linecolor": "white",
           "ticks": "",
           "title": {
            "standoff": 15
           },
           "zerolinecolor": "white",
           "zerolinewidth": 2
          }
         }
        },
        "title": {
         "font": {
          "size": 30
         },
         "text": "PCA Plot",
         "x": 0.5
        }
       }
      }
     },
     "metadata": {},
     "output_type": "display_data"
    }
   ],
   "source": [
    "# pca plot \n",
    "fig = px.scatter_3d(df, x='gasoline_demand', y='gasoline_output', z='target', color='target')\n",
    "fig.update_layout(title='PCA Plot', title_font_size=30, title_x=0.5)\n",
    "fig.show()"
   ]
  },
  {
   "attachments": {},
   "cell_type": "markdown",
   "metadata": {},
   "source": [
    "Time step dataframe "
   ]
  },
  {
   "cell_type": "code",
   "execution_count": 86,
   "metadata": {},
   "outputs": [
    {
     "data": {
      "text/html": [
       "<div>\n",
       "<style scoped>\n",
       "    .dataframe tbody tr th:only-of-type {\n",
       "        vertical-align: middle;\n",
       "    }\n",
       "\n",
       "    .dataframe tbody tr th {\n",
       "        vertical-align: top;\n",
       "    }\n",
       "\n",
       "    .dataframe thead th {\n",
       "        text-align: right;\n",
       "    }\n",
       "</style>\n",
       "<table border=\"1\" class=\"dataframe\">\n",
       "  <thead>\n",
       "    <tr style=\"text-align: right;\">\n",
       "      <th></th>\n",
       "      <th>period</th>\n",
       "      <th>target</th>\n",
       "    </tr>\n",
       "  </thead>\n",
       "  <tbody>\n",
       "    <tr>\n",
       "      <th>0</th>\n",
       "      <td>2010-10-15</td>\n",
       "      <td>10639</td>\n",
       "    </tr>\n",
       "    <tr>\n",
       "      <th>1</th>\n",
       "      <td>2010-10-22</td>\n",
       "      <td>10036</td>\n",
       "    </tr>\n",
       "    <tr>\n",
       "      <th>2</th>\n",
       "      <td>2010-10-29</td>\n",
       "      <td>9886</td>\n",
       "    </tr>\n",
       "  </tbody>\n",
       "</table>\n",
       "</div>"
      ],
      "text/plain": [
       "      period  target\n",
       "0 2010-10-15   10639\n",
       "1 2010-10-22   10036\n",
       "2 2010-10-29    9886"
      ]
     },
     "execution_count": 86,
     "metadata": {},
     "output_type": "execute_result"
    }
   ],
   "source": [
    "time_df = df[['period','target']]\n",
    "time_df.sort_values(by='period', inplace=True)\n",
    "time_df.head(3)"
   ]
  },
  {
   "cell_type": "code",
   "execution_count": 87,
   "metadata": {},
   "outputs": [
    {
     "data": {
      "text/html": [
       "<div>\n",
       "<style scoped>\n",
       "    .dataframe tbody tr th:only-of-type {\n",
       "        vertical-align: middle;\n",
       "    }\n",
       "\n",
       "    .dataframe tbody tr th {\n",
       "        vertical-align: top;\n",
       "    }\n",
       "\n",
       "    .dataframe thead th {\n",
       "        text-align: right;\n",
       "    }\n",
       "</style>\n",
       "<table border=\"1\" class=\"dataframe\">\n",
       "  <thead>\n",
       "    <tr style=\"text-align: right;\">\n",
       "      <th></th>\n",
       "      <th>period</th>\n",
       "      <th>target</th>\n",
       "      <th>year</th>\n",
       "      <th>month</th>\n",
       "      <th>week</th>\n",
       "      <th>day_of_year</th>\n",
       "      <th>day_of_month</th>\n",
       "    </tr>\n",
       "  </thead>\n",
       "  <tbody>\n",
       "    <tr>\n",
       "      <th>0</th>\n",
       "      <td>2010-10-15</td>\n",
       "      <td>10639</td>\n",
       "      <td>2010</td>\n",
       "      <td>10</td>\n",
       "      <td>41</td>\n",
       "      <td>288</td>\n",
       "      <td>15</td>\n",
       "    </tr>\n",
       "    <tr>\n",
       "      <th>1</th>\n",
       "      <td>2010-10-22</td>\n",
       "      <td>10036</td>\n",
       "      <td>2010</td>\n",
       "      <td>10</td>\n",
       "      <td>42</td>\n",
       "      <td>295</td>\n",
       "      <td>22</td>\n",
       "    </tr>\n",
       "    <tr>\n",
       "      <th>2</th>\n",
       "      <td>2010-10-29</td>\n",
       "      <td>9886</td>\n",
       "      <td>2010</td>\n",
       "      <td>10</td>\n",
       "      <td>43</td>\n",
       "      <td>302</td>\n",
       "      <td>29</td>\n",
       "    </tr>\n",
       "    <tr>\n",
       "      <th>3</th>\n",
       "      <td>2010-11-05</td>\n",
       "      <td>9706</td>\n",
       "      <td>2010</td>\n",
       "      <td>11</td>\n",
       "      <td>44</td>\n",
       "      <td>309</td>\n",
       "      <td>5</td>\n",
       "    </tr>\n",
       "    <tr>\n",
       "      <th>4</th>\n",
       "      <td>2010-11-12</td>\n",
       "      <td>9286</td>\n",
       "      <td>2010</td>\n",
       "      <td>11</td>\n",
       "      <td>45</td>\n",
       "      <td>316</td>\n",
       "      <td>12</td>\n",
       "    </tr>\n",
       "  </tbody>\n",
       "</table>\n",
       "</div>"
      ],
      "text/plain": [
       "      period  target  year  month  week  day_of_year  day_of_month\n",
       "0 2010-10-15   10639  2010     10    41          288            15\n",
       "1 2010-10-22   10036  2010     10    42          295            22\n",
       "2 2010-10-29    9886  2010     10    43          302            29\n",
       "3 2010-11-05    9706  2010     11    44          309             5\n",
       "4 2010-11-12    9286  2010     11    45          316            12"
      ]
     },
     "execution_count": 87,
     "metadata": {},
     "output_type": "execute_result"
    }
   ],
   "source": [
    "import warnings\n",
    "warnings.filterwarnings('ignore')\n",
    "\n",
    "time_df['year'] = time_df['period'].dt.year\n",
    "time_df['month'] = time_df['period'].dt.month\n",
    "time_df['week'] = time_df['period'].dt.week\n",
    "time_df['day_of_year'] = time_df['period'].dt.dayofyear\n",
    "time_df['day_of_month'] = time_df['period'].dt.day\n",
    "time_df.head()"
   ]
  },
  {
   "cell_type": "code",
   "execution_count": 58,
   "metadata": {},
   "outputs": [
    {
     "data": {
      "application/vnd.plotly.v1+json": {
       "config": {
        "plotlyServerURL": "https://plot.ly"
       },
       "data": [
        {
         "hovertemplate": "period=%{x}<br>target=%{y}<extra></extra>",
         "legendgroup": "",
         "line": {
          "color": "#636efa",
          "dash": "solid"
         },
         "marker": {
          "symbol": "circle"
         },
         "mode": "lines",
         "name": "",
         "orientation": "v",
         "showlegend": false,
         "type": "scatter",
         "x": [
          "2010-10-15T00:00:00",
          "2010-10-22T00:00:00",
          "2010-10-29T00:00:00",
          "2010-11-05T00:00:00",
          "2010-11-12T00:00:00",
          "2010-11-19T00:00:00",
          "2010-11-26T00:00:00",
          "2010-12-03T00:00:00",
          "2010-12-10T00:00:00",
          "2010-12-17T00:00:00",
          "2010-12-24T00:00:00",
          "2010-12-31T00:00:00",
          "2011-01-07T00:00:00",
          "2011-01-14T00:00:00",
          "2011-01-21T00:00:00",
          "2011-01-28T00:00:00",
          "2011-02-04T00:00:00",
          "2011-02-11T00:00:00",
          "2011-02-18T00:00:00",
          "2011-02-25T00:00:00",
          "2011-03-04T00:00:00",
          "2011-03-11T00:00:00",
          "2011-03-18T00:00:00",
          "2011-03-25T00:00:00",
          "2011-04-01T00:00:00",
          "2011-04-08T00:00:00",
          "2011-04-15T00:00:00",
          "2011-04-22T00:00:00",
          "2011-04-29T00:00:00",
          "2011-05-06T00:00:00",
          "2011-05-13T00:00:00",
          "2011-05-20T00:00:00",
          "2011-05-27T00:00:00",
          "2011-06-03T00:00:00",
          "2011-06-10T00:00:00",
          "2011-06-17T00:00:00",
          "2011-06-24T00:00:00",
          "2011-07-01T00:00:00",
          "2011-07-08T00:00:00",
          "2011-07-15T00:00:00",
          "2011-07-22T00:00:00",
          "2011-07-29T00:00:00",
          "2011-08-05T00:00:00",
          "2011-08-12T00:00:00",
          "2011-08-19T00:00:00",
          "2011-08-26T00:00:00",
          "2011-09-02T00:00:00",
          "2011-09-09T00:00:00",
          "2011-09-16T00:00:00",
          "2011-09-23T00:00:00",
          "2011-09-30T00:00:00",
          "2011-10-07T00:00:00",
          "2011-10-14T00:00:00",
          "2011-10-21T00:00:00",
          "2011-10-28T00:00:00",
          "2011-11-04T00:00:00",
          "2011-11-11T00:00:00",
          "2011-11-18T00:00:00",
          "2011-11-25T00:00:00",
          "2011-12-02T00:00:00",
          "2011-12-09T00:00:00",
          "2011-12-16T00:00:00",
          "2011-12-23T00:00:00",
          "2011-12-30T00:00:00",
          "2012-01-06T00:00:00",
          "2012-01-13T00:00:00",
          "2012-01-20T00:00:00",
          "2012-01-27T00:00:00",
          "2012-02-03T00:00:00",
          "2012-02-10T00:00:00",
          "2012-02-17T00:00:00",
          "2012-02-24T00:00:00",
          "2012-03-02T00:00:00",
          "2012-03-09T00:00:00",
          "2012-03-16T00:00:00",
          "2012-03-23T00:00:00",
          "2012-03-30T00:00:00",
          "2012-04-06T00:00:00",
          "2012-04-13T00:00:00",
          "2012-04-20T00:00:00",
          "2012-04-27T00:00:00",
          "2012-05-04T00:00:00",
          "2012-05-11T00:00:00",
          "2012-05-18T00:00:00",
          "2012-05-25T00:00:00",
          "2012-06-01T00:00:00",
          "2012-06-08T00:00:00",
          "2012-06-15T00:00:00",
          "2012-06-22T00:00:00",
          "2012-06-29T00:00:00",
          "2012-07-06T00:00:00",
          "2012-07-13T00:00:00",
          "2012-07-20T00:00:00",
          "2012-07-27T00:00:00",
          "2012-08-03T00:00:00",
          "2012-08-10T00:00:00",
          "2012-08-17T00:00:00",
          "2012-08-24T00:00:00",
          "2012-08-31T00:00:00",
          "2012-09-07T00:00:00",
          "2012-09-14T00:00:00",
          "2012-09-21T00:00:00",
          "2012-09-28T00:00:00",
          "2012-10-05T00:00:00",
          "2012-10-12T00:00:00",
          "2012-10-19T00:00:00",
          "2012-10-26T00:00:00",
          "2012-11-02T00:00:00",
          "2012-11-09T00:00:00",
          "2012-11-16T00:00:00",
          "2012-11-23T00:00:00",
          "2012-11-30T00:00:00",
          "2012-12-07T00:00:00",
          "2012-12-14T00:00:00",
          "2012-12-21T00:00:00",
          "2012-12-28T00:00:00",
          "2013-01-04T00:00:00",
          "2013-01-11T00:00:00",
          "2013-01-18T00:00:00",
          "2013-01-25T00:00:00",
          "2013-02-01T00:00:00",
          "2013-02-08T00:00:00",
          "2013-02-15T00:00:00",
          "2013-02-22T00:00:00",
          "2013-03-01T00:00:00",
          "2013-03-08T00:00:00",
          "2013-03-15T00:00:00",
          "2013-03-22T00:00:00",
          "2013-03-29T00:00:00",
          "2013-04-05T00:00:00",
          "2013-04-12T00:00:00",
          "2013-04-19T00:00:00",
          "2013-04-26T00:00:00",
          "2013-05-03T00:00:00",
          "2013-05-10T00:00:00",
          "2013-05-17T00:00:00",
          "2013-05-24T00:00:00",
          "2013-05-31T00:00:00",
          "2013-06-07T00:00:00",
          "2013-06-14T00:00:00",
          "2013-06-21T00:00:00",
          "2013-06-28T00:00:00",
          "2013-07-05T00:00:00",
          "2013-07-12T00:00:00",
          "2013-07-19T00:00:00",
          "2013-07-26T00:00:00",
          "2013-08-02T00:00:00",
          "2013-08-09T00:00:00",
          "2013-08-16T00:00:00",
          "2013-08-23T00:00:00",
          "2013-08-30T00:00:00",
          "2013-09-06T00:00:00",
          "2013-09-13T00:00:00",
          "2013-09-20T00:00:00",
          "2013-09-27T00:00:00",
          "2013-10-04T00:00:00",
          "2013-10-11T00:00:00",
          "2013-10-18T00:00:00",
          "2013-10-25T00:00:00",
          "2013-11-01T00:00:00",
          "2013-11-08T00:00:00",
          "2013-11-15T00:00:00",
          "2013-11-22T00:00:00",
          "2013-11-29T00:00:00",
          "2013-12-06T00:00:00",
          "2013-12-13T00:00:00",
          "2013-12-20T00:00:00",
          "2013-12-27T00:00:00",
          "2014-01-03T00:00:00",
          "2014-01-10T00:00:00",
          "2014-01-17T00:00:00",
          "2014-01-24T00:00:00",
          "2014-01-31T00:00:00",
          "2014-02-07T00:00:00",
          "2014-02-14T00:00:00",
          "2014-02-21T00:00:00",
          "2014-02-28T00:00:00",
          "2014-03-07T00:00:00",
          "2014-03-14T00:00:00",
          "2014-03-21T00:00:00",
          "2014-03-28T00:00:00",
          "2014-04-04T00:00:00",
          "2014-04-11T00:00:00",
          "2014-04-18T00:00:00",
          "2014-04-25T00:00:00",
          "2014-05-02T00:00:00",
          "2014-05-09T00:00:00",
          "2014-05-16T00:00:00",
          "2014-05-23T00:00:00",
          "2014-05-30T00:00:00",
          "2014-06-06T00:00:00",
          "2014-06-13T00:00:00",
          "2014-06-20T00:00:00",
          "2014-06-27T00:00:00",
          "2014-07-04T00:00:00",
          "2014-07-11T00:00:00",
          "2014-07-18T00:00:00",
          "2014-07-25T00:00:00",
          "2014-08-01T00:00:00",
          "2014-08-08T00:00:00",
          "2014-08-15T00:00:00",
          "2014-08-22T00:00:00",
          "2014-08-29T00:00:00",
          "2014-09-05T00:00:00",
          "2014-09-12T00:00:00",
          "2014-09-19T00:00:00",
          "2014-09-26T00:00:00",
          "2014-10-03T00:00:00",
          "2014-10-10T00:00:00",
          "2014-10-17T00:00:00",
          "2014-10-24T00:00:00",
          "2014-10-31T00:00:00",
          "2014-11-07T00:00:00",
          "2014-11-14T00:00:00",
          "2014-11-21T00:00:00",
          "2014-11-28T00:00:00",
          "2014-12-05T00:00:00",
          "2014-12-12T00:00:00",
          "2014-12-19T00:00:00",
          "2014-12-26T00:00:00",
          "2015-01-02T00:00:00",
          "2015-01-09T00:00:00",
          "2015-01-16T00:00:00",
          "2015-01-23T00:00:00",
          "2015-01-30T00:00:00",
          "2015-02-06T00:00:00",
          "2015-02-13T00:00:00",
          "2015-02-20T00:00:00",
          "2015-02-27T00:00:00",
          "2015-03-06T00:00:00",
          "2015-03-13T00:00:00",
          "2015-03-20T00:00:00",
          "2015-03-27T00:00:00",
          "2015-04-03T00:00:00",
          "2015-04-10T00:00:00",
          "2015-04-17T00:00:00",
          "2015-04-24T00:00:00",
          "2015-05-01T00:00:00",
          "2015-05-08T00:00:00",
          "2015-05-15T00:00:00",
          "2015-05-22T00:00:00",
          "2015-05-29T00:00:00",
          "2015-06-05T00:00:00",
          "2015-06-12T00:00:00",
          "2015-06-19T00:00:00",
          "2015-06-26T00:00:00",
          "2015-07-03T00:00:00",
          "2015-07-10T00:00:00",
          "2015-07-17T00:00:00",
          "2015-07-24T00:00:00",
          "2015-07-31T00:00:00",
          "2015-08-07T00:00:00",
          "2015-08-14T00:00:00",
          "2015-08-21T00:00:00",
          "2015-08-28T00:00:00",
          "2015-09-04T00:00:00",
          "2015-09-11T00:00:00",
          "2015-09-18T00:00:00",
          "2015-09-25T00:00:00",
          "2015-10-02T00:00:00",
          "2015-10-09T00:00:00",
          "2015-10-16T00:00:00",
          "2015-10-23T00:00:00",
          "2015-10-30T00:00:00",
          "2015-11-06T00:00:00",
          "2015-11-13T00:00:00",
          "2015-11-20T00:00:00",
          "2015-11-27T00:00:00",
          "2015-12-04T00:00:00",
          "2015-12-11T00:00:00",
          "2015-12-18T00:00:00",
          "2015-12-25T00:00:00",
          "2016-01-01T00:00:00",
          "2016-01-08T00:00:00",
          "2016-01-15T00:00:00",
          "2016-01-22T00:00:00",
          "2016-01-29T00:00:00",
          "2016-02-05T00:00:00",
          "2016-02-12T00:00:00",
          "2016-02-19T00:00:00",
          "2016-02-26T00:00:00",
          "2016-03-04T00:00:00",
          "2016-03-11T00:00:00",
          "2016-03-18T00:00:00",
          "2016-03-25T00:00:00",
          "2016-04-01T00:00:00",
          "2016-04-08T00:00:00",
          "2016-04-15T00:00:00",
          "2016-04-22T00:00:00",
          "2016-04-29T00:00:00",
          "2016-05-06T00:00:00",
          "2016-05-13T00:00:00",
          "2016-05-20T00:00:00",
          "2016-05-27T00:00:00",
          "2016-06-03T00:00:00",
          "2016-06-10T00:00:00",
          "2016-06-17T00:00:00",
          "2016-06-24T00:00:00",
          "2016-07-01T00:00:00",
          "2016-07-08T00:00:00",
          "2016-07-15T00:00:00",
          "2016-07-22T00:00:00",
          "2016-07-29T00:00:00",
          "2016-08-05T00:00:00",
          "2016-08-12T00:00:00",
          "2016-08-19T00:00:00",
          "2016-08-26T00:00:00",
          "2016-09-02T00:00:00",
          "2016-09-09T00:00:00",
          "2016-09-16T00:00:00",
          "2016-09-23T00:00:00",
          "2016-09-30T00:00:00",
          "2016-10-07T00:00:00",
          "2016-10-14T00:00:00",
          "2016-10-21T00:00:00",
          "2016-10-28T00:00:00",
          "2016-11-04T00:00:00",
          "2016-11-11T00:00:00",
          "2016-11-18T00:00:00",
          "2016-11-25T00:00:00",
          "2016-12-02T00:00:00",
          "2016-12-09T00:00:00",
          "2016-12-16T00:00:00",
          "2016-12-23T00:00:00",
          "2016-12-30T00:00:00",
          "2017-01-06T00:00:00",
          "2017-01-13T00:00:00",
          "2017-01-20T00:00:00",
          "2017-01-27T00:00:00",
          "2017-02-03T00:00:00",
          "2017-02-10T00:00:00",
          "2017-02-17T00:00:00",
          "2017-02-24T00:00:00",
          "2017-03-03T00:00:00",
          "2017-03-10T00:00:00",
          "2017-03-17T00:00:00",
          "2017-03-24T00:00:00",
          "2017-03-31T00:00:00",
          "2017-04-07T00:00:00",
          "2017-04-14T00:00:00",
          "2017-04-21T00:00:00",
          "2017-04-28T00:00:00",
          "2017-05-05T00:00:00",
          "2017-05-12T00:00:00",
          "2017-05-19T00:00:00",
          "2017-05-26T00:00:00",
          "2017-06-02T00:00:00",
          "2017-06-09T00:00:00",
          "2017-06-16T00:00:00",
          "2017-06-23T00:00:00",
          "2017-06-30T00:00:00",
          "2017-07-07T00:00:00",
          "2017-07-14T00:00:00",
          "2017-07-21T00:00:00",
          "2017-07-28T00:00:00",
          "2017-08-04T00:00:00",
          "2017-08-11T00:00:00",
          "2017-08-18T00:00:00",
          "2017-08-25T00:00:00",
          "2017-09-01T00:00:00",
          "2017-09-08T00:00:00",
          "2017-09-15T00:00:00",
          "2017-09-22T00:00:00",
          "2017-09-29T00:00:00",
          "2017-10-06T00:00:00",
          "2017-10-13T00:00:00",
          "2017-10-20T00:00:00",
          "2017-10-27T00:00:00",
          "2017-11-03T00:00:00",
          "2017-11-10T00:00:00",
          "2017-11-17T00:00:00",
          "2017-11-24T00:00:00",
          "2017-12-01T00:00:00",
          "2017-12-08T00:00:00",
          "2017-12-15T00:00:00",
          "2017-12-22T00:00:00",
          "2017-12-29T00:00:00",
          "2018-01-05T00:00:00",
          "2018-01-12T00:00:00",
          "2018-01-19T00:00:00",
          "2018-01-26T00:00:00",
          "2018-02-02T00:00:00",
          "2018-02-09T00:00:00",
          "2018-02-16T00:00:00",
          "2018-02-23T00:00:00",
          "2018-03-02T00:00:00",
          "2018-03-09T00:00:00",
          "2018-03-16T00:00:00",
          "2018-03-23T00:00:00",
          "2018-03-30T00:00:00",
          "2018-04-06T00:00:00",
          "2018-04-13T00:00:00",
          "2018-04-20T00:00:00",
          "2018-04-27T00:00:00",
          "2018-05-04T00:00:00",
          "2018-05-11T00:00:00",
          "2018-05-18T00:00:00",
          "2018-05-25T00:00:00",
          "2018-06-01T00:00:00",
          "2018-06-08T00:00:00",
          "2018-06-15T00:00:00",
          "2018-06-22T00:00:00",
          "2018-06-29T00:00:00",
          "2018-07-06T00:00:00",
          "2018-07-13T00:00:00",
          "2018-07-20T00:00:00",
          "2018-07-27T00:00:00",
          "2018-08-03T00:00:00",
          "2018-08-10T00:00:00",
          "2018-08-17T00:00:00",
          "2018-08-24T00:00:00",
          "2018-08-31T00:00:00",
          "2018-09-07T00:00:00",
          "2018-09-14T00:00:00",
          "2018-09-21T00:00:00",
          "2018-09-28T00:00:00",
          "2018-10-05T00:00:00",
          "2018-10-12T00:00:00",
          "2018-10-19T00:00:00",
          "2018-10-26T00:00:00",
          "2018-11-02T00:00:00",
          "2018-11-09T00:00:00",
          "2018-11-16T00:00:00",
          "2018-11-23T00:00:00",
          "2018-11-30T00:00:00",
          "2018-12-07T00:00:00",
          "2018-12-14T00:00:00",
          "2018-12-21T00:00:00",
          "2018-12-28T00:00:00",
          "2019-01-04T00:00:00",
          "2019-01-11T00:00:00",
          "2019-01-18T00:00:00",
          "2019-01-25T00:00:00",
          "2019-02-01T00:00:00",
          "2019-02-08T00:00:00",
          "2019-02-15T00:00:00",
          "2019-02-22T00:00:00",
          "2019-03-01T00:00:00",
          "2019-03-08T00:00:00",
          "2019-03-15T00:00:00",
          "2019-03-22T00:00:00",
          "2019-03-29T00:00:00",
          "2019-04-05T00:00:00",
          "2019-04-12T00:00:00",
          "2019-04-19T00:00:00",
          "2019-04-26T00:00:00",
          "2019-05-03T00:00:00",
          "2019-05-10T00:00:00",
          "2019-05-17T00:00:00",
          "2019-05-24T00:00:00",
          "2019-05-31T00:00:00",
          "2019-06-07T00:00:00",
          "2019-06-14T00:00:00",
          "2019-06-21T00:00:00",
          "2019-06-28T00:00:00",
          "2019-07-05T00:00:00",
          "2019-07-12T00:00:00",
          "2019-07-19T00:00:00",
          "2019-07-26T00:00:00",
          "2019-08-02T00:00:00",
          "2019-08-09T00:00:00",
          "2019-08-16T00:00:00",
          "2019-08-23T00:00:00",
          "2019-08-30T00:00:00",
          "2019-09-06T00:00:00",
          "2019-09-13T00:00:00",
          "2019-09-20T00:00:00",
          "2019-09-27T00:00:00",
          "2019-10-04T00:00:00",
          "2019-10-11T00:00:00",
          "2019-10-18T00:00:00",
          "2019-10-25T00:00:00",
          "2019-11-01T00:00:00",
          "2019-11-08T00:00:00",
          "2019-11-15T00:00:00",
          "2019-11-22T00:00:00",
          "2019-11-29T00:00:00",
          "2019-12-06T00:00:00",
          "2019-12-13T00:00:00",
          "2019-12-20T00:00:00",
          "2019-12-27T00:00:00",
          "2020-01-03T00:00:00",
          "2020-01-10T00:00:00",
          "2020-01-17T00:00:00",
          "2020-01-24T00:00:00",
          "2020-01-31T00:00:00",
          "2020-02-07T00:00:00",
          "2020-02-14T00:00:00",
          "2020-02-21T00:00:00",
          "2020-02-28T00:00:00",
          "2020-03-06T00:00:00",
          "2020-03-13T00:00:00",
          "2020-03-20T00:00:00"
         ],
         "xaxis": "x",
         "y": [
          10639,
          10036,
          9886,
          9706,
          9286,
          9245,
          9550,
          9927,
          9953,
          10218,
          8795,
          8702,
          8755,
          8916,
          8921,
          9247,
          9851,
          10127,
          10323,
          10348,
          9706,
          10199,
          9681,
          9656,
          10577,
          9985,
          9987,
          9819,
          9644,
          9776,
          9964,
          10107,
          10088,
          10242,
          10214,
          9724,
          10059,
          9510,
          9759,
          9451,
          9493,
          10137,
          10107,
          9648,
          10196,
          9334,
          9342,
          8963,
          9371,
          9617,
          9586,
          9709,
          9268,
          9133,
          9330,
          9226,
          9257,
          9247,
          8682,
          9250,
          9526,
          9502,
          8792,
          8144,
          8184,
          8690,
          8550,
          8482,
          8722,
          9296,
          9061,
          8605,
          8938,
          9187,
          9445,
          9686,
          9848,
          9454,
          9316,
          9435,
          9655,
          9761,
          9580,
          9657,
          9003,
          10103,
          9497,
          9378,
          9785,
          9439,
          9384,
          9350,
          9582,
          9621,
          10154,
          9906,
          9759,
          10244,
          9589,
          9403,
          9115,
          9289,
          8842,
          9006,
          8985,
          9361,
          8427,
          9425,
          9688,
          8332,
          8249,
          8440,
          8631,
          9144,
          8575,
          7311,
          8230,
          9102,
          9339,
          8721,
          9137,
          9369,
          9461,
          8709,
          9601,
          8607,
          9046,
          9074,
          8846,
          9050,
          9733,
          9188,
          9098,
          8745,
          9556,
          9629,
          9599,
          9194,
          9321,
          9229,
          9773,
          10136,
          9008,
          9475,
          9836,
          9909,
          9494,
          10037,
          9809,
          9409,
          8886,
          9665,
          9086,
          8615,
          9430,
          9913,
          9452,
          9835,
          8980,
          9619,
          9388,
          9516,
          9053,
          8330,
          9356,
          9790,
          8706,
          8109,
          7348,
          8201,
          9184,
          8757,
          8894,
          8555,
          8794,
          9020,
          9923,
          9285,
          9780,
          9271,
          10084,
          8964,
          8849,
          8651,
          8946,
          10194,
          10051,
          10122,
          9904,
          8786,
          10107,
          9084,
          9749,
          9576,
          9354,
          9124,
          9399,
          10333,
          9666,
          9322,
          9737,
          10342,
          8586,
          9372,
          9342,
          9364,
          8675,
          9805,
          9489,
          9325,
          10000,
          9166,
          9486,
          9475,
          9665,
          8214,
          9330,
          9851,
          10253,
          7938,
          8821,
          9451,
          9646,
          8928,
          8390,
          9248,
          9994,
          9476,
          9048,
          10378,
          9208,
          10500,
          9006,
          9544,
          10259,
          9345,
          9173,
          10082,
          10042,
          10985,
          9721,
          10666,
          9841,
          10366,
          10691,
          10180,
          9965,
          10804,
          9979,
          10246,
          10410,
          11059,
          9755,
          10253,
          9702,
          9144,
          9434,
          9686,
          9063,
          10199,
          9991,
          10148,
          9876,
          9907,
          9363,
          9033,
          9549,
          9788,
          9759,
          9049,
          9803,
          7385,
          7588,
          8841,
          8998,
          7957,
          9596,
          9346,
          10434,
          9600,
          10393,
          10439,
          10363,
          9907,
          9693,
          10354,
          10155,
          9762,
          10267,
          10592,
          10631,
          10094,
          10676,
          10418,
          10455,
          10701,
          10272,
          10405,
          10469,
          10421,
          10418,
          10641,
          10975,
          10825,
          10376,
          10402,
          10726,
          9916,
          10503,
          9496,
          10232,
          10164,
          9372,
          10139,
          9803,
          10292,
          9906,
          9350,
          9658,
          9083,
          9250,
          9989,
          10049,
          8006,
          8650,
          7767,
          7573,
          8134,
          9837,
          8592,
          9323,
          9100,
          10281,
          10013,
          9905,
          10476,
          9621,
          10129,
          9768,
          9519,
          9716,
          10309,
          10267,
          10491,
          10900,
          9691,
          9592,
          10497,
          10370,
          10915,
          10685,
          10749,
          10666,
          10691,
          10465,
          10041,
          10602,
          10699,
          10130,
          11120,
          10239,
          10187,
          9840,
          9836,
          9955,
          10043,
          10534,
          10413,
          9229,
          10157,
          9016,
          8383,
          9071,
          9571,
          9687,
          8390,
          8394,
          8640,
          8663,
          9743,
          9514,
          9076,
          9501,
          8946,
          9883,
          10994,
          10051,
          10387,
          10069,
          9950,
          10686,
          9871,
          9899,
          10506,
          10799,
          10490,
          10659,
          9239,
          10992,
          9877,
          10351,
          10687,
          10465,
          10667,
          10762,
          11084,
          9845,
          10067,
          10152,
          10742,
          10462,
          10578,
          10380,
          9515,
          9912,
          9239,
          9948,
          10079,
          10166,
          9346,
          9770,
          9583,
          9600,
          8611,
          9372,
          9728,
          9373,
          7990,
          8062,
          8059,
          9039,
          10139,
          9512,
          9058,
          9304,
          9483,
          10099,
          10037,
          10714,
          10063,
          10198,
          11328,
          10475,
          10444,
          9878,
          10837,
          10039,
          10286,
          9918,
          10008,
          10335,
          10871,
          10531,
          10147,
          10796,
          9580,
          10548,
          10979,
          10227,
          10756,
          10068,
          11224,
          10512,
          10616,
          9148,
          10160,
          10036,
          10085,
          10233,
          10614,
          10638,
          9924,
          9772,
          9428,
          9169,
          8983,
          8643,
          9407,
          9712,
          9161,
          7176,
          8162,
          9039,
          8880,
          9606,
          9038,
          9457,
          9744,
          10076,
          10642,
          10941,
          9176,
          6444
         ],
         "yaxis": "y"
        }
       ],
       "layout": {
        "legend": {
         "tracegroupgap": 0
        },
        "template": {
         "data": {
          "bar": [
           {
            "error_x": {
             "color": "#2a3f5f"
            },
            "error_y": {
             "color": "#2a3f5f"
            },
            "marker": {
             "line": {
              "color": "#E5ECF6",
              "width": 0.5
             },
             "pattern": {
              "fillmode": "overlay",
              "size": 10,
              "solidity": 0.2
             }
            },
            "type": "bar"
           }
          ],
          "barpolar": [
           {
            "marker": {
             "line": {
              "color": "#E5ECF6",
              "width": 0.5
             },
             "pattern": {
              "fillmode": "overlay",
              "size": 10,
              "solidity": 0.2
             }
            },
            "type": "barpolar"
           }
          ],
          "carpet": [
           {
            "aaxis": {
             "endlinecolor": "#2a3f5f",
             "gridcolor": "white",
             "linecolor": "white",
             "minorgridcolor": "white",
             "startlinecolor": "#2a3f5f"
            },
            "baxis": {
             "endlinecolor": "#2a3f5f",
             "gridcolor": "white",
             "linecolor": "white",
             "minorgridcolor": "white",
             "startlinecolor": "#2a3f5f"
            },
            "type": "carpet"
           }
          ],
          "choropleth": [
           {
            "colorbar": {
             "outlinewidth": 0,
             "ticks": ""
            },
            "type": "choropleth"
           }
          ],
          "contour": [
           {
            "colorbar": {
             "outlinewidth": 0,
             "ticks": ""
            },
            "colorscale": [
             [
              0,
              "#0d0887"
             ],
             [
              0.1111111111111111,
              "#46039f"
             ],
             [
              0.2222222222222222,
              "#7201a8"
             ],
             [
              0.3333333333333333,
              "#9c179e"
             ],
             [
              0.4444444444444444,
              "#bd3786"
             ],
             [
              0.5555555555555556,
              "#d8576b"
             ],
             [
              0.6666666666666666,
              "#ed7953"
             ],
             [
              0.7777777777777778,
              "#fb9f3a"
             ],
             [
              0.8888888888888888,
              "#fdca26"
             ],
             [
              1,
              "#f0f921"
             ]
            ],
            "type": "contour"
           }
          ],
          "contourcarpet": [
           {
            "colorbar": {
             "outlinewidth": 0,
             "ticks": ""
            },
            "type": "contourcarpet"
           }
          ],
          "heatmap": [
           {
            "colorbar": {
             "outlinewidth": 0,
             "ticks": ""
            },
            "colorscale": [
             [
              0,
              "#0d0887"
             ],
             [
              0.1111111111111111,
              "#46039f"
             ],
             [
              0.2222222222222222,
              "#7201a8"
             ],
             [
              0.3333333333333333,
              "#9c179e"
             ],
             [
              0.4444444444444444,
              "#bd3786"
             ],
             [
              0.5555555555555556,
              "#d8576b"
             ],
             [
              0.6666666666666666,
              "#ed7953"
             ],
             [
              0.7777777777777778,
              "#fb9f3a"
             ],
             [
              0.8888888888888888,
              "#fdca26"
             ],
             [
              1,
              "#f0f921"
             ]
            ],
            "type": "heatmap"
           }
          ],
          "heatmapgl": [
           {
            "colorbar": {
             "outlinewidth": 0,
             "ticks": ""
            },
            "colorscale": [
             [
              0,
              "#0d0887"
             ],
             [
              0.1111111111111111,
              "#46039f"
             ],
             [
              0.2222222222222222,
              "#7201a8"
             ],
             [
              0.3333333333333333,
              "#9c179e"
             ],
             [
              0.4444444444444444,
              "#bd3786"
             ],
             [
              0.5555555555555556,
              "#d8576b"
             ],
             [
              0.6666666666666666,
              "#ed7953"
             ],
             [
              0.7777777777777778,
              "#fb9f3a"
             ],
             [
              0.8888888888888888,
              "#fdca26"
             ],
             [
              1,
              "#f0f921"
             ]
            ],
            "type": "heatmapgl"
           }
          ],
          "histogram": [
           {
            "marker": {
             "pattern": {
              "fillmode": "overlay",
              "size": 10,
              "solidity": 0.2
             }
            },
            "type": "histogram"
           }
          ],
          "histogram2d": [
           {
            "colorbar": {
             "outlinewidth": 0,
             "ticks": ""
            },
            "colorscale": [
             [
              0,
              "#0d0887"
             ],
             [
              0.1111111111111111,
              "#46039f"
             ],
             [
              0.2222222222222222,
              "#7201a8"
             ],
             [
              0.3333333333333333,
              "#9c179e"
             ],
             [
              0.4444444444444444,
              "#bd3786"
             ],
             [
              0.5555555555555556,
              "#d8576b"
             ],
             [
              0.6666666666666666,
              "#ed7953"
             ],
             [
              0.7777777777777778,
              "#fb9f3a"
             ],
             [
              0.8888888888888888,
              "#fdca26"
             ],
             [
              1,
              "#f0f921"
             ]
            ],
            "type": "histogram2d"
           }
          ],
          "histogram2dcontour": [
           {
            "colorbar": {
             "outlinewidth": 0,
             "ticks": ""
            },
            "colorscale": [
             [
              0,
              "#0d0887"
             ],
             [
              0.1111111111111111,
              "#46039f"
             ],
             [
              0.2222222222222222,
              "#7201a8"
             ],
             [
              0.3333333333333333,
              "#9c179e"
             ],
             [
              0.4444444444444444,
              "#bd3786"
             ],
             [
              0.5555555555555556,
              "#d8576b"
             ],
             [
              0.6666666666666666,
              "#ed7953"
             ],
             [
              0.7777777777777778,
              "#fb9f3a"
             ],
             [
              0.8888888888888888,
              "#fdca26"
             ],
             [
              1,
              "#f0f921"
             ]
            ],
            "type": "histogram2dcontour"
           }
          ],
          "mesh3d": [
           {
            "colorbar": {
             "outlinewidth": 0,
             "ticks": ""
            },
            "type": "mesh3d"
           }
          ],
          "parcoords": [
           {
            "line": {
             "colorbar": {
              "outlinewidth": 0,
              "ticks": ""
             }
            },
            "type": "parcoords"
           }
          ],
          "pie": [
           {
            "automargin": true,
            "type": "pie"
           }
          ],
          "scatter": [
           {
            "fillpattern": {
             "fillmode": "overlay",
             "size": 10,
             "solidity": 0.2
            },
            "type": "scatter"
           }
          ],
          "scatter3d": [
           {
            "line": {
             "colorbar": {
              "outlinewidth": 0,
              "ticks": ""
             }
            },
            "marker": {
             "colorbar": {
              "outlinewidth": 0,
              "ticks": ""
             }
            },
            "type": "scatter3d"
           }
          ],
          "scattercarpet": [
           {
            "marker": {
             "colorbar": {
              "outlinewidth": 0,
              "ticks": ""
             }
            },
            "type": "scattercarpet"
           }
          ],
          "scattergeo": [
           {
            "marker": {
             "colorbar": {
              "outlinewidth": 0,
              "ticks": ""
             }
            },
            "type": "scattergeo"
           }
          ],
          "scattergl": [
           {
            "marker": {
             "colorbar": {
              "outlinewidth": 0,
              "ticks": ""
             }
            },
            "type": "scattergl"
           }
          ],
          "scattermapbox": [
           {
            "marker": {
             "colorbar": {
              "outlinewidth": 0,
              "ticks": ""
             }
            },
            "type": "scattermapbox"
           }
          ],
          "scatterpolar": [
           {
            "marker": {
             "colorbar": {
              "outlinewidth": 0,
              "ticks": ""
             }
            },
            "type": "scatterpolar"
           }
          ],
          "scatterpolargl": [
           {
            "marker": {
             "colorbar": {
              "outlinewidth": 0,
              "ticks": ""
             }
            },
            "type": "scatterpolargl"
           }
          ],
          "scatterternary": [
           {
            "marker": {
             "colorbar": {
              "outlinewidth": 0,
              "ticks": ""
             }
            },
            "type": "scatterternary"
           }
          ],
          "surface": [
           {
            "colorbar": {
             "outlinewidth": 0,
             "ticks": ""
            },
            "colorscale": [
             [
              0,
              "#0d0887"
             ],
             [
              0.1111111111111111,
              "#46039f"
             ],
             [
              0.2222222222222222,
              "#7201a8"
             ],
             [
              0.3333333333333333,
              "#9c179e"
             ],
             [
              0.4444444444444444,
              "#bd3786"
             ],
             [
              0.5555555555555556,
              "#d8576b"
             ],
             [
              0.6666666666666666,
              "#ed7953"
             ],
             [
              0.7777777777777778,
              "#fb9f3a"
             ],
             [
              0.8888888888888888,
              "#fdca26"
             ],
             [
              1,
              "#f0f921"
             ]
            ],
            "type": "surface"
           }
          ],
          "table": [
           {
            "cells": {
             "fill": {
              "color": "#EBF0F8"
             },
             "line": {
              "color": "white"
             }
            },
            "header": {
             "fill": {
              "color": "#C8D4E3"
             },
             "line": {
              "color": "white"
             }
            },
            "type": "table"
           }
          ]
         },
         "layout": {
          "annotationdefaults": {
           "arrowcolor": "#2a3f5f",
           "arrowhead": 0,
           "arrowwidth": 1
          },
          "autotypenumbers": "strict",
          "coloraxis": {
           "colorbar": {
            "outlinewidth": 0,
            "ticks": ""
           }
          },
          "colorscale": {
           "diverging": [
            [
             0,
             "#8e0152"
            ],
            [
             0.1,
             "#c51b7d"
            ],
            [
             0.2,
             "#de77ae"
            ],
            [
             0.3,
             "#f1b6da"
            ],
            [
             0.4,
             "#fde0ef"
            ],
            [
             0.5,
             "#f7f7f7"
            ],
            [
             0.6,
             "#e6f5d0"
            ],
            [
             0.7,
             "#b8e186"
            ],
            [
             0.8,
             "#7fbc41"
            ],
            [
             0.9,
             "#4d9221"
            ],
            [
             1,
             "#276419"
            ]
           ],
           "sequential": [
            [
             0,
             "#0d0887"
            ],
            [
             0.1111111111111111,
             "#46039f"
            ],
            [
             0.2222222222222222,
             "#7201a8"
            ],
            [
             0.3333333333333333,
             "#9c179e"
            ],
            [
             0.4444444444444444,
             "#bd3786"
            ],
            [
             0.5555555555555556,
             "#d8576b"
            ],
            [
             0.6666666666666666,
             "#ed7953"
            ],
            [
             0.7777777777777778,
             "#fb9f3a"
            ],
            [
             0.8888888888888888,
             "#fdca26"
            ],
            [
             1,
             "#f0f921"
            ]
           ],
           "sequentialminus": [
            [
             0,
             "#0d0887"
            ],
            [
             0.1111111111111111,
             "#46039f"
            ],
            [
             0.2222222222222222,
             "#7201a8"
            ],
            [
             0.3333333333333333,
             "#9c179e"
            ],
            [
             0.4444444444444444,
             "#bd3786"
            ],
            [
             0.5555555555555556,
             "#d8576b"
            ],
            [
             0.6666666666666666,
             "#ed7953"
            ],
            [
             0.7777777777777778,
             "#fb9f3a"
            ],
            [
             0.8888888888888888,
             "#fdca26"
            ],
            [
             1,
             "#f0f921"
            ]
           ]
          },
          "colorway": [
           "#636efa",
           "#EF553B",
           "#00cc96",
           "#ab63fa",
           "#FFA15A",
           "#19d3f3",
           "#FF6692",
           "#B6E880",
           "#FF97FF",
           "#FECB52"
          ],
          "font": {
           "color": "#2a3f5f"
          },
          "geo": {
           "bgcolor": "white",
           "lakecolor": "white",
           "landcolor": "#E5ECF6",
           "showlakes": true,
           "showland": true,
           "subunitcolor": "white"
          },
          "hoverlabel": {
           "align": "left"
          },
          "hovermode": "closest",
          "mapbox": {
           "style": "light"
          },
          "paper_bgcolor": "white",
          "plot_bgcolor": "#E5ECF6",
          "polar": {
           "angularaxis": {
            "gridcolor": "white",
            "linecolor": "white",
            "ticks": ""
           },
           "bgcolor": "#E5ECF6",
           "radialaxis": {
            "gridcolor": "white",
            "linecolor": "white",
            "ticks": ""
           }
          },
          "scene": {
           "xaxis": {
            "backgroundcolor": "#E5ECF6",
            "gridcolor": "white",
            "gridwidth": 2,
            "linecolor": "white",
            "showbackground": true,
            "ticks": "",
            "zerolinecolor": "white"
           },
           "yaxis": {
            "backgroundcolor": "#E5ECF6",
            "gridcolor": "white",
            "gridwidth": 2,
            "linecolor": "white",
            "showbackground": true,
            "ticks": "",
            "zerolinecolor": "white"
           },
           "zaxis": {
            "backgroundcolor": "#E5ECF6",
            "gridcolor": "white",
            "gridwidth": 2,
            "linecolor": "white",
            "showbackground": true,
            "ticks": "",
            "zerolinecolor": "white"
           }
          },
          "shapedefaults": {
           "line": {
            "color": "#2a3f5f"
           }
          },
          "ternary": {
           "aaxis": {
            "gridcolor": "white",
            "linecolor": "white",
            "ticks": ""
           },
           "baxis": {
            "gridcolor": "white",
            "linecolor": "white",
            "ticks": ""
           },
           "bgcolor": "#E5ECF6",
           "caxis": {
            "gridcolor": "white",
            "linecolor": "white",
            "ticks": ""
           }
          },
          "title": {
           "x": 0.05
          },
          "xaxis": {
           "automargin": true,
           "gridcolor": "white",
           "linecolor": "white",
           "ticks": "",
           "title": {
            "standoff": 15
           },
           "zerolinecolor": "white",
           "zerolinewidth": 2
          },
          "yaxis": {
           "automargin": true,
           "gridcolor": "white",
           "linecolor": "white",
           "ticks": "",
           "title": {
            "standoff": 15
           },
           "zerolinecolor": "white",
           "zerolinewidth": 2
          }
         }
        },
        "title": {
         "font": {
          "size": 30
         },
         "text": "Target by Period",
         "x": 0.5
        },
        "xaxis": {
         "anchor": "y",
         "domain": [
          0,
          1
         ],
         "title": {
          "text": "period"
         }
        },
        "yaxis": {
         "anchor": "x",
         "domain": [
          0,
          1
         ],
         "title": {
          "text": "target"
         }
        }
       }
      }
     },
     "metadata": {},
     "output_type": "display_data"
    }
   ],
   "source": [
    "px.figure = []\n",
    "fig = px.line(time_df, x='period', y='target', title='Target by Period')\n",
    "fig.update_layout(title_font_size=30, title_x=0.5)\n",
    "fig.show()"
   ]
  },
  {
   "cell_type": "code",
   "execution_count": 60,
   "metadata": {},
   "outputs": [
    {
     "data": {
      "application/vnd.plotly.v1+json": {
       "config": {
        "plotlyServerURL": "https://plot.ly"
       },
       "data": [
        {
         "hovertemplate": "year=2010<br>period=%{x}<br>target=%{y}<extra></extra>",
         "legendgroup": "2010",
         "line": {
          "color": "#636efa",
          "dash": "solid"
         },
         "marker": {
          "symbol": "circle"
         },
         "mode": "lines",
         "name": "2010",
         "orientation": "v",
         "showlegend": true,
         "type": "scatter",
         "x": [
          "2010-10-15T00:00:00",
          "2010-10-22T00:00:00",
          "2010-10-29T00:00:00",
          "2010-11-05T00:00:00",
          "2010-11-12T00:00:00",
          "2010-11-19T00:00:00",
          "2010-11-26T00:00:00",
          "2010-12-03T00:00:00",
          "2010-12-10T00:00:00",
          "2010-12-17T00:00:00",
          "2010-12-24T00:00:00",
          "2010-12-31T00:00:00"
         ],
         "xaxis": "x",
         "y": [
          10639,
          10036,
          9886,
          9706,
          9286,
          9245,
          9550,
          9927,
          9953,
          10218,
          8795,
          8702
         ],
         "yaxis": "y"
        },
        {
         "hovertemplate": "year=2011<br>period=%{x}<br>target=%{y}<extra></extra>",
         "legendgroup": "2011",
         "line": {
          "color": "#EF553B",
          "dash": "solid"
         },
         "marker": {
          "symbol": "circle"
         },
         "mode": "lines",
         "name": "2011",
         "orientation": "v",
         "showlegend": true,
         "type": "scatter",
         "x": [
          "2011-01-07T00:00:00",
          "2011-01-14T00:00:00",
          "2011-01-21T00:00:00",
          "2011-01-28T00:00:00",
          "2011-02-04T00:00:00",
          "2011-02-11T00:00:00",
          "2011-02-18T00:00:00",
          "2011-02-25T00:00:00",
          "2011-03-04T00:00:00",
          "2011-03-11T00:00:00",
          "2011-03-18T00:00:00",
          "2011-03-25T00:00:00",
          "2011-04-01T00:00:00",
          "2011-04-08T00:00:00",
          "2011-04-15T00:00:00",
          "2011-04-22T00:00:00",
          "2011-04-29T00:00:00",
          "2011-05-06T00:00:00",
          "2011-05-13T00:00:00",
          "2011-05-20T00:00:00",
          "2011-05-27T00:00:00",
          "2011-06-03T00:00:00",
          "2011-06-10T00:00:00",
          "2011-06-17T00:00:00",
          "2011-06-24T00:00:00",
          "2011-07-01T00:00:00",
          "2011-07-08T00:00:00",
          "2011-07-15T00:00:00",
          "2011-07-22T00:00:00",
          "2011-07-29T00:00:00",
          "2011-08-05T00:00:00",
          "2011-08-12T00:00:00",
          "2011-08-19T00:00:00",
          "2011-08-26T00:00:00",
          "2011-09-02T00:00:00",
          "2011-09-09T00:00:00",
          "2011-09-16T00:00:00",
          "2011-09-23T00:00:00",
          "2011-09-30T00:00:00",
          "2011-10-07T00:00:00",
          "2011-10-14T00:00:00",
          "2011-10-21T00:00:00",
          "2011-10-28T00:00:00",
          "2011-11-04T00:00:00",
          "2011-11-11T00:00:00",
          "2011-11-18T00:00:00",
          "2011-11-25T00:00:00",
          "2011-12-02T00:00:00",
          "2011-12-09T00:00:00",
          "2011-12-16T00:00:00",
          "2011-12-23T00:00:00",
          "2011-12-30T00:00:00"
         ],
         "xaxis": "x",
         "y": [
          8755,
          8916,
          8921,
          9247,
          9851,
          10127,
          10323,
          10348,
          9706,
          10199,
          9681,
          9656,
          10577,
          9985,
          9987,
          9819,
          9644,
          9776,
          9964,
          10107,
          10088,
          10242,
          10214,
          9724,
          10059,
          9510,
          9759,
          9451,
          9493,
          10137,
          10107,
          9648,
          10196,
          9334,
          9342,
          8963,
          9371,
          9617,
          9586,
          9709,
          9268,
          9133,
          9330,
          9226,
          9257,
          9247,
          8682,
          9250,
          9526,
          9502,
          8792,
          8144
         ],
         "yaxis": "y"
        },
        {
         "hovertemplate": "year=2012<br>period=%{x}<br>target=%{y}<extra></extra>",
         "legendgroup": "2012",
         "line": {
          "color": "#00cc96",
          "dash": "solid"
         },
         "marker": {
          "symbol": "circle"
         },
         "mode": "lines",
         "name": "2012",
         "orientation": "v",
         "showlegend": true,
         "type": "scatter",
         "x": [
          "2012-01-06T00:00:00",
          "2012-01-13T00:00:00",
          "2012-01-20T00:00:00",
          "2012-01-27T00:00:00",
          "2012-02-03T00:00:00",
          "2012-02-10T00:00:00",
          "2012-02-17T00:00:00",
          "2012-02-24T00:00:00",
          "2012-03-02T00:00:00",
          "2012-03-09T00:00:00",
          "2012-03-16T00:00:00",
          "2012-03-23T00:00:00",
          "2012-03-30T00:00:00",
          "2012-04-06T00:00:00",
          "2012-04-13T00:00:00",
          "2012-04-20T00:00:00",
          "2012-04-27T00:00:00",
          "2012-05-04T00:00:00",
          "2012-05-11T00:00:00",
          "2012-05-18T00:00:00",
          "2012-05-25T00:00:00",
          "2012-06-01T00:00:00",
          "2012-06-08T00:00:00",
          "2012-06-15T00:00:00",
          "2012-06-22T00:00:00",
          "2012-06-29T00:00:00",
          "2012-07-06T00:00:00",
          "2012-07-13T00:00:00",
          "2012-07-20T00:00:00",
          "2012-07-27T00:00:00",
          "2012-08-03T00:00:00",
          "2012-08-10T00:00:00",
          "2012-08-17T00:00:00",
          "2012-08-24T00:00:00",
          "2012-08-31T00:00:00",
          "2012-09-07T00:00:00",
          "2012-09-14T00:00:00",
          "2012-09-21T00:00:00",
          "2012-09-28T00:00:00",
          "2012-10-05T00:00:00",
          "2012-10-12T00:00:00",
          "2012-10-19T00:00:00",
          "2012-10-26T00:00:00",
          "2012-11-02T00:00:00",
          "2012-11-09T00:00:00",
          "2012-11-16T00:00:00",
          "2012-11-23T00:00:00",
          "2012-11-30T00:00:00",
          "2012-12-07T00:00:00",
          "2012-12-14T00:00:00",
          "2012-12-21T00:00:00",
          "2012-12-28T00:00:00"
         ],
         "xaxis": "x",
         "y": [
          8184,
          8690,
          8550,
          8482,
          8722,
          9296,
          9061,
          8605,
          8938,
          9187,
          9445,
          9686,
          9848,
          9454,
          9316,
          9435,
          9655,
          9761,
          9580,
          9657,
          9003,
          10103,
          9497,
          9378,
          9785,
          9439,
          9384,
          9350,
          9582,
          9621,
          10154,
          9906,
          9759,
          10244,
          9589,
          9403,
          9115,
          9289,
          8842,
          9006,
          8985,
          9361,
          8427,
          9425,
          9688,
          8332,
          8249,
          8440,
          8631,
          9144,
          8575,
          7311
         ],
         "yaxis": "y"
        },
        {
         "hovertemplate": "year=2013<br>period=%{x}<br>target=%{y}<extra></extra>",
         "legendgroup": "2013",
         "line": {
          "color": "#ab63fa",
          "dash": "solid"
         },
         "marker": {
          "symbol": "circle"
         },
         "mode": "lines",
         "name": "2013",
         "orientation": "v",
         "showlegend": true,
         "type": "scatter",
         "x": [
          "2013-01-04T00:00:00",
          "2013-01-11T00:00:00",
          "2013-01-18T00:00:00",
          "2013-01-25T00:00:00",
          "2013-02-01T00:00:00",
          "2013-02-08T00:00:00",
          "2013-02-15T00:00:00",
          "2013-02-22T00:00:00",
          "2013-03-01T00:00:00",
          "2013-03-08T00:00:00",
          "2013-03-15T00:00:00",
          "2013-03-22T00:00:00",
          "2013-03-29T00:00:00",
          "2013-04-05T00:00:00",
          "2013-04-12T00:00:00",
          "2013-04-19T00:00:00",
          "2013-04-26T00:00:00",
          "2013-05-03T00:00:00",
          "2013-05-10T00:00:00",
          "2013-05-17T00:00:00",
          "2013-05-24T00:00:00",
          "2013-05-31T00:00:00",
          "2013-06-07T00:00:00",
          "2013-06-14T00:00:00",
          "2013-06-21T00:00:00",
          "2013-06-28T00:00:00",
          "2013-07-05T00:00:00",
          "2013-07-12T00:00:00",
          "2013-07-19T00:00:00",
          "2013-07-26T00:00:00",
          "2013-08-02T00:00:00",
          "2013-08-09T00:00:00",
          "2013-08-16T00:00:00",
          "2013-08-23T00:00:00",
          "2013-08-30T00:00:00",
          "2013-09-06T00:00:00",
          "2013-09-13T00:00:00",
          "2013-09-20T00:00:00",
          "2013-09-27T00:00:00",
          "2013-10-04T00:00:00",
          "2013-10-11T00:00:00",
          "2013-10-18T00:00:00",
          "2013-10-25T00:00:00",
          "2013-11-01T00:00:00",
          "2013-11-08T00:00:00",
          "2013-11-15T00:00:00",
          "2013-11-22T00:00:00",
          "2013-11-29T00:00:00",
          "2013-12-06T00:00:00",
          "2013-12-13T00:00:00",
          "2013-12-20T00:00:00",
          "2013-12-27T00:00:00"
         ],
         "xaxis": "x",
         "y": [
          8230,
          9102,
          9339,
          8721,
          9137,
          9369,
          9461,
          8709,
          9601,
          8607,
          9046,
          9074,
          8846,
          9050,
          9733,
          9188,
          9098,
          8745,
          9556,
          9629,
          9599,
          9194,
          9321,
          9229,
          9773,
          10136,
          9008,
          9475,
          9836,
          9909,
          9494,
          10037,
          9809,
          9409,
          8886,
          9665,
          9086,
          8615,
          9430,
          9913,
          9452,
          9835,
          8980,
          9619,
          9388,
          9516,
          9053,
          8330,
          9356,
          9790,
          8706,
          8109
         ],
         "yaxis": "y"
        },
        {
         "hovertemplate": "year=2014<br>period=%{x}<br>target=%{y}<extra></extra>",
         "legendgroup": "2014",
         "line": {
          "color": "#FFA15A",
          "dash": "solid"
         },
         "marker": {
          "symbol": "circle"
         },
         "mode": "lines",
         "name": "2014",
         "orientation": "v",
         "showlegend": true,
         "type": "scatter",
         "x": [
          "2014-01-03T00:00:00",
          "2014-01-10T00:00:00",
          "2014-01-17T00:00:00",
          "2014-01-24T00:00:00",
          "2014-01-31T00:00:00",
          "2014-02-07T00:00:00",
          "2014-02-14T00:00:00",
          "2014-02-21T00:00:00",
          "2014-02-28T00:00:00",
          "2014-03-07T00:00:00",
          "2014-03-14T00:00:00",
          "2014-03-21T00:00:00",
          "2014-03-28T00:00:00",
          "2014-04-04T00:00:00",
          "2014-04-11T00:00:00",
          "2014-04-18T00:00:00",
          "2014-04-25T00:00:00",
          "2014-05-02T00:00:00",
          "2014-05-09T00:00:00",
          "2014-05-16T00:00:00",
          "2014-05-23T00:00:00",
          "2014-05-30T00:00:00",
          "2014-06-06T00:00:00",
          "2014-06-13T00:00:00",
          "2014-06-20T00:00:00",
          "2014-06-27T00:00:00",
          "2014-07-04T00:00:00",
          "2014-07-11T00:00:00",
          "2014-07-18T00:00:00",
          "2014-07-25T00:00:00",
          "2014-08-01T00:00:00",
          "2014-08-08T00:00:00",
          "2014-08-15T00:00:00",
          "2014-08-22T00:00:00",
          "2014-08-29T00:00:00",
          "2014-09-05T00:00:00",
          "2014-09-12T00:00:00",
          "2014-09-19T00:00:00",
          "2014-09-26T00:00:00",
          "2014-10-03T00:00:00",
          "2014-10-10T00:00:00",
          "2014-10-17T00:00:00",
          "2014-10-24T00:00:00",
          "2014-10-31T00:00:00",
          "2014-11-07T00:00:00",
          "2014-11-14T00:00:00",
          "2014-11-21T00:00:00",
          "2014-11-28T00:00:00",
          "2014-12-05T00:00:00",
          "2014-12-12T00:00:00",
          "2014-12-19T00:00:00",
          "2014-12-26T00:00:00"
         ],
         "xaxis": "x",
         "y": [
          7348,
          8201,
          9184,
          8757,
          8894,
          8555,
          8794,
          9020,
          9923,
          9285,
          9780,
          9271,
          10084,
          8964,
          8849,
          8651,
          8946,
          10194,
          10051,
          10122,
          9904,
          8786,
          10107,
          9084,
          9749,
          9576,
          9354,
          9124,
          9399,
          10333,
          9666,
          9322,
          9737,
          10342,
          8586,
          9372,
          9342,
          9364,
          8675,
          9805,
          9489,
          9325,
          10000,
          9166,
          9486,
          9475,
          9665,
          8214,
          9330,
          9851,
          10253,
          7938
         ],
         "yaxis": "y"
        },
        {
         "hovertemplate": "year=2015<br>period=%{x}<br>target=%{y}<extra></extra>",
         "legendgroup": "2015",
         "line": {
          "color": "#19d3f3",
          "dash": "solid"
         },
         "marker": {
          "symbol": "circle"
         },
         "mode": "lines",
         "name": "2015",
         "orientation": "v",
         "showlegend": true,
         "type": "scatter",
         "x": [
          "2015-01-02T00:00:00",
          "2015-01-09T00:00:00",
          "2015-01-16T00:00:00",
          "2015-01-23T00:00:00",
          "2015-01-30T00:00:00",
          "2015-02-06T00:00:00",
          "2015-02-13T00:00:00",
          "2015-02-20T00:00:00",
          "2015-02-27T00:00:00",
          "2015-03-06T00:00:00",
          "2015-03-13T00:00:00",
          "2015-03-20T00:00:00",
          "2015-03-27T00:00:00",
          "2015-04-03T00:00:00",
          "2015-04-10T00:00:00",
          "2015-04-17T00:00:00",
          "2015-04-24T00:00:00",
          "2015-05-01T00:00:00",
          "2015-05-08T00:00:00",
          "2015-05-15T00:00:00",
          "2015-05-22T00:00:00",
          "2015-05-29T00:00:00",
          "2015-06-05T00:00:00",
          "2015-06-12T00:00:00",
          "2015-06-19T00:00:00",
          "2015-06-26T00:00:00",
          "2015-07-03T00:00:00",
          "2015-07-10T00:00:00",
          "2015-07-17T00:00:00",
          "2015-07-24T00:00:00",
          "2015-07-31T00:00:00",
          "2015-08-07T00:00:00",
          "2015-08-14T00:00:00",
          "2015-08-21T00:00:00",
          "2015-08-28T00:00:00",
          "2015-09-04T00:00:00",
          "2015-09-11T00:00:00",
          "2015-09-18T00:00:00",
          "2015-09-25T00:00:00",
          "2015-10-02T00:00:00",
          "2015-10-09T00:00:00",
          "2015-10-16T00:00:00",
          "2015-10-23T00:00:00",
          "2015-10-30T00:00:00",
          "2015-11-06T00:00:00",
          "2015-11-13T00:00:00",
          "2015-11-20T00:00:00",
          "2015-11-27T00:00:00",
          "2015-12-04T00:00:00",
          "2015-12-11T00:00:00",
          "2015-12-18T00:00:00",
          "2015-12-25T00:00:00"
         ],
         "xaxis": "x",
         "y": [
          8821,
          9451,
          9646,
          8928,
          8390,
          9248,
          9994,
          9476,
          9048,
          10378,
          9208,
          10500,
          9006,
          9544,
          10259,
          9345,
          9173,
          10082,
          10042,
          10985,
          9721,
          10666,
          9841,
          10366,
          10691,
          10180,
          9965,
          10804,
          9979,
          10246,
          10410,
          11059,
          9755,
          10253,
          9702,
          9144,
          9434,
          9686,
          9063,
          10199,
          9991,
          10148,
          9876,
          9907,
          9363,
          9033,
          9549,
          9788,
          9759,
          9049,
          9803,
          7385
         ],
         "yaxis": "y"
        },
        {
         "hovertemplate": "year=2016<br>period=%{x}<br>target=%{y}<extra></extra>",
         "legendgroup": "2016",
         "line": {
          "color": "#FF6692",
          "dash": "solid"
         },
         "marker": {
          "symbol": "circle"
         },
         "mode": "lines",
         "name": "2016",
         "orientation": "v",
         "showlegend": true,
         "type": "scatter",
         "x": [
          "2016-01-01T00:00:00",
          "2016-01-08T00:00:00",
          "2016-01-15T00:00:00",
          "2016-01-22T00:00:00",
          "2016-01-29T00:00:00",
          "2016-02-05T00:00:00",
          "2016-02-12T00:00:00",
          "2016-02-19T00:00:00",
          "2016-02-26T00:00:00",
          "2016-03-04T00:00:00",
          "2016-03-11T00:00:00",
          "2016-03-18T00:00:00",
          "2016-03-25T00:00:00",
          "2016-04-01T00:00:00",
          "2016-04-08T00:00:00",
          "2016-04-15T00:00:00",
          "2016-04-22T00:00:00",
          "2016-04-29T00:00:00",
          "2016-05-06T00:00:00",
          "2016-05-13T00:00:00",
          "2016-05-20T00:00:00",
          "2016-05-27T00:00:00",
          "2016-06-03T00:00:00",
          "2016-06-10T00:00:00",
          "2016-06-17T00:00:00",
          "2016-06-24T00:00:00",
          "2016-07-01T00:00:00",
          "2016-07-08T00:00:00",
          "2016-07-15T00:00:00",
          "2016-07-22T00:00:00",
          "2016-07-29T00:00:00",
          "2016-08-05T00:00:00",
          "2016-08-12T00:00:00",
          "2016-08-19T00:00:00",
          "2016-08-26T00:00:00",
          "2016-09-02T00:00:00",
          "2016-09-09T00:00:00",
          "2016-09-16T00:00:00",
          "2016-09-23T00:00:00",
          "2016-09-30T00:00:00",
          "2016-10-07T00:00:00",
          "2016-10-14T00:00:00",
          "2016-10-21T00:00:00",
          "2016-10-28T00:00:00",
          "2016-11-04T00:00:00",
          "2016-11-11T00:00:00",
          "2016-11-18T00:00:00",
          "2016-11-25T00:00:00",
          "2016-12-02T00:00:00",
          "2016-12-09T00:00:00",
          "2016-12-16T00:00:00",
          "2016-12-23T00:00:00",
          "2016-12-30T00:00:00"
         ],
         "xaxis": "x",
         "y": [
          7588,
          8841,
          8998,
          7957,
          9596,
          9346,
          10434,
          9600,
          10393,
          10439,
          10363,
          9907,
          9693,
          10354,
          10155,
          9762,
          10267,
          10592,
          10631,
          10094,
          10676,
          10418,
          10455,
          10701,
          10272,
          10405,
          10469,
          10421,
          10418,
          10641,
          10975,
          10825,
          10376,
          10402,
          10726,
          9916,
          10503,
          9496,
          10232,
          10164,
          9372,
          10139,
          9803,
          10292,
          9906,
          9350,
          9658,
          9083,
          9250,
          9989,
          10049,
          8006,
          8650
         ],
         "yaxis": "y"
        },
        {
         "hovertemplate": "year=2017<br>period=%{x}<br>target=%{y}<extra></extra>",
         "legendgroup": "2017",
         "line": {
          "color": "#B6E880",
          "dash": "solid"
         },
         "marker": {
          "symbol": "circle"
         },
         "mode": "lines",
         "name": "2017",
         "orientation": "v",
         "showlegend": true,
         "type": "scatter",
         "x": [
          "2017-01-06T00:00:00",
          "2017-01-13T00:00:00",
          "2017-01-20T00:00:00",
          "2017-01-27T00:00:00",
          "2017-02-03T00:00:00",
          "2017-02-10T00:00:00",
          "2017-02-17T00:00:00",
          "2017-02-24T00:00:00",
          "2017-03-03T00:00:00",
          "2017-03-10T00:00:00",
          "2017-03-17T00:00:00",
          "2017-03-24T00:00:00",
          "2017-03-31T00:00:00",
          "2017-04-07T00:00:00",
          "2017-04-14T00:00:00",
          "2017-04-21T00:00:00",
          "2017-04-28T00:00:00",
          "2017-05-05T00:00:00",
          "2017-05-12T00:00:00",
          "2017-05-19T00:00:00",
          "2017-05-26T00:00:00",
          "2017-06-02T00:00:00",
          "2017-06-09T00:00:00",
          "2017-06-16T00:00:00",
          "2017-06-23T00:00:00",
          "2017-06-30T00:00:00",
          "2017-07-07T00:00:00",
          "2017-07-14T00:00:00",
          "2017-07-21T00:00:00",
          "2017-07-28T00:00:00",
          "2017-08-04T00:00:00",
          "2017-08-11T00:00:00",
          "2017-08-18T00:00:00",
          "2017-08-25T00:00:00",
          "2017-09-01T00:00:00",
          "2017-09-08T00:00:00",
          "2017-09-15T00:00:00",
          "2017-09-22T00:00:00",
          "2017-09-29T00:00:00",
          "2017-10-06T00:00:00",
          "2017-10-13T00:00:00",
          "2017-10-20T00:00:00",
          "2017-10-27T00:00:00",
          "2017-11-03T00:00:00",
          "2017-11-10T00:00:00",
          "2017-11-17T00:00:00",
          "2017-11-24T00:00:00",
          "2017-12-01T00:00:00",
          "2017-12-08T00:00:00",
          "2017-12-15T00:00:00",
          "2017-12-22T00:00:00",
          "2017-12-29T00:00:00"
         ],
         "xaxis": "x",
         "y": [
          7767,
          7573,
          8134,
          9837,
          8592,
          9323,
          9100,
          10281,
          10013,
          9905,
          10476,
          9621,
          10129,
          9768,
          9519,
          9716,
          10309,
          10267,
          10491,
          10900,
          9691,
          9592,
          10497,
          10370,
          10915,
          10685,
          10749,
          10666,
          10691,
          10465,
          10041,
          10602,
          10699,
          10130,
          11120,
          10239,
          10187,
          9840,
          9836,
          9955,
          10043,
          10534,
          10413,
          9229,
          10157,
          9016,
          8383,
          9071,
          9571,
          9687,
          8390,
          8394
         ],
         "yaxis": "y"
        },
        {
         "hovertemplate": "year=2018<br>period=%{x}<br>target=%{y}<extra></extra>",
         "legendgroup": "2018",
         "line": {
          "color": "#FF97FF",
          "dash": "solid"
         },
         "marker": {
          "symbol": "circle"
         },
         "mode": "lines",
         "name": "2018",
         "orientation": "v",
         "showlegend": true,
         "type": "scatter",
         "x": [
          "2018-01-05T00:00:00",
          "2018-01-12T00:00:00",
          "2018-01-19T00:00:00",
          "2018-01-26T00:00:00",
          "2018-02-02T00:00:00",
          "2018-02-09T00:00:00",
          "2018-02-16T00:00:00",
          "2018-02-23T00:00:00",
          "2018-03-02T00:00:00",
          "2018-03-09T00:00:00",
          "2018-03-16T00:00:00",
          "2018-03-23T00:00:00",
          "2018-03-30T00:00:00",
          "2018-04-06T00:00:00",
          "2018-04-13T00:00:00",
          "2018-04-20T00:00:00",
          "2018-04-27T00:00:00",
          "2018-05-04T00:00:00",
          "2018-05-11T00:00:00",
          "2018-05-18T00:00:00",
          "2018-05-25T00:00:00",
          "2018-06-01T00:00:00",
          "2018-06-08T00:00:00",
          "2018-06-15T00:00:00",
          "2018-06-22T00:00:00",
          "2018-06-29T00:00:00",
          "2018-07-06T00:00:00",
          "2018-07-13T00:00:00",
          "2018-07-20T00:00:00",
          "2018-07-27T00:00:00",
          "2018-08-03T00:00:00",
          "2018-08-10T00:00:00",
          "2018-08-17T00:00:00",
          "2018-08-24T00:00:00",
          "2018-08-31T00:00:00",
          "2018-09-07T00:00:00",
          "2018-09-14T00:00:00",
          "2018-09-21T00:00:00",
          "2018-09-28T00:00:00",
          "2018-10-05T00:00:00",
          "2018-10-12T00:00:00",
          "2018-10-19T00:00:00",
          "2018-10-26T00:00:00",
          "2018-11-02T00:00:00",
          "2018-11-09T00:00:00",
          "2018-11-16T00:00:00",
          "2018-11-23T00:00:00",
          "2018-11-30T00:00:00",
          "2018-12-07T00:00:00",
          "2018-12-14T00:00:00",
          "2018-12-21T00:00:00",
          "2018-12-28T00:00:00"
         ],
         "xaxis": "x",
         "y": [
          8640,
          8663,
          9743,
          9514,
          9076,
          9501,
          8946,
          9883,
          10994,
          10051,
          10387,
          10069,
          9950,
          10686,
          9871,
          9899,
          10506,
          10799,
          10490,
          10659,
          9239,
          10992,
          9877,
          10351,
          10687,
          10465,
          10667,
          10762,
          11084,
          9845,
          10067,
          10152,
          10742,
          10462,
          10578,
          10380,
          9515,
          9912,
          9239,
          9948,
          10079,
          10166,
          9346,
          9770,
          9583,
          9600,
          8611,
          9372,
          9728,
          9373,
          7990,
          8062
         ],
         "yaxis": "y"
        },
        {
         "hovertemplate": "year=2019<br>period=%{x}<br>target=%{y}<extra></extra>",
         "legendgroup": "2019",
         "line": {
          "color": "#FECB52",
          "dash": "solid"
         },
         "marker": {
          "symbol": "circle"
         },
         "mode": "lines",
         "name": "2019",
         "orientation": "v",
         "showlegend": true,
         "type": "scatter",
         "x": [
          "2019-01-04T00:00:00",
          "2019-01-11T00:00:00",
          "2019-01-18T00:00:00",
          "2019-01-25T00:00:00",
          "2019-02-01T00:00:00",
          "2019-02-08T00:00:00",
          "2019-02-15T00:00:00",
          "2019-02-22T00:00:00",
          "2019-03-01T00:00:00",
          "2019-03-08T00:00:00",
          "2019-03-15T00:00:00",
          "2019-03-22T00:00:00",
          "2019-03-29T00:00:00",
          "2019-04-05T00:00:00",
          "2019-04-12T00:00:00",
          "2019-04-19T00:00:00",
          "2019-04-26T00:00:00",
          "2019-05-03T00:00:00",
          "2019-05-10T00:00:00",
          "2019-05-17T00:00:00",
          "2019-05-24T00:00:00",
          "2019-05-31T00:00:00",
          "2019-06-07T00:00:00",
          "2019-06-14T00:00:00",
          "2019-06-21T00:00:00",
          "2019-06-28T00:00:00",
          "2019-07-05T00:00:00",
          "2019-07-12T00:00:00",
          "2019-07-19T00:00:00",
          "2019-07-26T00:00:00",
          "2019-08-02T00:00:00",
          "2019-08-09T00:00:00",
          "2019-08-16T00:00:00",
          "2019-08-23T00:00:00",
          "2019-08-30T00:00:00",
          "2019-09-06T00:00:00",
          "2019-09-13T00:00:00",
          "2019-09-20T00:00:00",
          "2019-09-27T00:00:00",
          "2019-10-04T00:00:00",
          "2019-10-11T00:00:00",
          "2019-10-18T00:00:00",
          "2019-10-25T00:00:00",
          "2019-11-01T00:00:00",
          "2019-11-08T00:00:00",
          "2019-11-15T00:00:00",
          "2019-11-22T00:00:00",
          "2019-11-29T00:00:00",
          "2019-12-06T00:00:00",
          "2019-12-13T00:00:00",
          "2019-12-20T00:00:00",
          "2019-12-27T00:00:00"
         ],
         "xaxis": "x",
         "y": [
          8059,
          9039,
          10139,
          9512,
          9058,
          9304,
          9483,
          10099,
          10037,
          10714,
          10063,
          10198,
          11328,
          10475,
          10444,
          9878,
          10837,
          10039,
          10286,
          9918,
          10008,
          10335,
          10871,
          10531,
          10147,
          10796,
          9580,
          10548,
          10979,
          10227,
          10756,
          10068,
          11224,
          10512,
          10616,
          9148,
          10160,
          10036,
          10085,
          10233,
          10614,
          10638,
          9924,
          9772,
          9428,
          9169,
          8983,
          8643,
          9407,
          9712,
          9161,
          7176
         ],
         "yaxis": "y"
        },
        {
         "hovertemplate": "year=2020<br>period=%{x}<br>target=%{y}<extra></extra>",
         "legendgroup": "2020",
         "line": {
          "color": "#636efa",
          "dash": "solid"
         },
         "marker": {
          "symbol": "circle"
         },
         "mode": "lines",
         "name": "2020",
         "orientation": "v",
         "showlegend": true,
         "type": "scatter",
         "x": [
          "2020-01-03T00:00:00",
          "2020-01-10T00:00:00",
          "2020-01-17T00:00:00",
          "2020-01-24T00:00:00",
          "2020-01-31T00:00:00",
          "2020-02-07T00:00:00",
          "2020-02-14T00:00:00",
          "2020-02-21T00:00:00",
          "2020-02-28T00:00:00",
          "2020-03-06T00:00:00",
          "2020-03-13T00:00:00",
          "2020-03-20T00:00:00"
         ],
         "xaxis": "x",
         "y": [
          8162,
          9039,
          8880,
          9606,
          9038,
          9457,
          9744,
          10076,
          10642,
          10941,
          9176,
          6444
         ],
         "yaxis": "y"
        }
       ],
       "layout": {
        "legend": {
         "title": {
          "text": "year"
         },
         "tracegroupgap": 0
        },
        "template": {
         "data": {
          "bar": [
           {
            "error_x": {
             "color": "#2a3f5f"
            },
            "error_y": {
             "color": "#2a3f5f"
            },
            "marker": {
             "line": {
              "color": "#E5ECF6",
              "width": 0.5
             },
             "pattern": {
              "fillmode": "overlay",
              "size": 10,
              "solidity": 0.2
             }
            },
            "type": "bar"
           }
          ],
          "barpolar": [
           {
            "marker": {
             "line": {
              "color": "#E5ECF6",
              "width": 0.5
             },
             "pattern": {
              "fillmode": "overlay",
              "size": 10,
              "solidity": 0.2
             }
            },
            "type": "barpolar"
           }
          ],
          "carpet": [
           {
            "aaxis": {
             "endlinecolor": "#2a3f5f",
             "gridcolor": "white",
             "linecolor": "white",
             "minorgridcolor": "white",
             "startlinecolor": "#2a3f5f"
            },
            "baxis": {
             "endlinecolor": "#2a3f5f",
             "gridcolor": "white",
             "linecolor": "white",
             "minorgridcolor": "white",
             "startlinecolor": "#2a3f5f"
            },
            "type": "carpet"
           }
          ],
          "choropleth": [
           {
            "colorbar": {
             "outlinewidth": 0,
             "ticks": ""
            },
            "type": "choropleth"
           }
          ],
          "contour": [
           {
            "colorbar": {
             "outlinewidth": 0,
             "ticks": ""
            },
            "colorscale": [
             [
              0,
              "#0d0887"
             ],
             [
              0.1111111111111111,
              "#46039f"
             ],
             [
              0.2222222222222222,
              "#7201a8"
             ],
             [
              0.3333333333333333,
              "#9c179e"
             ],
             [
              0.4444444444444444,
              "#bd3786"
             ],
             [
              0.5555555555555556,
              "#d8576b"
             ],
             [
              0.6666666666666666,
              "#ed7953"
             ],
             [
              0.7777777777777778,
              "#fb9f3a"
             ],
             [
              0.8888888888888888,
              "#fdca26"
             ],
             [
              1,
              "#f0f921"
             ]
            ],
            "type": "contour"
           }
          ],
          "contourcarpet": [
           {
            "colorbar": {
             "outlinewidth": 0,
             "ticks": ""
            },
            "type": "contourcarpet"
           }
          ],
          "heatmap": [
           {
            "colorbar": {
             "outlinewidth": 0,
             "ticks": ""
            },
            "colorscale": [
             [
              0,
              "#0d0887"
             ],
             [
              0.1111111111111111,
              "#46039f"
             ],
             [
              0.2222222222222222,
              "#7201a8"
             ],
             [
              0.3333333333333333,
              "#9c179e"
             ],
             [
              0.4444444444444444,
              "#bd3786"
             ],
             [
              0.5555555555555556,
              "#d8576b"
             ],
             [
              0.6666666666666666,
              "#ed7953"
             ],
             [
              0.7777777777777778,
              "#fb9f3a"
             ],
             [
              0.8888888888888888,
              "#fdca26"
             ],
             [
              1,
              "#f0f921"
             ]
            ],
            "type": "heatmap"
           }
          ],
          "heatmapgl": [
           {
            "colorbar": {
             "outlinewidth": 0,
             "ticks": ""
            },
            "colorscale": [
             [
              0,
              "#0d0887"
             ],
             [
              0.1111111111111111,
              "#46039f"
             ],
             [
              0.2222222222222222,
              "#7201a8"
             ],
             [
              0.3333333333333333,
              "#9c179e"
             ],
             [
              0.4444444444444444,
              "#bd3786"
             ],
             [
              0.5555555555555556,
              "#d8576b"
             ],
             [
              0.6666666666666666,
              "#ed7953"
             ],
             [
              0.7777777777777778,
              "#fb9f3a"
             ],
             [
              0.8888888888888888,
              "#fdca26"
             ],
             [
              1,
              "#f0f921"
             ]
            ],
            "type": "heatmapgl"
           }
          ],
          "histogram": [
           {
            "marker": {
             "pattern": {
              "fillmode": "overlay",
              "size": 10,
              "solidity": 0.2
             }
            },
            "type": "histogram"
           }
          ],
          "histogram2d": [
           {
            "colorbar": {
             "outlinewidth": 0,
             "ticks": ""
            },
            "colorscale": [
             [
              0,
              "#0d0887"
             ],
             [
              0.1111111111111111,
              "#46039f"
             ],
             [
              0.2222222222222222,
              "#7201a8"
             ],
             [
              0.3333333333333333,
              "#9c179e"
             ],
             [
              0.4444444444444444,
              "#bd3786"
             ],
             [
              0.5555555555555556,
              "#d8576b"
             ],
             [
              0.6666666666666666,
              "#ed7953"
             ],
             [
              0.7777777777777778,
              "#fb9f3a"
             ],
             [
              0.8888888888888888,
              "#fdca26"
             ],
             [
              1,
              "#f0f921"
             ]
            ],
            "type": "histogram2d"
           }
          ],
          "histogram2dcontour": [
           {
            "colorbar": {
             "outlinewidth": 0,
             "ticks": ""
            },
            "colorscale": [
             [
              0,
              "#0d0887"
             ],
             [
              0.1111111111111111,
              "#46039f"
             ],
             [
              0.2222222222222222,
              "#7201a8"
             ],
             [
              0.3333333333333333,
              "#9c179e"
             ],
             [
              0.4444444444444444,
              "#bd3786"
             ],
             [
              0.5555555555555556,
              "#d8576b"
             ],
             [
              0.6666666666666666,
              "#ed7953"
             ],
             [
              0.7777777777777778,
              "#fb9f3a"
             ],
             [
              0.8888888888888888,
              "#fdca26"
             ],
             [
              1,
              "#f0f921"
             ]
            ],
            "type": "histogram2dcontour"
           }
          ],
          "mesh3d": [
           {
            "colorbar": {
             "outlinewidth": 0,
             "ticks": ""
            },
            "type": "mesh3d"
           }
          ],
          "parcoords": [
           {
            "line": {
             "colorbar": {
              "outlinewidth": 0,
              "ticks": ""
             }
            },
            "type": "parcoords"
           }
          ],
          "pie": [
           {
            "automargin": true,
            "type": "pie"
           }
          ],
          "scatter": [
           {
            "fillpattern": {
             "fillmode": "overlay",
             "size": 10,
             "solidity": 0.2
            },
            "type": "scatter"
           }
          ],
          "scatter3d": [
           {
            "line": {
             "colorbar": {
              "outlinewidth": 0,
              "ticks": ""
             }
            },
            "marker": {
             "colorbar": {
              "outlinewidth": 0,
              "ticks": ""
             }
            },
            "type": "scatter3d"
           }
          ],
          "scattercarpet": [
           {
            "marker": {
             "colorbar": {
              "outlinewidth": 0,
              "ticks": ""
             }
            },
            "type": "scattercarpet"
           }
          ],
          "scattergeo": [
           {
            "marker": {
             "colorbar": {
              "outlinewidth": 0,
              "ticks": ""
             }
            },
            "type": "scattergeo"
           }
          ],
          "scattergl": [
           {
            "marker": {
             "colorbar": {
              "outlinewidth": 0,
              "ticks": ""
             }
            },
            "type": "scattergl"
           }
          ],
          "scattermapbox": [
           {
            "marker": {
             "colorbar": {
              "outlinewidth": 0,
              "ticks": ""
             }
            },
            "type": "scattermapbox"
           }
          ],
          "scatterpolar": [
           {
            "marker": {
             "colorbar": {
              "outlinewidth": 0,
              "ticks": ""
             }
            },
            "type": "scatterpolar"
           }
          ],
          "scatterpolargl": [
           {
            "marker": {
             "colorbar": {
              "outlinewidth": 0,
              "ticks": ""
             }
            },
            "type": "scatterpolargl"
           }
          ],
          "scatterternary": [
           {
            "marker": {
             "colorbar": {
              "outlinewidth": 0,
              "ticks": ""
             }
            },
            "type": "scatterternary"
           }
          ],
          "surface": [
           {
            "colorbar": {
             "outlinewidth": 0,
             "ticks": ""
            },
            "colorscale": [
             [
              0,
              "#0d0887"
             ],
             [
              0.1111111111111111,
              "#46039f"
             ],
             [
              0.2222222222222222,
              "#7201a8"
             ],
             [
              0.3333333333333333,
              "#9c179e"
             ],
             [
              0.4444444444444444,
              "#bd3786"
             ],
             [
              0.5555555555555556,
              "#d8576b"
             ],
             [
              0.6666666666666666,
              "#ed7953"
             ],
             [
              0.7777777777777778,
              "#fb9f3a"
             ],
             [
              0.8888888888888888,
              "#fdca26"
             ],
             [
              1,
              "#f0f921"
             ]
            ],
            "type": "surface"
           }
          ],
          "table": [
           {
            "cells": {
             "fill": {
              "color": "#EBF0F8"
             },
             "line": {
              "color": "white"
             }
            },
            "header": {
             "fill": {
              "color": "#C8D4E3"
             },
             "line": {
              "color": "white"
             }
            },
            "type": "table"
           }
          ]
         },
         "layout": {
          "annotationdefaults": {
           "arrowcolor": "#2a3f5f",
           "arrowhead": 0,
           "arrowwidth": 1
          },
          "autotypenumbers": "strict",
          "coloraxis": {
           "colorbar": {
            "outlinewidth": 0,
            "ticks": ""
           }
          },
          "colorscale": {
           "diverging": [
            [
             0,
             "#8e0152"
            ],
            [
             0.1,
             "#c51b7d"
            ],
            [
             0.2,
             "#de77ae"
            ],
            [
             0.3,
             "#f1b6da"
            ],
            [
             0.4,
             "#fde0ef"
            ],
            [
             0.5,
             "#f7f7f7"
            ],
            [
             0.6,
             "#e6f5d0"
            ],
            [
             0.7,
             "#b8e186"
            ],
            [
             0.8,
             "#7fbc41"
            ],
            [
             0.9,
             "#4d9221"
            ],
            [
             1,
             "#276419"
            ]
           ],
           "sequential": [
            [
             0,
             "#0d0887"
            ],
            [
             0.1111111111111111,
             "#46039f"
            ],
            [
             0.2222222222222222,
             "#7201a8"
            ],
            [
             0.3333333333333333,
             "#9c179e"
            ],
            [
             0.4444444444444444,
             "#bd3786"
            ],
            [
             0.5555555555555556,
             "#d8576b"
            ],
            [
             0.6666666666666666,
             "#ed7953"
            ],
            [
             0.7777777777777778,
             "#fb9f3a"
            ],
            [
             0.8888888888888888,
             "#fdca26"
            ],
            [
             1,
             "#f0f921"
            ]
           ],
           "sequentialminus": [
            [
             0,
             "#0d0887"
            ],
            [
             0.1111111111111111,
             "#46039f"
            ],
            [
             0.2222222222222222,
             "#7201a8"
            ],
            [
             0.3333333333333333,
             "#9c179e"
            ],
            [
             0.4444444444444444,
             "#bd3786"
            ],
            [
             0.5555555555555556,
             "#d8576b"
            ],
            [
             0.6666666666666666,
             "#ed7953"
            ],
            [
             0.7777777777777778,
             "#fb9f3a"
            ],
            [
             0.8888888888888888,
             "#fdca26"
            ],
            [
             1,
             "#f0f921"
            ]
           ]
          },
          "colorway": [
           "#636efa",
           "#EF553B",
           "#00cc96",
           "#ab63fa",
           "#FFA15A",
           "#19d3f3",
           "#FF6692",
           "#B6E880",
           "#FF97FF",
           "#FECB52"
          ],
          "font": {
           "color": "#2a3f5f"
          },
          "geo": {
           "bgcolor": "white",
           "lakecolor": "white",
           "landcolor": "#E5ECF6",
           "showlakes": true,
           "showland": true,
           "subunitcolor": "white"
          },
          "hoverlabel": {
           "align": "left"
          },
          "hovermode": "closest",
          "mapbox": {
           "style": "light"
          },
          "paper_bgcolor": "white",
          "plot_bgcolor": "#E5ECF6",
          "polar": {
           "angularaxis": {
            "gridcolor": "white",
            "linecolor": "white",
            "ticks": ""
           },
           "bgcolor": "#E5ECF6",
           "radialaxis": {
            "gridcolor": "white",
            "linecolor": "white",
            "ticks": ""
           }
          },
          "scene": {
           "xaxis": {
            "backgroundcolor": "#E5ECF6",
            "gridcolor": "white",
            "gridwidth": 2,
            "linecolor": "white",
            "showbackground": true,
            "ticks": "",
            "zerolinecolor": "white"
           },
           "yaxis": {
            "backgroundcolor": "#E5ECF6",
            "gridcolor": "white",
            "gridwidth": 2,
            "linecolor": "white",
            "showbackground": true,
            "ticks": "",
            "zerolinecolor": "white"
           },
           "zaxis": {
            "backgroundcolor": "#E5ECF6",
            "gridcolor": "white",
            "gridwidth": 2,
            "linecolor": "white",
            "showbackground": true,
            "ticks": "",
            "zerolinecolor": "white"
           }
          },
          "shapedefaults": {
           "line": {
            "color": "#2a3f5f"
           }
          },
          "ternary": {
           "aaxis": {
            "gridcolor": "white",
            "linecolor": "white",
            "ticks": ""
           },
           "baxis": {
            "gridcolor": "white",
            "linecolor": "white",
            "ticks": ""
           },
           "bgcolor": "#E5ECF6",
           "caxis": {
            "gridcolor": "white",
            "linecolor": "white",
            "ticks": ""
           }
          },
          "title": {
           "x": 0.05
          },
          "xaxis": {
           "automargin": true,
           "gridcolor": "white",
           "linecolor": "white",
           "ticks": "",
           "title": {
            "standoff": 15
           },
           "zerolinecolor": "white",
           "zerolinewidth": 2
          },
          "yaxis": {
           "automargin": true,
           "gridcolor": "white",
           "linecolor": "white",
           "ticks": "",
           "title": {
            "standoff": 15
           },
           "zerolinecolor": "white",
           "zerolinewidth": 2
          }
         }
        },
        "title": {
         "font": {
          "size": 30
         },
         "text": "Target by Period",
         "x": 0.5
        },
        "xaxis": {
         "anchor": "y",
         "domain": [
          0,
          1
         ],
         "title": {
          "text": "period"
         }
        },
        "yaxis": {
         "anchor": "x",
         "domain": [
          0,
          1
         ],
         "title": {
          "text": "target"
         }
        }
       }
      }
     },
     "metadata": {},
     "output_type": "display_data"
    }
   ],
   "source": [
    "fig = px.line(time_df, x='period', y='target', title='Target by Period', color='year')\n",
    "fig.update_layout(title_font_size=30, title_x=0.5)\n",
    "fig.show()"
   ]
  },
  {
   "cell_type": "code",
   "execution_count": 72,
   "metadata": {},
   "outputs": [
    {
     "data": {
      "application/vnd.plotly.v1+json": {
       "config": {
        "plotlyServerURL": "https://plot.ly"
       },
       "data": [
        {
         "alignmentgroup": "True",
         "hovertemplate": "year=%{marker.color}<br>target=%{y}<extra></extra>",
         "legendgroup": "",
         "marker": {
          "color": [
           2010,
           2011,
           2012,
           2013,
           2014,
           2015,
           2016,
           2017,
           2018,
           2019,
           2020
          ],
          "coloraxis": "coloraxis",
          "pattern": {
           "shape": ""
          }
         },
         "name": "",
         "offsetgroup": "",
         "orientation": "v",
         "showlegend": false,
         "textposition": "auto",
         "type": "bar",
         "x": [
          2010,
          2011,
          2012,
          2013,
          2014,
          2015,
          2016,
          2017,
          2018,
          2019,
          2020
         ],
         "xaxis": "x",
         "y": [
          9661.916666666666,
          9605.692307692309,
          9203.25,
          9273.057692307691,
          9321,
          9737.288461538461,
          9944.301886792453,
          9838.057692307691,
          9903.288461538461,
          9969.173076923076,
          9267.083333333334
         ],
         "yaxis": "y"
        }
       ],
       "layout": {
        "barmode": "relative",
        "coloraxis": {
         "colorbar": {
          "title": {
           "text": "year"
          }
         },
         "colorscale": [
          [
           0,
           "#0d0887"
          ],
          [
           0.1111111111111111,
           "#46039f"
          ],
          [
           0.2222222222222222,
           "#7201a8"
          ],
          [
           0.3333333333333333,
           "#9c179e"
          ],
          [
           0.4444444444444444,
           "#bd3786"
          ],
          [
           0.5555555555555556,
           "#d8576b"
          ],
          [
           0.6666666666666666,
           "#ed7953"
          ],
          [
           0.7777777777777778,
           "#fb9f3a"
          ],
          [
           0.8888888888888888,
           "#fdca26"
          ],
          [
           1,
           "#f0f921"
          ]
         ]
        },
        "legend": {
         "tracegroupgap": 0
        },
        "template": {
         "data": {
          "bar": [
           {
            "error_x": {
             "color": "#2a3f5f"
            },
            "error_y": {
             "color": "#2a3f5f"
            },
            "marker": {
             "line": {
              "color": "#E5ECF6",
              "width": 0.5
             },
             "pattern": {
              "fillmode": "overlay",
              "size": 10,
              "solidity": 0.2
             }
            },
            "type": "bar"
           }
          ],
          "barpolar": [
           {
            "marker": {
             "line": {
              "color": "#E5ECF6",
              "width": 0.5
             },
             "pattern": {
              "fillmode": "overlay",
              "size": 10,
              "solidity": 0.2
             }
            },
            "type": "barpolar"
           }
          ],
          "carpet": [
           {
            "aaxis": {
             "endlinecolor": "#2a3f5f",
             "gridcolor": "white",
             "linecolor": "white",
             "minorgridcolor": "white",
             "startlinecolor": "#2a3f5f"
            },
            "baxis": {
             "endlinecolor": "#2a3f5f",
             "gridcolor": "white",
             "linecolor": "white",
             "minorgridcolor": "white",
             "startlinecolor": "#2a3f5f"
            },
            "type": "carpet"
           }
          ],
          "choropleth": [
           {
            "colorbar": {
             "outlinewidth": 0,
             "ticks": ""
            },
            "type": "choropleth"
           }
          ],
          "contour": [
           {
            "colorbar": {
             "outlinewidth": 0,
             "ticks": ""
            },
            "colorscale": [
             [
              0,
              "#0d0887"
             ],
             [
              0.1111111111111111,
              "#46039f"
             ],
             [
              0.2222222222222222,
              "#7201a8"
             ],
             [
              0.3333333333333333,
              "#9c179e"
             ],
             [
              0.4444444444444444,
              "#bd3786"
             ],
             [
              0.5555555555555556,
              "#d8576b"
             ],
             [
              0.6666666666666666,
              "#ed7953"
             ],
             [
              0.7777777777777778,
              "#fb9f3a"
             ],
             [
              0.8888888888888888,
              "#fdca26"
             ],
             [
              1,
              "#f0f921"
             ]
            ],
            "type": "contour"
           }
          ],
          "contourcarpet": [
           {
            "colorbar": {
             "outlinewidth": 0,
             "ticks": ""
            },
            "type": "contourcarpet"
           }
          ],
          "heatmap": [
           {
            "colorbar": {
             "outlinewidth": 0,
             "ticks": ""
            },
            "colorscale": [
             [
              0,
              "#0d0887"
             ],
             [
              0.1111111111111111,
              "#46039f"
             ],
             [
              0.2222222222222222,
              "#7201a8"
             ],
             [
              0.3333333333333333,
              "#9c179e"
             ],
             [
              0.4444444444444444,
              "#bd3786"
             ],
             [
              0.5555555555555556,
              "#d8576b"
             ],
             [
              0.6666666666666666,
              "#ed7953"
             ],
             [
              0.7777777777777778,
              "#fb9f3a"
             ],
             [
              0.8888888888888888,
              "#fdca26"
             ],
             [
              1,
              "#f0f921"
             ]
            ],
            "type": "heatmap"
           }
          ],
          "heatmapgl": [
           {
            "colorbar": {
             "outlinewidth": 0,
             "ticks": ""
            },
            "colorscale": [
             [
              0,
              "#0d0887"
             ],
             [
              0.1111111111111111,
              "#46039f"
             ],
             [
              0.2222222222222222,
              "#7201a8"
             ],
             [
              0.3333333333333333,
              "#9c179e"
             ],
             [
              0.4444444444444444,
              "#bd3786"
             ],
             [
              0.5555555555555556,
              "#d8576b"
             ],
             [
              0.6666666666666666,
              "#ed7953"
             ],
             [
              0.7777777777777778,
              "#fb9f3a"
             ],
             [
              0.8888888888888888,
              "#fdca26"
             ],
             [
              1,
              "#f0f921"
             ]
            ],
            "type": "heatmapgl"
           }
          ],
          "histogram": [
           {
            "marker": {
             "pattern": {
              "fillmode": "overlay",
              "size": 10,
              "solidity": 0.2
             }
            },
            "type": "histogram"
           }
          ],
          "histogram2d": [
           {
            "colorbar": {
             "outlinewidth": 0,
             "ticks": ""
            },
            "colorscale": [
             [
              0,
              "#0d0887"
             ],
             [
              0.1111111111111111,
              "#46039f"
             ],
             [
              0.2222222222222222,
              "#7201a8"
             ],
             [
              0.3333333333333333,
              "#9c179e"
             ],
             [
              0.4444444444444444,
              "#bd3786"
             ],
             [
              0.5555555555555556,
              "#d8576b"
             ],
             [
              0.6666666666666666,
              "#ed7953"
             ],
             [
              0.7777777777777778,
              "#fb9f3a"
             ],
             [
              0.8888888888888888,
              "#fdca26"
             ],
             [
              1,
              "#f0f921"
             ]
            ],
            "type": "histogram2d"
           }
          ],
          "histogram2dcontour": [
           {
            "colorbar": {
             "outlinewidth": 0,
             "ticks": ""
            },
            "colorscale": [
             [
              0,
              "#0d0887"
             ],
             [
              0.1111111111111111,
              "#46039f"
             ],
             [
              0.2222222222222222,
              "#7201a8"
             ],
             [
              0.3333333333333333,
              "#9c179e"
             ],
             [
              0.4444444444444444,
              "#bd3786"
             ],
             [
              0.5555555555555556,
              "#d8576b"
             ],
             [
              0.6666666666666666,
              "#ed7953"
             ],
             [
              0.7777777777777778,
              "#fb9f3a"
             ],
             [
              0.8888888888888888,
              "#fdca26"
             ],
             [
              1,
              "#f0f921"
             ]
            ],
            "type": "histogram2dcontour"
           }
          ],
          "mesh3d": [
           {
            "colorbar": {
             "outlinewidth": 0,
             "ticks": ""
            },
            "type": "mesh3d"
           }
          ],
          "parcoords": [
           {
            "line": {
             "colorbar": {
              "outlinewidth": 0,
              "ticks": ""
             }
            },
            "type": "parcoords"
           }
          ],
          "pie": [
           {
            "automargin": true,
            "type": "pie"
           }
          ],
          "scatter": [
           {
            "fillpattern": {
             "fillmode": "overlay",
             "size": 10,
             "solidity": 0.2
            },
            "type": "scatter"
           }
          ],
          "scatter3d": [
           {
            "line": {
             "colorbar": {
              "outlinewidth": 0,
              "ticks": ""
             }
            },
            "marker": {
             "colorbar": {
              "outlinewidth": 0,
              "ticks": ""
             }
            },
            "type": "scatter3d"
           }
          ],
          "scattercarpet": [
           {
            "marker": {
             "colorbar": {
              "outlinewidth": 0,
              "ticks": ""
             }
            },
            "type": "scattercarpet"
           }
          ],
          "scattergeo": [
           {
            "marker": {
             "colorbar": {
              "outlinewidth": 0,
              "ticks": ""
             }
            },
            "type": "scattergeo"
           }
          ],
          "scattergl": [
           {
            "marker": {
             "colorbar": {
              "outlinewidth": 0,
              "ticks": ""
             }
            },
            "type": "scattergl"
           }
          ],
          "scattermapbox": [
           {
            "marker": {
             "colorbar": {
              "outlinewidth": 0,
              "ticks": ""
             }
            },
            "type": "scattermapbox"
           }
          ],
          "scatterpolar": [
           {
            "marker": {
             "colorbar": {
              "outlinewidth": 0,
              "ticks": ""
             }
            },
            "type": "scatterpolar"
           }
          ],
          "scatterpolargl": [
           {
            "marker": {
             "colorbar": {
              "outlinewidth": 0,
              "ticks": ""
             }
            },
            "type": "scatterpolargl"
           }
          ],
          "scatterternary": [
           {
            "marker": {
             "colorbar": {
              "outlinewidth": 0,
              "ticks": ""
             }
            },
            "type": "scatterternary"
           }
          ],
          "surface": [
           {
            "colorbar": {
             "outlinewidth": 0,
             "ticks": ""
            },
            "colorscale": [
             [
              0,
              "#0d0887"
             ],
             [
              0.1111111111111111,
              "#46039f"
             ],
             [
              0.2222222222222222,
              "#7201a8"
             ],
             [
              0.3333333333333333,
              "#9c179e"
             ],
             [
              0.4444444444444444,
              "#bd3786"
             ],
             [
              0.5555555555555556,
              "#d8576b"
             ],
             [
              0.6666666666666666,
              "#ed7953"
             ],
             [
              0.7777777777777778,
              "#fb9f3a"
             ],
             [
              0.8888888888888888,
              "#fdca26"
             ],
             [
              1,
              "#f0f921"
             ]
            ],
            "type": "surface"
           }
          ],
          "table": [
           {
            "cells": {
             "fill": {
              "color": "#EBF0F8"
             },
             "line": {
              "color": "white"
             }
            },
            "header": {
             "fill": {
              "color": "#C8D4E3"
             },
             "line": {
              "color": "white"
             }
            },
            "type": "table"
           }
          ]
         },
         "layout": {
          "annotationdefaults": {
           "arrowcolor": "#2a3f5f",
           "arrowhead": 0,
           "arrowwidth": 1
          },
          "autotypenumbers": "strict",
          "coloraxis": {
           "colorbar": {
            "outlinewidth": 0,
            "ticks": ""
           }
          },
          "colorscale": {
           "diverging": [
            [
             0,
             "#8e0152"
            ],
            [
             0.1,
             "#c51b7d"
            ],
            [
             0.2,
             "#de77ae"
            ],
            [
             0.3,
             "#f1b6da"
            ],
            [
             0.4,
             "#fde0ef"
            ],
            [
             0.5,
             "#f7f7f7"
            ],
            [
             0.6,
             "#e6f5d0"
            ],
            [
             0.7,
             "#b8e186"
            ],
            [
             0.8,
             "#7fbc41"
            ],
            [
             0.9,
             "#4d9221"
            ],
            [
             1,
             "#276419"
            ]
           ],
           "sequential": [
            [
             0,
             "#0d0887"
            ],
            [
             0.1111111111111111,
             "#46039f"
            ],
            [
             0.2222222222222222,
             "#7201a8"
            ],
            [
             0.3333333333333333,
             "#9c179e"
            ],
            [
             0.4444444444444444,
             "#bd3786"
            ],
            [
             0.5555555555555556,
             "#d8576b"
            ],
            [
             0.6666666666666666,
             "#ed7953"
            ],
            [
             0.7777777777777778,
             "#fb9f3a"
            ],
            [
             0.8888888888888888,
             "#fdca26"
            ],
            [
             1,
             "#f0f921"
            ]
           ],
           "sequentialminus": [
            [
             0,
             "#0d0887"
            ],
            [
             0.1111111111111111,
             "#46039f"
            ],
            [
             0.2222222222222222,
             "#7201a8"
            ],
            [
             0.3333333333333333,
             "#9c179e"
            ],
            [
             0.4444444444444444,
             "#bd3786"
            ],
            [
             0.5555555555555556,
             "#d8576b"
            ],
            [
             0.6666666666666666,
             "#ed7953"
            ],
            [
             0.7777777777777778,
             "#fb9f3a"
            ],
            [
             0.8888888888888888,
             "#fdca26"
            ],
            [
             1,
             "#f0f921"
            ]
           ]
          },
          "colorway": [
           "#636efa",
           "#EF553B",
           "#00cc96",
           "#ab63fa",
           "#FFA15A",
           "#19d3f3",
           "#FF6692",
           "#B6E880",
           "#FF97FF",
           "#FECB52"
          ],
          "font": {
           "color": "#2a3f5f"
          },
          "geo": {
           "bgcolor": "white",
           "lakecolor": "white",
           "landcolor": "#E5ECF6",
           "showlakes": true,
           "showland": true,
           "subunitcolor": "white"
          },
          "hoverlabel": {
           "align": "left"
          },
          "hovermode": "closest",
          "mapbox": {
           "style": "light"
          },
          "paper_bgcolor": "white",
          "plot_bgcolor": "#E5ECF6",
          "polar": {
           "angularaxis": {
            "gridcolor": "white",
            "linecolor": "white",
            "ticks": ""
           },
           "bgcolor": "#E5ECF6",
           "radialaxis": {
            "gridcolor": "white",
            "linecolor": "white",
            "ticks": ""
           }
          },
          "scene": {
           "xaxis": {
            "backgroundcolor": "#E5ECF6",
            "gridcolor": "white",
            "gridwidth": 2,
            "linecolor": "white",
            "showbackground": true,
            "ticks": "",
            "zerolinecolor": "white"
           },
           "yaxis": {
            "backgroundcolor": "#E5ECF6",
            "gridcolor": "white",
            "gridwidth": 2,
            "linecolor": "white",
            "showbackground": true,
            "ticks": "",
            "zerolinecolor": "white"
           },
           "zaxis": {
            "backgroundcolor": "#E5ECF6",
            "gridcolor": "white",
            "gridwidth": 2,
            "linecolor": "white",
            "showbackground": true,
            "ticks": "",
            "zerolinecolor": "white"
           }
          },
          "shapedefaults": {
           "line": {
            "color": "#2a3f5f"
           }
          },
          "ternary": {
           "aaxis": {
            "gridcolor": "white",
            "linecolor": "white",
            "ticks": ""
           },
           "baxis": {
            "gridcolor": "white",
            "linecolor": "white",
            "ticks": ""
           },
           "bgcolor": "#E5ECF6",
           "caxis": {
            "gridcolor": "white",
            "linecolor": "white",
            "ticks": ""
           }
          },
          "title": {
           "x": 0.05
          },
          "xaxis": {
           "automargin": true,
           "gridcolor": "white",
           "linecolor": "white",
           "ticks": "",
           "title": {
            "standoff": 15
           },
           "zerolinecolor": "white",
           "zerolinewidth": 2
          },
          "yaxis": {
           "automargin": true,
           "gridcolor": "white",
           "linecolor": "white",
           "ticks": "",
           "title": {
            "standoff": 15
           },
           "zerolinecolor": "white",
           "zerolinewidth": 2
          }
         }
        },
        "title": {
         "font": {
          "size": 30
         },
         "text": "Target by Year",
         "x": 0.5
        },
        "xaxis": {
         "anchor": "y",
         "domain": [
          0,
          1
         ],
         "title": {
          "text": "year"
         }
        },
        "yaxis": {
         "anchor": "x",
         "domain": [
          0,
          1
         ],
         "title": {
          "text": "target"
         }
        }
       }
      }
     },
     "metadata": {},
     "output_type": "display_data"
    }
   ],
   "source": [
    "fig = px.bar(time_df.groupby('year')['target'].mean().reset_index(),\n",
    "            x='year', y='target', title='Target by Year', color='year')\n",
    "fig.update_layout(title_font_size=30, title_x=0.5)\n",
    "fig.show()"
   ]
  },
  {
   "cell_type": "code",
   "execution_count": 74,
   "metadata": {},
   "outputs": [
    {
     "data": {
      "application/vnd.plotly.v1+json": {
       "config": {
        "plotlyServerURL": "https://plot.ly"
       },
       "data": [
        {
         "alignmentgroup": "True",
         "hovertemplate": "month=%{marker.color}<br>target=%{y}<extra></extra>",
         "legendgroup": "",
         "marker": {
          "color": [
           1,
           2,
           3,
           4,
           5,
           6,
           7,
           8,
           9,
           10,
           11,
           12
          ],
          "coloraxis": "coloraxis",
          "pattern": {
           "shape": ""
          }
         },
         "name": "",
         "offsetgroup": "",
         "orientation": "v",
         "showlegend": false,
         "textposition": "auto",
         "type": "bar",
         "x": [
          1,
          2,
          3,
          4,
          5,
          6,
          7,
          8,
          9,
          10,
          11,
          12
         ],
         "xaxis": "x",
         "y": [
          8797.318181818182,
          9485.125,
          9771.136363636364,
          9781.842105263158,
          10003.825,
          10130.846153846154,
          10085.02564102564,
          10096.878048780487,
          9600.307692307691,
          9789.390243902439,
          9239.204545454546,
          9033.295454545454
         ],
         "yaxis": "y"
        }
       ],
       "layout": {
        "barmode": "relative",
        "coloraxis": {
         "colorbar": {
          "title": {
           "text": "month"
          }
         },
         "colorscale": [
          [
           0,
           "#0d0887"
          ],
          [
           0.1111111111111111,
           "#46039f"
          ],
          [
           0.2222222222222222,
           "#7201a8"
          ],
          [
           0.3333333333333333,
           "#9c179e"
          ],
          [
           0.4444444444444444,
           "#bd3786"
          ],
          [
           0.5555555555555556,
           "#d8576b"
          ],
          [
           0.6666666666666666,
           "#ed7953"
          ],
          [
           0.7777777777777778,
           "#fb9f3a"
          ],
          [
           0.8888888888888888,
           "#fdca26"
          ],
          [
           1,
           "#f0f921"
          ]
         ]
        },
        "legend": {
         "tracegroupgap": 0
        },
        "template": {
         "data": {
          "bar": [
           {
            "error_x": {
             "color": "#2a3f5f"
            },
            "error_y": {
             "color": "#2a3f5f"
            },
            "marker": {
             "line": {
              "color": "#E5ECF6",
              "width": 0.5
             },
             "pattern": {
              "fillmode": "overlay",
              "size": 10,
              "solidity": 0.2
             }
            },
            "type": "bar"
           }
          ],
          "barpolar": [
           {
            "marker": {
             "line": {
              "color": "#E5ECF6",
              "width": 0.5
             },
             "pattern": {
              "fillmode": "overlay",
              "size": 10,
              "solidity": 0.2
             }
            },
            "type": "barpolar"
           }
          ],
          "carpet": [
           {
            "aaxis": {
             "endlinecolor": "#2a3f5f",
             "gridcolor": "white",
             "linecolor": "white",
             "minorgridcolor": "white",
             "startlinecolor": "#2a3f5f"
            },
            "baxis": {
             "endlinecolor": "#2a3f5f",
             "gridcolor": "white",
             "linecolor": "white",
             "minorgridcolor": "white",
             "startlinecolor": "#2a3f5f"
            },
            "type": "carpet"
           }
          ],
          "choropleth": [
           {
            "colorbar": {
             "outlinewidth": 0,
             "ticks": ""
            },
            "type": "choropleth"
           }
          ],
          "contour": [
           {
            "colorbar": {
             "outlinewidth": 0,
             "ticks": ""
            },
            "colorscale": [
             [
              0,
              "#0d0887"
             ],
             [
              0.1111111111111111,
              "#46039f"
             ],
             [
              0.2222222222222222,
              "#7201a8"
             ],
             [
              0.3333333333333333,
              "#9c179e"
             ],
             [
              0.4444444444444444,
              "#bd3786"
             ],
             [
              0.5555555555555556,
              "#d8576b"
             ],
             [
              0.6666666666666666,
              "#ed7953"
             ],
             [
              0.7777777777777778,
              "#fb9f3a"
             ],
             [
              0.8888888888888888,
              "#fdca26"
             ],
             [
              1,
              "#f0f921"
             ]
            ],
            "type": "contour"
           }
          ],
          "contourcarpet": [
           {
            "colorbar": {
             "outlinewidth": 0,
             "ticks": ""
            },
            "type": "contourcarpet"
           }
          ],
          "heatmap": [
           {
            "colorbar": {
             "outlinewidth": 0,
             "ticks": ""
            },
            "colorscale": [
             [
              0,
              "#0d0887"
             ],
             [
              0.1111111111111111,
              "#46039f"
             ],
             [
              0.2222222222222222,
              "#7201a8"
             ],
             [
              0.3333333333333333,
              "#9c179e"
             ],
             [
              0.4444444444444444,
              "#bd3786"
             ],
             [
              0.5555555555555556,
              "#d8576b"
             ],
             [
              0.6666666666666666,
              "#ed7953"
             ],
             [
              0.7777777777777778,
              "#fb9f3a"
             ],
             [
              0.8888888888888888,
              "#fdca26"
             ],
             [
              1,
              "#f0f921"
             ]
            ],
            "type": "heatmap"
           }
          ],
          "heatmapgl": [
           {
            "colorbar": {
             "outlinewidth": 0,
             "ticks": ""
            },
            "colorscale": [
             [
              0,
              "#0d0887"
             ],
             [
              0.1111111111111111,
              "#46039f"
             ],
             [
              0.2222222222222222,
              "#7201a8"
             ],
             [
              0.3333333333333333,
              "#9c179e"
             ],
             [
              0.4444444444444444,
              "#bd3786"
             ],
             [
              0.5555555555555556,
              "#d8576b"
             ],
             [
              0.6666666666666666,
              "#ed7953"
             ],
             [
              0.7777777777777778,
              "#fb9f3a"
             ],
             [
              0.8888888888888888,
              "#fdca26"
             ],
             [
              1,
              "#f0f921"
             ]
            ],
            "type": "heatmapgl"
           }
          ],
          "histogram": [
           {
            "marker": {
             "pattern": {
              "fillmode": "overlay",
              "size": 10,
              "solidity": 0.2
             }
            },
            "type": "histogram"
           }
          ],
          "histogram2d": [
           {
            "colorbar": {
             "outlinewidth": 0,
             "ticks": ""
            },
            "colorscale": [
             [
              0,
              "#0d0887"
             ],
             [
              0.1111111111111111,
              "#46039f"
             ],
             [
              0.2222222222222222,
              "#7201a8"
             ],
             [
              0.3333333333333333,
              "#9c179e"
             ],
             [
              0.4444444444444444,
              "#bd3786"
             ],
             [
              0.5555555555555556,
              "#d8576b"
             ],
             [
              0.6666666666666666,
              "#ed7953"
             ],
             [
              0.7777777777777778,
              "#fb9f3a"
             ],
             [
              0.8888888888888888,
              "#fdca26"
             ],
             [
              1,
              "#f0f921"
             ]
            ],
            "type": "histogram2d"
           }
          ],
          "histogram2dcontour": [
           {
            "colorbar": {
             "outlinewidth": 0,
             "ticks": ""
            },
            "colorscale": [
             [
              0,
              "#0d0887"
             ],
             [
              0.1111111111111111,
              "#46039f"
             ],
             [
              0.2222222222222222,
              "#7201a8"
             ],
             [
              0.3333333333333333,
              "#9c179e"
             ],
             [
              0.4444444444444444,
              "#bd3786"
             ],
             [
              0.5555555555555556,
              "#d8576b"
             ],
             [
              0.6666666666666666,
              "#ed7953"
             ],
             [
              0.7777777777777778,
              "#fb9f3a"
             ],
             [
              0.8888888888888888,
              "#fdca26"
             ],
             [
              1,
              "#f0f921"
             ]
            ],
            "type": "histogram2dcontour"
           }
          ],
          "mesh3d": [
           {
            "colorbar": {
             "outlinewidth": 0,
             "ticks": ""
            },
            "type": "mesh3d"
           }
          ],
          "parcoords": [
           {
            "line": {
             "colorbar": {
              "outlinewidth": 0,
              "ticks": ""
             }
            },
            "type": "parcoords"
           }
          ],
          "pie": [
           {
            "automargin": true,
            "type": "pie"
           }
          ],
          "scatter": [
           {
            "fillpattern": {
             "fillmode": "overlay",
             "size": 10,
             "solidity": 0.2
            },
            "type": "scatter"
           }
          ],
          "scatter3d": [
           {
            "line": {
             "colorbar": {
              "outlinewidth": 0,
              "ticks": ""
             }
            },
            "marker": {
             "colorbar": {
              "outlinewidth": 0,
              "ticks": ""
             }
            },
            "type": "scatter3d"
           }
          ],
          "scattercarpet": [
           {
            "marker": {
             "colorbar": {
              "outlinewidth": 0,
              "ticks": ""
             }
            },
            "type": "scattercarpet"
           }
          ],
          "scattergeo": [
           {
            "marker": {
             "colorbar": {
              "outlinewidth": 0,
              "ticks": ""
             }
            },
            "type": "scattergeo"
           }
          ],
          "scattergl": [
           {
            "marker": {
             "colorbar": {
              "outlinewidth": 0,
              "ticks": ""
             }
            },
            "type": "scattergl"
           }
          ],
          "scattermapbox": [
           {
            "marker": {
             "colorbar": {
              "outlinewidth": 0,
              "ticks": ""
             }
            },
            "type": "scattermapbox"
           }
          ],
          "scatterpolar": [
           {
            "marker": {
             "colorbar": {
              "outlinewidth": 0,
              "ticks": ""
             }
            },
            "type": "scatterpolar"
           }
          ],
          "scatterpolargl": [
           {
            "marker": {
             "colorbar": {
              "outlinewidth": 0,
              "ticks": ""
             }
            },
            "type": "scatterpolargl"
           }
          ],
          "scatterternary": [
           {
            "marker": {
             "colorbar": {
              "outlinewidth": 0,
              "ticks": ""
             }
            },
            "type": "scatterternary"
           }
          ],
          "surface": [
           {
            "colorbar": {
             "outlinewidth": 0,
             "ticks": ""
            },
            "colorscale": [
             [
              0,
              "#0d0887"
             ],
             [
              0.1111111111111111,
              "#46039f"
             ],
             [
              0.2222222222222222,
              "#7201a8"
             ],
             [
              0.3333333333333333,
              "#9c179e"
             ],
             [
              0.4444444444444444,
              "#bd3786"
             ],
             [
              0.5555555555555556,
              "#d8576b"
             ],
             [
              0.6666666666666666,
              "#ed7953"
             ],
             [
              0.7777777777777778,
              "#fb9f3a"
             ],
             [
              0.8888888888888888,
              "#fdca26"
             ],
             [
              1,
              "#f0f921"
             ]
            ],
            "type": "surface"
           }
          ],
          "table": [
           {
            "cells": {
             "fill": {
              "color": "#EBF0F8"
             },
             "line": {
              "color": "white"
             }
            },
            "header": {
             "fill": {
              "color": "#C8D4E3"
             },
             "line": {
              "color": "white"
             }
            },
            "type": "table"
           }
          ]
         },
         "layout": {
          "annotationdefaults": {
           "arrowcolor": "#2a3f5f",
           "arrowhead": 0,
           "arrowwidth": 1
          },
          "autotypenumbers": "strict",
          "coloraxis": {
           "colorbar": {
            "outlinewidth": 0,
            "ticks": ""
           }
          },
          "colorscale": {
           "diverging": [
            [
             0,
             "#8e0152"
            ],
            [
             0.1,
             "#c51b7d"
            ],
            [
             0.2,
             "#de77ae"
            ],
            [
             0.3,
             "#f1b6da"
            ],
            [
             0.4,
             "#fde0ef"
            ],
            [
             0.5,
             "#f7f7f7"
            ],
            [
             0.6,
             "#e6f5d0"
            ],
            [
             0.7,
             "#b8e186"
            ],
            [
             0.8,
             "#7fbc41"
            ],
            [
             0.9,
             "#4d9221"
            ],
            [
             1,
             "#276419"
            ]
           ],
           "sequential": [
            [
             0,
             "#0d0887"
            ],
            [
             0.1111111111111111,
             "#46039f"
            ],
            [
             0.2222222222222222,
             "#7201a8"
            ],
            [
             0.3333333333333333,
             "#9c179e"
            ],
            [
             0.4444444444444444,
             "#bd3786"
            ],
            [
             0.5555555555555556,
             "#d8576b"
            ],
            [
             0.6666666666666666,
             "#ed7953"
            ],
            [
             0.7777777777777778,
             "#fb9f3a"
            ],
            [
             0.8888888888888888,
             "#fdca26"
            ],
            [
             1,
             "#f0f921"
            ]
           ],
           "sequentialminus": [
            [
             0,
             "#0d0887"
            ],
            [
             0.1111111111111111,
             "#46039f"
            ],
            [
             0.2222222222222222,
             "#7201a8"
            ],
            [
             0.3333333333333333,
             "#9c179e"
            ],
            [
             0.4444444444444444,
             "#bd3786"
            ],
            [
             0.5555555555555556,
             "#d8576b"
            ],
            [
             0.6666666666666666,
             "#ed7953"
            ],
            [
             0.7777777777777778,
             "#fb9f3a"
            ],
            [
             0.8888888888888888,
             "#fdca26"
            ],
            [
             1,
             "#f0f921"
            ]
           ]
          },
          "colorway": [
           "#636efa",
           "#EF553B",
           "#00cc96",
           "#ab63fa",
           "#FFA15A",
           "#19d3f3",
           "#FF6692",
           "#B6E880",
           "#FF97FF",
           "#FECB52"
          ],
          "font": {
           "color": "#2a3f5f"
          },
          "geo": {
           "bgcolor": "white",
           "lakecolor": "white",
           "landcolor": "#E5ECF6",
           "showlakes": true,
           "showland": true,
           "subunitcolor": "white"
          },
          "hoverlabel": {
           "align": "left"
          },
          "hovermode": "closest",
          "mapbox": {
           "style": "light"
          },
          "paper_bgcolor": "white",
          "plot_bgcolor": "#E5ECF6",
          "polar": {
           "angularaxis": {
            "gridcolor": "white",
            "linecolor": "white",
            "ticks": ""
           },
           "bgcolor": "#E5ECF6",
           "radialaxis": {
            "gridcolor": "white",
            "linecolor": "white",
            "ticks": ""
           }
          },
          "scene": {
           "xaxis": {
            "backgroundcolor": "#E5ECF6",
            "gridcolor": "white",
            "gridwidth": 2,
            "linecolor": "white",
            "showbackground": true,
            "ticks": "",
            "zerolinecolor": "white"
           },
           "yaxis": {
            "backgroundcolor": "#E5ECF6",
            "gridcolor": "white",
            "gridwidth": 2,
            "linecolor": "white",
            "showbackground": true,
            "ticks": "",
            "zerolinecolor": "white"
           },
           "zaxis": {
            "backgroundcolor": "#E5ECF6",
            "gridcolor": "white",
            "gridwidth": 2,
            "linecolor": "white",
            "showbackground": true,
            "ticks": "",
            "zerolinecolor": "white"
           }
          },
          "shapedefaults": {
           "line": {
            "color": "#2a3f5f"
           }
          },
          "ternary": {
           "aaxis": {
            "gridcolor": "white",
            "linecolor": "white",
            "ticks": ""
           },
           "baxis": {
            "gridcolor": "white",
            "linecolor": "white",
            "ticks": ""
           },
           "bgcolor": "#E5ECF6",
           "caxis": {
            "gridcolor": "white",
            "linecolor": "white",
            "ticks": ""
           }
          },
          "title": {
           "x": 0.05
          },
          "xaxis": {
           "automargin": true,
           "gridcolor": "white",
           "linecolor": "white",
           "ticks": "",
           "title": {
            "standoff": 15
           },
           "zerolinecolor": "white",
           "zerolinewidth": 2
          },
          "yaxis": {
           "automargin": true,
           "gridcolor": "white",
           "linecolor": "white",
           "ticks": "",
           "title": {
            "standoff": 15
           },
           "zerolinecolor": "white",
           "zerolinewidth": 2
          }
         }
        },
        "title": {
         "font": {
          "size": 30
         },
         "text": "Target by Month",
         "x": 0.5
        },
        "xaxis": {
         "anchor": "y",
         "domain": [
          0,
          1
         ],
         "title": {
          "text": "month"
         }
        },
        "yaxis": {
         "anchor": "x",
         "domain": [
          0,
          1
         ],
         "title": {
          "text": "target"
         }
        }
       }
      }
     },
     "metadata": {},
     "output_type": "display_data"
    }
   ],
   "source": [
    "fig = px.bar(time_df.groupby('month')['target'].mean().reset_index(),\n",
    "            x='month', y='target', title='Target by Month', color='month')\n",
    "fig.update_layout(title_font_size=30, title_x=0.5)\n",
    "fig.show()"
   ]
  },
  {
   "cell_type": "code",
   "execution_count": 96,
   "metadata": {},
   "outputs": [
    {
     "data": {
      "application/vnd.plotly.v1+json": {
       "config": {
        "plotlyServerURL": "https://plot.ly"
       },
       "data": [
        {
         "alignmentgroup": "True",
         "hovertemplate": "week=%{x}<br>target=%{y}<br>month=%{marker.color}<extra></extra>",
         "legendgroup": "",
         "marker": {
          "color": [
           10,
           10,
           10,
           11,
           11,
           11,
           11,
           12,
           12,
           12,
           12,
           12,
           1,
           1,
           1,
           1,
           2,
           2,
           2,
           2,
           3,
           3,
           3,
           3,
           4,
           4,
           4,
           4,
           4,
           5,
           5,
           5,
           5,
           6,
           6,
           6,
           6,
           7,
           7,
           7,
           7,
           7,
           8,
           8,
           8,
           8,
           9,
           9,
           9,
           9,
           9,
           10,
           10,
           10,
           10,
           11,
           11,
           11,
           11,
           12,
           12,
           12,
           12,
           12,
           1,
           1,
           1,
           1,
           2,
           2,
           2,
           2,
           3,
           3,
           3,
           3,
           3,
           4,
           4,
           4,
           4,
           5,
           5,
           5,
           5,
           6,
           6,
           6,
           6,
           6,
           7,
           7,
           7,
           7,
           8,
           8,
           8,
           8,
           8,
           9,
           9,
           9,
           9,
           10,
           10,
           10,
           10,
           11,
           11,
           11,
           11,
           11,
           12,
           12,
           12,
           12,
           1,
           1,
           1,
           1,
           2,
           2,
           2,
           2,
           3,
           3,
           3,
           3,
           3,
           4,
           4,
           4,
           4,
           5,
           5,
           5,
           5,
           5,
           6,
           6,
           6,
           6,
           7,
           7,
           7,
           7,
           8,
           8,
           8,
           8,
           8,
           9,
           9,
           9,
           9,
           10,
           10,
           10,
           10,
           11,
           11,
           11,
           11,
           11,
           12,
           12,
           12,
           12,
           1,
           1,
           1,
           1,
           1,
           2,
           2,
           2,
           2,
           3,
           3,
           3,
           3,
           4,
           4,
           4,
           4,
           5,
           5,
           5,
           5,
           5,
           6,
           6,
           6,
           6,
           7,
           7,
           7,
           7,
           8,
           8,
           8,
           8,
           8,
           9,
           9,
           9,
           9,
           10,
           10,
           10,
           10,
           10,
           11,
           11,
           11,
           11,
           12,
           12,
           12,
           12,
           1,
           1,
           1,
           1,
           1,
           2,
           2,
           2,
           2,
           3,
           3,
           3,
           3,
           4,
           4,
           4,
           4,
           5,
           5,
           5,
           5,
           5,
           6,
           6,
           6,
           6,
           7,
           7,
           7,
           7,
           7,
           8,
           8,
           8,
           8,
           9,
           9,
           9,
           9,
           10,
           10,
           10,
           10,
           10,
           11,
           11,
           11,
           11,
           12,
           12,
           12,
           12,
           1,
           1,
           1,
           1,
           1,
           2,
           2,
           2,
           2,
           3,
           3,
           3,
           3,
           4,
           4,
           4,
           4,
           4,
           5,
           5,
           5,
           5,
           6,
           6,
           6,
           6,
           7,
           7,
           7,
           7,
           7,
           8,
           8,
           8,
           8,
           9,
           9,
           9,
           9,
           9,
           10,
           10,
           10,
           10,
           11,
           11,
           11,
           11,
           12,
           12,
           12,
           12,
           12,
           1,
           1,
           1,
           1,
           2,
           2,
           2,
           2,
           3,
           3,
           3,
           3,
           3,
           4,
           4,
           4,
           4,
           5,
           5,
           5,
           5,
           6,
           6,
           6,
           6,
           6,
           7,
           7,
           7,
           7,
           8,
           8,
           8,
           8,
           9,
           9,
           9,
           9,
           9,
           10,
           10,
           10,
           10,
           11,
           11,
           11,
           11,
           12,
           12,
           12,
           12,
           12,
           1,
           1,
           1,
           1,
           2,
           2,
           2,
           2,
           3,
           3,
           3,
           3,
           3,
           4,
           4,
           4,
           4,
           5,
           5,
           5,
           5,
           6,
           6,
           6,
           6,
           6,
           7,
           7,
           7,
           7,
           8,
           8,
           8,
           8,
           8,
           9,
           9,
           9,
           9,
           10,
           10,
           10,
           10,
           11,
           11,
           11,
           11,
           11,
           12,
           12,
           12,
           12,
           1,
           1,
           1,
           1,
           2,
           2,
           2,
           2,
           3,
           3,
           3,
           3,
           3,
           4,
           4,
           4,
           4,
           5,
           5,
           5,
           5,
           5,
           6,
           6,
           6,
           6,
           7,
           7,
           7,
           7,
           8,
           8,
           8,
           8,
           8,
           9,
           9,
           9,
           9,
           10,
           10,
           10,
           10,
           11,
           11,
           11,
           11,
           11,
           12,
           12,
           12,
           12,
           1,
           1,
           1,
           1,
           1,
           2,
           2,
           2,
           2,
           3,
           3,
           3
          ],
          "coloraxis": "coloraxis",
          "pattern": {
           "shape": ""
          }
         },
         "name": "",
         "offsetgroup": "",
         "orientation": "v",
         "showlegend": false,
         "textposition": "auto",
         "type": "bar",
         "x": [
          41,
          42,
          43,
          44,
          45,
          46,
          47,
          48,
          49,
          50,
          51,
          52,
          1,
          2,
          3,
          4,
          5,
          6,
          7,
          8,
          9,
          10,
          11,
          12,
          13,
          14,
          15,
          16,
          17,
          18,
          19,
          20,
          21,
          22,
          23,
          24,
          25,
          26,
          27,
          28,
          29,
          30,
          31,
          32,
          33,
          34,
          35,
          36,
          37,
          38,
          39,
          40,
          41,
          42,
          43,
          44,
          45,
          46,
          47,
          48,
          49,
          50,
          51,
          52,
          1,
          2,
          3,
          4,
          5,
          6,
          7,
          8,
          9,
          10,
          11,
          12,
          13,
          14,
          15,
          16,
          17,
          18,
          19,
          20,
          21,
          22,
          23,
          24,
          25,
          26,
          27,
          28,
          29,
          30,
          31,
          32,
          33,
          34,
          35,
          36,
          37,
          38,
          39,
          40,
          41,
          42,
          43,
          44,
          45,
          46,
          47,
          48,
          49,
          50,
          51,
          52,
          1,
          2,
          3,
          4,
          5,
          6,
          7,
          8,
          9,
          10,
          11,
          12,
          13,
          14,
          15,
          16,
          17,
          18,
          19,
          20,
          21,
          22,
          23,
          24,
          25,
          26,
          27,
          28,
          29,
          30,
          31,
          32,
          33,
          34,
          35,
          36,
          37,
          38,
          39,
          40,
          41,
          42,
          43,
          44,
          45,
          46,
          47,
          48,
          49,
          50,
          51,
          52,
          1,
          2,
          3,
          4,
          5,
          6,
          7,
          8,
          9,
          10,
          11,
          12,
          13,
          14,
          15,
          16,
          17,
          18,
          19,
          20,
          21,
          22,
          23,
          24,
          25,
          26,
          27,
          28,
          29,
          30,
          31,
          32,
          33,
          34,
          35,
          36,
          37,
          38,
          39,
          40,
          41,
          42,
          43,
          44,
          45,
          46,
          47,
          48,
          49,
          50,
          51,
          52,
          1,
          2,
          3,
          4,
          5,
          6,
          7,
          8,
          9,
          10,
          11,
          12,
          13,
          14,
          15,
          16,
          17,
          18,
          19,
          20,
          21,
          22,
          23,
          24,
          25,
          26,
          27,
          28,
          29,
          30,
          31,
          32,
          33,
          34,
          35,
          36,
          37,
          38,
          39,
          40,
          41,
          42,
          43,
          44,
          45,
          46,
          47,
          48,
          49,
          50,
          51,
          52,
          53,
          1,
          2,
          3,
          4,
          5,
          6,
          7,
          8,
          9,
          10,
          11,
          12,
          13,
          14,
          15,
          16,
          17,
          18,
          19,
          20,
          21,
          22,
          23,
          24,
          25,
          26,
          27,
          28,
          29,
          30,
          31,
          32,
          33,
          34,
          35,
          36,
          37,
          38,
          39,
          40,
          41,
          42,
          43,
          44,
          45,
          46,
          47,
          48,
          49,
          50,
          51,
          52,
          1,
          2,
          3,
          4,
          5,
          6,
          7,
          8,
          9,
          10,
          11,
          12,
          13,
          14,
          15,
          16,
          17,
          18,
          19,
          20,
          21,
          22,
          23,
          24,
          25,
          26,
          27,
          28,
          29,
          30,
          31,
          32,
          33,
          34,
          35,
          36,
          37,
          38,
          39,
          40,
          41,
          42,
          43,
          44,
          45,
          46,
          47,
          48,
          49,
          50,
          51,
          52,
          1,
          2,
          3,
          4,
          5,
          6,
          7,
          8,
          9,
          10,
          11,
          12,
          13,
          14,
          15,
          16,
          17,
          18,
          19,
          20,
          21,
          22,
          23,
          24,
          25,
          26,
          27,
          28,
          29,
          30,
          31,
          32,
          33,
          34,
          35,
          36,
          37,
          38,
          39,
          40,
          41,
          42,
          43,
          44,
          45,
          46,
          47,
          48,
          49,
          50,
          51,
          52,
          1,
          2,
          3,
          4,
          5,
          6,
          7,
          8,
          9,
          10,
          11,
          12,
          13,
          14,
          15,
          16,
          17,
          18,
          19,
          20,
          21,
          22,
          23,
          24,
          25,
          26,
          27,
          28,
          29,
          30,
          31,
          32,
          33,
          34,
          35,
          36,
          37,
          38,
          39,
          40,
          41,
          42,
          43,
          44,
          45,
          46,
          47,
          48,
          49,
          50,
          51,
          52,
          1,
          2,
          3,
          4,
          5,
          6,
          7,
          8,
          9,
          10,
          11,
          12
         ],
         "xaxis": "x",
         "y": [
          10639,
          10036,
          9886,
          9706,
          9286,
          9245,
          9550,
          9927,
          9953,
          10218,
          8795,
          8702,
          8755,
          8916,
          8921,
          9247,
          9851,
          10127,
          10323,
          10348,
          9706,
          10199,
          9681,
          9656,
          10577,
          9985,
          9987,
          9819,
          9644,
          9776,
          9964,
          10107,
          10088,
          10242,
          10214,
          9724,
          10059,
          9510,
          9759,
          9451,
          9493,
          10137,
          10107,
          9648,
          10196,
          9334,
          9342,
          8963,
          9371,
          9617,
          9586,
          9709,
          9268,
          9133,
          9330,
          9226,
          9257,
          9247,
          8682,
          9250,
          9526,
          9502,
          8792,
          8144,
          8184,
          8690,
          8550,
          8482,
          8722,
          9296,
          9061,
          8605,
          8938,
          9187,
          9445,
          9686,
          9848,
          9454,
          9316,
          9435,
          9655,
          9761,
          9580,
          9657,
          9003,
          10103,
          9497,
          9378,
          9785,
          9439,
          9384,
          9350,
          9582,
          9621,
          10154,
          9906,
          9759,
          10244,
          9589,
          9403,
          9115,
          9289,
          8842,
          9006,
          8985,
          9361,
          8427,
          9425,
          9688,
          8332,
          8249,
          8440,
          8631,
          9144,
          8575,
          7311,
          8230,
          9102,
          9339,
          8721,
          9137,
          9369,
          9461,
          8709,
          9601,
          8607,
          9046,
          9074,
          8846,
          9050,
          9733,
          9188,
          9098,
          8745,
          9556,
          9629,
          9599,
          9194,
          9321,
          9229,
          9773,
          10136,
          9008,
          9475,
          9836,
          9909,
          9494,
          10037,
          9809,
          9409,
          8886,
          9665,
          9086,
          8615,
          9430,
          9913,
          9452,
          9835,
          8980,
          9619,
          9388,
          9516,
          9053,
          8330,
          9356,
          9790,
          8706,
          8109,
          7348,
          8201,
          9184,
          8757,
          8894,
          8555,
          8794,
          9020,
          9923,
          9285,
          9780,
          9271,
          10084,
          8964,
          8849,
          8651,
          8946,
          10194,
          10051,
          10122,
          9904,
          8786,
          10107,
          9084,
          9749,
          9576,
          9354,
          9124,
          9399,
          10333,
          9666,
          9322,
          9737,
          10342,
          8586,
          9372,
          9342,
          9364,
          8675,
          9805,
          9489,
          9325,
          10000,
          9166,
          9486,
          9475,
          9665,
          8214,
          9330,
          9851,
          10253,
          7938,
          8821,
          9451,
          9646,
          8928,
          8390,
          9248,
          9994,
          9476,
          9048,
          10378,
          9208,
          10500,
          9006,
          9544,
          10259,
          9345,
          9173,
          10082,
          10042,
          10985,
          9721,
          10666,
          9841,
          10366,
          10691,
          10180,
          9965,
          10804,
          9979,
          10246,
          10410,
          11059,
          9755,
          10253,
          9702,
          9144,
          9434,
          9686,
          9063,
          10199,
          9991,
          10148,
          9876,
          9907,
          9363,
          9033,
          9549,
          9788,
          9759,
          9049,
          9803,
          7385,
          7588,
          8841,
          8998,
          7957,
          9596,
          9346,
          10434,
          9600,
          10393,
          10439,
          10363,
          9907,
          9693,
          10354,
          10155,
          9762,
          10267,
          10592,
          10631,
          10094,
          10676,
          10418,
          10455,
          10701,
          10272,
          10405,
          10469,
          10421,
          10418,
          10641,
          10975,
          10825,
          10376,
          10402,
          10726,
          9916,
          10503,
          9496,
          10232,
          10164,
          9372,
          10139,
          9803,
          10292,
          9906,
          9350,
          9658,
          9083,
          9250,
          9989,
          10049,
          8006,
          8650,
          7767,
          7573,
          8134,
          9837,
          8592,
          9323,
          9100,
          10281,
          10013,
          9905,
          10476,
          9621,
          10129,
          9768,
          9519,
          9716,
          10309,
          10267,
          10491,
          10900,
          9691,
          9592,
          10497,
          10370,
          10915,
          10685,
          10749,
          10666,
          10691,
          10465,
          10041,
          10602,
          10699,
          10130,
          11120,
          10239,
          10187,
          9840,
          9836,
          9955,
          10043,
          10534,
          10413,
          9229,
          10157,
          9016,
          8383,
          9071,
          9571,
          9687,
          8390,
          8394,
          8640,
          8663,
          9743,
          9514,
          9076,
          9501,
          8946,
          9883,
          10994,
          10051,
          10387,
          10069,
          9950,
          10686,
          9871,
          9899,
          10506,
          10799,
          10490,
          10659,
          9239,
          10992,
          9877,
          10351,
          10687,
          10465,
          10667,
          10762,
          11084,
          9845,
          10067,
          10152,
          10742,
          10462,
          10578,
          10380,
          9515,
          9912,
          9239,
          9948,
          10079,
          10166,
          9346,
          9770,
          9583,
          9600,
          8611,
          9372,
          9728,
          9373,
          7990,
          8062,
          8059,
          9039,
          10139,
          9512,
          9058,
          9304,
          9483,
          10099,
          10037,
          10714,
          10063,
          10198,
          11328,
          10475,
          10444,
          9878,
          10837,
          10039,
          10286,
          9918,
          10008,
          10335,
          10871,
          10531,
          10147,
          10796,
          9580,
          10548,
          10979,
          10227,
          10756,
          10068,
          11224,
          10512,
          10616,
          9148,
          10160,
          10036,
          10085,
          10233,
          10614,
          10638,
          9924,
          9772,
          9428,
          9169,
          8983,
          8643,
          9407,
          9712,
          9161,
          7176,
          8162,
          9039,
          8880,
          9606,
          9038,
          9457,
          9744,
          10076,
          10642,
          10941,
          9176,
          6444
         ],
         "yaxis": "y"
        }
       ],
       "layout": {
        "barmode": "relative",
        "coloraxis": {
         "colorbar": {
          "title": {
           "text": "month"
          }
         },
         "colorscale": [
          [
           0,
           "#0d0887"
          ],
          [
           0.1111111111111111,
           "#46039f"
          ],
          [
           0.2222222222222222,
           "#7201a8"
          ],
          [
           0.3333333333333333,
           "#9c179e"
          ],
          [
           0.4444444444444444,
           "#bd3786"
          ],
          [
           0.5555555555555556,
           "#d8576b"
          ],
          [
           0.6666666666666666,
           "#ed7953"
          ],
          [
           0.7777777777777778,
           "#fb9f3a"
          ],
          [
           0.8888888888888888,
           "#fdca26"
          ],
          [
           1,
           "#f0f921"
          ]
         ]
        },
        "legend": {
         "tracegroupgap": 0
        },
        "template": {
         "data": {
          "bar": [
           {
            "error_x": {
             "color": "#2a3f5f"
            },
            "error_y": {
             "color": "#2a3f5f"
            },
            "marker": {
             "line": {
              "color": "#E5ECF6",
              "width": 0.5
             },
             "pattern": {
              "fillmode": "overlay",
              "size": 10,
              "solidity": 0.2
             }
            },
            "type": "bar"
           }
          ],
          "barpolar": [
           {
            "marker": {
             "line": {
              "color": "#E5ECF6",
              "width": 0.5
             },
             "pattern": {
              "fillmode": "overlay",
              "size": 10,
              "solidity": 0.2
             }
            },
            "type": "barpolar"
           }
          ],
          "carpet": [
           {
            "aaxis": {
             "endlinecolor": "#2a3f5f",
             "gridcolor": "white",
             "linecolor": "white",
             "minorgridcolor": "white",
             "startlinecolor": "#2a3f5f"
            },
            "baxis": {
             "endlinecolor": "#2a3f5f",
             "gridcolor": "white",
             "linecolor": "white",
             "minorgridcolor": "white",
             "startlinecolor": "#2a3f5f"
            },
            "type": "carpet"
           }
          ],
          "choropleth": [
           {
            "colorbar": {
             "outlinewidth": 0,
             "ticks": ""
            },
            "type": "choropleth"
           }
          ],
          "contour": [
           {
            "colorbar": {
             "outlinewidth": 0,
             "ticks": ""
            },
            "colorscale": [
             [
              0,
              "#0d0887"
             ],
             [
              0.1111111111111111,
              "#46039f"
             ],
             [
              0.2222222222222222,
              "#7201a8"
             ],
             [
              0.3333333333333333,
              "#9c179e"
             ],
             [
              0.4444444444444444,
              "#bd3786"
             ],
             [
              0.5555555555555556,
              "#d8576b"
             ],
             [
              0.6666666666666666,
              "#ed7953"
             ],
             [
              0.7777777777777778,
              "#fb9f3a"
             ],
             [
              0.8888888888888888,
              "#fdca26"
             ],
             [
              1,
              "#f0f921"
             ]
            ],
            "type": "contour"
           }
          ],
          "contourcarpet": [
           {
            "colorbar": {
             "outlinewidth": 0,
             "ticks": ""
            },
            "type": "contourcarpet"
           }
          ],
          "heatmap": [
           {
            "colorbar": {
             "outlinewidth": 0,
             "ticks": ""
            },
            "colorscale": [
             [
              0,
              "#0d0887"
             ],
             [
              0.1111111111111111,
              "#46039f"
             ],
             [
              0.2222222222222222,
              "#7201a8"
             ],
             [
              0.3333333333333333,
              "#9c179e"
             ],
             [
              0.4444444444444444,
              "#bd3786"
             ],
             [
              0.5555555555555556,
              "#d8576b"
             ],
             [
              0.6666666666666666,
              "#ed7953"
             ],
             [
              0.7777777777777778,
              "#fb9f3a"
             ],
             [
              0.8888888888888888,
              "#fdca26"
             ],
             [
              1,
              "#f0f921"
             ]
            ],
            "type": "heatmap"
           }
          ],
          "heatmapgl": [
           {
            "colorbar": {
             "outlinewidth": 0,
             "ticks": ""
            },
            "colorscale": [
             [
              0,
              "#0d0887"
             ],
             [
              0.1111111111111111,
              "#46039f"
             ],
             [
              0.2222222222222222,
              "#7201a8"
             ],
             [
              0.3333333333333333,
              "#9c179e"
             ],
             [
              0.4444444444444444,
              "#bd3786"
             ],
             [
              0.5555555555555556,
              "#d8576b"
             ],
             [
              0.6666666666666666,
              "#ed7953"
             ],
             [
              0.7777777777777778,
              "#fb9f3a"
             ],
             [
              0.8888888888888888,
              "#fdca26"
             ],
             [
              1,
              "#f0f921"
             ]
            ],
            "type": "heatmapgl"
           }
          ],
          "histogram": [
           {
            "marker": {
             "pattern": {
              "fillmode": "overlay",
              "size": 10,
              "solidity": 0.2
             }
            },
            "type": "histogram"
           }
          ],
          "histogram2d": [
           {
            "colorbar": {
             "outlinewidth": 0,
             "ticks": ""
            },
            "colorscale": [
             [
              0,
              "#0d0887"
             ],
             [
              0.1111111111111111,
              "#46039f"
             ],
             [
              0.2222222222222222,
              "#7201a8"
             ],
             [
              0.3333333333333333,
              "#9c179e"
             ],
             [
              0.4444444444444444,
              "#bd3786"
             ],
             [
              0.5555555555555556,
              "#d8576b"
             ],
             [
              0.6666666666666666,
              "#ed7953"
             ],
             [
              0.7777777777777778,
              "#fb9f3a"
             ],
             [
              0.8888888888888888,
              "#fdca26"
             ],
             [
              1,
              "#f0f921"
             ]
            ],
            "type": "histogram2d"
           }
          ],
          "histogram2dcontour": [
           {
            "colorbar": {
             "outlinewidth": 0,
             "ticks": ""
            },
            "colorscale": [
             [
              0,
              "#0d0887"
             ],
             [
              0.1111111111111111,
              "#46039f"
             ],
             [
              0.2222222222222222,
              "#7201a8"
             ],
             [
              0.3333333333333333,
              "#9c179e"
             ],
             [
              0.4444444444444444,
              "#bd3786"
             ],
             [
              0.5555555555555556,
              "#d8576b"
             ],
             [
              0.6666666666666666,
              "#ed7953"
             ],
             [
              0.7777777777777778,
              "#fb9f3a"
             ],
             [
              0.8888888888888888,
              "#fdca26"
             ],
             [
              1,
              "#f0f921"
             ]
            ],
            "type": "histogram2dcontour"
           }
          ],
          "mesh3d": [
           {
            "colorbar": {
             "outlinewidth": 0,
             "ticks": ""
            },
            "type": "mesh3d"
           }
          ],
          "parcoords": [
           {
            "line": {
             "colorbar": {
              "outlinewidth": 0,
              "ticks": ""
             }
            },
            "type": "parcoords"
           }
          ],
          "pie": [
           {
            "automargin": true,
            "type": "pie"
           }
          ],
          "scatter": [
           {
            "fillpattern": {
             "fillmode": "overlay",
             "size": 10,
             "solidity": 0.2
            },
            "type": "scatter"
           }
          ],
          "scatter3d": [
           {
            "line": {
             "colorbar": {
              "outlinewidth": 0,
              "ticks": ""
             }
            },
            "marker": {
             "colorbar": {
              "outlinewidth": 0,
              "ticks": ""
             }
            },
            "type": "scatter3d"
           }
          ],
          "scattercarpet": [
           {
            "marker": {
             "colorbar": {
              "outlinewidth": 0,
              "ticks": ""
             }
            },
            "type": "scattercarpet"
           }
          ],
          "scattergeo": [
           {
            "marker": {
             "colorbar": {
              "outlinewidth": 0,
              "ticks": ""
             }
            },
            "type": "scattergeo"
           }
          ],
          "scattergl": [
           {
            "marker": {
             "colorbar": {
              "outlinewidth": 0,
              "ticks": ""
             }
            },
            "type": "scattergl"
           }
          ],
          "scattermapbox": [
           {
            "marker": {
             "colorbar": {
              "outlinewidth": 0,
              "ticks": ""
             }
            },
            "type": "scattermapbox"
           }
          ],
          "scatterpolar": [
           {
            "marker": {
             "colorbar": {
              "outlinewidth": 0,
              "ticks": ""
             }
            },
            "type": "scatterpolar"
           }
          ],
          "scatterpolargl": [
           {
            "marker": {
             "colorbar": {
              "outlinewidth": 0,
              "ticks": ""
             }
            },
            "type": "scatterpolargl"
           }
          ],
          "scatterternary": [
           {
            "marker": {
             "colorbar": {
              "outlinewidth": 0,
              "ticks": ""
             }
            },
            "type": "scatterternary"
           }
          ],
          "surface": [
           {
            "colorbar": {
             "outlinewidth": 0,
             "ticks": ""
            },
            "colorscale": [
             [
              0,
              "#0d0887"
             ],
             [
              0.1111111111111111,
              "#46039f"
             ],
             [
              0.2222222222222222,
              "#7201a8"
             ],
             [
              0.3333333333333333,
              "#9c179e"
             ],
             [
              0.4444444444444444,
              "#bd3786"
             ],
             [
              0.5555555555555556,
              "#d8576b"
             ],
             [
              0.6666666666666666,
              "#ed7953"
             ],
             [
              0.7777777777777778,
              "#fb9f3a"
             ],
             [
              0.8888888888888888,
              "#fdca26"
             ],
             [
              1,
              "#f0f921"
             ]
            ],
            "type": "surface"
           }
          ],
          "table": [
           {
            "cells": {
             "fill": {
              "color": "#EBF0F8"
             },
             "line": {
              "color": "white"
             }
            },
            "header": {
             "fill": {
              "color": "#C8D4E3"
             },
             "line": {
              "color": "white"
             }
            },
            "type": "table"
           }
          ]
         },
         "layout": {
          "annotationdefaults": {
           "arrowcolor": "#2a3f5f",
           "arrowhead": 0,
           "arrowwidth": 1
          },
          "autotypenumbers": "strict",
          "coloraxis": {
           "colorbar": {
            "outlinewidth": 0,
            "ticks": ""
           }
          },
          "colorscale": {
           "diverging": [
            [
             0,
             "#8e0152"
            ],
            [
             0.1,
             "#c51b7d"
            ],
            [
             0.2,
             "#de77ae"
            ],
            [
             0.3,
             "#f1b6da"
            ],
            [
             0.4,
             "#fde0ef"
            ],
            [
             0.5,
             "#f7f7f7"
            ],
            [
             0.6,
             "#e6f5d0"
            ],
            [
             0.7,
             "#b8e186"
            ],
            [
             0.8,
             "#7fbc41"
            ],
            [
             0.9,
             "#4d9221"
            ],
            [
             1,
             "#276419"
            ]
           ],
           "sequential": [
            [
             0,
             "#0d0887"
            ],
            [
             0.1111111111111111,
             "#46039f"
            ],
            [
             0.2222222222222222,
             "#7201a8"
            ],
            [
             0.3333333333333333,
             "#9c179e"
            ],
            [
             0.4444444444444444,
             "#bd3786"
            ],
            [
             0.5555555555555556,
             "#d8576b"
            ],
            [
             0.6666666666666666,
             "#ed7953"
            ],
            [
             0.7777777777777778,
             "#fb9f3a"
            ],
            [
             0.8888888888888888,
             "#fdca26"
            ],
            [
             1,
             "#f0f921"
            ]
           ],
           "sequentialminus": [
            [
             0,
             "#0d0887"
            ],
            [
             0.1111111111111111,
             "#46039f"
            ],
            [
             0.2222222222222222,
             "#7201a8"
            ],
            [
             0.3333333333333333,
             "#9c179e"
            ],
            [
             0.4444444444444444,
             "#bd3786"
            ],
            [
             0.5555555555555556,
             "#d8576b"
            ],
            [
             0.6666666666666666,
             "#ed7953"
            ],
            [
             0.7777777777777778,
             "#fb9f3a"
            ],
            [
             0.8888888888888888,
             "#fdca26"
            ],
            [
             1,
             "#f0f921"
            ]
           ]
          },
          "colorway": [
           "#636efa",
           "#EF553B",
           "#00cc96",
           "#ab63fa",
           "#FFA15A",
           "#19d3f3",
           "#FF6692",
           "#B6E880",
           "#FF97FF",
           "#FECB52"
          ],
          "font": {
           "color": "#2a3f5f"
          },
          "geo": {
           "bgcolor": "white",
           "lakecolor": "white",
           "landcolor": "#E5ECF6",
           "showlakes": true,
           "showland": true,
           "subunitcolor": "white"
          },
          "hoverlabel": {
           "align": "left"
          },
          "hovermode": "closest",
          "mapbox": {
           "style": "light"
          },
          "paper_bgcolor": "white",
          "plot_bgcolor": "#E5ECF6",
          "polar": {
           "angularaxis": {
            "gridcolor": "white",
            "linecolor": "white",
            "ticks": ""
           },
           "bgcolor": "#E5ECF6",
           "radialaxis": {
            "gridcolor": "white",
            "linecolor": "white",
            "ticks": ""
           }
          },
          "scene": {
           "xaxis": {
            "backgroundcolor": "#E5ECF6",
            "gridcolor": "white",
            "gridwidth": 2,
            "linecolor": "white",
            "showbackground": true,
            "ticks": "",
            "zerolinecolor": "white"
           },
           "yaxis": {
            "backgroundcolor": "#E5ECF6",
            "gridcolor": "white",
            "gridwidth": 2,
            "linecolor": "white",
            "showbackground": true,
            "ticks": "",
            "zerolinecolor": "white"
           },
           "zaxis": {
            "backgroundcolor": "#E5ECF6",
            "gridcolor": "white",
            "gridwidth": 2,
            "linecolor": "white",
            "showbackground": true,
            "ticks": "",
            "zerolinecolor": "white"
           }
          },
          "shapedefaults": {
           "line": {
            "color": "#2a3f5f"
           }
          },
          "ternary": {
           "aaxis": {
            "gridcolor": "white",
            "linecolor": "white",
            "ticks": ""
           },
           "baxis": {
            "gridcolor": "white",
            "linecolor": "white",
            "ticks": ""
           },
           "bgcolor": "#E5ECF6",
           "caxis": {
            "gridcolor": "white",
            "linecolor": "white",
            "ticks": ""
           }
          },
          "title": {
           "x": 0.05
          },
          "xaxis": {
           "automargin": true,
           "gridcolor": "white",
           "linecolor": "white",
           "ticks": "",
           "title": {
            "standoff": 15
           },
           "zerolinecolor": "white",
           "zerolinewidth": 2
          },
          "yaxis": {
           "automargin": true,
           "gridcolor": "white",
           "linecolor": "white",
           "ticks": "",
           "title": {
            "standoff": 15
           },
           "zerolinecolor": "white",
           "zerolinewidth": 2
          }
         }
        },
        "title": {
         "font": {
          "size": 30
         },
         "text": "Target by Week",
         "x": 0.5
        },
        "xaxis": {
         "anchor": "y",
         "domain": [
          0,
          1
         ],
         "title": {
          "text": "week"
         }
        },
        "yaxis": {
         "anchor": "x",
         "domain": [
          0,
          1
         ],
         "title": {
          "text": "target"
         }
        }
       }
      }
     },
     "metadata": {},
     "output_type": "display_data"
    }
   ],
   "source": [
    "fig = px.bar(time_df, x = 'week', y='target', title='Target by Week', color='month')\n",
    "fig.update_layout(title_font_size=30, title_x=0.5)\n",
    "fig.show()"
   ]
  },
  {
   "cell_type": "code",
   "execution_count": 101,
   "metadata": {},
   "outputs": [
    {
     "data": {
      "application/vnd.plotly.v1+json": {
       "config": {
        "plotlyServerURL": "https://plot.ly"
       },
       "data": [
        {
         "hovertemplate": "day_of_year=%{x}<br>target=%{y}<br>year=%{marker.color}<extra></extra>",
         "legendgroup": "",
         "marker": {
          "color": [
           2010,
           2010,
           2010,
           2010,
           2010,
           2010,
           2010,
           2010,
           2010,
           2010,
           2010,
           2010,
           2011,
           2011,
           2011,
           2011,
           2011,
           2011,
           2011,
           2011,
           2011,
           2011,
           2011,
           2011,
           2011,
           2011,
           2011,
           2011,
           2011,
           2011,
           2011,
           2011,
           2011,
           2011,
           2011,
           2011,
           2011,
           2011,
           2011,
           2011,
           2011,
           2011,
           2011,
           2011,
           2011,
           2011,
           2011,
           2011,
           2011,
           2011,
           2011,
           2011,
           2011,
           2011,
           2011,
           2011,
           2011,
           2011,
           2011,
           2011,
           2011,
           2011,
           2011,
           2011,
           2012,
           2012,
           2012,
           2012,
           2012,
           2012,
           2012,
           2012,
           2012,
           2012,
           2012,
           2012,
           2012,
           2012,
           2012,
           2012,
           2012,
           2012,
           2012,
           2012,
           2012,
           2012,
           2012,
           2012,
           2012,
           2012,
           2012,
           2012,
           2012,
           2012,
           2012,
           2012,
           2012,
           2012,
           2012,
           2012,
           2012,
           2012,
           2012,
           2012,
           2012,
           2012,
           2012,
           2012,
           2012,
           2012,
           2012,
           2012,
           2012,
           2012,
           2012,
           2012,
           2013,
           2013,
           2013,
           2013,
           2013,
           2013,
           2013,
           2013,
           2013,
           2013,
           2013,
           2013,
           2013,
           2013,
           2013,
           2013,
           2013,
           2013,
           2013,
           2013,
           2013,
           2013,
           2013,
           2013,
           2013,
           2013,
           2013,
           2013,
           2013,
           2013,
           2013,
           2013,
           2013,
           2013,
           2013,
           2013,
           2013,
           2013,
           2013,
           2013,
           2013,
           2013,
           2013,
           2013,
           2013,
           2013,
           2013,
           2013,
           2013,
           2013,
           2013,
           2013,
           2014,
           2014,
           2014,
           2014,
           2014,
           2014,
           2014,
           2014,
           2014,
           2014,
           2014,
           2014,
           2014,
           2014,
           2014,
           2014,
           2014,
           2014,
           2014,
           2014,
           2014,
           2014,
           2014,
           2014,
           2014,
           2014,
           2014,
           2014,
           2014,
           2014,
           2014,
           2014,
           2014,
           2014,
           2014,
           2014,
           2014,
           2014,
           2014,
           2014,
           2014,
           2014,
           2014,
           2014,
           2014,
           2014,
           2014,
           2014,
           2014,
           2014,
           2014,
           2014,
           2015,
           2015,
           2015,
           2015,
           2015,
           2015,
           2015,
           2015,
           2015,
           2015,
           2015,
           2015,
           2015,
           2015,
           2015,
           2015,
           2015,
           2015,
           2015,
           2015,
           2015,
           2015,
           2015,
           2015,
           2015,
           2015,
           2015,
           2015,
           2015,
           2015,
           2015,
           2015,
           2015,
           2015,
           2015,
           2015,
           2015,
           2015,
           2015,
           2015,
           2015,
           2015,
           2015,
           2015,
           2015,
           2015,
           2015,
           2015,
           2015,
           2015,
           2015,
           2015,
           2016,
           2016,
           2016,
           2016,
           2016,
           2016,
           2016,
           2016,
           2016,
           2016,
           2016,
           2016,
           2016,
           2016,
           2016,
           2016,
           2016,
           2016,
           2016,
           2016,
           2016,
           2016,
           2016,
           2016,
           2016,
           2016,
           2016,
           2016,
           2016,
           2016,
           2016,
           2016,
           2016,
           2016,
           2016,
           2016,
           2016,
           2016,
           2016,
           2016,
           2016,
           2016,
           2016,
           2016,
           2016,
           2016,
           2016,
           2016,
           2016,
           2016,
           2016,
           2016,
           2016,
           2017,
           2017,
           2017,
           2017,
           2017,
           2017,
           2017,
           2017,
           2017,
           2017,
           2017,
           2017,
           2017,
           2017,
           2017,
           2017,
           2017,
           2017,
           2017,
           2017,
           2017,
           2017,
           2017,
           2017,
           2017,
           2017,
           2017,
           2017,
           2017,
           2017,
           2017,
           2017,
           2017,
           2017,
           2017,
           2017,
           2017,
           2017,
           2017,
           2017,
           2017,
           2017,
           2017,
           2017,
           2017,
           2017,
           2017,
           2017,
           2017,
           2017,
           2017,
           2017,
           2018,
           2018,
           2018,
           2018,
           2018,
           2018,
           2018,
           2018,
           2018,
           2018,
           2018,
           2018,
           2018,
           2018,
           2018,
           2018,
           2018,
           2018,
           2018,
           2018,
           2018,
           2018,
           2018,
           2018,
           2018,
           2018,
           2018,
           2018,
           2018,
           2018,
           2018,
           2018,
           2018,
           2018,
           2018,
           2018,
           2018,
           2018,
           2018,
           2018,
           2018,
           2018,
           2018,
           2018,
           2018,
           2018,
           2018,
           2018,
           2018,
           2018,
           2018,
           2018,
           2019,
           2019,
           2019,
           2019,
           2019,
           2019,
           2019,
           2019,
           2019,
           2019,
           2019,
           2019,
           2019,
           2019,
           2019,
           2019,
           2019,
           2019,
           2019,
           2019,
           2019,
           2019,
           2019,
           2019,
           2019,
           2019,
           2019,
           2019,
           2019,
           2019,
           2019,
           2019,
           2019,
           2019,
           2019,
           2019,
           2019,
           2019,
           2019,
           2019,
           2019,
           2019,
           2019,
           2019,
           2019,
           2019,
           2019,
           2019,
           2019,
           2019,
           2019,
           2019,
           2020,
           2020,
           2020,
           2020,
           2020,
           2020,
           2020,
           2020,
           2020,
           2020,
           2020,
           2020
          ],
          "coloraxis": "coloraxis",
          "symbol": "circle"
         },
         "mode": "markers",
         "name": "",
         "orientation": "v",
         "showlegend": false,
         "type": "scatter",
         "x": [
          288,
          295,
          302,
          309,
          316,
          323,
          330,
          337,
          344,
          351,
          358,
          365,
          7,
          14,
          21,
          28,
          35,
          42,
          49,
          56,
          63,
          70,
          77,
          84,
          91,
          98,
          105,
          112,
          119,
          126,
          133,
          140,
          147,
          154,
          161,
          168,
          175,
          182,
          189,
          196,
          203,
          210,
          217,
          224,
          231,
          238,
          245,
          252,
          259,
          266,
          273,
          280,
          287,
          294,
          301,
          308,
          315,
          322,
          329,
          336,
          343,
          350,
          357,
          364,
          6,
          13,
          20,
          27,
          34,
          41,
          48,
          55,
          62,
          69,
          76,
          83,
          90,
          97,
          104,
          111,
          118,
          125,
          132,
          139,
          146,
          153,
          160,
          167,
          174,
          181,
          188,
          195,
          202,
          209,
          216,
          223,
          230,
          237,
          244,
          251,
          258,
          265,
          272,
          279,
          286,
          293,
          300,
          307,
          314,
          321,
          328,
          335,
          342,
          349,
          356,
          363,
          4,
          11,
          18,
          25,
          32,
          39,
          46,
          53,
          60,
          67,
          74,
          81,
          88,
          95,
          102,
          109,
          116,
          123,
          130,
          137,
          144,
          151,
          158,
          165,
          172,
          179,
          186,
          193,
          200,
          207,
          214,
          221,
          228,
          235,
          242,
          249,
          256,
          263,
          270,
          277,
          284,
          291,
          298,
          305,
          312,
          319,
          326,
          333,
          340,
          347,
          354,
          361,
          3,
          10,
          17,
          24,
          31,
          38,
          45,
          52,
          59,
          66,
          73,
          80,
          87,
          94,
          101,
          108,
          115,
          122,
          129,
          136,
          143,
          150,
          157,
          164,
          171,
          178,
          185,
          192,
          199,
          206,
          213,
          220,
          227,
          234,
          241,
          248,
          255,
          262,
          269,
          276,
          283,
          290,
          297,
          304,
          311,
          318,
          325,
          332,
          339,
          346,
          353,
          360,
          2,
          9,
          16,
          23,
          30,
          37,
          44,
          51,
          58,
          65,
          72,
          79,
          86,
          93,
          100,
          107,
          114,
          121,
          128,
          135,
          142,
          149,
          156,
          163,
          170,
          177,
          184,
          191,
          198,
          205,
          212,
          219,
          226,
          233,
          240,
          247,
          254,
          261,
          268,
          275,
          282,
          289,
          296,
          303,
          310,
          317,
          324,
          331,
          338,
          345,
          352,
          359,
          1,
          8,
          15,
          22,
          29,
          36,
          43,
          50,
          57,
          64,
          71,
          78,
          85,
          92,
          99,
          106,
          113,
          120,
          127,
          134,
          141,
          148,
          155,
          162,
          169,
          176,
          183,
          190,
          197,
          204,
          211,
          218,
          225,
          232,
          239,
          246,
          253,
          260,
          267,
          274,
          281,
          288,
          295,
          302,
          309,
          316,
          323,
          330,
          337,
          344,
          351,
          358,
          365,
          6,
          13,
          20,
          27,
          34,
          41,
          48,
          55,
          62,
          69,
          76,
          83,
          90,
          97,
          104,
          111,
          118,
          125,
          132,
          139,
          146,
          153,
          160,
          167,
          174,
          181,
          188,
          195,
          202,
          209,
          216,
          223,
          230,
          237,
          244,
          251,
          258,
          265,
          272,
          279,
          286,
          293,
          300,
          307,
          314,
          321,
          328,
          335,
          342,
          349,
          356,
          363,
          5,
          12,
          19,
          26,
          33,
          40,
          47,
          54,
          61,
          68,
          75,
          82,
          89,
          96,
          103,
          110,
          117,
          124,
          131,
          138,
          145,
          152,
          159,
          166,
          173,
          180,
          187,
          194,
          201,
          208,
          215,
          222,
          229,
          236,
          243,
          250,
          257,
          264,
          271,
          278,
          285,
          292,
          299,
          306,
          313,
          320,
          327,
          334,
          341,
          348,
          355,
          362,
          4,
          11,
          18,
          25,
          32,
          39,
          46,
          53,
          60,
          67,
          74,
          81,
          88,
          95,
          102,
          109,
          116,
          123,
          130,
          137,
          144,
          151,
          158,
          165,
          172,
          179,
          186,
          193,
          200,
          207,
          214,
          221,
          228,
          235,
          242,
          249,
          256,
          263,
          270,
          277,
          284,
          291,
          298,
          305,
          312,
          319,
          326,
          333,
          340,
          347,
          354,
          361,
          3,
          10,
          17,
          24,
          31,
          38,
          45,
          52,
          59,
          66,
          73,
          80
         ],
         "xaxis": "x",
         "y": [
          10639,
          10036,
          9886,
          9706,
          9286,
          9245,
          9550,
          9927,
          9953,
          10218,
          8795,
          8702,
          8755,
          8916,
          8921,
          9247,
          9851,
          10127,
          10323,
          10348,
          9706,
          10199,
          9681,
          9656,
          10577,
          9985,
          9987,
          9819,
          9644,
          9776,
          9964,
          10107,
          10088,
          10242,
          10214,
          9724,
          10059,
          9510,
          9759,
          9451,
          9493,
          10137,
          10107,
          9648,
          10196,
          9334,
          9342,
          8963,
          9371,
          9617,
          9586,
          9709,
          9268,
          9133,
          9330,
          9226,
          9257,
          9247,
          8682,
          9250,
          9526,
          9502,
          8792,
          8144,
          8184,
          8690,
          8550,
          8482,
          8722,
          9296,
          9061,
          8605,
          8938,
          9187,
          9445,
          9686,
          9848,
          9454,
          9316,
          9435,
          9655,
          9761,
          9580,
          9657,
          9003,
          10103,
          9497,
          9378,
          9785,
          9439,
          9384,
          9350,
          9582,
          9621,
          10154,
          9906,
          9759,
          10244,
          9589,
          9403,
          9115,
          9289,
          8842,
          9006,
          8985,
          9361,
          8427,
          9425,
          9688,
          8332,
          8249,
          8440,
          8631,
          9144,
          8575,
          7311,
          8230,
          9102,
          9339,
          8721,
          9137,
          9369,
          9461,
          8709,
          9601,
          8607,
          9046,
          9074,
          8846,
          9050,
          9733,
          9188,
          9098,
          8745,
          9556,
          9629,
          9599,
          9194,
          9321,
          9229,
          9773,
          10136,
          9008,
          9475,
          9836,
          9909,
          9494,
          10037,
          9809,
          9409,
          8886,
          9665,
          9086,
          8615,
          9430,
          9913,
          9452,
          9835,
          8980,
          9619,
          9388,
          9516,
          9053,
          8330,
          9356,
          9790,
          8706,
          8109,
          7348,
          8201,
          9184,
          8757,
          8894,
          8555,
          8794,
          9020,
          9923,
          9285,
          9780,
          9271,
          10084,
          8964,
          8849,
          8651,
          8946,
          10194,
          10051,
          10122,
          9904,
          8786,
          10107,
          9084,
          9749,
          9576,
          9354,
          9124,
          9399,
          10333,
          9666,
          9322,
          9737,
          10342,
          8586,
          9372,
          9342,
          9364,
          8675,
          9805,
          9489,
          9325,
          10000,
          9166,
          9486,
          9475,
          9665,
          8214,
          9330,
          9851,
          10253,
          7938,
          8821,
          9451,
          9646,
          8928,
          8390,
          9248,
          9994,
          9476,
          9048,
          10378,
          9208,
          10500,
          9006,
          9544,
          10259,
          9345,
          9173,
          10082,
          10042,
          10985,
          9721,
          10666,
          9841,
          10366,
          10691,
          10180,
          9965,
          10804,
          9979,
          10246,
          10410,
          11059,
          9755,
          10253,
          9702,
          9144,
          9434,
          9686,
          9063,
          10199,
          9991,
          10148,
          9876,
          9907,
          9363,
          9033,
          9549,
          9788,
          9759,
          9049,
          9803,
          7385,
          7588,
          8841,
          8998,
          7957,
          9596,
          9346,
          10434,
          9600,
          10393,
          10439,
          10363,
          9907,
          9693,
          10354,
          10155,
          9762,
          10267,
          10592,
          10631,
          10094,
          10676,
          10418,
          10455,
          10701,
          10272,
          10405,
          10469,
          10421,
          10418,
          10641,
          10975,
          10825,
          10376,
          10402,
          10726,
          9916,
          10503,
          9496,
          10232,
          10164,
          9372,
          10139,
          9803,
          10292,
          9906,
          9350,
          9658,
          9083,
          9250,
          9989,
          10049,
          8006,
          8650,
          7767,
          7573,
          8134,
          9837,
          8592,
          9323,
          9100,
          10281,
          10013,
          9905,
          10476,
          9621,
          10129,
          9768,
          9519,
          9716,
          10309,
          10267,
          10491,
          10900,
          9691,
          9592,
          10497,
          10370,
          10915,
          10685,
          10749,
          10666,
          10691,
          10465,
          10041,
          10602,
          10699,
          10130,
          11120,
          10239,
          10187,
          9840,
          9836,
          9955,
          10043,
          10534,
          10413,
          9229,
          10157,
          9016,
          8383,
          9071,
          9571,
          9687,
          8390,
          8394,
          8640,
          8663,
          9743,
          9514,
          9076,
          9501,
          8946,
          9883,
          10994,
          10051,
          10387,
          10069,
          9950,
          10686,
          9871,
          9899,
          10506,
          10799,
          10490,
          10659,
          9239,
          10992,
          9877,
          10351,
          10687,
          10465,
          10667,
          10762,
          11084,
          9845,
          10067,
          10152,
          10742,
          10462,
          10578,
          10380,
          9515,
          9912,
          9239,
          9948,
          10079,
          10166,
          9346,
          9770,
          9583,
          9600,
          8611,
          9372,
          9728,
          9373,
          7990,
          8062,
          8059,
          9039,
          10139,
          9512,
          9058,
          9304,
          9483,
          10099,
          10037,
          10714,
          10063,
          10198,
          11328,
          10475,
          10444,
          9878,
          10837,
          10039,
          10286,
          9918,
          10008,
          10335,
          10871,
          10531,
          10147,
          10796,
          9580,
          10548,
          10979,
          10227,
          10756,
          10068,
          11224,
          10512,
          10616,
          9148,
          10160,
          10036,
          10085,
          10233,
          10614,
          10638,
          9924,
          9772,
          9428,
          9169,
          8983,
          8643,
          9407,
          9712,
          9161,
          7176,
          8162,
          9039,
          8880,
          9606,
          9038,
          9457,
          9744,
          10076,
          10642,
          10941,
          9176,
          6444
         ],
         "yaxis": "y"
        }
       ],
       "layout": {
        "coloraxis": {
         "colorbar": {
          "title": {
           "text": "year"
          }
         },
         "colorscale": [
          [
           0,
           "#0d0887"
          ],
          [
           0.1111111111111111,
           "#46039f"
          ],
          [
           0.2222222222222222,
           "#7201a8"
          ],
          [
           0.3333333333333333,
           "#9c179e"
          ],
          [
           0.4444444444444444,
           "#bd3786"
          ],
          [
           0.5555555555555556,
           "#d8576b"
          ],
          [
           0.6666666666666666,
           "#ed7953"
          ],
          [
           0.7777777777777778,
           "#fb9f3a"
          ],
          [
           0.8888888888888888,
           "#fdca26"
          ],
          [
           1,
           "#f0f921"
          ]
         ]
        },
        "legend": {
         "tracegroupgap": 0
        },
        "template": {
         "data": {
          "bar": [
           {
            "error_x": {
             "color": "#2a3f5f"
            },
            "error_y": {
             "color": "#2a3f5f"
            },
            "marker": {
             "line": {
              "color": "#E5ECF6",
              "width": 0.5
             },
             "pattern": {
              "fillmode": "overlay",
              "size": 10,
              "solidity": 0.2
             }
            },
            "type": "bar"
           }
          ],
          "barpolar": [
           {
            "marker": {
             "line": {
              "color": "#E5ECF6",
              "width": 0.5
             },
             "pattern": {
              "fillmode": "overlay",
              "size": 10,
              "solidity": 0.2
             }
            },
            "type": "barpolar"
           }
          ],
          "carpet": [
           {
            "aaxis": {
             "endlinecolor": "#2a3f5f",
             "gridcolor": "white",
             "linecolor": "white",
             "minorgridcolor": "white",
             "startlinecolor": "#2a3f5f"
            },
            "baxis": {
             "endlinecolor": "#2a3f5f",
             "gridcolor": "white",
             "linecolor": "white",
             "minorgridcolor": "white",
             "startlinecolor": "#2a3f5f"
            },
            "type": "carpet"
           }
          ],
          "choropleth": [
           {
            "colorbar": {
             "outlinewidth": 0,
             "ticks": ""
            },
            "type": "choropleth"
           }
          ],
          "contour": [
           {
            "colorbar": {
             "outlinewidth": 0,
             "ticks": ""
            },
            "colorscale": [
             [
              0,
              "#0d0887"
             ],
             [
              0.1111111111111111,
              "#46039f"
             ],
             [
              0.2222222222222222,
              "#7201a8"
             ],
             [
              0.3333333333333333,
              "#9c179e"
             ],
             [
              0.4444444444444444,
              "#bd3786"
             ],
             [
              0.5555555555555556,
              "#d8576b"
             ],
             [
              0.6666666666666666,
              "#ed7953"
             ],
             [
              0.7777777777777778,
              "#fb9f3a"
             ],
             [
              0.8888888888888888,
              "#fdca26"
             ],
             [
              1,
              "#f0f921"
             ]
            ],
            "type": "contour"
           }
          ],
          "contourcarpet": [
           {
            "colorbar": {
             "outlinewidth": 0,
             "ticks": ""
            },
            "type": "contourcarpet"
           }
          ],
          "heatmap": [
           {
            "colorbar": {
             "outlinewidth": 0,
             "ticks": ""
            },
            "colorscale": [
             [
              0,
              "#0d0887"
             ],
             [
              0.1111111111111111,
              "#46039f"
             ],
             [
              0.2222222222222222,
              "#7201a8"
             ],
             [
              0.3333333333333333,
              "#9c179e"
             ],
             [
              0.4444444444444444,
              "#bd3786"
             ],
             [
              0.5555555555555556,
              "#d8576b"
             ],
             [
              0.6666666666666666,
              "#ed7953"
             ],
             [
              0.7777777777777778,
              "#fb9f3a"
             ],
             [
              0.8888888888888888,
              "#fdca26"
             ],
             [
              1,
              "#f0f921"
             ]
            ],
            "type": "heatmap"
           }
          ],
          "heatmapgl": [
           {
            "colorbar": {
             "outlinewidth": 0,
             "ticks": ""
            },
            "colorscale": [
             [
              0,
              "#0d0887"
             ],
             [
              0.1111111111111111,
              "#46039f"
             ],
             [
              0.2222222222222222,
              "#7201a8"
             ],
             [
              0.3333333333333333,
              "#9c179e"
             ],
             [
              0.4444444444444444,
              "#bd3786"
             ],
             [
              0.5555555555555556,
              "#d8576b"
             ],
             [
              0.6666666666666666,
              "#ed7953"
             ],
             [
              0.7777777777777778,
              "#fb9f3a"
             ],
             [
              0.8888888888888888,
              "#fdca26"
             ],
             [
              1,
              "#f0f921"
             ]
            ],
            "type": "heatmapgl"
           }
          ],
          "histogram": [
           {
            "marker": {
             "pattern": {
              "fillmode": "overlay",
              "size": 10,
              "solidity": 0.2
             }
            },
            "type": "histogram"
           }
          ],
          "histogram2d": [
           {
            "colorbar": {
             "outlinewidth": 0,
             "ticks": ""
            },
            "colorscale": [
             [
              0,
              "#0d0887"
             ],
             [
              0.1111111111111111,
              "#46039f"
             ],
             [
              0.2222222222222222,
              "#7201a8"
             ],
             [
              0.3333333333333333,
              "#9c179e"
             ],
             [
              0.4444444444444444,
              "#bd3786"
             ],
             [
              0.5555555555555556,
              "#d8576b"
             ],
             [
              0.6666666666666666,
              "#ed7953"
             ],
             [
              0.7777777777777778,
              "#fb9f3a"
             ],
             [
              0.8888888888888888,
              "#fdca26"
             ],
             [
              1,
              "#f0f921"
             ]
            ],
            "type": "histogram2d"
           }
          ],
          "histogram2dcontour": [
           {
            "colorbar": {
             "outlinewidth": 0,
             "ticks": ""
            },
            "colorscale": [
             [
              0,
              "#0d0887"
             ],
             [
              0.1111111111111111,
              "#46039f"
             ],
             [
              0.2222222222222222,
              "#7201a8"
             ],
             [
              0.3333333333333333,
              "#9c179e"
             ],
             [
              0.4444444444444444,
              "#bd3786"
             ],
             [
              0.5555555555555556,
              "#d8576b"
             ],
             [
              0.6666666666666666,
              "#ed7953"
             ],
             [
              0.7777777777777778,
              "#fb9f3a"
             ],
             [
              0.8888888888888888,
              "#fdca26"
             ],
             [
              1,
              "#f0f921"
             ]
            ],
            "type": "histogram2dcontour"
           }
          ],
          "mesh3d": [
           {
            "colorbar": {
             "outlinewidth": 0,
             "ticks": ""
            },
            "type": "mesh3d"
           }
          ],
          "parcoords": [
           {
            "line": {
             "colorbar": {
              "outlinewidth": 0,
              "ticks": ""
             }
            },
            "type": "parcoords"
           }
          ],
          "pie": [
           {
            "automargin": true,
            "type": "pie"
           }
          ],
          "scatter": [
           {
            "fillpattern": {
             "fillmode": "overlay",
             "size": 10,
             "solidity": 0.2
            },
            "type": "scatter"
           }
          ],
          "scatter3d": [
           {
            "line": {
             "colorbar": {
              "outlinewidth": 0,
              "ticks": ""
             }
            },
            "marker": {
             "colorbar": {
              "outlinewidth": 0,
              "ticks": ""
             }
            },
            "type": "scatter3d"
           }
          ],
          "scattercarpet": [
           {
            "marker": {
             "colorbar": {
              "outlinewidth": 0,
              "ticks": ""
             }
            },
            "type": "scattercarpet"
           }
          ],
          "scattergeo": [
           {
            "marker": {
             "colorbar": {
              "outlinewidth": 0,
              "ticks": ""
             }
            },
            "type": "scattergeo"
           }
          ],
          "scattergl": [
           {
            "marker": {
             "colorbar": {
              "outlinewidth": 0,
              "ticks": ""
             }
            },
            "type": "scattergl"
           }
          ],
          "scattermapbox": [
           {
            "marker": {
             "colorbar": {
              "outlinewidth": 0,
              "ticks": ""
             }
            },
            "type": "scattermapbox"
           }
          ],
          "scatterpolar": [
           {
            "marker": {
             "colorbar": {
              "outlinewidth": 0,
              "ticks": ""
             }
            },
            "type": "scatterpolar"
           }
          ],
          "scatterpolargl": [
           {
            "marker": {
             "colorbar": {
              "outlinewidth": 0,
              "ticks": ""
             }
            },
            "type": "scatterpolargl"
           }
          ],
          "scatterternary": [
           {
            "marker": {
             "colorbar": {
              "outlinewidth": 0,
              "ticks": ""
             }
            },
            "type": "scatterternary"
           }
          ],
          "surface": [
           {
            "colorbar": {
             "outlinewidth": 0,
             "ticks": ""
            },
            "colorscale": [
             [
              0,
              "#0d0887"
             ],
             [
              0.1111111111111111,
              "#46039f"
             ],
             [
              0.2222222222222222,
              "#7201a8"
             ],
             [
              0.3333333333333333,
              "#9c179e"
             ],
             [
              0.4444444444444444,
              "#bd3786"
             ],
             [
              0.5555555555555556,
              "#d8576b"
             ],
             [
              0.6666666666666666,
              "#ed7953"
             ],
             [
              0.7777777777777778,
              "#fb9f3a"
             ],
             [
              0.8888888888888888,
              "#fdca26"
             ],
             [
              1,
              "#f0f921"
             ]
            ],
            "type": "surface"
           }
          ],
          "table": [
           {
            "cells": {
             "fill": {
              "color": "#EBF0F8"
             },
             "line": {
              "color": "white"
             }
            },
            "header": {
             "fill": {
              "color": "#C8D4E3"
             },
             "line": {
              "color": "white"
             }
            },
            "type": "table"
           }
          ]
         },
         "layout": {
          "annotationdefaults": {
           "arrowcolor": "#2a3f5f",
           "arrowhead": 0,
           "arrowwidth": 1
          },
          "autotypenumbers": "strict",
          "coloraxis": {
           "colorbar": {
            "outlinewidth": 0,
            "ticks": ""
           }
          },
          "colorscale": {
           "diverging": [
            [
             0,
             "#8e0152"
            ],
            [
             0.1,
             "#c51b7d"
            ],
            [
             0.2,
             "#de77ae"
            ],
            [
             0.3,
             "#f1b6da"
            ],
            [
             0.4,
             "#fde0ef"
            ],
            [
             0.5,
             "#f7f7f7"
            ],
            [
             0.6,
             "#e6f5d0"
            ],
            [
             0.7,
             "#b8e186"
            ],
            [
             0.8,
             "#7fbc41"
            ],
            [
             0.9,
             "#4d9221"
            ],
            [
             1,
             "#276419"
            ]
           ],
           "sequential": [
            [
             0,
             "#0d0887"
            ],
            [
             0.1111111111111111,
             "#46039f"
            ],
            [
             0.2222222222222222,
             "#7201a8"
            ],
            [
             0.3333333333333333,
             "#9c179e"
            ],
            [
             0.4444444444444444,
             "#bd3786"
            ],
            [
             0.5555555555555556,
             "#d8576b"
            ],
            [
             0.6666666666666666,
             "#ed7953"
            ],
            [
             0.7777777777777778,
             "#fb9f3a"
            ],
            [
             0.8888888888888888,
             "#fdca26"
            ],
            [
             1,
             "#f0f921"
            ]
           ],
           "sequentialminus": [
            [
             0,
             "#0d0887"
            ],
            [
             0.1111111111111111,
             "#46039f"
            ],
            [
             0.2222222222222222,
             "#7201a8"
            ],
            [
             0.3333333333333333,
             "#9c179e"
            ],
            [
             0.4444444444444444,
             "#bd3786"
            ],
            [
             0.5555555555555556,
             "#d8576b"
            ],
            [
             0.6666666666666666,
             "#ed7953"
            ],
            [
             0.7777777777777778,
             "#fb9f3a"
            ],
            [
             0.8888888888888888,
             "#fdca26"
            ],
            [
             1,
             "#f0f921"
            ]
           ]
          },
          "colorway": [
           "#636efa",
           "#EF553B",
           "#00cc96",
           "#ab63fa",
           "#FFA15A",
           "#19d3f3",
           "#FF6692",
           "#B6E880",
           "#FF97FF",
           "#FECB52"
          ],
          "font": {
           "color": "#2a3f5f"
          },
          "geo": {
           "bgcolor": "white",
           "lakecolor": "white",
           "landcolor": "#E5ECF6",
           "showlakes": true,
           "showland": true,
           "subunitcolor": "white"
          },
          "hoverlabel": {
           "align": "left"
          },
          "hovermode": "closest",
          "mapbox": {
           "style": "light"
          },
          "paper_bgcolor": "white",
          "plot_bgcolor": "#E5ECF6",
          "polar": {
           "angularaxis": {
            "gridcolor": "white",
            "linecolor": "white",
            "ticks": ""
           },
           "bgcolor": "#E5ECF6",
           "radialaxis": {
            "gridcolor": "white",
            "linecolor": "white",
            "ticks": ""
           }
          },
          "scene": {
           "xaxis": {
            "backgroundcolor": "#E5ECF6",
            "gridcolor": "white",
            "gridwidth": 2,
            "linecolor": "white",
            "showbackground": true,
            "ticks": "",
            "zerolinecolor": "white"
           },
           "yaxis": {
            "backgroundcolor": "#E5ECF6",
            "gridcolor": "white",
            "gridwidth": 2,
            "linecolor": "white",
            "showbackground": true,
            "ticks": "",
            "zerolinecolor": "white"
           },
           "zaxis": {
            "backgroundcolor": "#E5ECF6",
            "gridcolor": "white",
            "gridwidth": 2,
            "linecolor": "white",
            "showbackground": true,
            "ticks": "",
            "zerolinecolor": "white"
           }
          },
          "shapedefaults": {
           "line": {
            "color": "#2a3f5f"
           }
          },
          "ternary": {
           "aaxis": {
            "gridcolor": "white",
            "linecolor": "white",
            "ticks": ""
           },
           "baxis": {
            "gridcolor": "white",
            "linecolor": "white",
            "ticks": ""
           },
           "bgcolor": "#E5ECF6",
           "caxis": {
            "gridcolor": "white",
            "linecolor": "white",
            "ticks": ""
           }
          },
          "title": {
           "x": 0.05
          },
          "xaxis": {
           "automargin": true,
           "gridcolor": "white",
           "linecolor": "white",
           "ticks": "",
           "title": {
            "standoff": 15
           },
           "zerolinecolor": "white",
           "zerolinewidth": 2
          },
          "yaxis": {
           "automargin": true,
           "gridcolor": "white",
           "linecolor": "white",
           "ticks": "",
           "title": {
            "standoff": 15
           },
           "zerolinecolor": "white",
           "zerolinewidth": 2
          }
         }
        },
        "title": {
         "font": {
          "size": 30
         },
         "text": "Target by Day of Year",
         "x": 0.5
        },
        "xaxis": {
         "anchor": "y",
         "domain": [
          0,
          1
         ],
         "title": {
          "text": "day_of_year"
         }
        },
        "yaxis": {
         "anchor": "x",
         "domain": [
          0,
          1
         ],
         "title": {
          "text": "target"
         }
        }
       }
      }
     },
     "metadata": {},
     "output_type": "display_data"
    }
   ],
   "source": [
    "fig = px.scatter(time_df, x='day_of_year', y='target', title='Target by Day of Year', color='year')\n",
    "fig.update_layout(title_font_size=30, title_x=0.5)\n",
    "fig.show()"
   ]
  },
  {
   "attachments": {},
   "cell_type": "markdown",
   "metadata": {},
   "source": [
    "* Pandemi etkenini veri setinin sonlarına doğru görüyoruz. 2020'nin mart aylarında aykırı değer gibi görünen bir değer var. Aslında bu değer aykırı değer değil pandemi etkeniyle bir anda piyasada oluşan değişimi ifade ediyor. Bu nedenle pandemi etkenini modele ekleyebilmemiz için web scraping ice COVID-19 vaka sayılarını, ölüm oranını vs. eklemeyi düşünüyorum.  \n",
    "* Ayrıca veriler İngiltere'deki iştirake gideceği için İngiltere'deki COVID-19 verilerini çekmeyi düşünüyorum."
   ]
  },
  {
   "cell_type": "code",
   "execution_count": 115,
   "metadata": {},
   "outputs": [
    {
     "data": {
      "text/html": [
       "<div>\n",
       "<style scoped>\n",
       "    .dataframe tbody tr th:only-of-type {\n",
       "        vertical-align: middle;\n",
       "    }\n",
       "\n",
       "    .dataframe tbody tr th {\n",
       "        vertical-align: top;\n",
       "    }\n",
       "\n",
       "    .dataframe thead th {\n",
       "        text-align: right;\n",
       "    }\n",
       "</style>\n",
       "<table border=\"1\" class=\"dataframe\">\n",
       "  <thead>\n",
       "    <tr style=\"text-align: right;\">\n",
       "      <th></th>\n",
       "      <th>areaType</th>\n",
       "      <th>areaName</th>\n",
       "      <th>areaCode</th>\n",
       "      <th>date</th>\n",
       "      <th>newCasesBySpecimenDate</th>\n",
       "      <th>cumCasesBySpecimenDate</th>\n",
       "      <th>newFirstEpisodesBySpecimenDate</th>\n",
       "      <th>cumFirstEpisodesBySpecimenDate</th>\n",
       "      <th>newReinfectionsBySpecimenDate</th>\n",
       "      <th>cumReinfectionsBySpecimenDate</th>\n",
       "    </tr>\n",
       "  </thead>\n",
       "  <tbody>\n",
       "    <tr>\n",
       "      <th>0</th>\n",
       "      <td>nation</td>\n",
       "      <td>England</td>\n",
       "      <td>E92000001</td>\n",
       "      <td>2023-04-19</td>\n",
       "      <td>1002</td>\n",
       "      <td>20784719</td>\n",
       "      <td>591</td>\n",
       "      <td>19241754</td>\n",
       "      <td>411.0</td>\n",
       "      <td>1542965.0</td>\n",
       "    </tr>\n",
       "    <tr>\n",
       "      <th>1</th>\n",
       "      <td>nation</td>\n",
       "      <td>England</td>\n",
       "      <td>E92000001</td>\n",
       "      <td>2023-04-18</td>\n",
       "      <td>1611</td>\n",
       "      <td>20783717</td>\n",
       "      <td>994</td>\n",
       "      <td>19241163</td>\n",
       "      <td>617.0</td>\n",
       "      <td>1542554.0</td>\n",
       "    </tr>\n",
       "    <tr>\n",
       "      <th>2</th>\n",
       "      <td>nation</td>\n",
       "      <td>England</td>\n",
       "      <td>E92000001</td>\n",
       "      <td>2023-04-17</td>\n",
       "      <td>1901</td>\n",
       "      <td>20782106</td>\n",
       "      <td>1181</td>\n",
       "      <td>19240169</td>\n",
       "      <td>720.0</td>\n",
       "      <td>1541937.0</td>\n",
       "    </tr>\n",
       "    <tr>\n",
       "      <th>3</th>\n",
       "      <td>nation</td>\n",
       "      <td>England</td>\n",
       "      <td>E92000001</td>\n",
       "      <td>2023-04-16</td>\n",
       "      <td>1740</td>\n",
       "      <td>20780205</td>\n",
       "      <td>1076</td>\n",
       "      <td>19238988</td>\n",
       "      <td>664.0</td>\n",
       "      <td>1541217.0</td>\n",
       "    </tr>\n",
       "    <tr>\n",
       "      <th>4</th>\n",
       "      <td>nation</td>\n",
       "      <td>England</td>\n",
       "      <td>E92000001</td>\n",
       "      <td>2023-04-15</td>\n",
       "      <td>1238</td>\n",
       "      <td>20778465</td>\n",
       "      <td>764</td>\n",
       "      <td>19237912</td>\n",
       "      <td>474.0</td>\n",
       "      <td>1540553.0</td>\n",
       "    </tr>\n",
       "  </tbody>\n",
       "</table>\n",
       "</div>"
      ],
      "text/plain": [
       "  areaType areaName   areaCode        date  newCasesBySpecimenDate  \\\n",
       "0   nation  England  E92000001  2023-04-19                    1002   \n",
       "1   nation  England  E92000001  2023-04-18                    1611   \n",
       "2   nation  England  E92000001  2023-04-17                    1901   \n",
       "3   nation  England  E92000001  2023-04-16                    1740   \n",
       "4   nation  England  E92000001  2023-04-15                    1238   \n",
       "\n",
       "   cumCasesBySpecimenDate  newFirstEpisodesBySpecimenDate  \\\n",
       "0                20784719                             591   \n",
       "1                20783717                             994   \n",
       "2                20782106                            1181   \n",
       "3                20780205                            1076   \n",
       "4                20778465                             764   \n",
       "\n",
       "   cumFirstEpisodesBySpecimenDate  newReinfectionsBySpecimenDate  \\\n",
       "0                        19241754                          411.0   \n",
       "1                        19241163                          617.0   \n",
       "2                        19240169                          720.0   \n",
       "3                        19238988                          664.0   \n",
       "4                        19237912                          474.0   \n",
       "\n",
       "   cumReinfectionsBySpecimenDate  \n",
       "0                      1542965.0  \n",
       "1                      1542554.0  \n",
       "2                      1541937.0  \n",
       "3                      1541217.0  \n",
       "4                      1540553.0  "
      ]
     },
     "execution_count": 115,
     "metadata": {},
     "output_type": "execute_result"
    }
   ],
   "source": [
    "cases = pd.read_csv('../Datasets/External Datasets/covid_case_all_uk_data.csv')\n",
    "deaths = pd.read_csv('../Datasets/External Datasets/covid_deaths_uk_data.csv')\n",
    "cases.head()"
   ]
  },
  {
   "cell_type": "code",
   "execution_count": 116,
   "metadata": {},
   "outputs": [
    {
     "data": {
      "text/html": [
       "<div>\n",
       "<style scoped>\n",
       "    .dataframe tbody tr th:only-of-type {\n",
       "        vertical-align: middle;\n",
       "    }\n",
       "\n",
       "    .dataframe tbody tr th {\n",
       "        vertical-align: top;\n",
       "    }\n",
       "\n",
       "    .dataframe thead th {\n",
       "        text-align: right;\n",
       "    }\n",
       "</style>\n",
       "<table border=\"1\" class=\"dataframe\">\n",
       "  <thead>\n",
       "    <tr style=\"text-align: right;\">\n",
       "      <th></th>\n",
       "      <th>areaType</th>\n",
       "      <th>areaName</th>\n",
       "      <th>areaCode</th>\n",
       "      <th>date</th>\n",
       "      <th>newDailyNsoDeathsByDeathDate</th>\n",
       "      <th>cumDailyNsoDeathsByDeathDate</th>\n",
       "    </tr>\n",
       "  </thead>\n",
       "  <tbody>\n",
       "    <tr>\n",
       "      <th>0</th>\n",
       "      <td>nation</td>\n",
       "      <td>England</td>\n",
       "      <td>E92000001</td>\n",
       "      <td>2023-03-24</td>\n",
       "      <td>92</td>\n",
       "      <td>189338</td>\n",
       "    </tr>\n",
       "    <tr>\n",
       "      <th>1</th>\n",
       "      <td>nation</td>\n",
       "      <td>England</td>\n",
       "      <td>E92000001</td>\n",
       "      <td>2023-03-23</td>\n",
       "      <td>84</td>\n",
       "      <td>189246</td>\n",
       "    </tr>\n",
       "    <tr>\n",
       "      <th>2</th>\n",
       "      <td>nation</td>\n",
       "      <td>England</td>\n",
       "      <td>E92000001</td>\n",
       "      <td>2023-03-22</td>\n",
       "      <td>75</td>\n",
       "      <td>189162</td>\n",
       "    </tr>\n",
       "    <tr>\n",
       "      <th>3</th>\n",
       "      <td>nation</td>\n",
       "      <td>England</td>\n",
       "      <td>E92000001</td>\n",
       "      <td>2023-03-21</td>\n",
       "      <td>98</td>\n",
       "      <td>189087</td>\n",
       "    </tr>\n",
       "    <tr>\n",
       "      <th>4</th>\n",
       "      <td>nation</td>\n",
       "      <td>England</td>\n",
       "      <td>E92000001</td>\n",
       "      <td>2023-03-20</td>\n",
       "      <td>72</td>\n",
       "      <td>188989</td>\n",
       "    </tr>\n",
       "  </tbody>\n",
       "</table>\n",
       "</div>"
      ],
      "text/plain": [
       "  areaType areaName   areaCode        date  newDailyNsoDeathsByDeathDate  \\\n",
       "0   nation  England  E92000001  2023-03-24                            92   \n",
       "1   nation  England  E92000001  2023-03-23                            84   \n",
       "2   nation  England  E92000001  2023-03-22                            75   \n",
       "3   nation  England  E92000001  2023-03-21                            98   \n",
       "4   nation  England  E92000001  2023-03-20                            72   \n",
       "\n",
       "   cumDailyNsoDeathsByDeathDate  \n",
       "0                        189338  \n",
       "1                        189246  \n",
       "2                        189162  \n",
       "3                        189087  \n",
       "4                        188989  "
      ]
     },
     "execution_count": 116,
     "metadata": {},
     "output_type": "execute_result"
    }
   ],
   "source": [
    "deaths.head()"
   ]
  },
  {
   "cell_type": "code",
   "execution_count": 117,
   "metadata": {},
   "outputs": [],
   "source": [
    "deaths = deaths[['date','newDailyNsoDeathsByDeathDate', 'cumDailyNsoDeathsByDeathDate']]\n",
    "deaths.columns = ['tarih', 'gunluk_olum', 'toplam_olum']\n",
    "deaths.to_csv('../Datasets/External Datasets/eng_deaths.csv', index=False)"
   ]
  },
  {
   "cell_type": "code",
   "execution_count": 118,
   "metadata": {},
   "outputs": [],
   "source": [
    "cases = cases[['date','newCasesBySpecimenDate', 'cumCasesBySpecimenDate']]\n",
    "cases.columns = ['tarih', 'gunluk_vaka', 'toplam_vaka']\n",
    "cases.to_csv('../Datasets/External Datasets/eng_vaka.csv', index=False)"
   ]
  },
  {
   "cell_type": "code",
   "execution_count": 119,
   "metadata": {},
   "outputs": [],
   "source": [
    "df.to_csv(\"../Datasets/train.csv\", index=False)"
   ]
  }
 ],
 "metadata": {
  "kernelspec": {
   "display_name": "Python 3",
   "language": "python",
   "name": "python3"
  },
  "language_info": {
   "codemirror_mode": {
    "name": "ipython",
    "version": 3
   },
   "file_extension": ".py",
   "mimetype": "text/x-python",
   "name": "python",
   "nbconvert_exporter": "python",
   "pygments_lexer": "ipython3",
   "version": "3.11.2"
  },
  "orig_nbformat": 4
 },
 "nbformat": 4,
 "nbformat_minor": 2
}
