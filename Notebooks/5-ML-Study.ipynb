{
 "cells": [
  {
   "attachments": {},
   "cell_type": "markdown",
   "metadata": {},
   "source": [
    "Veri Setini Yükleme"
   ]
  },
  {
   "cell_type": "code",
   "execution_count": 13,
   "metadata": {},
   "outputs": [],
   "source": [
    "import pandas as pd \n",
    "import numpy as np \n",
    "import plotly.express as px"
   ]
  },
  {
   "cell_type": "code",
   "execution_count": 14,
   "metadata": {},
   "outputs": [
    {
     "data": {
      "text/html": [
       "<div>\n",
       "<style scoped>\n",
       "    .dataframe tbody tr th:only-of-type {\n",
       "        vertical-align: middle;\n",
       "    }\n",
       "\n",
       "    .dataframe tbody tr th {\n",
       "        vertical-align: top;\n",
       "    }\n",
       "\n",
       "    .dataframe thead th {\n",
       "        text-align: right;\n",
       "    }\n",
       "</style>\n",
       "<table border=\"1\" class=\"dataframe\">\n",
       "  <thead>\n",
       "    <tr style=\"text-align: right;\">\n",
       "      <th></th>\n",
       "      <th>target</th>\n",
       "      <th>gunluk_vaka</th>\n",
       "      <th>toplam_vaka</th>\n",
       "      <th>gunluk_olum</th>\n",
       "      <th>toplam_olum</th>\n",
       "      <th>gasoline_imports</th>\n",
       "      <th>gasoline_exports</th>\n",
       "      <th>crude_imports</th>\n",
       "      <th>crude_exports</th>\n",
       "      <th>gasoline_stocks</th>\n",
       "      <th>...</th>\n",
       "      <th>jet_output</th>\n",
       "      <th>propane_output</th>\n",
       "      <th>residual_fuel_output</th>\n",
       "      <th>conventional_gasoline_spot_price</th>\n",
       "      <th>crude_brent_spot_price</th>\n",
       "      <th>gasoline_future_price1</th>\n",
       "      <th>gasoline_future_price2</th>\n",
       "      <th>gasoline_future_price3</th>\n",
       "      <th>gasoline_future_price4</th>\n",
       "      <th>gasoline_demand</th>\n",
       "    </tr>\n",
       "  </thead>\n",
       "  <tbody>\n",
       "    <tr>\n",
       "      <th>0</th>\n",
       "      <td>10639</td>\n",
       "      <td>0.0</td>\n",
       "      <td>0.0</td>\n",
       "      <td>0.0</td>\n",
       "      <td>0.0</td>\n",
       "      <td>779</td>\n",
       "      <td>200</td>\n",
       "      <td>8600</td>\n",
       "      <td>33</td>\n",
       "      <td>219329</td>\n",
       "      <td>...</td>\n",
       "      <td>1296</td>\n",
       "      <td>1044</td>\n",
       "      <td>414</td>\n",
       "      <td>2.202</td>\n",
       "      <td>83.11</td>\n",
       "      <td>2.139</td>\n",
       "      <td>2.119</td>\n",
       "      <td>2.128</td>\n",
       "      <td>2.146</td>\n",
       "      <td>9460</td>\n",
       "    </tr>\n",
       "    <tr>\n",
       "      <th>1</th>\n",
       "      <td>10036</td>\n",
       "      <td>0.0</td>\n",
       "      <td>0.0</td>\n",
       "      <td>0.0</td>\n",
       "      <td>0.0</td>\n",
       "      <td>999</td>\n",
       "      <td>200</td>\n",
       "      <td>9463</td>\n",
       "      <td>33</td>\n",
       "      <td>214942</td>\n",
       "      <td>...</td>\n",
       "      <td>1345</td>\n",
       "      <td>1021</td>\n",
       "      <td>473</td>\n",
       "      <td>2.146</td>\n",
       "      <td>81.43</td>\n",
       "      <td>2.077</td>\n",
       "      <td>2.063</td>\n",
       "      <td>2.076</td>\n",
       "      <td>2.097</td>\n",
       "      <td>10639</td>\n",
       "    </tr>\n",
       "    <tr>\n",
       "      <th>2</th>\n",
       "      <td>9886</td>\n",
       "      <td>0.0</td>\n",
       "      <td>0.0</td>\n",
       "      <td>0.0</td>\n",
       "      <td>0.0</td>\n",
       "      <td>871</td>\n",
       "      <td>200</td>\n",
       "      <td>8578</td>\n",
       "      <td>33</td>\n",
       "      <td>212253</td>\n",
       "      <td>...</td>\n",
       "      <td>1309</td>\n",
       "      <td>1032</td>\n",
       "      <td>401</td>\n",
       "      <td>2.122</td>\n",
       "      <td>82.25</td>\n",
       "      <td>2.098</td>\n",
       "      <td>2.072</td>\n",
       "      <td>2.085</td>\n",
       "      <td>2.106</td>\n",
       "      <td>10036</td>\n",
       "    </tr>\n",
       "  </tbody>\n",
       "</table>\n",
       "<p>3 rows × 27 columns</p>\n",
       "</div>"
      ],
      "text/plain": [
       "   target  gunluk_vaka  toplam_vaka  gunluk_olum  toplam_olum  \\\n",
       "0   10639          0.0          0.0          0.0          0.0   \n",
       "1   10036          0.0          0.0          0.0          0.0   \n",
       "2    9886          0.0          0.0          0.0          0.0   \n",
       "\n",
       "   gasoline_imports  gasoline_exports  crude_imports  crude_exports  \\\n",
       "0               779               200           8600             33   \n",
       "1               999               200           9463             33   \n",
       "2               871               200           8578             33   \n",
       "\n",
       "   gasoline_stocks  ...  jet_output  propane_output  residual_fuel_output  \\\n",
       "0           219329  ...        1296            1044                   414   \n",
       "1           214942  ...        1345            1021                   473   \n",
       "2           212253  ...        1309            1032                   401   \n",
       "\n",
       "   conventional_gasoline_spot_price  crude_brent_spot_price  \\\n",
       "0                             2.202                   83.11   \n",
       "1                             2.146                   81.43   \n",
       "2                             2.122                   82.25   \n",
       "\n",
       "   gasoline_future_price1  gasoline_future_price2  gasoline_future_price3  \\\n",
       "0                   2.139                   2.119                   2.128   \n",
       "1                   2.077                   2.063                   2.076   \n",
       "2                   2.098                   2.072                   2.085   \n",
       "\n",
       "   gasoline_future_price4  gasoline_demand  \n",
       "0                   2.146             9460  \n",
       "1                   2.097            10639  \n",
       "2                   2.106            10036  \n",
       "\n",
       "[3 rows x 27 columns]"
      ]
     },
     "execution_count": 14,
     "metadata": {},
     "output_type": "execute_result"
    }
   ],
   "source": [
    "df = pd.read_csv('../Datasets/Manipulated Data/train.csv')\n",
    "df.drop(['period'], axis=1, inplace=True)\n",
    "df.head(3)"
   ]
  },
  {
   "cell_type": "code",
   "execution_count": 15,
   "metadata": {},
   "outputs": [],
   "source": [
    "X = df.drop(['target'], axis=1)\n",
    "y = df['target']"
   ]
  },
  {
   "attachments": {},
   "cell_type": "markdown",
   "metadata": {},
   "source": [
    "Splitting for Accuracy Metrics:"
   ]
  },
  {
   "cell_type": "code",
   "execution_count": 16,
   "metadata": {},
   "outputs": [],
   "source": [
    "from sklearn.model_selection import train_test_split\n",
    "X_train, X_test, y_train, y_test = train_test_split(X,y, test_size=0.2, random_state=42, shuffle=False)"
   ]
  },
  {
   "cell_type": "code",
   "execution_count": 17,
   "metadata": {},
   "outputs": [],
   "source": [
    "from sklearn.preprocessing import StandardScaler\n",
    "scaler = StandardScaler()\n",
    "X_train = scaler.fit_transform(X_train)\n",
    "X_test = scaler.transform(X_test)"
   ]
  },
  {
   "cell_type": "code",
   "execution_count": 18,
   "metadata": {},
   "outputs": [
    {
     "data": {
      "text/plain": [
       "(394, 26)"
      ]
     },
     "execution_count": 18,
     "metadata": {},
     "output_type": "execute_result"
    }
   ],
   "source": [
    "X_train.shape"
   ]
  },
  {
   "attachments": {},
   "cell_type": "markdown",
   "metadata": {},
   "source": [
    "## ML Models\n",
    "\n",
    "Bu kısımda öncelikle belirlediğim bir kaç modelin default parametrelerle birlikte nasıl bir sonuç döndürdüğünü inceleyeceğim. Devamında ise, veri setindeki `period` başlığından özellik çıkarımı ile veri setini büyütüp tekrar deneyeceğim, en yüksek performansı sergileyen modele hiper parametre ayarı yapacağım ve sonuçları raporlandıracağım. "
   ]
  },
  {
   "attachments": {},
   "cell_type": "markdown",
   "metadata": {},
   "source": [
    "### Gradient Boosting\n",
    "Gradient boosting, zayıf öğrenicilerin bir araya gelerek güçlü bir model oluşturduğu bir ensemble yöntemidir.\n",
    "\n",
    "**Avantajları:**\n",
    "\n",
    "1. Yüksek performanslı tahminler yapabilir.\n",
    "1. Aşırı uyum riskini azaltabilir.\n",
    "1. Çoklu öznitelikleri ve etkileşimleri yakalayabilir.\n",
    "\n",
    "**Dezavantajları:**\n",
    "\n",
    "1. Daha karmaşık bir model oluşturmak için daha fazla hesaplama kaynağı gerektirebilir.\n",
    "1. Hiperparametrelerin doğru ayarlanması zor olabilir.\n",
    "1. Büyük veri setlerinde eğitim süresi uzun olabilir."
   ]
  },
  {
   "cell_type": "code",
   "execution_count": 19,
   "metadata": {},
   "outputs": [
    {
     "data": {
      "text/html": [
       "<style>#sk-container-id-2 {color: black;background-color: white;}#sk-container-id-2 pre{padding: 0;}#sk-container-id-2 div.sk-toggleable {background-color: white;}#sk-container-id-2 label.sk-toggleable__label {cursor: pointer;display: block;width: 100%;margin-bottom: 0;padding: 0.3em;box-sizing: border-box;text-align: center;}#sk-container-id-2 label.sk-toggleable__label-arrow:before {content: \"▸\";float: left;margin-right: 0.25em;color: #696969;}#sk-container-id-2 label.sk-toggleable__label-arrow:hover:before {color: black;}#sk-container-id-2 div.sk-estimator:hover label.sk-toggleable__label-arrow:before {color: black;}#sk-container-id-2 div.sk-toggleable__content {max-height: 0;max-width: 0;overflow: hidden;text-align: left;background-color: #f0f8ff;}#sk-container-id-2 div.sk-toggleable__content pre {margin: 0.2em;color: black;border-radius: 0.25em;background-color: #f0f8ff;}#sk-container-id-2 input.sk-toggleable__control:checked~div.sk-toggleable__content {max-height: 200px;max-width: 100%;overflow: auto;}#sk-container-id-2 input.sk-toggleable__control:checked~label.sk-toggleable__label-arrow:before {content: \"▾\";}#sk-container-id-2 div.sk-estimator input.sk-toggleable__control:checked~label.sk-toggleable__label {background-color: #d4ebff;}#sk-container-id-2 div.sk-label input.sk-toggleable__control:checked~label.sk-toggleable__label {background-color: #d4ebff;}#sk-container-id-2 input.sk-hidden--visually {border: 0;clip: rect(1px 1px 1px 1px);clip: rect(1px, 1px, 1px, 1px);height: 1px;margin: -1px;overflow: hidden;padding: 0;position: absolute;width: 1px;}#sk-container-id-2 div.sk-estimator {font-family: monospace;background-color: #f0f8ff;border: 1px dotted black;border-radius: 0.25em;box-sizing: border-box;margin-bottom: 0.5em;}#sk-container-id-2 div.sk-estimator:hover {background-color: #d4ebff;}#sk-container-id-2 div.sk-parallel-item::after {content: \"\";width: 100%;border-bottom: 1px solid gray;flex-grow: 1;}#sk-container-id-2 div.sk-label:hover label.sk-toggleable__label {background-color: #d4ebff;}#sk-container-id-2 div.sk-serial::before {content: \"\";position: absolute;border-left: 1px solid gray;box-sizing: border-box;top: 0;bottom: 0;left: 50%;z-index: 0;}#sk-container-id-2 div.sk-serial {display: flex;flex-direction: column;align-items: center;background-color: white;padding-right: 0.2em;padding-left: 0.2em;position: relative;}#sk-container-id-2 div.sk-item {position: relative;z-index: 1;}#sk-container-id-2 div.sk-parallel {display: flex;align-items: stretch;justify-content: center;background-color: white;position: relative;}#sk-container-id-2 div.sk-item::before, #sk-container-id-2 div.sk-parallel-item::before {content: \"\";position: absolute;border-left: 1px solid gray;box-sizing: border-box;top: 0;bottom: 0;left: 50%;z-index: -1;}#sk-container-id-2 div.sk-parallel-item {display: flex;flex-direction: column;z-index: 1;position: relative;background-color: white;}#sk-container-id-2 div.sk-parallel-item:first-child::after {align-self: flex-end;width: 50%;}#sk-container-id-2 div.sk-parallel-item:last-child::after {align-self: flex-start;width: 50%;}#sk-container-id-2 div.sk-parallel-item:only-child::after {width: 0;}#sk-container-id-2 div.sk-dashed-wrapped {border: 1px dashed gray;margin: 0 0.4em 0.5em 0.4em;box-sizing: border-box;padding-bottom: 0.4em;background-color: white;}#sk-container-id-2 div.sk-label label {font-family: monospace;font-weight: bold;display: inline-block;line-height: 1.2em;}#sk-container-id-2 div.sk-label-container {text-align: center;}#sk-container-id-2 div.sk-container {/* jupyter's `normalize.less` sets `[hidden] { display: none; }` but bootstrap.min.css set `[hidden] { display: none !important; }` so we also need the `!important` here to be able to override the default hidden behavior on the sphinx rendered scikit-learn.org. See: https://github.com/scikit-learn/scikit-learn/issues/21755 */display: inline-block !important;position: relative;}#sk-container-id-2 div.sk-text-repr-fallback {display: none;}</style><div id=\"sk-container-id-2\" class=\"sk-top-container\"><div class=\"sk-text-repr-fallback\"><pre>GradientBoostingRegressor()</pre><b>In a Jupyter environment, please rerun this cell to show the HTML representation or trust the notebook. <br />On GitHub, the HTML representation is unable to render, please try loading this page with nbviewer.org.</b></div><div class=\"sk-container\" hidden><div class=\"sk-item\"><div class=\"sk-estimator sk-toggleable\"><input class=\"sk-toggleable__control sk-hidden--visually\" id=\"sk-estimator-id-2\" type=\"checkbox\" checked><label for=\"sk-estimator-id-2\" class=\"sk-toggleable__label sk-toggleable__label-arrow\">GradientBoostingRegressor</label><div class=\"sk-toggleable__content\"><pre>GradientBoostingRegressor()</pre></div></div></div></div></div>"
      ],
      "text/plain": [
       "GradientBoostingRegressor()"
      ]
     },
     "execution_count": 19,
     "metadata": {},
     "output_type": "execute_result"
    }
   ],
   "source": [
    "from sklearn.ensemble import GradientBoostingRegressor\n",
    "gbr = GradientBoostingRegressor()\n",
    "gbr.fit(X_train, y_train)"
   ]
  },
  {
   "cell_type": "code",
   "execution_count": 20,
   "metadata": {},
   "outputs": [],
   "source": [
    "gbr_preds = gbr.predict(X_test)"
   ]
  },
  {
   "attachments": {},
   "cell_type": "markdown",
   "metadata": {},
   "source": [
    "<hr>"
   ]
  },
  {
   "attachments": {},
   "cell_type": "markdown",
   "metadata": {},
   "source": [
    "### XGBoost\n",
    "XGBoost, Gradient Boosting'in optimize edilmiş bir implementasyonudur.\n",
    "\n",
    "**Avantajları:**\n",
    "\n",
    "1. Yüksek performanslı tahminler yapabilir.\n",
    "1. Aşırı uyum riskini azaltabilir ve genelleştirme yeteneğini artırabilir.\n",
    "1. Öznitelik önemini değerlendirebilir ve gereksiz öznitelikleri sıfıra yakın katsayılarla düşürebilir.\n",
    "\n",
    "**Dezavantajları:**\n",
    "\n",
    "1. Daha fazla hesaplama kaynağı gerektirebilir ve büyük veri setlerinde eğitim süresi uzun olabilir.\n",
    "1. Hiperparametrelerin doğru ayarlanması zor olabilir.\n",
    "1. Veri setindeki gürültüye duyarlı olabilir.\n"
   ]
  },
  {
   "cell_type": "code",
   "execution_count": 21,
   "metadata": {},
   "outputs": [
    {
     "data": {
      "text/html": [
       "<style>#sk-container-id-3 {color: black;background-color: white;}#sk-container-id-3 pre{padding: 0;}#sk-container-id-3 div.sk-toggleable {background-color: white;}#sk-container-id-3 label.sk-toggleable__label {cursor: pointer;display: block;width: 100%;margin-bottom: 0;padding: 0.3em;box-sizing: border-box;text-align: center;}#sk-container-id-3 label.sk-toggleable__label-arrow:before {content: \"▸\";float: left;margin-right: 0.25em;color: #696969;}#sk-container-id-3 label.sk-toggleable__label-arrow:hover:before {color: black;}#sk-container-id-3 div.sk-estimator:hover label.sk-toggleable__label-arrow:before {color: black;}#sk-container-id-3 div.sk-toggleable__content {max-height: 0;max-width: 0;overflow: hidden;text-align: left;background-color: #f0f8ff;}#sk-container-id-3 div.sk-toggleable__content pre {margin: 0.2em;color: black;border-radius: 0.25em;background-color: #f0f8ff;}#sk-container-id-3 input.sk-toggleable__control:checked~div.sk-toggleable__content {max-height: 200px;max-width: 100%;overflow: auto;}#sk-container-id-3 input.sk-toggleable__control:checked~label.sk-toggleable__label-arrow:before {content: \"▾\";}#sk-container-id-3 div.sk-estimator input.sk-toggleable__control:checked~label.sk-toggleable__label {background-color: #d4ebff;}#sk-container-id-3 div.sk-label input.sk-toggleable__control:checked~label.sk-toggleable__label {background-color: #d4ebff;}#sk-container-id-3 input.sk-hidden--visually {border: 0;clip: rect(1px 1px 1px 1px);clip: rect(1px, 1px, 1px, 1px);height: 1px;margin: -1px;overflow: hidden;padding: 0;position: absolute;width: 1px;}#sk-container-id-3 div.sk-estimator {font-family: monospace;background-color: #f0f8ff;border: 1px dotted black;border-radius: 0.25em;box-sizing: border-box;margin-bottom: 0.5em;}#sk-container-id-3 div.sk-estimator:hover {background-color: #d4ebff;}#sk-container-id-3 div.sk-parallel-item::after {content: \"\";width: 100%;border-bottom: 1px solid gray;flex-grow: 1;}#sk-container-id-3 div.sk-label:hover label.sk-toggleable__label {background-color: #d4ebff;}#sk-container-id-3 div.sk-serial::before {content: \"\";position: absolute;border-left: 1px solid gray;box-sizing: border-box;top: 0;bottom: 0;left: 50%;z-index: 0;}#sk-container-id-3 div.sk-serial {display: flex;flex-direction: column;align-items: center;background-color: white;padding-right: 0.2em;padding-left: 0.2em;position: relative;}#sk-container-id-3 div.sk-item {position: relative;z-index: 1;}#sk-container-id-3 div.sk-parallel {display: flex;align-items: stretch;justify-content: center;background-color: white;position: relative;}#sk-container-id-3 div.sk-item::before, #sk-container-id-3 div.sk-parallel-item::before {content: \"\";position: absolute;border-left: 1px solid gray;box-sizing: border-box;top: 0;bottom: 0;left: 50%;z-index: -1;}#sk-container-id-3 div.sk-parallel-item {display: flex;flex-direction: column;z-index: 1;position: relative;background-color: white;}#sk-container-id-3 div.sk-parallel-item:first-child::after {align-self: flex-end;width: 50%;}#sk-container-id-3 div.sk-parallel-item:last-child::after {align-self: flex-start;width: 50%;}#sk-container-id-3 div.sk-parallel-item:only-child::after {width: 0;}#sk-container-id-3 div.sk-dashed-wrapped {border: 1px dashed gray;margin: 0 0.4em 0.5em 0.4em;box-sizing: border-box;padding-bottom: 0.4em;background-color: white;}#sk-container-id-3 div.sk-label label {font-family: monospace;font-weight: bold;display: inline-block;line-height: 1.2em;}#sk-container-id-3 div.sk-label-container {text-align: center;}#sk-container-id-3 div.sk-container {/* jupyter's `normalize.less` sets `[hidden] { display: none; }` but bootstrap.min.css set `[hidden] { display: none !important; }` so we also need the `!important` here to be able to override the default hidden behavior on the sphinx rendered scikit-learn.org. See: https://github.com/scikit-learn/scikit-learn/issues/21755 */display: inline-block !important;position: relative;}#sk-container-id-3 div.sk-text-repr-fallback {display: none;}</style><div id=\"sk-container-id-3\" class=\"sk-top-container\"><div class=\"sk-text-repr-fallback\"><pre>XGBRegressor(base_score=None, booster=None, callbacks=None,\n",
       "             colsample_bylevel=None, colsample_bynode=None,\n",
       "             colsample_bytree=None, early_stopping_rounds=None,\n",
       "             enable_categorical=False, eval_metric=None, feature_types=None,\n",
       "             gamma=None, gpu_id=None, grow_policy=None, importance_type=None,\n",
       "             interaction_constraints=None, learning_rate=None, max_bin=None,\n",
       "             max_cat_threshold=None, max_cat_to_onehot=None,\n",
       "             max_delta_step=None, max_depth=None, max_leaves=None,\n",
       "             min_child_weight=None, missing=nan, monotone_constraints=None,\n",
       "             n_estimators=100, n_jobs=None, num_parallel_tree=None,\n",
       "             predictor=None, random_state=None, ...)</pre><b>In a Jupyter environment, please rerun this cell to show the HTML representation or trust the notebook. <br />On GitHub, the HTML representation is unable to render, please try loading this page with nbviewer.org.</b></div><div class=\"sk-container\" hidden><div class=\"sk-item\"><div class=\"sk-estimator sk-toggleable\"><input class=\"sk-toggleable__control sk-hidden--visually\" id=\"sk-estimator-id-3\" type=\"checkbox\" checked><label for=\"sk-estimator-id-3\" class=\"sk-toggleable__label sk-toggleable__label-arrow\">XGBRegressor</label><div class=\"sk-toggleable__content\"><pre>XGBRegressor(base_score=None, booster=None, callbacks=None,\n",
       "             colsample_bylevel=None, colsample_bynode=None,\n",
       "             colsample_bytree=None, early_stopping_rounds=None,\n",
       "             enable_categorical=False, eval_metric=None, feature_types=None,\n",
       "             gamma=None, gpu_id=None, grow_policy=None, importance_type=None,\n",
       "             interaction_constraints=None, learning_rate=None, max_bin=None,\n",
       "             max_cat_threshold=None, max_cat_to_onehot=None,\n",
       "             max_delta_step=None, max_depth=None, max_leaves=None,\n",
       "             min_child_weight=None, missing=nan, monotone_constraints=None,\n",
       "             n_estimators=100, n_jobs=None, num_parallel_tree=None,\n",
       "             predictor=None, random_state=None, ...)</pre></div></div></div></div></div>"
      ],
      "text/plain": [
       "XGBRegressor(base_score=None, booster=None, callbacks=None,\n",
       "             colsample_bylevel=None, colsample_bynode=None,\n",
       "             colsample_bytree=None, early_stopping_rounds=None,\n",
       "             enable_categorical=False, eval_metric=None, feature_types=None,\n",
       "             gamma=None, gpu_id=None, grow_policy=None, importance_type=None,\n",
       "             interaction_constraints=None, learning_rate=None, max_bin=None,\n",
       "             max_cat_threshold=None, max_cat_to_onehot=None,\n",
       "             max_delta_step=None, max_depth=None, max_leaves=None,\n",
       "             min_child_weight=None, missing=nan, monotone_constraints=None,\n",
       "             n_estimators=100, n_jobs=None, num_parallel_tree=None,\n",
       "             predictor=None, random_state=None, ...)"
      ]
     },
     "execution_count": 21,
     "metadata": {},
     "output_type": "execute_result"
    }
   ],
   "source": [
    "from xgboost import XGBRegressor\n",
    "xgb = XGBRegressor()\n",
    "xgb.fit(X_train, y_train)"
   ]
  },
  {
   "cell_type": "code",
   "execution_count": 22,
   "metadata": {},
   "outputs": [],
   "source": [
    "xgb_preds = xgb.predict(X_test)"
   ]
  },
  {
   "attachments": {},
   "cell_type": "markdown",
   "metadata": {},
   "source": [
    "<hr>"
   ]
  },
  {
   "attachments": {},
   "cell_type": "markdown",
   "metadata": {},
   "source": [
    "### Ridge Regresyon\n",
    "Ridge regresyon, L2 düzenlemesi kullanarak regresyon yapabilen bir modeldir. L2 düzeltmesi, ağırlıkların karelerinin toplamını kullanarak büyük ağırlıklara ceza verir ve modelin daha istikrarlı bir şekilde çalışmasını sağlar.\n",
    "\n",
    "**Avantajları:**\n",
    "\n",
    "1. Çoklu korelasyonlu öznitelikleri ele alabilir.\n",
    "1. Overfitting eğilimini azaltabilir.\n",
    "1. İyileştirilmiş genelleştirme performansı sunabilir.\n",
    "\n",
    "**Dezavantajları:**\n",
    "1. Öznitelik seçimi yapmak için otomatik bir mekanizma sunmaz, manuel olarak ayarlama yapılması gerekebilir.\n",
    "1. Ridge regresyonunda kullanılan L2 düzenlemesi, bazı durumlarda gereğinden fazla düzleştirmeye yol açarak önemli öznitelikleri zayıflatabilir.\n",
    "1. Ridge regresyonu, büyük boyutlu veri setlerinde hesaplama açısından maliyetli olabilir.\n",
    "\n",
    "**Varsayımlar:**  \n",
    "1. Lineer İlişki: Ridge regresyon, bağımlı değişken ile bağımsız değişkenler arasında bir lineer ilişki olduğunu varsayar. Bu, değişkenler arasında doğrusal bir ilişki olduğunu gösteren veriye ihtiyaç duyulduğunu gösterir.\n",
    "1. Hataların Normalliği: Ridge regresyon, hataların (gözlemler ile tahminler arasındaki farklar) normal dağılım gösterdiğini varsayar. Bu, hata terimlerinin ortalama olarak sıfır olduğunu ve sabit bir varyansa sahip olduğunu gösterir.\n",
    "1. Homoskedastisite: Ridge regresyon, hataların homoskedastik olduğunu varsayar, yani hataların varyansının bağımsız değişkenlerden bağımsız olduğunu gösterir. Bu, hataların gözlemler arasında eşit bir şekilde dağıldığı anlamına gelir.\n",
    "1. Bağımsızlık: Ridge regresyon, gözlemlerin birbirinden bağımsız olduğunu varsayar. Yani, gözlemlerin birbirini etkilemediği ve aralarında bağımsız olduğu kabul edilir.\n",
    "1. Aykırı Değerlerin Etkisi: Ridge regresyon, aykırı değerlerin modele büyük bir etkisi olduğunu varsaymaz. Aykırı değerlerin modele olan etkisini azaltmada L2 düzeltmesi (Ridge düzeltmesi) yardımcı olabilir.\n",
    "\n",
    "**Not:**  \n",
    "Yukarıdaki varsayımları `../Notebooks/3-Regression-Study.ipynb` kısmında çalıştım. Ancak ilgili notebook'a baktığımızda aykırı değer haricinde genel anlamda varsayımların sağlandığını görebiliriz. Bu nedenle Ridge Regresyon Modelini de deneyeceğim."
   ]
  },
  {
   "cell_type": "code",
   "execution_count": 23,
   "metadata": {},
   "outputs": [
    {
     "data": {
      "text/html": [
       "<style>#sk-container-id-4 {color: black;background-color: white;}#sk-container-id-4 pre{padding: 0;}#sk-container-id-4 div.sk-toggleable {background-color: white;}#sk-container-id-4 label.sk-toggleable__label {cursor: pointer;display: block;width: 100%;margin-bottom: 0;padding: 0.3em;box-sizing: border-box;text-align: center;}#sk-container-id-4 label.sk-toggleable__label-arrow:before {content: \"▸\";float: left;margin-right: 0.25em;color: #696969;}#sk-container-id-4 label.sk-toggleable__label-arrow:hover:before {color: black;}#sk-container-id-4 div.sk-estimator:hover label.sk-toggleable__label-arrow:before {color: black;}#sk-container-id-4 div.sk-toggleable__content {max-height: 0;max-width: 0;overflow: hidden;text-align: left;background-color: #f0f8ff;}#sk-container-id-4 div.sk-toggleable__content pre {margin: 0.2em;color: black;border-radius: 0.25em;background-color: #f0f8ff;}#sk-container-id-4 input.sk-toggleable__control:checked~div.sk-toggleable__content {max-height: 200px;max-width: 100%;overflow: auto;}#sk-container-id-4 input.sk-toggleable__control:checked~label.sk-toggleable__label-arrow:before {content: \"▾\";}#sk-container-id-4 div.sk-estimator input.sk-toggleable__control:checked~label.sk-toggleable__label {background-color: #d4ebff;}#sk-container-id-4 div.sk-label input.sk-toggleable__control:checked~label.sk-toggleable__label {background-color: #d4ebff;}#sk-container-id-4 input.sk-hidden--visually {border: 0;clip: rect(1px 1px 1px 1px);clip: rect(1px, 1px, 1px, 1px);height: 1px;margin: -1px;overflow: hidden;padding: 0;position: absolute;width: 1px;}#sk-container-id-4 div.sk-estimator {font-family: monospace;background-color: #f0f8ff;border: 1px dotted black;border-radius: 0.25em;box-sizing: border-box;margin-bottom: 0.5em;}#sk-container-id-4 div.sk-estimator:hover {background-color: #d4ebff;}#sk-container-id-4 div.sk-parallel-item::after {content: \"\";width: 100%;border-bottom: 1px solid gray;flex-grow: 1;}#sk-container-id-4 div.sk-label:hover label.sk-toggleable__label {background-color: #d4ebff;}#sk-container-id-4 div.sk-serial::before {content: \"\";position: absolute;border-left: 1px solid gray;box-sizing: border-box;top: 0;bottom: 0;left: 50%;z-index: 0;}#sk-container-id-4 div.sk-serial {display: flex;flex-direction: column;align-items: center;background-color: white;padding-right: 0.2em;padding-left: 0.2em;position: relative;}#sk-container-id-4 div.sk-item {position: relative;z-index: 1;}#sk-container-id-4 div.sk-parallel {display: flex;align-items: stretch;justify-content: center;background-color: white;position: relative;}#sk-container-id-4 div.sk-item::before, #sk-container-id-4 div.sk-parallel-item::before {content: \"\";position: absolute;border-left: 1px solid gray;box-sizing: border-box;top: 0;bottom: 0;left: 50%;z-index: -1;}#sk-container-id-4 div.sk-parallel-item {display: flex;flex-direction: column;z-index: 1;position: relative;background-color: white;}#sk-container-id-4 div.sk-parallel-item:first-child::after {align-self: flex-end;width: 50%;}#sk-container-id-4 div.sk-parallel-item:last-child::after {align-self: flex-start;width: 50%;}#sk-container-id-4 div.sk-parallel-item:only-child::after {width: 0;}#sk-container-id-4 div.sk-dashed-wrapped {border: 1px dashed gray;margin: 0 0.4em 0.5em 0.4em;box-sizing: border-box;padding-bottom: 0.4em;background-color: white;}#sk-container-id-4 div.sk-label label {font-family: monospace;font-weight: bold;display: inline-block;line-height: 1.2em;}#sk-container-id-4 div.sk-label-container {text-align: center;}#sk-container-id-4 div.sk-container {/* jupyter's `normalize.less` sets `[hidden] { display: none; }` but bootstrap.min.css set `[hidden] { display: none !important; }` so we also need the `!important` here to be able to override the default hidden behavior on the sphinx rendered scikit-learn.org. See: https://github.com/scikit-learn/scikit-learn/issues/21755 */display: inline-block !important;position: relative;}#sk-container-id-4 div.sk-text-repr-fallback {display: none;}</style><div id=\"sk-container-id-4\" class=\"sk-top-container\"><div class=\"sk-text-repr-fallback\"><pre>Ridge()</pre><b>In a Jupyter environment, please rerun this cell to show the HTML representation or trust the notebook. <br />On GitHub, the HTML representation is unable to render, please try loading this page with nbviewer.org.</b></div><div class=\"sk-container\" hidden><div class=\"sk-item\"><div class=\"sk-estimator sk-toggleable\"><input class=\"sk-toggleable__control sk-hidden--visually\" id=\"sk-estimator-id-4\" type=\"checkbox\" checked><label for=\"sk-estimator-id-4\" class=\"sk-toggleable__label sk-toggleable__label-arrow\">Ridge</label><div class=\"sk-toggleable__content\"><pre>Ridge()</pre></div></div></div></div></div>"
      ],
      "text/plain": [
       "Ridge()"
      ]
     },
     "execution_count": 23,
     "metadata": {},
     "output_type": "execute_result"
    }
   ],
   "source": [
    "from sklearn.linear_model import Ridge\n",
    "ridge = Ridge()\n",
    "ridge.fit(X_train, y_train)"
   ]
  },
  {
   "cell_type": "code",
   "execution_count": 24,
   "metadata": {},
   "outputs": [],
   "source": [
    "ridge_preds = ridge.predict(X_test)"
   ]
  },
  {
   "attachments": {},
   "cell_type": "markdown",
   "metadata": {},
   "source": [
    "<hr>"
   ]
  },
  {
   "attachments": {},
   "cell_type": "markdown",
   "metadata": {},
   "source": [
    "### Rassal Ormanlar\n",
    "Rassal ormanlar, karar ağaçlarının bir araya getirilerek oluşturulan bir ensemble yöntemidir.\n",
    "\n",
    "**Avantajları:**\n",
    "\n",
    "1. Daha güçlü ve karmaşık modeller oluşturabilir.\n",
    "1. Overfitting riskini azaltabilir.\n",
    "1. Veri setindeki özniteliklerin önemini değerlendirebilir.\n",
    "\n",
    "**Dezavantajları:**\n",
    "\n",
    "1. Eğitim süreci daha yavaş olabilir, çünkü birden fazla ağaç eğitilmelidir.\n",
    "1. Veri setindeki gürültüye duyarlı olabilir.\n",
    "1. Ağaçların birleştirilmesi ve sonuçların yorumlanması karmaşık olabilir."
   ]
  },
  {
   "cell_type": "code",
   "execution_count": 36,
   "metadata": {},
   "outputs": [
    {
     "data": {
      "text/html": [
       "<style>#sk-container-id-5 {color: black;background-color: white;}#sk-container-id-5 pre{padding: 0;}#sk-container-id-5 div.sk-toggleable {background-color: white;}#sk-container-id-5 label.sk-toggleable__label {cursor: pointer;display: block;width: 100%;margin-bottom: 0;padding: 0.3em;box-sizing: border-box;text-align: center;}#sk-container-id-5 label.sk-toggleable__label-arrow:before {content: \"▸\";float: left;margin-right: 0.25em;color: #696969;}#sk-container-id-5 label.sk-toggleable__label-arrow:hover:before {color: black;}#sk-container-id-5 div.sk-estimator:hover label.sk-toggleable__label-arrow:before {color: black;}#sk-container-id-5 div.sk-toggleable__content {max-height: 0;max-width: 0;overflow: hidden;text-align: left;background-color: #f0f8ff;}#sk-container-id-5 div.sk-toggleable__content pre {margin: 0.2em;color: black;border-radius: 0.25em;background-color: #f0f8ff;}#sk-container-id-5 input.sk-toggleable__control:checked~div.sk-toggleable__content {max-height: 200px;max-width: 100%;overflow: auto;}#sk-container-id-5 input.sk-toggleable__control:checked~label.sk-toggleable__label-arrow:before {content: \"▾\";}#sk-container-id-5 div.sk-estimator input.sk-toggleable__control:checked~label.sk-toggleable__label {background-color: #d4ebff;}#sk-container-id-5 div.sk-label input.sk-toggleable__control:checked~label.sk-toggleable__label {background-color: #d4ebff;}#sk-container-id-5 input.sk-hidden--visually {border: 0;clip: rect(1px 1px 1px 1px);clip: rect(1px, 1px, 1px, 1px);height: 1px;margin: -1px;overflow: hidden;padding: 0;position: absolute;width: 1px;}#sk-container-id-5 div.sk-estimator {font-family: monospace;background-color: #f0f8ff;border: 1px dotted black;border-radius: 0.25em;box-sizing: border-box;margin-bottom: 0.5em;}#sk-container-id-5 div.sk-estimator:hover {background-color: #d4ebff;}#sk-container-id-5 div.sk-parallel-item::after {content: \"\";width: 100%;border-bottom: 1px solid gray;flex-grow: 1;}#sk-container-id-5 div.sk-label:hover label.sk-toggleable__label {background-color: #d4ebff;}#sk-container-id-5 div.sk-serial::before {content: \"\";position: absolute;border-left: 1px solid gray;box-sizing: border-box;top: 0;bottom: 0;left: 50%;z-index: 0;}#sk-container-id-5 div.sk-serial {display: flex;flex-direction: column;align-items: center;background-color: white;padding-right: 0.2em;padding-left: 0.2em;position: relative;}#sk-container-id-5 div.sk-item {position: relative;z-index: 1;}#sk-container-id-5 div.sk-parallel {display: flex;align-items: stretch;justify-content: center;background-color: white;position: relative;}#sk-container-id-5 div.sk-item::before, #sk-container-id-5 div.sk-parallel-item::before {content: \"\";position: absolute;border-left: 1px solid gray;box-sizing: border-box;top: 0;bottom: 0;left: 50%;z-index: -1;}#sk-container-id-5 div.sk-parallel-item {display: flex;flex-direction: column;z-index: 1;position: relative;background-color: white;}#sk-container-id-5 div.sk-parallel-item:first-child::after {align-self: flex-end;width: 50%;}#sk-container-id-5 div.sk-parallel-item:last-child::after {align-self: flex-start;width: 50%;}#sk-container-id-5 div.sk-parallel-item:only-child::after {width: 0;}#sk-container-id-5 div.sk-dashed-wrapped {border: 1px dashed gray;margin: 0 0.4em 0.5em 0.4em;box-sizing: border-box;padding-bottom: 0.4em;background-color: white;}#sk-container-id-5 div.sk-label label {font-family: monospace;font-weight: bold;display: inline-block;line-height: 1.2em;}#sk-container-id-5 div.sk-label-container {text-align: center;}#sk-container-id-5 div.sk-container {/* jupyter's `normalize.less` sets `[hidden] { display: none; }` but bootstrap.min.css set `[hidden] { display: none !important; }` so we also need the `!important` here to be able to override the default hidden behavior on the sphinx rendered scikit-learn.org. See: https://github.com/scikit-learn/scikit-learn/issues/21755 */display: inline-block !important;position: relative;}#sk-container-id-5 div.sk-text-repr-fallback {display: none;}</style><div id=\"sk-container-id-5\" class=\"sk-top-container\"><div class=\"sk-text-repr-fallback\"><pre>RandomForestRegressor()</pre><b>In a Jupyter environment, please rerun this cell to show the HTML representation or trust the notebook. <br />On GitHub, the HTML representation is unable to render, please try loading this page with nbviewer.org.</b></div><div class=\"sk-container\" hidden><div class=\"sk-item\"><div class=\"sk-estimator sk-toggleable\"><input class=\"sk-toggleable__control sk-hidden--visually\" id=\"sk-estimator-id-5\" type=\"checkbox\" checked><label for=\"sk-estimator-id-5\" class=\"sk-toggleable__label sk-toggleable__label-arrow\">RandomForestRegressor</label><div class=\"sk-toggleable__content\"><pre>RandomForestRegressor()</pre></div></div></div></div></div>"
      ],
      "text/plain": [
       "RandomForestRegressor()"
      ]
     },
     "execution_count": 36,
     "metadata": {},
     "output_type": "execute_result"
    }
   ],
   "source": [
    "from sklearn.ensemble import RandomForestRegressor\n",
    "rf = RandomForestRegressor()\n",
    "rf.fit(X_train, y_train)"
   ]
  },
  {
   "cell_type": "code",
   "execution_count": 37,
   "metadata": {},
   "outputs": [],
   "source": [
    "rf_preds = rf.predict(X_test)"
   ]
  },
  {
   "attachments": {},
   "cell_type": "markdown",
   "metadata": {},
   "source": [
    "<hr>"
   ]
  },
  {
   "attachments": {},
   "cell_type": "markdown",
   "metadata": {},
   "source": [
    "## Modellerin Değerlendirilmesi"
   ]
  },
  {
   "cell_type": "code",
   "execution_count": 25,
   "metadata": {},
   "outputs": [],
   "source": [
    "from sklearn.metrics import mean_squared_error, mean_absolute_percentage_error, mean_absolute_error"
   ]
  },
  {
   "cell_type": "code",
   "execution_count": 33,
   "metadata": {},
   "outputs": [
    {
     "name": "stdout",
     "output_type": "stream",
     "text": [
      "Gradient Boosting Regressor\n",
      "---------------------------\n",
      "• RMSE: 733.0976242349232\n",
      "• MAE: 561.0100104936284\n",
      "• MAPE: 0.059402291531281355\n",
      "      \n"
     ]
    }
   ],
   "source": [
    "rmse = np.sqrt(mean_squared_error(y_test, gbr_preds))\n",
    "mape = mean_absolute_percentage_error(y_test, gbr_preds)\n",
    "mae = mean_absolute_error(y_test, gbr_preds)\n",
    "\n",
    "print(f\"\"\"Gradient Boosting Regressor\n",
    "---------------------------\n",
    "• RMSE: {rmse}\n",
    "• MAE: {mae}\n",
    "• MAPE: {mape}\n",
    "      \"\"\")"
   ]
  },
  {
   "cell_type": "code",
   "execution_count": 34,
   "metadata": {},
   "outputs": [
    {
     "name": "stdout",
     "output_type": "stream",
     "text": [
      "XGBoost Regressor\n",
      "---------------------------\n",
      "• RMSE: 809.3880235587814\n",
      "• MAE: 626.9899384469697\n",
      "• MAPE: 0.06460242357571126\n",
      "      \n"
     ]
    }
   ],
   "source": [
    "rmse = np.sqrt(mean_squared_error(y_test, xgb_preds))\n",
    "mape = mean_absolute_percentage_error(y_test, xgb_preds)\n",
    "mae = mean_absolute_error(y_test, xgb_preds)\n",
    "\n",
    "print(f\"\"\"XGBoost Regressor\n",
    "---------------------------\n",
    "• RMSE: {rmse}\n",
    "• MAE: {mae}\n",
    "• MAPE: {mape}\n",
    "      \"\"\")"
   ]
  },
  {
   "cell_type": "code",
   "execution_count": 35,
   "metadata": {},
   "outputs": [
    {
     "name": "stdout",
     "output_type": "stream",
     "text": [
      "Ridge Regressor\n",
      "---------------------------\n",
      "• RMSE: 838.6468739377128\n",
      "• MAE: 600.173803877967\n",
      "• MAPE: 0.06599317260858023\n",
      "      \n"
     ]
    }
   ],
   "source": [
    "rmse = np.sqrt(mean_squared_error(y_test, ridge_preds))\n",
    "mape = mean_absolute_percentage_error(y_test, ridge_preds)\n",
    "mae = mean_absolute_error(y_test, ridge_preds)\n",
    "\n",
    "print(f\"\"\"Ridge Regressor\n",
    "---------------------------\n",
    "• RMSE: {rmse}\n",
    "• MAE: {mae}\n",
    "• MAPE: {mape}\n",
    "      \"\"\")"
   ]
  },
  {
   "cell_type": "code",
   "execution_count": 39,
   "metadata": {},
   "outputs": [
    {
     "name": "stdout",
     "output_type": "stream",
     "text": [
      "Random Forest Regressor\n",
      "---------------------------\n",
      "• RMSE: 669.3270362261129\n",
      "• MAE: 485.97505050505055\n",
      "• MAPE: 0.051335886703692137\n",
      "      \n"
     ]
    }
   ],
   "source": [
    "rmse = np.sqrt(mean_squared_error(y_test, rf_preds))\n",
    "mape = mean_absolute_percentage_error(y_test, rf_preds)\n",
    "mae = mean_absolute_error(y_test, rf_preds)\n",
    "\n",
    "print(f\"\"\"Random Forest Regressor\n",
    "---------------------------\n",
    "• RMSE: {rmse}\n",
    "• MAE: {mae}\n",
    "• MAPE: {mape}\n",
    "      \"\"\")"
   ]
  },
  {
   "attachments": {},
   "cell_type": "markdown",
   "metadata": {},
   "source": [
    "<h4 align=\"center\">Temel Veri Seti Sonuçları</h4>\n",
    "\n",
    "\n",
    "<div align=\"center\">\n",
    "\n",
    "|Model                      |RMSE  |MAE   |MAPE |\n",
    "|:--------------------------|:----:|:----:|:---:|\n",
    "|Random Forest Regressor|669.32|485.97|0.051|\n",
    "|Gradient Boosting Regressor|733.09|561.01|0.059|\n",
    "|XGBoost Regressor|809.38|626.98|0.064|\n",
    "|Ridge Regressor|838.64|600.17|0.065|\n",
    "\n",
    "</div>\n",
    "\n",
    "**Not:**  \n",
    "Tahmin edilmesi istenilen hedef değişkenin ortalaması: 9635.77"
   ]
  },
  {
   "attachments": {},
   "cell_type": "markdown",
   "metadata": {},
   "source": [
    "<hr>\n",
    "\n",
    "## Zaman Özellik Çıkarımı ile Veri Setinin Büyütülmesi"
   ]
  },
  {
   "cell_type": "code",
   "execution_count": 78,
   "metadata": {},
   "outputs": [
    {
     "data": {
      "text/html": [
       "<div>\n",
       "<style scoped>\n",
       "    .dataframe tbody tr th:only-of-type {\n",
       "        vertical-align: middle;\n",
       "    }\n",
       "\n",
       "    .dataframe tbody tr th {\n",
       "        vertical-align: top;\n",
       "    }\n",
       "\n",
       "    .dataframe thead th {\n",
       "        text-align: right;\n",
       "    }\n",
       "</style>\n",
       "<table border=\"1\" class=\"dataframe\">\n",
       "  <thead>\n",
       "    <tr style=\"text-align: right;\">\n",
       "      <th></th>\n",
       "      <th>period</th>\n",
       "      <th>target</th>\n",
       "      <th>gunluk_vaka</th>\n",
       "      <th>toplam_vaka</th>\n",
       "      <th>gunluk_olum</th>\n",
       "      <th>toplam_olum</th>\n",
       "      <th>gasoline_imports</th>\n",
       "      <th>gasoline_exports</th>\n",
       "      <th>crude_imports</th>\n",
       "      <th>crude_exports</th>\n",
       "      <th>...</th>\n",
       "      <th>jet_output</th>\n",
       "      <th>propane_output</th>\n",
       "      <th>residual_fuel_output</th>\n",
       "      <th>conventional_gasoline_spot_price</th>\n",
       "      <th>crude_brent_spot_price</th>\n",
       "      <th>gasoline_future_price1</th>\n",
       "      <th>gasoline_future_price2</th>\n",
       "      <th>gasoline_future_price3</th>\n",
       "      <th>gasoline_future_price4</th>\n",
       "      <th>gasoline_demand</th>\n",
       "    </tr>\n",
       "  </thead>\n",
       "  <tbody>\n",
       "    <tr>\n",
       "      <th>0</th>\n",
       "      <td>2010-10-15</td>\n",
       "      <td>10639</td>\n",
       "      <td>0.0</td>\n",
       "      <td>0.0</td>\n",
       "      <td>0.0</td>\n",
       "      <td>0.0</td>\n",
       "      <td>779</td>\n",
       "      <td>200</td>\n",
       "      <td>8600</td>\n",
       "      <td>33</td>\n",
       "      <td>...</td>\n",
       "      <td>1296</td>\n",
       "      <td>1044</td>\n",
       "      <td>414</td>\n",
       "      <td>2.202</td>\n",
       "      <td>83.11</td>\n",
       "      <td>2.139</td>\n",
       "      <td>2.119</td>\n",
       "      <td>2.128</td>\n",
       "      <td>2.146</td>\n",
       "      <td>9460</td>\n",
       "    </tr>\n",
       "    <tr>\n",
       "      <th>1</th>\n",
       "      <td>2010-10-22</td>\n",
       "      <td>10036</td>\n",
       "      <td>0.0</td>\n",
       "      <td>0.0</td>\n",
       "      <td>0.0</td>\n",
       "      <td>0.0</td>\n",
       "      <td>999</td>\n",
       "      <td>200</td>\n",
       "      <td>9463</td>\n",
       "      <td>33</td>\n",
       "      <td>...</td>\n",
       "      <td>1345</td>\n",
       "      <td>1021</td>\n",
       "      <td>473</td>\n",
       "      <td>2.146</td>\n",
       "      <td>81.43</td>\n",
       "      <td>2.077</td>\n",
       "      <td>2.063</td>\n",
       "      <td>2.076</td>\n",
       "      <td>2.097</td>\n",
       "      <td>10639</td>\n",
       "    </tr>\n",
       "    <tr>\n",
       "      <th>2</th>\n",
       "      <td>2010-10-29</td>\n",
       "      <td>9886</td>\n",
       "      <td>0.0</td>\n",
       "      <td>0.0</td>\n",
       "      <td>0.0</td>\n",
       "      <td>0.0</td>\n",
       "      <td>871</td>\n",
       "      <td>200</td>\n",
       "      <td>8578</td>\n",
       "      <td>33</td>\n",
       "      <td>...</td>\n",
       "      <td>1309</td>\n",
       "      <td>1032</td>\n",
       "      <td>401</td>\n",
       "      <td>2.122</td>\n",
       "      <td>82.25</td>\n",
       "      <td>2.098</td>\n",
       "      <td>2.072</td>\n",
       "      <td>2.085</td>\n",
       "      <td>2.106</td>\n",
       "      <td>10036</td>\n",
       "    </tr>\n",
       "  </tbody>\n",
       "</table>\n",
       "<p>3 rows × 28 columns</p>\n",
       "</div>"
      ],
      "text/plain": [
       "       period  target  gunluk_vaka  toplam_vaka  gunluk_olum  toplam_olum  \\\n",
       "0  2010-10-15   10639          0.0          0.0          0.0          0.0   \n",
       "1  2010-10-22   10036          0.0          0.0          0.0          0.0   \n",
       "2  2010-10-29    9886          0.0          0.0          0.0          0.0   \n",
       "\n",
       "   gasoline_imports  gasoline_exports  crude_imports  crude_exports  ...  \\\n",
       "0               779               200           8600             33  ...   \n",
       "1               999               200           9463             33  ...   \n",
       "2               871               200           8578             33  ...   \n",
       "\n",
       "   jet_output  propane_output  residual_fuel_output  \\\n",
       "0        1296            1044                   414   \n",
       "1        1345            1021                   473   \n",
       "2        1309            1032                   401   \n",
       "\n",
       "   conventional_gasoline_spot_price  crude_brent_spot_price  \\\n",
       "0                             2.202                   83.11   \n",
       "1                             2.146                   81.43   \n",
       "2                             2.122                   82.25   \n",
       "\n",
       "   gasoline_future_price1  gasoline_future_price2  gasoline_future_price3  \\\n",
       "0                   2.139                   2.119                   2.128   \n",
       "1                   2.077                   2.063                   2.076   \n",
       "2                   2.098                   2.072                   2.085   \n",
       "\n",
       "   gasoline_future_price4  gasoline_demand  \n",
       "0                   2.146             9460  \n",
       "1                   2.097            10639  \n",
       "2                   2.106            10036  \n",
       "\n",
       "[3 rows x 28 columns]"
      ]
     },
     "execution_count": 78,
     "metadata": {},
     "output_type": "execute_result"
    }
   ],
   "source": [
    "df = pd.read_csv('../Datasets/Manipulated Data/train.csv')\n",
    "df.head(3)"
   ]
  },
  {
   "cell_type": "code",
   "execution_count": 79,
   "metadata": {},
   "outputs": [
    {
     "data": {
      "text/html": [
       "<div>\n",
       "<style scoped>\n",
       "    .dataframe tbody tr th:only-of-type {\n",
       "        vertical-align: middle;\n",
       "    }\n",
       "\n",
       "    .dataframe tbody tr th {\n",
       "        vertical-align: top;\n",
       "    }\n",
       "\n",
       "    .dataframe thead th {\n",
       "        text-align: right;\n",
       "    }\n",
       "</style>\n",
       "<table border=\"1\" class=\"dataframe\">\n",
       "  <thead>\n",
       "    <tr style=\"text-align: right;\">\n",
       "      <th></th>\n",
       "      <th>period</th>\n",
       "      <th>year</th>\n",
       "      <th>month</th>\n",
       "      <th>week</th>\n",
       "      <th>day_of_year</th>\n",
       "      <th>day_of_month</th>\n",
       "      <th>quarter</th>\n",
       "    </tr>\n",
       "  </thead>\n",
       "  <tbody>\n",
       "    <tr>\n",
       "      <th>0</th>\n",
       "      <td>2010-10-15</td>\n",
       "      <td>2010</td>\n",
       "      <td>10</td>\n",
       "      <td>41</td>\n",
       "      <td>288</td>\n",
       "      <td>15</td>\n",
       "      <td>4</td>\n",
       "    </tr>\n",
       "    <tr>\n",
       "      <th>1</th>\n",
       "      <td>2010-10-22</td>\n",
       "      <td>2010</td>\n",
       "      <td>10</td>\n",
       "      <td>42</td>\n",
       "      <td>295</td>\n",
       "      <td>22</td>\n",
       "      <td>4</td>\n",
       "    </tr>\n",
       "    <tr>\n",
       "      <th>2</th>\n",
       "      <td>2010-10-29</td>\n",
       "      <td>2010</td>\n",
       "      <td>10</td>\n",
       "      <td>43</td>\n",
       "      <td>302</td>\n",
       "      <td>29</td>\n",
       "      <td>4</td>\n",
       "    </tr>\n",
       "  </tbody>\n",
       "</table>\n",
       "</div>"
      ],
      "text/plain": [
       "      period  year  month  week  day_of_year  day_of_month  quarter\n",
       "0 2010-10-15  2010     10    41          288            15        4\n",
       "1 2010-10-22  2010     10    42          295            22        4\n",
       "2 2010-10-29  2010     10    43          302            29        4"
      ]
     },
     "execution_count": 79,
     "metadata": {},
     "output_type": "execute_result"
    }
   ],
   "source": [
    "df['period'] = pd.to_datetime(df['period'])\n",
    "\n",
    "df['year'] = df['period'].dt.year\n",
    "df['month'] = df['period'].dt.month\n",
    "df['week'] = df['period'].dt.isocalendar().week\n",
    "df['day_of_year'] = df['period'].dt.dayofyear\n",
    "df['day_of_month'] = df['period'].dt.day\n",
    "df['quarter'] = df['period'].dt.quarter\n",
    "\n",
    "df[['period','year', 'month', 'week',\n",
    "    'day_of_year','day_of_month', 'quarter']].head(3)"
   ]
  },
  {
   "cell_type": "code",
   "execution_count": 80,
   "metadata": {},
   "outputs": [],
   "source": [
    "import holidays\n",
    "from datetime import datetime, timedelta\n",
    "\n",
    "def haftada_tatil_gunu_sayisi(tarih):\n",
    "\n",
    "    tatil_takvimi = holidays.Turkey()\n",
    "\n",
    "    hafta_numarasi = tarih.isocalendar()[1]\n",
    "    \n",
    "    baslangic_tarihi = tarih - timedelta(days=tarih.weekday())\n",
    "    bitis_tarihi = baslangic_tarihi + timedelta(days=6)\n",
    "    \n",
    "    tatil_sayisi = 0\n",
    "    for gun in range((bitis_tarihi - baslangic_tarihi).days + 1):\n",
    "        kontrol_tarihi = baslangic_tarihi + timedelta(days=gun)\n",
    "        if kontrol_tarihi in tatil_takvimi:\n",
    "            tatil_sayisi += 1\n",
    "    \n",
    "    return tatil_sayisi"
   ]
  },
  {
   "cell_type": "code",
   "execution_count": 81,
   "metadata": {},
   "outputs": [
    {
     "data": {
      "text/html": [
       "<div>\n",
       "<style scoped>\n",
       "    .dataframe tbody tr th:only-of-type {\n",
       "        vertical-align: middle;\n",
       "    }\n",
       "\n",
       "    .dataframe tbody tr th {\n",
       "        vertical-align: top;\n",
       "    }\n",
       "\n",
       "    .dataframe thead th {\n",
       "        text-align: right;\n",
       "    }\n",
       "</style>\n",
       "<table border=\"1\" class=\"dataframe\">\n",
       "  <thead>\n",
       "    <tr style=\"text-align: right;\">\n",
       "      <th></th>\n",
       "      <th>period</th>\n",
       "      <th>year</th>\n",
       "      <th>month</th>\n",
       "      <th>week</th>\n",
       "      <th>day_of_year</th>\n",
       "      <th>day_of_month</th>\n",
       "      <th>quarter</th>\n",
       "      <th>Haftada_Tatil_Sayisi</th>\n",
       "    </tr>\n",
       "  </thead>\n",
       "  <tbody>\n",
       "    <tr>\n",
       "      <th>0</th>\n",
       "      <td>2010-10-15</td>\n",
       "      <td>2010</td>\n",
       "      <td>10</td>\n",
       "      <td>41</td>\n",
       "      <td>288</td>\n",
       "      <td>15</td>\n",
       "      <td>4</td>\n",
       "      <td>0</td>\n",
       "    </tr>\n",
       "    <tr>\n",
       "      <th>1</th>\n",
       "      <td>2010-10-22</td>\n",
       "      <td>2010</td>\n",
       "      <td>10</td>\n",
       "      <td>42</td>\n",
       "      <td>295</td>\n",
       "      <td>22</td>\n",
       "      <td>4</td>\n",
       "      <td>0</td>\n",
       "    </tr>\n",
       "    <tr>\n",
       "      <th>2</th>\n",
       "      <td>2010-10-29</td>\n",
       "      <td>2010</td>\n",
       "      <td>10</td>\n",
       "      <td>43</td>\n",
       "      <td>302</td>\n",
       "      <td>29</td>\n",
       "      <td>4</td>\n",
       "      <td>1</td>\n",
       "    </tr>\n",
       "  </tbody>\n",
       "</table>\n",
       "</div>"
      ],
      "text/plain": [
       "      period  year  month  week  day_of_year  day_of_month  quarter  \\\n",
       "0 2010-10-15  2010     10    41          288            15        4   \n",
       "1 2010-10-22  2010     10    42          295            22        4   \n",
       "2 2010-10-29  2010     10    43          302            29        4   \n",
       "\n",
       "   Haftada_Tatil_Sayisi  \n",
       "0                     0  \n",
       "1                     0  \n",
       "2                     1  "
      ]
     },
     "execution_count": 81,
     "metadata": {},
     "output_type": "execute_result"
    }
   ],
   "source": [
    "df['Haftada_Tatil_Sayisi'] = df['period'].apply(haftada_tatil_gunu_sayisi)\n",
    "\n",
    "df[['period','year', 'month', 'week', 'day_of_year','day_of_month', 'quarter', 'Haftada_Tatil_Sayisi']].head(3)"
   ]
  },
  {
   "cell_type": "code",
   "execution_count": 82,
   "metadata": {},
   "outputs": [],
   "source": [
    "X = df.drop(['target', 'period'], axis=1)\n",
    "y = df['target']"
   ]
  },
  {
   "attachments": {},
   "cell_type": "markdown",
   "metadata": {},
   "source": [
    "Veri Setini Ayırma"
   ]
  },
  {
   "cell_type": "code",
   "execution_count": 83,
   "metadata": {},
   "outputs": [],
   "source": [
    "from sklearn.model_selection import train_test_split\n",
    "X_train, X_test, y_train, y_test = train_test_split(X,y, test_size=0.2, random_state=42, shuffle=False)"
   ]
  },
  {
   "attachments": {},
   "cell_type": "markdown",
   "metadata": {},
   "source": [
    "Scale Etme"
   ]
  },
  {
   "cell_type": "code",
   "execution_count": 84,
   "metadata": {},
   "outputs": [],
   "source": [
    "from sklearn.preprocessing import StandardScaler\n",
    "scaler = StandardScaler()\n",
    "X_train = scaler.fit_transform(X_train)\n",
    "X_test = scaler.transform(X_test)"
   ]
  },
  {
   "cell_type": "code",
   "execution_count": 87,
   "metadata": {},
   "outputs": [
    {
     "data": {
      "text/plain": [
       "((394, 33), (99, 33), numpy.ndarray, numpy.ndarray)"
      ]
     },
     "execution_count": 87,
     "metadata": {},
     "output_type": "execute_result"
    }
   ],
   "source": [
    "X_train.shape, X_test.shape, type(X_train), type(X_test)"
   ]
  },
  {
   "attachments": {},
   "cell_type": "markdown",
   "metadata": {},
   "source": [
    "Modeller:  \n",
    "* XGBoost Regressor"
   ]
  },
  {
   "cell_type": "code",
   "execution_count": 92,
   "metadata": {},
   "outputs": [],
   "source": [
    "xgb = XGBRegressor()\n",
    "xgb.fit(X_train, y_train)\n",
    "xgb_preds = xgb.predict(X_test)"
   ]
  },
  {
   "attachments": {},
   "cell_type": "markdown",
   "metadata": {},
   "source": [
    "* Gradient Boosting Regressor"
   ]
  },
  {
   "cell_type": "code",
   "execution_count": 93,
   "metadata": {},
   "outputs": [],
   "source": [
    "gbr = GradientBoostingRegressor()\n",
    "gbr.fit(X_train, y_train)\n",
    "gbr_preds = gbr.predict(X_test)"
   ]
  },
  {
   "attachments": {},
   "cell_type": "markdown",
   "metadata": {},
   "source": [
    "* Random Forest Regressor"
   ]
  },
  {
   "cell_type": "code",
   "execution_count": 94,
   "metadata": {},
   "outputs": [],
   "source": [
    "rf = RandomForestRegressor()\n",
    "rf.fit(X_train, y_train)\n",
    "rf_preds = rf.predict(X_test)"
   ]
  },
  {
   "attachments": {},
   "cell_type": "markdown",
   "metadata": {},
   "source": [
    "* Ridge Regressor"
   ]
  },
  {
   "cell_type": "code",
   "execution_count": 95,
   "metadata": {},
   "outputs": [],
   "source": [
    "rr = Ridge()\n",
    "rr.fit(X_train, y_train)\n",
    "rr_preds = rr.predict(X_test)"
   ]
  },
  {
   "attachments": {},
   "cell_type": "markdown",
   "metadata": {},
   "source": [
    "Model Accuracy"
   ]
  },
  {
   "cell_type": "code",
   "execution_count": 96,
   "metadata": {},
   "outputs": [
    {
     "name": "stdout",
     "output_type": "stream",
     "text": [
      "XGBoost Regressor\n",
      "---------------------------\n",
      "• RMSE: 674.7007223911343\n",
      "• MAE: 472.4308120265151\n",
      "• MAPE: 0.05025267224251711\n",
      "        \n"
     ]
    }
   ],
   "source": [
    "rmse = np.sqrt(mean_squared_error(y_test, xgb_preds))\n",
    "mape = mean_absolute_percentage_error(y_test, xgb_preds)\n",
    "mae = mean_absolute_error(y_test, xgb_preds)\n",
    "\n",
    "print(f\"\"\"XGBoost Regressor\n",
    "---------------------------\n",
    "• RMSE: {rmse}\n",
    "• MAE: {mae}\n",
    "• MAPE: {mape}\n",
    "        \"\"\")"
   ]
  },
  {
   "cell_type": "code",
   "execution_count": 97,
   "metadata": {},
   "outputs": [
    {
     "name": "stdout",
     "output_type": "stream",
     "text": [
      "Gradient Boosting Regressor\n",
      "---------------------------\n",
      "• RMSE: 649.9799958838482\n",
      "• MAE: 492.16764691244924\n",
      "• MAPE: 0.05208734718301816\n",
      "        \n"
     ]
    }
   ],
   "source": [
    "rmse = np.sqrt(mean_squared_error(y_test, gbr_preds))\n",
    "mape = mean_absolute_percentage_error(y_test, gbr_preds)\n",
    "mae = mean_absolute_error(y_test, gbr_preds)\n",
    "\n",
    "print(f\"\"\"Gradient Boosting Regressor\n",
    "---------------------------\n",
    "• RMSE: {rmse}\n",
    "• MAE: {mae}\n",
    "• MAPE: {mape}\n",
    "        \"\"\")"
   ]
  },
  {
   "cell_type": "code",
   "execution_count": 98,
   "metadata": {},
   "outputs": [
    {
     "name": "stdout",
     "output_type": "stream",
     "text": [
      "Random Forest Regressor\n",
      "---------------------------\n",
      "• RMSE: 621.0930718499442\n",
      "• MAE: 448.7794949494949\n",
      "• MAPE: 0.047459161299232284\n",
      "        \n"
     ]
    }
   ],
   "source": [
    "rmse = np.sqrt(mean_squared_error(y_test, rf_preds))\n",
    "mape = mean_absolute_percentage_error(y_test, rf_preds)\n",
    "mae = mean_absolute_error(y_test, rf_preds)\n",
    "\n",
    "print(f\"\"\"Random Forest Regressor\n",
    "---------------------------\n",
    "• RMSE: {rmse}\n",
    "• MAE: {mae}\n",
    "• MAPE: {mape}\n",
    "        \"\"\")"
   ]
  },
  {
   "cell_type": "code",
   "execution_count": 99,
   "metadata": {},
   "outputs": [
    {
     "name": "stdout",
     "output_type": "stream",
     "text": [
      "Ridge Regressor\n",
      "---------------------------\n",
      "• RMSE: 887.1535576581365\n",
      "• MAE: 643.0609728055224\n",
      "• MAPE: 0.07071931171979946\n",
      "        \n"
     ]
    }
   ],
   "source": [
    "rmse = np.sqrt(mean_squared_error(y_test, rr_preds))\n",
    "mape = mean_absolute_percentage_error(y_test, rr_preds)\n",
    "mae = mean_absolute_error(y_test, rr_preds)\n",
    "\n",
    "print(f\"\"\"Ridge Regressor\n",
    "---------------------------\n",
    "• RMSE: {rmse}\n",
    "• MAE: {mae}\n",
    "• MAPE: {mape}\n",
    "        \"\"\")"
   ]
  },
  {
   "attachments": {},
   "cell_type": "markdown",
   "metadata": {},
   "source": [
    "<div align=\"center\" class=\"columns\" markdown=\"1\">\n",
    "\n",
    "Tablo: Temel Veri Seti Sonuçları\n",
    "\n",
    "|Model                      |RMSE  |MAE   |MAPE |\n",
    "|:--------------------------|:----:|:----:|:---:|\n",
    "|Random Forest Regressor|669.32|485.97|0.051|\n",
    "|Gradient Boosting Regressor|733.09|561.01|0.059|\n",
    "|XGBoost Regressor|809.38|626.98|0.064|\n",
    "|Ridge Regressor|838.64|600.17|0.065|\n",
    "\n",
    "<br>\n",
    "<hr width=450>\n",
    "\n",
    "Tablo: Özellik Çıkarımı ile Genişletilmiş Veri Seti Sonuçları\n",
    "\n",
    "|Model                      |RMSE  |MAE   |MAPE |\n",
    "|:--------------------------|:----:|:----:|:---:|\n",
    "|Random Forest Regressor|621.09| 448.77|0.047|\n",
    "|Gradient Boosting Regressor|649.97|492.16|0.052|\n",
    "|XGBoost Regressor|674.70|472.43|0.050|\n",
    "|Ridge Regressor|887.15|643.06|0.070|\n",
    "\n",
    "<br>\n",
    "<hr width=450>\n",
    "\n",
    "**Not:**  \n",
    "Tahmin edilmesi istenilen hedef değişkenin ortalaması: 9635.77\n",
    "\n",
    "</div>\n"
   ]
  },
  {
   "attachments": {},
   "cell_type": "markdown",
   "metadata": {},
   "source": [
    "<hr>"
   ]
  },
  {
   "attachments": {},
   "cell_type": "markdown",
   "metadata": {},
   "source": [
    "### Hiper Parametre Optimizasyonu"
   ]
  },
  {
   "cell_type": "code",
   "execution_count": 106,
   "metadata": {},
   "outputs": [],
   "source": [
    "model = RandomForestRegressor(criterion='friedman_mse')"
   ]
  },
  {
   "cell_type": "code",
   "execution_count": 107,
   "metadata": {},
   "outputs": [],
   "source": [
    "param_grid = {'n_estimators': [100, 200, 500],\n",
    "        'max_depth': [3, 5, 7],\n",
    "        'max_features': [3, 5, 7],\n",
    "        'min_samples_split': [2, 5, 10],\n",
    "        'min_samples_leaf': [1, 2, 4],\n",
    "        'bootstrap': [True, False]\n",
    "        }"
   ]
  },
  {
   "cell_type": "code",
   "execution_count": 109,
   "metadata": {},
   "outputs": [
    {
     "name": "stdout",
     "output_type": "stream",
     "text": [
      "Fitting 5 folds for each of 486 candidates, totalling 2430 fits\n",
      "Best Parameters: {'bootstrap': False, 'max_depth': 7, 'max_features': 7, 'min_samples_leaf': 2, 'min_samples_split': 5, 'n_estimators': 100}\n",
      "------------------------------\n",
      "Best RMSE: nan\n",
      "------------------------------\n",
      "Toplam Optimizasyon Süresi: 6 dakika 56 saniye\n"
     ]
    }
   ],
   "source": [
    "from sklearn.model_selection import GridSearchCV\n",
    "import time \n",
    "import warnings\n",
    "warnings.filterwarnings(\"ignore\")\n",
    "\n",
    "start = time.time()\n",
    "\n",
    "grid = GridSearchCV(model, param_grid, cv=5, verbose=2, n_jobs=-1)\n",
    "grid.fit(X_train, y_train)\n",
    "\n",
    "best_params = grid.best_params_\n",
    "\n",
    "print(\"Best Parameters:\", best_params)\n",
    "print(\"-\"*50)\n",
    "\n",
    "end = time.time()\n",
    "total_time = end - start\n",
    "minutes = int(total_time // 60)\n",
    "seconds = int(total_time % 60)\n",
    "print(f\"Toplam Optimizasyon Süresi: {minutes} dakika {seconds} saniye\")"
   ]
  },
  {
   "cell_type": "code",
   "execution_count": 216,
   "metadata": {},
   "outputs": [
    {
     "data": {
      "text/html": [
       "<style>#sk-container-id-40 {color: black;background-color: white;}#sk-container-id-40 pre{padding: 0;}#sk-container-id-40 div.sk-toggleable {background-color: white;}#sk-container-id-40 label.sk-toggleable__label {cursor: pointer;display: block;width: 100%;margin-bottom: 0;padding: 0.3em;box-sizing: border-box;text-align: center;}#sk-container-id-40 label.sk-toggleable__label-arrow:before {content: \"▸\";float: left;margin-right: 0.25em;color: #696969;}#sk-container-id-40 label.sk-toggleable__label-arrow:hover:before {color: black;}#sk-container-id-40 div.sk-estimator:hover label.sk-toggleable__label-arrow:before {color: black;}#sk-container-id-40 div.sk-toggleable__content {max-height: 0;max-width: 0;overflow: hidden;text-align: left;background-color: #f0f8ff;}#sk-container-id-40 div.sk-toggleable__content pre {margin: 0.2em;color: black;border-radius: 0.25em;background-color: #f0f8ff;}#sk-container-id-40 input.sk-toggleable__control:checked~div.sk-toggleable__content {max-height: 200px;max-width: 100%;overflow: auto;}#sk-container-id-40 input.sk-toggleable__control:checked~label.sk-toggleable__label-arrow:before {content: \"▾\";}#sk-container-id-40 div.sk-estimator input.sk-toggleable__control:checked~label.sk-toggleable__label {background-color: #d4ebff;}#sk-container-id-40 div.sk-label input.sk-toggleable__control:checked~label.sk-toggleable__label {background-color: #d4ebff;}#sk-container-id-40 input.sk-hidden--visually {border: 0;clip: rect(1px 1px 1px 1px);clip: rect(1px, 1px, 1px, 1px);height: 1px;margin: -1px;overflow: hidden;padding: 0;position: absolute;width: 1px;}#sk-container-id-40 div.sk-estimator {font-family: monospace;background-color: #f0f8ff;border: 1px dotted black;border-radius: 0.25em;box-sizing: border-box;margin-bottom: 0.5em;}#sk-container-id-40 div.sk-estimator:hover {background-color: #d4ebff;}#sk-container-id-40 div.sk-parallel-item::after {content: \"\";width: 100%;border-bottom: 1px solid gray;flex-grow: 1;}#sk-container-id-40 div.sk-label:hover label.sk-toggleable__label {background-color: #d4ebff;}#sk-container-id-40 div.sk-serial::before {content: \"\";position: absolute;border-left: 1px solid gray;box-sizing: border-box;top: 0;bottom: 0;left: 50%;z-index: 0;}#sk-container-id-40 div.sk-serial {display: flex;flex-direction: column;align-items: center;background-color: white;padding-right: 0.2em;padding-left: 0.2em;position: relative;}#sk-container-id-40 div.sk-item {position: relative;z-index: 1;}#sk-container-id-40 div.sk-parallel {display: flex;align-items: stretch;justify-content: center;background-color: white;position: relative;}#sk-container-id-40 div.sk-item::before, #sk-container-id-40 div.sk-parallel-item::before {content: \"\";position: absolute;border-left: 1px solid gray;box-sizing: border-box;top: 0;bottom: 0;left: 50%;z-index: -1;}#sk-container-id-40 div.sk-parallel-item {display: flex;flex-direction: column;z-index: 1;position: relative;background-color: white;}#sk-container-id-40 div.sk-parallel-item:first-child::after {align-self: flex-end;width: 50%;}#sk-container-id-40 div.sk-parallel-item:last-child::after {align-self: flex-start;width: 50%;}#sk-container-id-40 div.sk-parallel-item:only-child::after {width: 0;}#sk-container-id-40 div.sk-dashed-wrapped {border: 1px dashed gray;margin: 0 0.4em 0.5em 0.4em;box-sizing: border-box;padding-bottom: 0.4em;background-color: white;}#sk-container-id-40 div.sk-label label {font-family: monospace;font-weight: bold;display: inline-block;line-height: 1.2em;}#sk-container-id-40 div.sk-label-container {text-align: center;}#sk-container-id-40 div.sk-container {/* jupyter's `normalize.less` sets `[hidden] { display: none; }` but bootstrap.min.css set `[hidden] { display: none !important; }` so we also need the `!important` here to be able to override the default hidden behavior on the sphinx rendered scikit-learn.org. See: https://github.com/scikit-learn/scikit-learn/issues/21755 */display: inline-block !important;position: relative;}#sk-container-id-40 div.sk-text-repr-fallback {display: none;}</style><div id=\"sk-container-id-40\" class=\"sk-top-container\"><div class=\"sk-text-repr-fallback\"><pre>RandomForestRegressor(bootstrap=0, max_depth=20, max_features=7)</pre><b>In a Jupyter environment, please rerun this cell to show the HTML representation or trust the notebook. <br />On GitHub, the HTML representation is unable to render, please try loading this page with nbviewer.org.</b></div><div class=\"sk-container\" hidden><div class=\"sk-item\"><div class=\"sk-estimator sk-toggleable\"><input class=\"sk-toggleable__control sk-hidden--visually\" id=\"sk-estimator-id-40\" type=\"checkbox\" checked><label for=\"sk-estimator-id-40\" class=\"sk-toggleable__label sk-toggleable__label-arrow\">RandomForestRegressor</label><div class=\"sk-toggleable__content\"><pre>RandomForestRegressor(bootstrap=0, max_depth=20, max_features=7)</pre></div></div></div></div></div>"
      ],
      "text/plain": [
       "RandomForestRegressor(bootstrap=0, max_depth=20, max_features=7)"
      ]
     },
     "execution_count": 216,
     "metadata": {},
     "output_type": "execute_result"
    }
   ],
   "source": [
    "model = RandomForestRegressor(n_estimators=100, max_depth=20,\n",
    "                            max_features=7, min_samples_leaf=1,\n",
    "                            min_samples_split=2, bootstrap=0)\n",
    "model.fit(X_train, y_train)"
   ]
  },
  {
   "cell_type": "code",
   "execution_count": 217,
   "metadata": {},
   "outputs": [],
   "source": [
    "y_pred = model.predict(X_test)"
   ]
  },
  {
   "cell_type": "code",
   "execution_count": 218,
   "metadata": {},
   "outputs": [
    {
     "name": "stdout",
     "output_type": "stream",
     "text": [
      "Tuned Random Forest Regressor\n",
      "---------------------------\n",
      "• RMSE: 618.9687814395393\n",
      "• MAE: 441.88061808561804\n",
      "• MAPE: 0.04638358550485433\n",
      "        \n"
     ]
    }
   ],
   "source": [
    "rmse = np.sqrt(mean_squared_error(y_test, y_pred))\n",
    "mape = mean_absolute_percentage_error(y_test, y_pred)\n",
    "mae = mean_absolute_error(y_test, y_pred)\n",
    "\n",
    "print(f\"\"\"Tuned Random Forest Regressor\n",
    "---------------------------\n",
    "• RMSE: {rmse}\n",
    "• MAE: {mae}\n",
    "• MAPE: {mape}\n",
    "        \"\"\")"
   ]
  },
  {
   "cell_type": "code",
   "execution_count": 219,
   "metadata": {},
   "outputs": [
    {
     "data": {
      "text/html": [
       "<style>#sk-container-id-41 {color: black;background-color: white;}#sk-container-id-41 pre{padding: 0;}#sk-container-id-41 div.sk-toggleable {background-color: white;}#sk-container-id-41 label.sk-toggleable__label {cursor: pointer;display: block;width: 100%;margin-bottom: 0;padding: 0.3em;box-sizing: border-box;text-align: center;}#sk-container-id-41 label.sk-toggleable__label-arrow:before {content: \"▸\";float: left;margin-right: 0.25em;color: #696969;}#sk-container-id-41 label.sk-toggleable__label-arrow:hover:before {color: black;}#sk-container-id-41 div.sk-estimator:hover label.sk-toggleable__label-arrow:before {color: black;}#sk-container-id-41 div.sk-toggleable__content {max-height: 0;max-width: 0;overflow: hidden;text-align: left;background-color: #f0f8ff;}#sk-container-id-41 div.sk-toggleable__content pre {margin: 0.2em;color: black;border-radius: 0.25em;background-color: #f0f8ff;}#sk-container-id-41 input.sk-toggleable__control:checked~div.sk-toggleable__content {max-height: 200px;max-width: 100%;overflow: auto;}#sk-container-id-41 input.sk-toggleable__control:checked~label.sk-toggleable__label-arrow:before {content: \"▾\";}#sk-container-id-41 div.sk-estimator input.sk-toggleable__control:checked~label.sk-toggleable__label {background-color: #d4ebff;}#sk-container-id-41 div.sk-label input.sk-toggleable__control:checked~label.sk-toggleable__label {background-color: #d4ebff;}#sk-container-id-41 input.sk-hidden--visually {border: 0;clip: rect(1px 1px 1px 1px);clip: rect(1px, 1px, 1px, 1px);height: 1px;margin: -1px;overflow: hidden;padding: 0;position: absolute;width: 1px;}#sk-container-id-41 div.sk-estimator {font-family: monospace;background-color: #f0f8ff;border: 1px dotted black;border-radius: 0.25em;box-sizing: border-box;margin-bottom: 0.5em;}#sk-container-id-41 div.sk-estimator:hover {background-color: #d4ebff;}#sk-container-id-41 div.sk-parallel-item::after {content: \"\";width: 100%;border-bottom: 1px solid gray;flex-grow: 1;}#sk-container-id-41 div.sk-label:hover label.sk-toggleable__label {background-color: #d4ebff;}#sk-container-id-41 div.sk-serial::before {content: \"\";position: absolute;border-left: 1px solid gray;box-sizing: border-box;top: 0;bottom: 0;left: 50%;z-index: 0;}#sk-container-id-41 div.sk-serial {display: flex;flex-direction: column;align-items: center;background-color: white;padding-right: 0.2em;padding-left: 0.2em;position: relative;}#sk-container-id-41 div.sk-item {position: relative;z-index: 1;}#sk-container-id-41 div.sk-parallel {display: flex;align-items: stretch;justify-content: center;background-color: white;position: relative;}#sk-container-id-41 div.sk-item::before, #sk-container-id-41 div.sk-parallel-item::before {content: \"\";position: absolute;border-left: 1px solid gray;box-sizing: border-box;top: 0;bottom: 0;left: 50%;z-index: -1;}#sk-container-id-41 div.sk-parallel-item {display: flex;flex-direction: column;z-index: 1;position: relative;background-color: white;}#sk-container-id-41 div.sk-parallel-item:first-child::after {align-self: flex-end;width: 50%;}#sk-container-id-41 div.sk-parallel-item:last-child::after {align-self: flex-start;width: 50%;}#sk-container-id-41 div.sk-parallel-item:only-child::after {width: 0;}#sk-container-id-41 div.sk-dashed-wrapped {border: 1px dashed gray;margin: 0 0.4em 0.5em 0.4em;box-sizing: border-box;padding-bottom: 0.4em;background-color: white;}#sk-container-id-41 div.sk-label label {font-family: monospace;font-weight: bold;display: inline-block;line-height: 1.2em;}#sk-container-id-41 div.sk-label-container {text-align: center;}#sk-container-id-41 div.sk-container {/* jupyter's `normalize.less` sets `[hidden] { display: none; }` but bootstrap.min.css set `[hidden] { display: none !important; }` so we also need the `!important` here to be able to override the default hidden behavior on the sphinx rendered scikit-learn.org. See: https://github.com/scikit-learn/scikit-learn/issues/21755 */display: inline-block !important;position: relative;}#sk-container-id-41 div.sk-text-repr-fallback {display: none;}</style><div id=\"sk-container-id-41\" class=\"sk-top-container\"><div class=\"sk-text-repr-fallback\"><pre>RandomForestRegressor(bootstrap=0, max_depth=20, max_features=7)</pre><b>In a Jupyter environment, please rerun this cell to show the HTML representation or trust the notebook. <br />On GitHub, the HTML representation is unable to render, please try loading this page with nbviewer.org.</b></div><div class=\"sk-container\" hidden><div class=\"sk-item\"><div class=\"sk-estimator sk-toggleable\"><input class=\"sk-toggleable__control sk-hidden--visually\" id=\"sk-estimator-id-41\" type=\"checkbox\" checked><label for=\"sk-estimator-id-41\" class=\"sk-toggleable__label sk-toggleable__label-arrow\">RandomForestRegressor</label><div class=\"sk-toggleable__content\"><pre>RandomForestRegressor(bootstrap=0, max_depth=20, max_features=7)</pre></div></div></div></div></div>"
      ],
      "text/plain": [
       "RandomForestRegressor(bootstrap=0, max_depth=20, max_features=7)"
      ]
     },
     "execution_count": 219,
     "metadata": {},
     "output_type": "execute_result"
    }
   ],
   "source": [
    "model = RandomForestRegressor(n_estimators=100, max_depth=20,\n",
    "                            max_features=7, min_samples_leaf=1,\n",
    "                            min_samples_split=2, bootstrap=0)\n",
    "model.fit(X, y)"
   ]
  },
  {
   "cell_type": "code",
   "execution_count": 221,
   "metadata": {},
   "outputs": [],
   "source": [
    "import pickle\n",
    "\n",
    "# Eğitilmiş modeli kaydetmek\n",
    "with open('../Notebooks/Models/rf_model.pkl', 'wb') as f:\n",
    "    pickle.dump(model, f)\n",
    "\n",
    "# Kaydedilen modeli yükleme\n",
    "# with open('../Notebooks/Models/rf_model.pkl', 'rb') as f:\n",
    "#     model = pickle.load(f)"
   ]
  },
  {
   "cell_type": "code",
   "execution_count": 222,
   "metadata": {},
   "outputs": [
    {
     "data": {
      "text/plain": [
       "['../Notebooks/Models/rf_model.joblib']"
      ]
     },
     "execution_count": 222,
     "metadata": {},
     "output_type": "execute_result"
    }
   ],
   "source": [
    "from joblib import load, dump\n",
    "\n",
    "# Eğitilmiş modeli kaydetmek\n",
    "dump(model, '../Notebooks/Models/rf_model.joblib')\n",
    "\n",
    "\n",
    "# Kaydedilen modeli yükleme\n",
    "# model = load('../Notebooks/Models/rf_model.joblib')"
   ]
  },
  {
   "cell_type": "code",
   "execution_count": 224,
   "metadata": {},
   "outputs": [],
   "source": [
    "def dataset_preparer(df):\n",
    "    import pandas as pd \n",
    "    import numpy as np\n",
    "    \n",
    "    df['period'] = pd.to_datetime(df['period'])\n",
    "\n",
    "    df['year'] = df['period'].dt.year\n",
    "    df['month'] = df['period'].dt.month\n",
    "    df['week'] = df['period'].dt.isocalendar().week\n",
    "    df['day_of_year'] = df['period'].dt.dayofyear\n",
    "    df['day_of_month'] = df['period'].dt.day\n",
    "    df['quarter'] = df['period'].dt.quarter\n",
    "\n",
    "    import holidays\n",
    "    from datetime import datetime, timedelta\n",
    "\n",
    "    def haftada_tatil_gunu_sayisi(tarih):\n",
    "\n",
    "        tatil_takvimi = holidays.Turkey()\n",
    "\n",
    "        hafta_numarasi = tarih.isocalendar()[1]\n",
    "        \n",
    "        baslangic_tarihi = tarih - timedelta(days=tarih.weekday())\n",
    "        bitis_tarihi = baslangic_tarihi + timedelta(days=6)\n",
    "        \n",
    "        tatil_sayisi = 0\n",
    "        for gun in range((bitis_tarihi - baslangic_tarihi).days + 1):\n",
    "            kontrol_tarihi = baslangic_tarihi + timedelta(days=gun)\n",
    "            if kontrol_tarihi in tatil_takvimi:\n",
    "                tatil_sayisi += 1\n",
    "        \n",
    "        return tatil_sayisi\n",
    "    \n",
    "    df['Haftada_Tatil_Sayisi'] = df['period'].apply(haftada_tatil_gunu_sayisi)\n",
    "    \n",
    "    print(\"Veri Setini Standartlaştırarak Modeli .fit() Etmeyi Unutmayınız...\")\n",
    "    \n",
    "    return df"
   ]
  }
 ],
 "metadata": {
  "kernelspec": {
   "display_name": "Python 3",
   "language": "python",
   "name": "python3"
  },
  "language_info": {
   "codemirror_mode": {
    "name": "ipython",
    "version": 3
   },
   "file_extension": ".py",
   "mimetype": "text/x-python",
   "name": "python",
   "nbconvert_exporter": "python",
   "pygments_lexer": "ipython3",
   "version": "3.11.2"
  },
  "orig_nbformat": 4
 },
 "nbformat": 4,
 "nbformat_minor": 2
}
