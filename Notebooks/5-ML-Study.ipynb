{
 "cells": [
  {
   "attachments": {},
   "cell_type": "markdown",
   "metadata": {},
   "source": [
    "Veri Setini Yükleme"
   ]
  },
  {
   "cell_type": "code",
   "execution_count": 1,
   "metadata": {},
   "outputs": [],
   "source": [
    "import pandas as pd \n",
    "import numpy as np \n",
    "import plotly.express as px"
   ]
  },
  {
   "cell_type": "code",
   "execution_count": 9,
   "metadata": {},
   "outputs": [
    {
     "data": {
      "text/html": [
       "<div>\n",
       "<style scoped>\n",
       "    .dataframe tbody tr th:only-of-type {\n",
       "        vertical-align: middle;\n",
       "    }\n",
       "\n",
       "    .dataframe tbody tr th {\n",
       "        vertical-align: top;\n",
       "    }\n",
       "\n",
       "    .dataframe thead th {\n",
       "        text-align: right;\n",
       "    }\n",
       "</style>\n",
       "<table border=\"1\" class=\"dataframe\">\n",
       "  <thead>\n",
       "    <tr style=\"text-align: right;\">\n",
       "      <th></th>\n",
       "      <th>target</th>\n",
       "      <th>gunluk_vaka</th>\n",
       "      <th>toplam_vaka</th>\n",
       "      <th>gunluk_olum</th>\n",
       "      <th>toplam_olum</th>\n",
       "      <th>gasoline_imports</th>\n",
       "      <th>gasoline_exports</th>\n",
       "      <th>crude_imports</th>\n",
       "      <th>crude_exports</th>\n",
       "      <th>gasoline_stocks</th>\n",
       "      <th>...</th>\n",
       "      <th>jet_output</th>\n",
       "      <th>propane_output</th>\n",
       "      <th>residual_fuel_output</th>\n",
       "      <th>conventional_gasoline_spot_price</th>\n",
       "      <th>crude_brent_spot_price</th>\n",
       "      <th>gasoline_future_price1</th>\n",
       "      <th>gasoline_future_price2</th>\n",
       "      <th>gasoline_future_price3</th>\n",
       "      <th>gasoline_future_price4</th>\n",
       "      <th>gasoline_demand</th>\n",
       "    </tr>\n",
       "  </thead>\n",
       "  <tbody>\n",
       "    <tr>\n",
       "      <th>0</th>\n",
       "      <td>10639</td>\n",
       "      <td>0.0</td>\n",
       "      <td>0.0</td>\n",
       "      <td>0.0</td>\n",
       "      <td>0.0</td>\n",
       "      <td>779</td>\n",
       "      <td>200</td>\n",
       "      <td>8600</td>\n",
       "      <td>33</td>\n",
       "      <td>219329</td>\n",
       "      <td>...</td>\n",
       "      <td>1296</td>\n",
       "      <td>1044</td>\n",
       "      <td>414</td>\n",
       "      <td>2.202</td>\n",
       "      <td>83.11</td>\n",
       "      <td>2.139</td>\n",
       "      <td>2.119</td>\n",
       "      <td>2.128</td>\n",
       "      <td>2.146</td>\n",
       "      <td>9460</td>\n",
       "    </tr>\n",
       "    <tr>\n",
       "      <th>1</th>\n",
       "      <td>10036</td>\n",
       "      <td>0.0</td>\n",
       "      <td>0.0</td>\n",
       "      <td>0.0</td>\n",
       "      <td>0.0</td>\n",
       "      <td>999</td>\n",
       "      <td>200</td>\n",
       "      <td>9463</td>\n",
       "      <td>33</td>\n",
       "      <td>214942</td>\n",
       "      <td>...</td>\n",
       "      <td>1345</td>\n",
       "      <td>1021</td>\n",
       "      <td>473</td>\n",
       "      <td>2.146</td>\n",
       "      <td>81.43</td>\n",
       "      <td>2.077</td>\n",
       "      <td>2.063</td>\n",
       "      <td>2.076</td>\n",
       "      <td>2.097</td>\n",
       "      <td>10639</td>\n",
       "    </tr>\n",
       "    <tr>\n",
       "      <th>2</th>\n",
       "      <td>9886</td>\n",
       "      <td>0.0</td>\n",
       "      <td>0.0</td>\n",
       "      <td>0.0</td>\n",
       "      <td>0.0</td>\n",
       "      <td>871</td>\n",
       "      <td>200</td>\n",
       "      <td>8578</td>\n",
       "      <td>33</td>\n",
       "      <td>212253</td>\n",
       "      <td>...</td>\n",
       "      <td>1309</td>\n",
       "      <td>1032</td>\n",
       "      <td>401</td>\n",
       "      <td>2.122</td>\n",
       "      <td>82.25</td>\n",
       "      <td>2.098</td>\n",
       "      <td>2.072</td>\n",
       "      <td>2.085</td>\n",
       "      <td>2.106</td>\n",
       "      <td>10036</td>\n",
       "    </tr>\n",
       "  </tbody>\n",
       "</table>\n",
       "<p>3 rows × 27 columns</p>\n",
       "</div>"
      ],
      "text/plain": [
       "   target  gunluk_vaka  toplam_vaka  gunluk_olum  toplam_olum  \\\n",
       "0   10639          0.0          0.0          0.0          0.0   \n",
       "1   10036          0.0          0.0          0.0          0.0   \n",
       "2    9886          0.0          0.0          0.0          0.0   \n",
       "\n",
       "   gasoline_imports  gasoline_exports  crude_imports  crude_exports  \\\n",
       "0               779               200           8600             33   \n",
       "1               999               200           9463             33   \n",
       "2               871               200           8578             33   \n",
       "\n",
       "   gasoline_stocks  ...  jet_output  propane_output  residual_fuel_output  \\\n",
       "0           219329  ...        1296            1044                   414   \n",
       "1           214942  ...        1345            1021                   473   \n",
       "2           212253  ...        1309            1032                   401   \n",
       "\n",
       "   conventional_gasoline_spot_price  crude_brent_spot_price  \\\n",
       "0                             2.202                   83.11   \n",
       "1                             2.146                   81.43   \n",
       "2                             2.122                   82.25   \n",
       "\n",
       "   gasoline_future_price1  gasoline_future_price2  gasoline_future_price3  \\\n",
       "0                   2.139                   2.119                   2.128   \n",
       "1                   2.077                   2.063                   2.076   \n",
       "2                   2.098                   2.072                   2.085   \n",
       "\n",
       "   gasoline_future_price4  gasoline_demand  \n",
       "0                   2.146             9460  \n",
       "1                   2.097            10639  \n",
       "2                   2.106            10036  \n",
       "\n",
       "[3 rows x 27 columns]"
      ]
     },
     "execution_count": 9,
     "metadata": {},
     "output_type": "execute_result"
    }
   ],
   "source": [
    "df = pd.read_csv('../Datasets/Manipulated Data/train.csv')\n",
    "df.drop(['period'], axis=1, inplace=True)\n",
    "df.head(3)"
   ]
  },
  {
   "cell_type": "code",
   "execution_count": 12,
   "metadata": {},
   "outputs": [],
   "source": [
    "X = df.drop(['target'], axis=1)\n",
    "y = df['target']"
   ]
  },
  {
   "attachments": {},
   "cell_type": "markdown",
   "metadata": {},
   "source": [
    "Splitting for Accuracy Metrics:\n",
    "\n",
    "Zamana olan bağlılığı kaldırıp yalnızca özelliklere bağlı olarak tahminleme denemesi"
   ]
  },
  {
   "cell_type": "code",
   "execution_count": 16,
   "metadata": {},
   "outputs": [],
   "source": [
    "from sklearn.model_selection import train_test_split\n",
    "X_train, X_test, y_train, y_test = train_test_split(X,y, test_size=0.2, random_state=42, shuffle=True)"
   ]
  },
  {
   "cell_type": "code",
   "execution_count": 17,
   "metadata": {},
   "outputs": [],
   "source": [
    "from sklearn.preprocessing import StandardScaler\n",
    "scaler = StandardScaler()\n",
    "X_train = scaler.fit_transform(X_train)\n",
    "X_test = scaler.transform(X_test)"
   ]
  },
  {
   "cell_type": "code",
   "execution_count": 18,
   "metadata": {},
   "outputs": [
    {
     "data": {
      "text/plain": [
       "(394, 26)"
      ]
     },
     "execution_count": 18,
     "metadata": {},
     "output_type": "execute_result"
    }
   ],
   "source": [
    "X_train.shape"
   ]
  },
  {
   "attachments": {},
   "cell_type": "markdown",
   "metadata": {},
   "source": [
    "ML Models"
   ]
  },
  {
   "attachments": {},
   "cell_type": "markdown",
   "metadata": {},
   "source": [
    "Doğrusal, polinomal ve multinomal regresyon modelleri kuramayız, teknik olarak kurulamama nedenini `../Notebooks/3-Regression-Study.ipynb` kısmında anlattım."
   ]
  },
  {
   "cell_type": "code",
   "execution_count": null,
   "metadata": {},
   "outputs": [],
   "source": []
  }
 ],
 "metadata": {
  "kernelspec": {
   "display_name": "Python 3",
   "language": "python",
   "name": "python3"
  },
  "language_info": {
   "codemirror_mode": {
    "name": "ipython",
    "version": 3
   },
   "file_extension": ".py",
   "mimetype": "text/x-python",
   "name": "python",
   "nbconvert_exporter": "python",
   "pygments_lexer": "ipython3",
   "version": "3.11.2"
  },
  "orig_nbformat": 4
 },
 "nbformat": 4,
 "nbformat_minor": 2
}
